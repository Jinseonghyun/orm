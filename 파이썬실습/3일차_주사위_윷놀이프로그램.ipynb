{
  "nbformat": 4,
  "nbformat_minor": 0,
  "metadata": {
    "colab": {
      "provenance": []
    },
    "kernelspec": {
      "name": "python3",
      "display_name": "Python 3"
    },
    "language_info": {
      "name": "python"
    }
  },
  "cells": [
    {
      "cell_type": "code",
      "execution_count": 4,
      "metadata": {
        "colab": {
          "base_uri": "https://localhost:8080/"
        },
        "id": "LVxWrFQLCQ2m",
        "outputId": "69ae8746-d2f2-427d-cd7d-d03fed048b1b"
      },
      "outputs": [
        {
          "output_type": "stream",
          "name": "stdout",
          "text": [
            "주사위 결과: 1 + 3 = 4\n"
          ]
        }
      ],
      "source": [
        "import random\n",
        "\n",
        "#주사위 던지기\n",
        "dice1 = random.randrange(1,7) # 첫 번째 주사위 던지기를 시뮬레이션합니다.\n",
        "dice2 = random.randrange(1,7) # 두 번째 주사위 던지기를 시뮬레이션합니다.\n",
        "\n",
        "# 주사위 합산\n",
        "total = dice1 + dice2 # 두 주사위의 결과를 합산합니다.\n",
        "\n",
        "# 결과 출력\n",
        "print(f\"주사위 결과: {dice1} + {dice2} = {total}\")"
      ]
    },
    {
      "cell_type": "code",
      "source": [
        "# 윷놀이 프로그래밍 하기\n",
        "\n",
        "'''\n",
        "  1. 윷은 앞/뒤 중에 하나를 선택해야 한다.\n",
        "    1.1 윷은 랜덤으로 하나가 선택되어야 한다.\n",
        "    1.2 앞/뒤가 나올 확률은 1/2이 되어야 한다.\n",
        "  2. 윷놀이에는 다섯가지의 이동 법칙이 있다. (뺵도 X)\n",
        "    2.1 윷놀이에는 도, 개, 걸, 윷, 모\n",
        "    2.2 도 - 앞3 뒤 1 / 개 - 앞 2 뒤 2 / 걸 - 앞 3 뒤 1 / 윷 - 앞 0 뒤 4 / 모 - 앞 4 뒤 0\n",
        "    2.3 (히든 계산) 뒤가 나온 개수 (도 - 1 / 개  - 2 / 걸 - 3 / 윷 - 4/ 모 - 0)\n",
        "  3.최종적으로 도 ~ 모 하나만 선택 되어야 한다.\n",
        "'''\n",
        "\n",
        "import random\n",
        "\n",
        "# 윷 던지기 결과 (0: 앞, 1: 뒤)\n",
        "throw_1 = random.choice([0,1])\n",
        "throw_2 = random.choice([0,1])\n",
        "throw_3 = random.choice([0,1])\n",
        "throw_4 = random.choice([0,1])\n",
        "\n",
        "# 뒷면의 총 개수 계산\n",
        "total_back = throw_1 + throw_2 + throw_3 + throw_4\n",
        "\n",
        "# 윷놀이 결과\n",
        "# 뒷면이 없는 경우 (모), 뒷면이 1개인 경우 (도), 2개 (개), 3개 (걸), 모두 뒷면 (윷)\n",
        "results = ['모', '도', '개', '걸', '윷']\n",
        "#print(total_back)\n",
        "print(results[total_back])"
      ],
      "metadata": {
        "colab": {
          "base_uri": "https://localhost:8080/"
        },
        "id": "kCZHCv0vDARw",
        "outputId": "b7741d49-3c9b-4936-dd5b-387b90826135"
      },
      "execution_count": 9,
      "outputs": [
        {
          "output_type": "stream",
          "name": "stdout",
          "text": [
            "개\n"
          ]
        }
      ]
    }
  ]
}