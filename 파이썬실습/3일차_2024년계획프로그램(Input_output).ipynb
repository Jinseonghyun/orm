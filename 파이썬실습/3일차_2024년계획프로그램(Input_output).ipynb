{
  "nbformat": 4,
  "nbformat_minor": 0,
  "metadata": {
    "colab": {
      "provenance": []
    },
    "kernelspec": {
      "name": "python3",
      "display_name": "Python 3"
    },
    "language_info": {
      "name": "python"
    }
  },
  "cells": [
    {
      "cell_type": "markdown",
      "source": [
        "# 2024년 계획프로그램 inpiut output 활용\n",
        "\n",
        "##1번째 목표"
      ],
      "metadata": {
        "id": "9Qv0qlkCn7q8"
      }
    },
    {
      "cell_type": "code",
      "execution_count": null,
      "metadata": {
        "colab": {
          "base_uri": "https://localhost:8080/"
        },
        "id": "fSsxbs5jfWTv",
        "outputId": "568737f3-a2a3-46d7-8ad0-759d9459e032"
      },
      "outputs": [
        {
          "name": "stdout",
          "output_type": "stream",
          "text": [
            "이번연도에 듣고 있는 백엔드 수업은 매일 복습하고 Git에 ------ 하자: commit\n"
          ]
        }
      ],
      "source": [
        "sentence1 = input(\"이번연도에 듣고 있는 백엔드 수업은 매일 복습하고 Git에 ------ 하자: \")"
      ]
    },
    {
      "cell_type": "markdown",
      "source": [
        "print(f\"이번연도에 듣고 있는 백엔드 수업은 매일 복습하고 Git에 {sentence1} 하자: \")"
      ],
      "metadata": {
        "id": "2HDuc9tcl3o8"
      }
    },
    {
      "cell_type": "code",
      "source": [
        "print(f\"이번연도에는 매일 {sentence1} 하자:\")"
      ],
      "metadata": {
        "colab": {
          "base_uri": "https://localhost:8080/"
        },
        "id": "InW0K14NnKy_",
        "outputId": "5df4d122-38bf-4fae-a854-e8ed06942d62"
      },
      "execution_count": null,
      "outputs": [
        {
          "output_type": "stream",
          "name": "stdout",
          "text": [
            "이번연도에는 매일 commit 하자:\n"
          ]
        }
      ]
    },
    {
      "cell_type": "markdown",
      "source": [
        "## 2번째 목표"
      ],
      "metadata": {
        "id": "n-BwBReLn4HW"
      }
    },
    {
      "cell_type": "code",
      "source": [
        "sentence2 = input(\"---- 와 ------ 을 적극활용하여 정리하자: \")"
      ],
      "metadata": {
        "colab": {
          "base_uri": "https://localhost:8080/"
        },
        "id": "6sNncULemHMp",
        "outputId": "a949b758-7792-4667-cd50-f7c143114eaa"
      },
      "execution_count": null,
      "outputs": [
        {
          "name": "stdout",
          "output_type": "stream",
          "text": [
            "---- 와 ------ 을 적극활용하여 정리하자: Blog Notion\n"
          ]
        }
      ]
    },
    {
      "cell_type": "code",
      "source": [
        "word1, word2 = sentence2.split()"
      ],
      "metadata": {
        "id": "oIXFczyEnvJm"
      },
      "execution_count": null,
      "outputs": []
    },
    {
      "cell_type": "code",
      "source": [
        "print(f\" 교육기간동안 {word1} 와 {word2} 를 적극활용하자\")"
      ],
      "metadata": {
        "colab": {
          "base_uri": "https://localhost:8080/"
        },
        "id": "y5YIY7ezmcCK",
        "outputId": "7e5d5bbb-7768-4763-8493-f51097159d8c"
      },
      "execution_count": null,
      "outputs": [
        {
          "output_type": "stream",
          "name": "stdout",
          "text": [
            " 교육기간동안 Blog 와 Notion 를 적극활용하자\n"
          ]
        }
      ]
    },
    {
      "cell_type": "markdown",
      "source": [
        "## 3번째 목표"
      ],
      "metadata": {
        "id": "_d-yNSPyn14x"
      }
    },
    {
      "cell_type": "code",
      "source": [
        "sentence3 = input(\"배운걸 어떻게 활용할 것인가 -- --해보자: \")"
      ],
      "metadata": {
        "colab": {
          "base_uri": "https://localhost:8080/"
        },
        "id": "5jlUHa5AoDNC",
        "outputId": "fbbd47e6-93e9-4555-aa12-876561172454"
      },
      "execution_count": null,
      "outputs": [
        {
          "name": "stdout",
          "output_type": "stream",
          "text": [
            "배운걸 어떻게 활용할 것인가 매일 고민해보자: 매일 고민\n"
          ]
        }
      ]
    },
    {
      "cell_type": "code",
      "source": [
        "word_1, word_2 = sentence3.split()"
      ],
      "metadata": {
        "id": "5ETsozaToNM7"
      },
      "execution_count": null,
      "outputs": []
    },
    {
      "cell_type": "code",
      "source": [
        "print(f\"그날 배운걸 어떻게 활용할 수 있을까 {word_1} 생각하고 {word_2} 해보자!!\")"
      ],
      "metadata": {
        "colab": {
          "base_uri": "https://localhost:8080/"
        },
        "id": "Gtc0M2Y8oWNs",
        "outputId": "27273d0b-ffa0-4445-9d67-7a9c7273b4a9"
      },
      "execution_count": null,
      "outputs": [
        {
          "output_type": "stream",
          "name": "stdout",
          "text": [
            "그날 배운걸 어떻게 활용할 수 있을까 매일 생각하고 고민 해보자!!\n"
          ]
        }
      ]
    },
    {
      "cell_type": "markdown",
      "source": [
        "## end 활용해서 다른 두 문장을 합치기"
      ],
      "metadata": {
        "id": "8WEJ8yXSvJG8"
      }
    },
    {
      "cell_type": "code",
      "source": [
        "print(f\"올해는 {word_1} 꾸준하게\", end = \" \")\n",
        "print(f\"활용을 {word_2} 할것이다.\")"
      ],
      "metadata": {
        "colab": {
          "base_uri": "https://localhost:8080/"
        },
        "id": "YgBY3KmJvsI7",
        "outputId": "3e81bdbe-9ff9-40e9-aeb8-f44450919029"
      },
      "execution_count": null,
      "outputs": [
        {
          "output_type": "stream",
          "name": "stdout",
          "text": [
            "올해는 매일 꾸준하게 활용을 고민 할것이다.\n"
          ]
        }
      ]
    },
    {
      "cell_type": "markdown",
      "source": [
        "## 다시한번 해보기"
      ],
      "metadata": {
        "id": "SgQ5Re14yTnv"
      }
    },
    {
      "cell_type": "code",
      "source": [
        "sentence4 = input(f\"올해는 --와 ---에 집중하고자 한다.\")"
      ],
      "metadata": {
        "colab": {
          "base_uri": "https://localhost:8080/"
        },
        "id": "PNwg-J82xelQ",
        "outputId": "f5a17bdd-4838-404d-e216-d81f73361285"
      },
      "execution_count": null,
      "outputs": [
        {
          "name": "stdout",
          "output_type": "stream",
          "text": [
            "올해는 --와 ---에 집중하고자 한다.독서 파이썬\n"
          ]
        }
      ]
    },
    {
      "cell_type": "code",
      "source": [
        "word_3, word_4 = sentence4.split()"
      ],
      "metadata": {
        "id": "QYbzKtxNxUVD"
      },
      "execution_count": null,
      "outputs": []
    },
    {
      "cell_type": "code",
      "source": [
        "print(f\"올해는 {word_3}와 {word_4}에 집중하고자 한다.\")"
      ],
      "metadata": {
        "colab": {
          "base_uri": "https://localhost:8080/"
        },
        "id": "Kd-6EZYcx5Ab",
        "outputId": "852a2ff6-6078-42a2-9acc-442d205a8206"
      },
      "execution_count": null,
      "outputs": [
        {
          "output_type": "stream",
          "name": "stdout",
          "text": [
            "올해는 독서와 파이썬에 집중하고자 한다.\n"
          ]
        }
      ]
    },
    {
      "cell_type": "code",
      "source": [],
      "metadata": {
        "id": "nXM5OZvryHpT"
      },
      "execution_count": null,
      "outputs": []
    }
  ]
}