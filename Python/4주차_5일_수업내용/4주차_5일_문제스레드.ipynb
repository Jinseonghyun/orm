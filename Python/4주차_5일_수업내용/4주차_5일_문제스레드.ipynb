{
  "nbformat": 4,
  "nbformat_minor": 0,
  "metadata": {
    "colab": {
      "provenance": []
    },
    "kernelspec": {
      "name": "python3",
      "display_name": "Python 3"
    },
    "language_info": {
      "name": "python"
    }
  },
  "cells": [
    {
      "cell_type": "markdown",
      "source": [
        "# 문제1: 게임 밸런스 조절\n",
        "https://100.pyalgo.co.kr/?page=10\n"
      ],
      "metadata": {
        "id": "oKjFJ5MwfMiY"
      }
    },
    {
      "cell_type": "code",
      "source": [
        "# 1번 정답\n",
        "def solution(data):\n",
        "    result = []\n",
        "\n",
        "    for character in data:\n",
        "        name, attack, defense, health, mana = character\n",
        "        total_stats = attack + defense + health + mana\n",
        "\n",
        "        if total_stats >= 350:\n",
        "            result.append(name)\n",
        "\n",
        "    result.sort()  # 알파벳 순으로 정렬\n",
        "    return result"
      ],
      "metadata": {
        "id": "CpplAWpOlqGa"
      },
      "execution_count": 1,
      "outputs": []
    },
    {
      "cell_type": "markdown",
      "source": [
        "# 문제2: 우편 번호 정렬\n",
        "https://100.pyalgo.co.kr/?page=12"
      ],
      "metadata": {
        "id": "OqKGFCYYllIh"
      }
    },
    {
      "cell_type": "code",
      "source": [
        "# 2번 정답\n",
        "def solution(data):\n",
        "    address, post = data[0], data[1]\n",
        "    sorted_list = sorted(address, key=lambda x:post[x.split()[1]])\n",
        "    return sorted_list"
      ],
      "metadata": {
        "id": "hCwZ7fvRlqzc"
      },
      "execution_count": null,
      "outputs": []
    },
    {
      "cell_type": "markdown",
      "source": [
        "# 문제3: 도서관 책 연도별 정렬\n",
        "https://100.pyalgo.co.kr/?page=13"
      ],
      "metadata": {
        "id": "7bnZwkNDllSh"
      }
    },
    {
      "cell_type": "code",
      "source": [
        "# 3번 정답\n",
        "def solution(data):\n",
        "    title, sub_year = data[0], data[1]\n",
        "    sorted_list = sorted(title, key=lambda x:sub_year[x])\n",
        "    return sorted_list"
      ],
      "metadata": {
        "id": "vIycF7QBl_YH"
      },
      "execution_count": null,
      "outputs": []
    }
  ]
}