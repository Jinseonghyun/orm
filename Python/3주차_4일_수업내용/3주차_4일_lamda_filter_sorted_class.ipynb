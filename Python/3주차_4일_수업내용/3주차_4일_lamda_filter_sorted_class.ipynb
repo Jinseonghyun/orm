{
  "nbformat": 4,
  "nbformat_minor": 0,
  "metadata": {
    "colab": {
      "provenance": []
    },
    "kernelspec": {
      "name": "python3",
      "display_name": "Python 3"
    },
    "language_info": {
      "name": "python"
    }
  },
  "cells": [
    {
      "cell_type": "markdown",
      "source": [
        "# 함수의 이름은 변수다"
      ],
      "metadata": {
        "id": "Udu5pU4ACuQP"
      }
    },
    {
      "cell_type": "code",
      "execution_count": 3,
      "metadata": {
        "id": "aFxJYSha1AKD"
      },
      "outputs": [],
      "source": [
        "def hello():  # hello 은 function에 인스턴스\n",
        "    '''\n",
        "    DocString\n",
        "    아규먼트, 파라미터~\n",
        "    주석은 여기 답니다.\n",
        "    '''\n",
        "    pass"
      ]
    },
    {
      "cell_type": "code",
      "source": [
        "print(type(hello))  # 함수도 calss입니다."
      ],
      "metadata": {
        "colab": {
          "base_uri": "https://localhost:8080/"
        },
        "id": "-GaaHDLP5b2L",
        "outputId": "2dc9c55c-8573-4869-e80e-5ffb260b760d"
      },
      "execution_count": 4,
      "outputs": [
        {
          "output_type": "stream",
          "name": "stdout",
          "text": [
            "<class 'function'>\n"
          ]
        }
      ]
    },
    {
      "cell_type": "code",
      "source": [
        "a = 10\n",
        "# a는 무엇?\n",
        "# a는 int에 인스턴스"
      ],
      "metadata": {
        "id": "qQ9OY9Yi5h88"
      },
      "execution_count": 6,
      "outputs": []
    },
    {
      "cell_type": "code",
      "source": [
        "l = [a, a, a]\n",
        "l[2]"
      ],
      "metadata": {
        "colab": {
          "base_uri": "https://localhost:8080/"
        },
        "id": "q5U9dm5T6L7E",
        "outputId": "8a685c89-1c3b-4427-dc4c-283061ac450a"
      },
      "execution_count": 7,
      "outputs": [
        {
          "output_type": "execute_result",
          "data": {
            "text/plain": [
              "10"
            ]
          },
          "metadata": {},
          "execution_count": 7
        }
      ]
    },
    {
      "cell_type": "code",
      "source": [
        "print('hello world') # built-in function"
      ],
      "metadata": {
        "colab": {
          "base_uri": "https://localhost:8080/"
        },
        "id": "SeeYdvIg6E-z",
        "outputId": "d924737b-4678-4250-a266-6c0dbf38149b"
      },
      "execution_count": 8,
      "outputs": [
        {
          "output_type": "stream",
          "name": "stdout",
          "text": [
            "hello world\n"
          ]
        }
      ]
    },
    {
      "cell_type": "code",
      "source": [
        "l = [print, print, print]\n",
        "l[2]('hello world')"
      ],
      "metadata": {
        "colab": {
          "base_uri": "https://localhost:8080/"
        },
        "id": "9GEVsTqC6LRb",
        "outputId": "3c54f525-cebd-4e41-dc92-0dbd6744a819"
      },
      "execution_count": 9,
      "outputs": [
        {
          "output_type": "stream",
          "name": "stdout",
          "text": [
            "hello world\n"
          ]
        }
      ]
    },
    {
      "cell_type": "code",
      "source": [
        "hojun = print\n",
        "hojun('hello world')"
      ],
      "metadata": {
        "colab": {
          "base_uri": "https://localhost:8080/"
        },
        "id": "PpOibway6a66",
        "outputId": "c25ddaa7-d934-4f77-cee8-b9303f1fefcd"
      },
      "execution_count": 10,
      "outputs": [
        {
          "output_type": "stream",
          "name": "stdout",
          "text": [
            "hello world\n"
          ]
        }
      ]
    },
    {
      "cell_type": "code",
      "source": [
        "id(hojun), id(print)"
      ],
      "metadata": {
        "colab": {
          "base_uri": "https://localhost:8080/"
        },
        "id": "47K_is0E6kvc",
        "outputId": "a18bb177-4cfe-4d89-e38a-d90b42b02690"
      },
      "execution_count": 11,
      "outputs": [
        {
          "output_type": "execute_result",
          "data": {
            "text/plain": [
              "(135495466407216, 135495466407216)"
            ]
          },
          "metadata": {},
          "execution_count": 11
        }
      ]
    },
    {
      "cell_type": "code",
      "source": [
        "print = 10"
      ],
      "metadata": {
        "id": "o1wYWxsd65j7"
      },
      "execution_count": 17,
      "outputs": []
    },
    {
      "cell_type": "code",
      "source": [
        "print"
      ],
      "metadata": {
        "colab": {
          "base_uri": "https://localhost:8080/"
        },
        "id": "otHMA4DV9M5D",
        "outputId": "c7644f36-8043-4842-957f-26203309d00b"
      },
      "execution_count": 18,
      "outputs": [
        {
          "output_type": "execute_result",
          "data": {
            "text/plain": [
              "10"
            ]
          },
          "metadata": {},
          "execution_count": 18
        }
      ]
    },
    {
      "cell_type": "code",
      "source": [
        "print('hello world')"
      ],
      "metadata": {
        "colab": {
          "base_uri": "https://localhost:8080/",
          "height": 186
        },
        "id": "6hunHuF47AlU",
        "outputId": "fab28252-b913-4bbd-9bfe-e32e7bfcf778"
      },
      "execution_count": 19,
      "outputs": [
        {
          "output_type": "error",
          "ename": "TypeError",
          "evalue": "'int' object is not callable",
          "traceback": [
            "\u001b[0;31m---------------------------------------------------------------------------\u001b[0m",
            "\u001b[0;31mTypeError\u001b[0m                                 Traceback (most recent call last)",
            "\u001b[0;32m<ipython-input-19-66eb98f8e52a>\u001b[0m in \u001b[0;36m<cell line: 1>\u001b[0;34m()\u001b[0m\n\u001b[0;32m----> 1\u001b[0;31m \u001b[0mprint\u001b[0m\u001b[0;34m(\u001b[0m\u001b[0;34m'hello world'\u001b[0m\u001b[0;34m)\u001b[0m\u001b[0;34m\u001b[0m\u001b[0;34m\u001b[0m\u001b[0m\n\u001b[0m",
            "\u001b[0;31mTypeError\u001b[0m: 'int' object is not callable"
          ]
        }
      ]
    },
    {
      "cell_type": "code",
      "source": [
        "hojun('hello')"
      ],
      "metadata": {
        "colab": {
          "base_uri": "https://localhost:8080/"
        },
        "id": "iBq6FMwu7CWq",
        "outputId": "39bb55a8-f029-418f-d8fe-dc7cd6cd3120"
      },
      "execution_count": 20,
      "outputs": [
        {
          "output_type": "stream",
          "name": "stdout",
          "text": [
            "hello\n"
          ]
        }
      ]
    },
    {
      "cell_type": "code",
      "source": [
        "print = hojun"
      ],
      "metadata": {
        "id": "ziqSl-j09Q48"
      },
      "execution_count": 21,
      "outputs": []
    },
    {
      "cell_type": "code",
      "source": [
        "id(print)"
      ],
      "metadata": {
        "colab": {
          "base_uri": "https://localhost:8080/"
        },
        "id": "4TFeopGu9RyV",
        "outputId": "0c47401d-23ff-4ce7-8e16-044c0601fb6e"
      },
      "execution_count": 22,
      "outputs": [
        {
          "output_type": "execute_result",
          "data": {
            "text/plain": [
              "135495466407216"
            ]
          },
          "metadata": {},
          "execution_count": 22
        }
      ]
    },
    {
      "cell_type": "code",
      "source": [
        "print('hello world')"
      ],
      "metadata": {
        "colab": {
          "base_uri": "https://localhost:8080/"
        },
        "id": "hA1hKYMl9TA0",
        "outputId": "e07d67a1-1d48-48a4-da6a-9762ea6016d8"
      },
      "execution_count": 23,
      "outputs": [
        {
          "output_type": "stream",
          "name": "stdout",
          "text": [
            "hello world\n"
          ]
        }
      ]
    },
    {
      "cell_type": "markdown",
      "source": [
        "# labmda의 응용"
      ],
      "metadata": {
        "id": "b6RyO2tjCl41"
      }
    },
    {
      "cell_type": "code",
      "source": [
        "add = lambda x,y : x + y\n",
        "add(3,5)"
      ],
      "metadata": {
        "colab": {
          "base_uri": "https://localhost:8080/"
        },
        "id": "_lyPYfa1KAUG",
        "outputId": "15d37a97-7ba8-4750-ef78-8b9fb38668b5"
      },
      "execution_count": 45,
      "outputs": [
        {
          "output_type": "execute_result",
          "data": {
            "text/plain": [
              "8"
            ]
          },
          "metadata": {},
          "execution_count": 45
        }
      ]
    },
    {
      "cell_type": "code",
      "source": [
        "홀수 = lambda x : x % 2\n",
        "홀수(3)"
      ],
      "metadata": {
        "colab": {
          "base_uri": "https://localhost:8080/"
        },
        "id": "DnqW12iyJzGO",
        "outputId": "61754a15-888e-4e90-816a-10560dd97980"
      },
      "execution_count": 42,
      "outputs": [
        {
          "output_type": "execute_result",
          "data": {
            "text/plain": [
              "1"
            ]
          },
          "metadata": {},
          "execution_count": 42
        }
      ]
    },
    {
      "cell_type": "markdown",
      "source": [
        "## Top3\n",
        "- 1. map 활용"
      ],
      "metadata": {
        "id": "ZoewYl09IQL1"
      }
    },
    {
      "cell_type": "code",
      "source": [
        "add = lambda x, y: x + y"
      ],
      "metadata": {
        "id": "QA_q1Xv37Flz"
      },
      "execution_count": 15,
      "outputs": []
    },
    {
      "cell_type": "code",
      "source": [
        "# 코드가 이해가 안된다 => 이해할려고 노력하는 것 보다는\n",
        "# 예제를 30개 정도 만들어보시는 것을 권합니다.\n",
        "# Django 어려우면 30개 만들어보세요.\n",
        "# lambda 어려우면 30개 만들어보세요. 30개가 어려우면 50개\n",
        "# lambda x: x **2\n",
        "# lambda x, y: x + y ..."
      ],
      "metadata": {
        "id": "2_d7H_kf7h27"
      },
      "execution_count": 24,
      "outputs": []
    },
    {
      "cell_type": "code",
      "source": [
        "# lambda + 3항 연산자 많이 사용합니다.\n",
        "x = 10\n",
        "y = True if x % 2 == 0 else False\n",
        "\n",
        "y"
      ],
      "metadata": {
        "colab": {
          "base_uri": "https://localhost:8080/"
        },
        "id": "FTyf3LE08kCD",
        "outputId": "8938dced-fda8-4ed0-fbea-ecbea507d9f0"
      },
      "execution_count": 25,
      "outputs": [
        {
          "output_type": "execute_result",
          "data": {
            "text/plain": [
              "True"
            ]
          },
          "metadata": {},
          "execution_count": 25
        }
      ]
    },
    {
      "cell_type": "code",
      "source": [
        "# 재사용 할 것 이면 이렇게 함수로\n",
        "\n",
        "def 제곱(x):\n",
        "    return x ** 2\n",
        "\n",
        "list(map(제곱, [1, 2, 3, 4]))"
      ],
      "metadata": {
        "colab": {
          "base_uri": "https://localhost:8080/"
        },
        "id": "HLL00sVD9W5b",
        "outputId": "f63d0c6d-7d93-4b36-f56d-ef6816e0691d"
      },
      "execution_count": 26,
      "outputs": [
        {
          "output_type": "execute_result",
          "data": {
            "text/plain": [
              "[1, 4, 9, 16]"
            ]
          },
          "metadata": {},
          "execution_count": 26
        }
      ]
    },
    {
      "cell_type": "code",
      "source": [
        "# 재사용 하지 않을 것이면 이렇게 lambda로!\n",
        "# lambda가 실무에서 좀 더 많이 사용됩니다.\n",
        "# 수식이 복잡해지면 재사용과 별개로 lambda로 했을 경우 가독성이 떨어지는 경우도 발생합니다.\n",
        "# 이럴 때에는 함수로 빼기도 합니다.\n",
        "\n",
        "list(map(lambda x: x ** 2, [1, 2, 3, 4]))"
      ],
      "metadata": {
        "colab": {
          "base_uri": "https://localhost:8080/"
        },
        "id": "DuLVcVtx9wW7",
        "outputId": "0ecd3ac2-8239-446b-fb04-28aafe0d6f23"
      },
      "execution_count": 27,
      "outputs": [
        {
          "output_type": "execute_result",
          "data": {
            "text/plain": [
              "[1, 4, 9, 16]"
            ]
          },
          "metadata": {},
          "execution_count": 27
        }
      ]
    },
    {
      "cell_type": "code",
      "source": [
        "list(map(lambda x: True if x % 2 == 0 else False, [1, 2, 3, 4])) # 마스킹\n",
        "# 거름망이 있고 마스킹 값을 도출하기 위해 필터링 (실무에서 많이 사용)\n",
        "# lambda + 3항 연산자"
      ],
      "metadata": {
        "colab": {
          "base_uri": "https://localhost:8080/"
        },
        "id": "CxBQW6qJ-FA7",
        "outputId": "0a55432e-af98-42a5-9684-174a28bd9eba"
      },
      "execution_count": 28,
      "outputs": [
        {
          "output_type": "execute_result",
          "data": {
            "text/plain": [
              "[False, True, False, True]"
            ]
          },
          "metadata": {},
          "execution_count": 28
        }
      ]
    },
    {
      "cell_type": "code",
      "source": [
        "# 알고리즘 문제에서\n",
        "# 얼마나 효율적인지만 봐주시고, 이해는 못하셔도 괜찮습니다.\n",
        "# [True, False, False, False, True]\n",
        "# 에라토스테네스의 체(얼마나 마스킹이 유용한지 알 수 있죠.) => 소수\n",
        "# 지금은 몰라도 된다.\n",
        "[True,  True,   True    True,   True,   True,   True,   True,   True,   True]\n",
        "[0,     1,      2,      3,      4,      5,      6,      7,      8,      9]"
      ],
      "metadata": {
        "id": "W30YstTF-4jc"
      },
      "execution_count": null,
      "outputs": []
    },
    {
      "cell_type": "code",
      "source": [
        "[False, False,  True    True,   True,   True,   True,   True,   True,   True]\n",
        "[0,     1,      2,      3,      4,      5,      6,      7,      8,      9]"
      ],
      "metadata": {
        "id": "TqA72jtIDvv2"
      },
      "execution_count": null,
      "outputs": []
    },
    {
      "cell_type": "code",
      "source": [
        "# 2가 소수가 되면 2의 배수들은 소수가 아닙니다. => 2의 배수는 모두 False로 만듭니다.\n",
        "[False, False,  True    True,   False,  True,   False,  True,   False,  True]\n",
        "[0,     1,      2,      3,      4,      5,      6,      7,      8,      9]"
      ],
      "metadata": {
        "id": "LPO5OOCuDv3T"
      },
      "execution_count": null,
      "outputs": []
    },
    {
      "cell_type": "code",
      "source": [
        "# 30이 소수이냐?\n",
        "\n",
        "for i in range(2, 31):\n",
        "    if 101 % i == 0:\n",
        "        print('소수아님!')\n",
        "        break\n",
        "else: # else 대신 then으로 하자라는 논의가 활발했습니다. > 그러나 else가 이겼습니다.\n",
        "    print('소수임')"
      ],
      "metadata": {
        "colab": {
          "base_uri": "https://localhost:8080/"
        },
        "id": "5jtoLf_BECzm",
        "outputId": "76476f68-6280-452e-8315-a1ad20709dd6"
      },
      "execution_count": 31,
      "outputs": [
        {
          "output_type": "stream",
          "name": "stdout",
          "text": [
            "소수임\n"
          ]
        }
      ]
    },
    {
      "cell_type": "markdown",
      "source": [
        "## Top3\n",
        "- 2. filter 활용"
      ],
      "metadata": {
        "id": "JSpUb0j8Idb8"
      }
    },
    {
      "cell_type": "code",
      "source": [
        "# filter는 True인것만 출력합니다.\n",
        "list(filter(lambda x: x % 2 ==0, range(100)))"
      ],
      "metadata": {
        "id": "8sQPt03IESjD"
      },
      "execution_count": null,
      "outputs": []
    },
    {
      "cell_type": "code",
      "source": [
        "list(filter(lambda x: x % 3 ==0, range(100)))"
      ],
      "metadata": {
        "id": "8QcURpVBGMBd"
      },
      "execution_count": null,
      "outputs": []
    },
    {
      "cell_type": "code",
      "source": [
        "list(filter(lambda x: x > 50, range(100)))"
      ],
      "metadata": {
        "id": "MB6hpjleFwOt"
      },
      "execution_count": null,
      "outputs": []
    },
    {
      "cell_type": "code",
      "source": [
        "list(filter(lambda x: x > 50 and x < 80, range(100)))"
      ],
      "metadata": {
        "id": "iQ5btxwYGY2U"
      },
      "execution_count": null,
      "outputs": []
    },
    {
      "cell_type": "code",
      "source": [
        "list(filter(lambda x: True if x % 3 == 0 or x % 5 == 0 else False, range(100)))"
      ],
      "metadata": {
        "id": "kvMsOCzIGcpU"
      },
      "execution_count": null,
      "outputs": []
    },
    {
      "cell_type": "code",
      "source": [
        "# list(filter(lambda x: x % 2 == 0, range(100)))\n",
        "list(filter(lambda x: x % 2, range(100)))   # 홀수를?\n",
        "\n",
        "# [0, 1, 2, 3, 4, 5, 6, 7, 8, 9]\n",
        "# x == 0일 때 => lambda x: x % 2 => 0 => False로 평가\n",
        "# x == 1일 때 => lambda x: x % 2 => 1 => True로 평가\n",
        "# x == 2일 때 => lambda x: x % 2 => 0\n",
        "# x == 3일 때 => lambda x: x % 2 => 1\n",
        "# x == 4일 때 => lambda x: x % 2 => 0\n",
        "# x == 5일 때 => lambda x: x % 2 => 1\n",
        "# x == 6일 때 => lambda x: x % 2 => 0"
      ],
      "metadata": {
        "id": "CfZ7RymMGzyW"
      },
      "execution_count": null,
      "outputs": []
    },
    {
      "cell_type": "code",
      "source": [
        "test = lambda i:i % 2 == 0\n",
        "[test(i) for i in range(10)]"
      ],
      "metadata": {
        "colab": {
          "base_uri": "https://localhost:8080/"
        },
        "id": "L2OM8n0TKfpu",
        "outputId": "cb26097a-2d41-4c15-ff12-a1796b9203db"
      },
      "execution_count": 46,
      "outputs": [
        {
          "output_type": "execute_result",
          "data": {
            "text/plain": [
              "[True, False, True, False, True, False, True, False, True, False]"
            ]
          },
          "metadata": {},
          "execution_count": 46
        }
      ]
    },
    {
      "cell_type": "markdown",
      "source": [
        "## Top3\n",
        "- 3. sorted 활용"
      ],
      "metadata": {
        "id": "ptkbswfYHO0V"
      }
    },
    {
      "cell_type": "code",
      "source": [
        "l = [10, 20, 5, 4, 22, 32, 5, 9, 11]\n",
        "l.sort() # sort를 자주 사용하진 않습니다. 원본을 변경시키기 때문입니다.\n",
        "l"
      ],
      "metadata": {
        "colab": {
          "base_uri": "https://localhost:8080/"
        },
        "id": "S6psyO_rIiBP",
        "outputId": "b42ce0b2-23cd-407e-8338-0b8cbe664044"
      },
      "execution_count": 39,
      "outputs": [
        {
          "output_type": "execute_result",
          "data": {
            "text/plain": [
              "[4, 5, 5, 9, 10, 11, 20, 22, 32]"
            ]
          },
          "metadata": {},
          "execution_count": 39
        }
      ]
    },
    {
      "cell_type": "code",
      "source": [
        "l = [10, 20, 5, 4, 22, 32, 5, 9, 11]\n",
        "sorted(l) # sorted의 return 값이 정렬된 값이죠!\n",
        "l  # l은 그대로 입니다. 그래서 많이 사용합니다."
      ],
      "metadata": {
        "colab": {
          "base_uri": "https://localhost:8080/"
        },
        "id": "I9BhMvi9Iw9F",
        "outputId": "be1225d8-2398-4641-b8c0-1f1b78bae47c"
      },
      "execution_count": 41,
      "outputs": [
        {
          "output_type": "execute_result",
          "data": {
            "text/plain": [
              "[10, 20, 5, 4, 22, 32, 5, 9, 11]"
            ]
          },
          "metadata": {},
          "execution_count": 41
        }
      ]
    },
    {
      "cell_type": "code",
      "source": [
        "sorted() # key, reverse 옵션을 정말 정말 많이 사용합니다!\n",
        "# 알고리즘 문제에서 단골 문제이고, sorted 문제는 1문제는 거의 출제된다고 보시면 됩니다.\n",
        "# 최댓값\n",
        "# 최솟값\n",
        "# https://codingdojang.com/scode/408?answer_mode=hide 이것도 최솟값!\n",
        "# https://school.programmers.co.kr/learn/courses/30/lessons/120835 이것도 정렬 문제입니다!"
      ],
      "metadata": {
        "id": "snYm7nKzI0yM"
      },
      "execution_count": null,
      "outputs": []
    },
    {
      "cell_type": "code",
      "source": [
        "반별점수2 = [\n",
        "    [\"짱구\", 30, 55, 22],\n",
        "    [\"맹구\", 55, 60, 73],\n",
        "    [\"철수\", 32, 65, 68],\n",
        "    [\"유리\", 92, 11, 95],\n",
        "]\n",
        "\n",
        "sorted(반별점수2) # 짱구, 맹구, 철수, 유리 => ㄱ, ㄴ, ㄷ, ㄹ, ㅁ, ㅂ 순으로 정렬합니다.\n",
        "# 만약에 한글로 정렬을 하셨을 경우 https://jjeong.tistory.com/696 유니코드표 순서대로 정렬합니다."
      ],
      "metadata": {
        "colab": {
          "base_uri": "https://localhost:8080/"
        },
        "id": "lWvaSlZWRn_-",
        "outputId": "30c72f92-eca5-41c8-f7db-c3fa0e4b1b42"
      },
      "execution_count": 54,
      "outputs": [
        {
          "output_type": "execute_result",
          "data": {
            "text/plain": [
              "[['맹구', 55, 60, 73],\n",
              " ['유리', 92, 11, 95],\n",
              " ['짱구', 30, 55, 22],\n",
              " ['철수', 32, 65, 68]]"
            ]
          },
          "metadata": {},
          "execution_count": 54
        }
      ]
    },
    {
      "cell_type": "code",
      "source": [
        "# 아래와 같은 형식으로 반별 점수가 주어진다고 하겠습니다.\n",
        "\n",
        "반별점수 = [\n",
        "    ['이름', '국어', '영어', '수학'],\n",
        "    ['이름', '국어', '영어', '수학'],\n",
        "    ['이름', '국어', '영어', '수학'],\n",
        "    ['이름', '국어', '영어', '수학'],\n",
        "]"
      ],
      "metadata": {
        "colab": {
          "base_uri": "https://localhost:8080/"
        },
        "id": "mrmKTWqtK9bM",
        "outputId": "e2247c8a-ad99-4396-d23a-8739c6119440"
      },
      "execution_count": 47,
      "outputs": [
        {
          "output_type": "execute_result",
          "data": {
            "text/plain": [
              "[['국어', '영어', '수학']]"
            ]
          },
          "metadata": {},
          "execution_count": 47
        }
      ]
    },
    {
      "cell_type": "code",
      "source": [
        "반별점수 = [\n",
        "    ['홍길동', 30, 55, 22],\n",
        "    ['홍춘향', 55, 60, 73],\n",
        "    ['이철수', 32, 65, 68],\n",
        "    ['이호준', 92, 11, 95],\n",
        "]"
      ],
      "metadata": {
        "id": "XcGNPwjqLLhc"
      },
      "execution_count": 48,
      "outputs": []
    },
    {
      "cell_type": "code",
      "source": [
        "sorted(반별점수) # 값이나 0번째 값 기준으로 정렬합니다."
      ],
      "metadata": {
        "colab": {
          "base_uri": "https://localhost:8080/"
        },
        "id": "fkZNZkqeLpyC",
        "outputId": "bd3b6333-deb4-46c6-82f4-feb9dfd9ecea"
      },
      "execution_count": 49,
      "outputs": [
        {
          "output_type": "execute_result",
          "data": {
            "text/plain": [
              "[['이철수', 32, 65, 68],\n",
              " ['이호준', 92, 11, 95],\n",
              " ['홍길동', 30, 55, 22],\n",
              " ['홍춘향', 55, 60, 73]]"
            ]
          },
          "metadata": {},
          "execution_count": 49
        }
      ]
    },
    {
      "cell_type": "code",
      "source": [
        "def 함수(x):\n",
        "    return x[3]   # 수학점수 index위치\n",
        "\n",
        "sorted(반별점수, key=함수)  # 가장 중요한 것은 이 key함수의 return 값대로 정렬한다는 것입니다."
      ],
      "metadata": {
        "colab": {
          "base_uri": "https://localhost:8080/"
        },
        "id": "peZ0Ozb1MJ0V",
        "outputId": "3d7d7a55-6f20-4b45-b059-f46916d23b95"
      },
      "execution_count": 50,
      "outputs": [
        {
          "output_type": "execute_result",
          "data": {
            "text/plain": [
              "[['홍길동', 30, 55, 22],\n",
              " ['이철수', 32, 65, 68],\n",
              " ['홍춘향', 55, 60, 73],\n",
              " ['이호준', 92, 11, 95]]"
            ]
          },
          "metadata": {},
          "execution_count": 50
        }
      ]
    },
    {
      "cell_type": "code",
      "source": [
        "# [['이철수', 32, 65, 68], => 68\n",
        "#  ['이호준', 92, 11, 95], => 95\n",
        "#  ['홍길동', 30, 55, 22], => 22  => 맨 앞으로 보내야겠다.\n",
        "#  ['홍춘향', 55, 60, 73]] => 73"
      ],
      "metadata": {
        "id": "BUmD-vk_M6Fd"
      },
      "execution_count": null,
      "outputs": []
    },
    {
      "cell_type": "code",
      "source": [
        "# def 함수(x):\n",
        "#     return x[3]   # 수학점수 index위치\n",
        "\n",
        "# 영어점수\n",
        "sorted(반별점수, key = lambda x: x[2]) # 가장 중요한 것은 이 key함수의 return 값대로 정렬한다는 것입니다."
      ],
      "metadata": {
        "colab": {
          "base_uri": "https://localhost:8080/"
        },
        "id": "S5teE0trNTRa",
        "outputId": "8b31ff5a-98f5-49cd-90e0-4f16ca45dbfb"
      },
      "execution_count": 56,
      "outputs": [
        {
          "output_type": "execute_result",
          "data": {
            "text/plain": [
              "[['이철수', 32, 65, 68],\n",
              " ['홍춘향', 55, 60, 73],\n",
              " ['홍길동', 30, 55, 22],\n",
              " ['이호준', 92, 11, 95]]"
            ]
          },
          "metadata": {},
          "execution_count": 56
        }
      ]
    },
    {
      "cell_type": "code",
      "source": [
        "# 문제 : 국, 영, 수 평균 점수대로 출렷해주세요!\n",
        "# 정답 :\n",
        "sorted(반별점수, key = lambda x: x[1] + x[2] + x[3]) # 나눌 필요 없습니다.(총점이 높으면 평균이 높다.)\n",
        "sorted(반별점수, key = lambda x: x[1] + x[2] + x[3], reverse=True)\n",
        "# 내림차순으로 정렬합니다\n",
        "# 평균 점수가 높은게 앞으로 옵니다."
      ],
      "metadata": {
        "colab": {
          "base_uri": "https://localhost:8080/"
        },
        "id": "1i8p9dZZQ3qc",
        "outputId": "cd08dc2d-bb06-41f0-e084-76efa53ed2a3"
      },
      "execution_count": 57,
      "outputs": [
        {
          "output_type": "execute_result",
          "data": {
            "text/plain": [
              "[['이호준', 92, 11, 95],\n",
              " ['홍춘향', 55, 60, 73],\n",
              " ['이철수', 32, 65, 68],\n",
              " ['홍길동', 30, 55, 22]]"
            ]
          },
          "metadata": {},
          "execution_count": 57
        }
      ]
    },
    {
      "cell_type": "code",
      "source": [
        "# 문제가 살짝 어려워집니다.\n",
        "# 동점자인 경우 수학점수를 우선순위로 두겠습니다!!!?\n",
        "반별점수 = [\n",
        "    ['홍길동', 50, 50, 50],\n",
        "    ['이철수', 45, 50, 55],\n",
        "    ['홍춘향', 60, 35, 75],\n",
        "    ['이호준', 92, 11, 95]\n",
        "]\n",
        "\n",
        "sorted(반별점수, key=lambda x: x[1] + x[2] + x[3], reverse=True) # 철수가 수학 점수가 높은데 뒤에 있네요?\n",
        "# 제 의도는 수학 점수가 높으니 앞에 두겠다는 얘기입니다.\n",
        "\n",
        "# 1\n",
        "# sorted(반별점수, key=lambda x: x[1] + x[2] + x[3], reverse=True)\n",
        "# 반별점수 = [\n",
        "#     ['홍길동', 50, 50, 50] => 50,\n",
        "#     ['이철수', 45, 50, 55] => 50,\n",
        "#     ['홍춘향', 60, 35, 75] => ??,\n",
        "#     ['이호준', 92, 11, 95] => ??\n",
        "# ]\n",
        "\n",
        "# 2      1이랑 다르게 튜플로 담았다.\n",
        "# sorted(반별점수, key=lambda x: (x[1] + x[2] + x[3], x[3]), reverse=True)\n",
        "# 반별점수 = [\n",
        "#     ['홍길동', 50, 50, 50] => (50, 50),\n",
        "#     ['이철수', 45, 50, 55] => (50, 55),\n",
        "#     ['홍춘향', 60, 35, 75] => ??,\n",
        "#     ['이호준', 92, 11, 95] => ??\n",
        "# ]\n",
        "\n",
        "sorted(반별점수, key=lambda x: (x[1] + x[2] + x[3], x[3]), reverse=True) # 철수랑 길동이 바뀌었습니다!\n",
        "\n",
        "# 질의응답\n",
        "# 만약에 평균도 같고 수학 점수도 같은 경우 이름 가나다순으로 정렬하고 싶다면 어떤 방법\n",
        "sorted(반별점수, key=lambda x: (x[1] + x[2] + x[3], x[3], x[0]), reverse=True)"
      ],
      "metadata": {
        "colab": {
          "base_uri": "https://localhost:8080/"
        },
        "id": "ayw7DuuqRhaU",
        "outputId": "3b4e74a3-5b62-40b2-ec86-11733dcf3c37"
      },
      "execution_count": 59,
      "outputs": [
        {
          "output_type": "execute_result",
          "data": {
            "text/plain": [
              "[['이호준', 92, 11, 95],\n",
              " ['홍춘향', 60, 35, 75],\n",
              " ['이철수', 45, 50, 55],\n",
              " ['홍길동', 50, 50, 50]]"
            ]
          },
          "metadata": {},
          "execution_count": 59
        }
      ]
    },
    {
      "cell_type": "code",
      "source": [
        "우편번호 = [\n",
        "    {\n",
        "        '주소': '경기도 용인시',\n",
        "        '우편번호': 321\n",
        "    },\n",
        "    {\n",
        "        '주소': '경기도 수원시',\n",
        "        '우편번호': 355\n",
        "    },\n",
        "    {\n",
        "        '주소': '제주특별자치도 제주시',\n",
        "        '우편번호': 333\n",
        "    }\n",
        "]\n",
        "\n",
        "# sorted(우편번호) #error, 비교를 할 수 없다!?\n",
        "sorted(우편번호, key=lambda x: x['우편번호'])\n",
        "\n",
        "# 우편번호 = [\n",
        "#     {\n",
        "#         '주소': '경기도 용인시',\n",
        "#         '우편번호': 321\n",
        "#     }, => 321\n",
        "#     {\n",
        "#         '주소': '경기도 수원시',\n",
        "#         '우편번호': 355\n",
        "#     }, => 355\n",
        "#     {\n",
        "#         '주소': '제주특별자치도 제주시',\n",
        "#         '우편번호': 333\n",
        "#     } => 333\n",
        "# ]"
      ],
      "metadata": {
        "colab": {
          "base_uri": "https://localhost:8080/"
        },
        "id": "Sx3E5_QAQRFc",
        "outputId": "6c5f3fe6-8053-4bc9-eacc-d69566fdfedc"
      },
      "execution_count": 60,
      "outputs": [
        {
          "output_type": "execute_result",
          "data": {
            "text/plain": [
              "[{'주소': '경기도 용인시', '우편번호': 321},\n",
              " {'주소': '제주특별자치도 제주시', '우편번호': 333},\n",
              " {'주소': '경기도 수원시', '우편번호': 355}]"
            ]
          },
          "metadata": {},
          "execution_count": 60
        }
      ]
    },
    {
      "cell_type": "code",
      "source": [
        "# 이해를 하시진 마시고, 이해가 되시는 분들만 이해해주세요.\n",
        "# 제가 자주 사용하는 코드입니다.\n",
        "\n",
        "list(zip('hello', 'world'))"
      ],
      "metadata": {
        "colab": {
          "base_uri": "https://localhost:8080/"
        },
        "id": "9M9QaiPvXI4H",
        "outputId": "e51a96e9-3d08-4984-c0c8-bdfa6f5dbb0a"
      },
      "execution_count": 63,
      "outputs": [
        {
          "output_type": "execute_result",
          "data": {
            "text/plain": [
              "[('h', 'w'), ('e', 'o'), ('l', 'r'), ('l', 'l'), ('o', 'd')]"
            ]
          },
          "metadata": {},
          "execution_count": 63
        }
      ]
    },
    {
      "cell_type": "code",
      "source": [
        "# 복습 x\n",
        "# 이건 제가 자주사용하는 코드 X\n",
        "\n",
        "list(enumerate(zip('hello', 'world')))"
      ],
      "metadata": {
        "colab": {
          "base_uri": "https://localhost:8080/"
        },
        "id": "Z75M_uOAXKc2",
        "outputId": "45a14d83-5501-40cc-ca59-21b4307b52f0"
      },
      "execution_count": 84,
      "outputs": [
        {
          "output_type": "execute_result",
          "data": {
            "text/plain": [
              "[(0, ('h', 'w')),\n",
              " (1, ('e', 'o')),\n",
              " (2, ('l', 'r')),\n",
              " (3, ('l', 'l')),\n",
              " (4, ('o', 'd'))]"
            ]
          },
          "metadata": {},
          "execution_count": 84
        }
      ]
    },
    {
      "cell_type": "code",
      "source": [
        "# 복습 X\n",
        "# 제너레이터를 만듭니다. => 제너레이터는 심화과정에서 다시 하겠습니다.\n",
        "# 문법이 너무 어려워서 제 욕심이었습니다.\n",
        "# 제가 자주 사용하는 코드를 보여드리기 위함이었습니다.\n",
        "\n",
        "def gen():\n",
        "    i = 1\n",
        "    while True:\n",
        "        yield i\n",
        "        i += 1\n",
        "\n",
        "list(zip(gen(), 'hello', 'world'))"
      ],
      "metadata": {
        "colab": {
          "base_uri": "https://localhost:8080/"
        },
        "id": "ApKha2OIXNE4",
        "outputId": "00b6ceeb-2ef2-4106-ba02-77da2fe66408"
      },
      "execution_count": 85,
      "outputs": [
        {
          "output_type": "execute_result",
          "data": {
            "text/plain": [
              "[(1, 'h', 'w'), (2, 'e', 'o'), (3, 'l', 'r'), (4, 'l', 'l'), (5, 'o', 'd')]"
            ]
          },
          "metadata": {},
          "execution_count": 85
        }
      ]
    },
    {
      "cell_type": "code",
      "source": [
        "# 다음 입사문제\n",
        "# 직선에 있는 점의 좌표입니다.\n",
        "# 점과 점 사이가 가장 짧은 점의 쌍을 출력하세요.\n",
        "\n",
        "# 입력값 : s = [1, 3, 4, 8, 13, 17, 20]\n",
        "# 출력값 : (3, 4)\n",
        "\n",
        "s = [1, 3, 4, 8, 13, 17, 20]\n",
        "s[1:]"
      ],
      "metadata": {
        "colab": {
          "base_uri": "https://localhost:8080/"
        },
        "id": "qLajbL9lYBw3",
        "outputId": "ea5b161f-7b70-4c72-cd61-c36862da960c"
      },
      "execution_count": 65,
      "outputs": [
        {
          "output_type": "execute_result",
          "data": {
            "text/plain": [
              "[3, 4, 8, 13, 17, 20]"
            ]
          },
          "metadata": {},
          "execution_count": 65
        }
      ]
    },
    {
      "cell_type": "code",
      "source": [
        "x = list(zip(s, s[1:]))\n",
        "x"
      ],
      "metadata": {
        "colab": {
          "base_uri": "https://localhost:8080/"
        },
        "id": "YtR1YtfzYCGu",
        "outputId": "f7ae6a77-8ce2-4fbe-cf02-21eebffc728e"
      },
      "execution_count": 67,
      "outputs": [
        {
          "output_type": "execute_result",
          "data": {
            "text/plain": [
              "[(1, 3), (3, 4), (4, 8), (8, 13), (13, 17), (17, 20)]"
            ]
          },
          "metadata": {},
          "execution_count": 67
        }
      ]
    },
    {
      "cell_type": "code",
      "source": [
        "# 점과 점 사이가 짧은 쌍 순서\n",
        "sorted(x, key=lambda x: x[1] - x[0])\n",
        "sorted(x, key=lambda x: x[1] - x[0])[0]"
      ],
      "metadata": {
        "colab": {
          "base_uri": "https://localhost:8080/"
        },
        "id": "_ofFCMH9YDs-",
        "outputId": "40871892-147c-4c18-a3c7-ffd99594eb8c"
      },
      "execution_count": 70,
      "outputs": [
        {
          "output_type": "execute_result",
          "data": {
            "text/plain": [
              "(3, 4)"
            ]
          },
          "metadata": {},
          "execution_count": 70
        }
      ]
    },
    {
      "cell_type": "markdown",
      "source": [
        "# built-in functions 중 하지 않은 것"
      ],
      "metadata": {
        "id": "VF8NMSBRYjYQ"
      }
    },
    {
      "cell_type": "markdown",
      "source": [
        "![image.png](data:image/png;base64,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)"
      ],
      "metadata": {
        "id": "4B_Z_aKRZVvx"
      }
    },
    {
      "cell_type": "code",
      "source": [
        "chr(65)"
      ],
      "metadata": {
        "colab": {
          "base_uri": "https://localhost:8080/",
          "height": 36
        },
        "id": "-Uw4micmZqhn",
        "outputId": "476179eb-ec9c-4f39-a5f1-2d5abe1c9e2c"
      },
      "execution_count": 71,
      "outputs": [
        {
          "output_type": "execute_result",
          "data": {
            "text/plain": [
              "'A'"
            ],
            "application/vnd.google.colaboratory.intrinsic+json": {
              "type": "string"
            }
          },
          "metadata": {},
          "execution_count": 71
        }
      ]
    },
    {
      "cell_type": "code",
      "source": [
        "ord('A') # 별표 0.1개\n",
        "# 41인데 왜 65지?\n",
        "# 16진법 4 * 16^1 + 1 * 16^0 = 64 + 1 == 65"
      ],
      "metadata": {
        "colab": {
          "base_uri": "https://localhost:8080/"
        },
        "id": "FfJdiS8rZtF4",
        "outputId": "0f1669e1-1c0c-4668-d130-d9e104664fc4"
      },
      "execution_count": 72,
      "outputs": [
        {
          "output_type": "execute_result",
          "data": {
            "text/plain": [
              "65"
            ]
          },
          "metadata": {},
          "execution_count": 72
        }
      ]
    },
    {
      "cell_type": "code",
      "source": [
        "max([10, 20, 30])"
      ],
      "metadata": {
        "colab": {
          "base_uri": "https://localhost:8080/"
        },
        "id": "7sVmknWXZ3hn",
        "outputId": "e721aefe-74c5-4f3a-f817-0241e21b765a"
      },
      "execution_count": 73,
      "outputs": [
        {
          "output_type": "execute_result",
          "data": {
            "text/plain": [
              "30"
            ]
          },
          "metadata": {},
          "execution_count": 73
        }
      ]
    },
    {
      "cell_type": "code",
      "source": [
        "min([10, 20, 30])"
      ],
      "metadata": {
        "colab": {
          "base_uri": "https://localhost:8080/"
        },
        "id": "2PyJlmvvZ9SR",
        "outputId": "7ca48873-3df1-44ab-aeeb-7fe35a9795fd"
      },
      "execution_count": 74,
      "outputs": [
        {
          "output_type": "execute_result",
          "data": {
            "text/plain": [
              "10"
            ]
          },
          "metadata": {},
          "execution_count": 74
        }
      ]
    },
    {
      "cell_type": "code",
      "source": [
        "sum([10, 20, 30])\n",
        "sum([10, 20, 30], 100)\n",
        "sum([[1, 2, 3], [4, 5, 6]], [])"
      ],
      "metadata": {
        "colab": {
          "base_uri": "https://localhost:8080/"
        },
        "id": "ukTeP97DZ_xf",
        "outputId": "5067fddb-f26e-4ec1-f1a1-0a4afd89473b"
      },
      "execution_count": 81,
      "outputs": [
        {
          "output_type": "execute_result",
          "data": {
            "text/plain": [
              "[1, 2, 3, 4, 5, 6]"
            ]
          },
          "metadata": {},
          "execution_count": 81
        }
      ]
    },
    {
      "cell_type": "code",
      "source": [
        "sum([[1, 2, 3], [4, 5, 6]], [])\n",
        "\n",
        "# [] + [1, 2, 3] == [1, 2, 3]\n",
        "# [1, 2, 3] + [4, 5, 6] == [1, 2, 3, 4, 5, 6]"
      ],
      "metadata": {
        "colab": {
          "base_uri": "https://localhost:8080/"
        },
        "id": "cC_33xiSaDKH",
        "outputId": "c6c784a3-f64a-481c-df7e-01481e48d369"
      },
      "execution_count": 92,
      "outputs": [
        {
          "output_type": "execute_result",
          "data": {
            "text/plain": [
              "[1, 2, 3, 4, 5, 6]"
            ]
          },
          "metadata": {},
          "execution_count": 92
        }
      ]
    },
    {
      "cell_type": "code",
      "source": [
        " # 다른 값이 출력될 수도 있다는 것을 기억해야 합니다.\n",
        " a = 10\n",
        " print(a) # a.__str__\n",
        " a # a.__repr__\n",
        " repr(a) # a.__repr"
      ],
      "metadata": {
        "colab": {
          "base_uri": "https://localhost:8080/",
          "height": 54
        },
        "id": "3dOM41sUaaCv",
        "outputId": "4cf63c22-68b1-429e-fc37-b142a861a61b"
      },
      "execution_count": 93,
      "outputs": [
        {
          "output_type": "stream",
          "name": "stdout",
          "text": [
            "10\n"
          ]
        },
        {
          "output_type": "execute_result",
          "data": {
            "text/plain": [
              "'10'"
            ],
            "application/vnd.google.colaboratory.intrinsic+json": {
              "type": "string"
            }
          },
          "metadata": {},
          "execution_count": 93
        }
      ]
    },
    {
      "cell_type": "code",
      "source": [
        "# 실제 Django에서 사용하는 코드\n",
        "\n",
        "class Notice:\n",
        "    '''\n",
        "    게시물 클래스\n",
        "    '''\n",
        "    def __init__(self, title, contents):\n",
        "        self.title = title\n",
        "        self.contents = contents\n",
        "\n",
        "    def __str__(self):\n",
        "        return self.title\n",
        "\n",
        "    def __repr__(self):\n",
        "        return f'{self.title}, {self.contents}'\n",
        "\n",
        "게시물1 = Notice('파이썬 이렇게 어려운줄 몰랐다!', '내가 알던 파이썬이 아니야.....')\n",
        "게시물2 = Notice('Django는 이렇게 재미있을 줄 몰랐다!', '파이썬을 잘 못해서 내가 할 수 있을까 생각이 들었는데..')"
      ],
      "metadata": {
        "colab": {
          "base_uri": "https://localhost:8080/"
        },
        "id": "x_-wx_FYeuRQ",
        "outputId": "f61e5201-c35a-4e7b-d1cd-94ed026d7a8b"
      },
      "execution_count": 87,
      "outputs": [
        {
          "output_type": "stream",
          "name": "stdout",
          "text": [
            "파이썬 이렇게 어려운줄 몰랐다!\n"
          ]
        }
      ]
    },
    {
      "cell_type": "code",
      "source": [
        "# 실제 Django에서 사용하는 코드\n",
        "\n",
        "class Notice:\n",
        "    '''\n",
        "    게시물 클래스\n",
        "    '''\n",
        "    def __init__(self, title, contents):\n",
        "        self.title = title\n",
        "        self.contents = contents\n",
        "\n",
        "    def __str__(self):\n",
        "        return self.title\n",
        "\n",
        "    def __repr__(self):\n",
        "        '''\n",
        "        repr이라는 값은 제가 임의로 만든 값이 아닙니다!\n",
        "        정해져 있는 이름입니다.\n",
        "        '''\n",
        "        return f'{self.title}, {self.contents}'\n",
        "\n",
        "    def __len__(self):\n",
        "        '''\n",
        "        len이라는 값은 제가 임의로 만든 값이 아닙니다!\n",
        "        정해져 있는 이름입니다.\n",
        "        '''\n",
        "        # return 100\n",
        "        return len(self.title + self.contents)\n",
        "\n",
        "게시물1 = Notice('파이썬 이렇게 어려운줄 몰랐다!', '내가 알던 파이썬이 아니야....')\n",
        "len(게시물1)"
      ],
      "metadata": {
        "colab": {
          "base_uri": "https://localhost:8080/"
        },
        "id": "H7MBwLubkJWB",
        "outputId": "fab90fda-0ba9-4811-bb55-d7ba781048ad"
      },
      "execution_count": 99,
      "outputs": [
        {
          "output_type": "execute_result",
          "data": {
            "text/plain": [
              "35"
            ]
          },
          "metadata": {},
          "execution_count": 99
        }
      ]
    },
    {
      "cell_type": "code",
      "source": [
        "# print(게시물1) # 로그로 출력할 때\n",
        "# 게시물1\n",
        "repr(게시물1)   # 그 자료형을 대표하는 문자열 취급"
      ],
      "metadata": {
        "colab": {
          "base_uri": "https://localhost:8080/",
          "height": 36
        },
        "id": "ZokXmLnOgIH_",
        "outputId": "ca7606d1-fd02-49cd-f559-12038e5fe676"
      },
      "execution_count": 91,
      "outputs": [
        {
          "output_type": "execute_result",
          "data": {
            "text/plain": [
              "'파이썬 이렇게 어려운줄 몰랐다!, 내가 알던 파이썬이 아니야.....'"
            ],
            "application/vnd.google.colaboratory.intrinsic+json": {
              "type": "string"
            }
          },
          "metadata": {},
          "execution_count": 91
        }
      ]
    },
    {
      "cell_type": "code",
      "source": [
        "type(range(10)) # range라는 타입입니다."
      ],
      "metadata": {
        "colab": {
          "base_uri": "https://localhost:8080/"
        },
        "id": "e7Cw0ctCgTOy",
        "outputId": "37d4f683-4fe6-42ae-bdd3-44f25c22d5a5"
      },
      "execution_count": 94,
      "outputs": [
        {
          "output_type": "execute_result",
          "data": {
            "text/plain": [
              "range"
            ]
          },
          "metadata": {},
          "execution_count": 94
        }
      ]
    },
    {
      "cell_type": "code",
      "source": [
        "# 2.x\n",
        "# range(10) => [0, 1, 2, 3, 4, 5, 6, 7, 8, 9]\n",
        "# type(range(10)) => <type 'list'>\n",
        "\n",
        "# 문제: range(10000000000) => 메모리를 10000000000 갯수만큼 한 번에 생성을 해야 합니다.\n",
        "# 이것을 개선하자는 얘기가 끊임없이 나왔습니다.\n",
        "# 2.x에서 나온 것이 xrange()입니다. 이것은 특이하게 현재값과 다음값만을 가지고 있어요.\n",
        "# 메모리 공간은 2칸(실제로는 더 잡아먹습니다.)이 되서 효율적이게 바뀐것입니다.\n",
        "# 현재값, 다음값\n",
        "\n",
        "# 3.x에서 range(10000000000)\n",
        "# class range로 바뀌게 된 것입니다.\n",
        "# for i in range(1000): # 1000개의 메모리를 할당하는 것이 아닙니다.\n",
        "#    pass"
      ],
      "metadata": {
        "id": "LTOPpHBCg71g"
      },
      "execution_count": 95,
      "outputs": []
    },
    {
      "cell_type": "code",
      "source": [
        "list(range(1000)) # 메모리 큰 부하를 줍니다!!"
      ],
      "metadata": {
        "id": "sVcVqY5ZjjyR"
      },
      "execution_count": null,
      "outputs": []
    },
    {
      "cell_type": "code",
      "source": [
        "sum(range(1000))"
      ],
      "metadata": {
        "colab": {
          "base_uri": "https://localhost:8080/"
        },
        "id": "9VhcGVxpjluY",
        "outputId": "a9983e4e-d506-4586-aa85-1d94fd98fd71"
      },
      "execution_count": 97,
      "outputs": [
        {
          "output_type": "execute_result",
          "data": {
            "text/plain": [
              "499500"
            ]
          },
          "metadata": {},
          "execution_count": 97
        }
      ]
    },
    {
      "cell_type": "code",
      "source": [
        "sum(list(range(1000))) # 메모리가 1000개 할당 되었다가 더해야 하니 비효율적인 코드입니다."
      ],
      "metadata": {
        "colab": {
          "base_uri": "https://localhost:8080/"
        },
        "id": "LfiI4vZ2jrPR",
        "outputId": "a5fad4be-b43f-42bd-d47e-2c59a5f0a4ec"
      },
      "execution_count": 98,
      "outputs": [
        {
          "output_type": "execute_result",
          "data": {
            "text/plain": [
              "499500"
            ]
          },
          "metadata": {},
          "execution_count": 98
        }
      ]
    },
    {
      "cell_type": "code",
      "source": [
        "values = ['A', 'B', 'C', 'D']\n",
        "print(list(enumerate(values)))\n",
        "print(list(enumerate(values, 1))) # 시작값 넣는 것 많이 사용합니다. 기억해두세요."
      ],
      "metadata": {
        "colab": {
          "base_uri": "https://localhost:8080/"
        },
        "id": "fWSGrxQFjt-w",
        "outputId": "bf31ed8e-db8f-4512-8921-d8527c26e26e"
      },
      "execution_count": 100,
      "outputs": [
        {
          "output_type": "stream",
          "name": "stdout",
          "text": [
            "[(0, 'A'), (1, 'B'), (2, 'C'), (3, 'D')]\n",
            "[(1, 'A'), (2, 'B'), (3, 'C'), (4, 'D')]\n"
          ]
        }
      ]
    },
    {
      "cell_type": "code",
      "source": [
        "list(reversed([1, 2, 3, 4, 5]))"
      ],
      "metadata": {
        "colab": {
          "base_uri": "https://localhost:8080/"
        },
        "id": "txga_9F6kmmC",
        "outputId": "d60adfa9-a3bc-405d-c94d-19d6e5730f66"
      },
      "execution_count": 101,
      "outputs": [
        {
          "output_type": "execute_result",
          "data": {
            "text/plain": [
              "[5, 4, 3, 2, 1]"
            ]
          },
          "metadata": {},
          "execution_count": 101
        }
      ]
    },
    {
      "cell_type": "code",
      "source": [
        "reversed([1, 2, 3, 4, 5])"
      ],
      "metadata": {
        "colab": {
          "base_uri": "https://localhost:8080/"
        },
        "id": "34v0mBQzlF5F",
        "outputId": "805f1c40-01d2-45be-f158-07607b88a533"
      },
      "execution_count": 104,
      "outputs": [
        {
          "output_type": "execute_result",
          "data": {
            "text/plain": [
              "<list_reverseiterator at 0x7b3b335765f0>"
            ]
          },
          "metadata": {},
          "execution_count": 104
        }
      ]
    },
    {
      "cell_type": "code",
      "source": [
        "sorted([1, 2, 3, 4, 5])\n",
        "# 왜 sorted만 자료형으로 주나요?\n",
        "# reversed나 map, filter나 이런건 모두 메모리 주소를 가리키는데!?\n",
        "# 정답: (추후에 심화 과정에서 강의합니다.)메모리의 효율성 떄문입니다.\n",
        "# sorted만 비효율을 감수하고 사용자기 보기 편한 자료형으로 변환합니다."
      ],
      "metadata": {
        "colab": {
          "base_uri": "https://localhost:8080/"
        },
        "id": "7QyORGeVk1Xo",
        "outputId": "6818c5af-d971-44b3-ca8a-30af53a7493b"
      },
      "execution_count": 102,
      "outputs": [
        {
          "output_type": "execute_result",
          "data": {
            "text/plain": [
              "[1, 2, 3, 4, 5]"
            ]
          },
          "metadata": {},
          "execution_count": 102
        }
      ]
    },
    {
      "cell_type": "markdown",
      "source": [
        "# match\n",
        "* 3.10버전에서 나온 문법이기 떄문에 현업에서 거의 사용 못합니다.\n",
        "* 예를 들어 속도가 매우 빨라야 하는 프로젝트를 여러분이 하게 되었습니다.그렇다면 python 최신 버전을 사용할 텐데, 그러면 match 문법을 사용할 수는 있습니다. 다만 권고하기가 어렵습니다. match 문법이 동료들이 익숙하지 않기 때문입니다.\n",
        "* 20204년에는 중요도가 별표 0.5개 정도 되고\n",
        "* 2 ~ 3년 후에는 중요도가 3 ~ 4개 정도로 올라갈 것으로 보입니다."
      ],
      "metadata": {
        "id": "yc_cCPcUlDOZ"
      }
    },
    {
      "cell_type": "code",
      "source": [
        "# 요일 = 4\n",
        "# match 요일:\n",
        "#     case 0:\n",
        "#         print('일요일')\n",
        "#     case 1:\n",
        "#         print('월요일')\n",
        "#     case 2:\n",
        "#         print('화요일')\n",
        "#     case 3: # 다른 언어에서는 이 문법이 가용합니다.\n",
        "#     case 4:\n",
        "#         print('목요일')\n",
        "#     case 5:\n",
        "#         print('금요일')\n",
        "#     case 6:\n",
        "#         print('토요일')"
      ],
      "metadata": {
        "id": "k5KRnObcoG-f"
      },
      "execution_count": 106,
      "outputs": []
    },
    {
      "cell_type": "code",
      "source": [
        "요일 = 100\n",
        "match 요일:\n",
        "    case 0:\n",
        "        print('일요일')\n",
        "    case 1:\n",
        "        print('월요일')\n",
        "    case 2:\n",
        "        print('화요일')\n",
        "    case 3:\n",
        "        print('수요일')\n",
        "    case 4:\n",
        "        print('목요일')\n",
        "    case 5:\n",
        "        print('금요일')\n",
        "    case 6:\n",
        "        print('토요일')\n",
        "    case _:\n",
        "        print('요일없음!')"
      ],
      "metadata": {
        "colab": {
          "base_uri": "https://localhost:8080/"
        },
        "id": "wcEx0K50oMJh",
        "outputId": "43a1e40d-1339-4129-fe8e-af4980588797"
      },
      "execution_count": 107,
      "outputs": [
        {
          "output_type": "stream",
          "name": "stdout",
          "text": [
            "요일없음!\n"
          ]
        }
      ]
    },
    {
      "cell_type": "code",
      "source": [
        "text = '1'\n",
        "match text:\n",
        "    case '1' | '2':\n",
        "        print('1, 2')\n",
        "    case _:\n",
        "        print('No Match')"
      ],
      "metadata": {
        "colab": {
          "base_uri": "https://localhost:8080/"
        },
        "id": "y0ncPmIRoqMR",
        "outputId": "f0f459c9-eac7-4094-b629-1edbd45f5429"
      },
      "execution_count": 108,
      "outputs": [
        {
          "output_type": "stream",
          "name": "stdout",
          "text": [
            "1, 2\n"
          ]
        }
      ]
    },
    {
      "cell_type": "code",
      "source": [
        "# 여러분들은 오히려 이런 코드보다 아래 코드를 더 많이 만나게 되실겁니다.\n",
        "def 요일반환(요일):\n",
        "    return {\n",
        "        0: '일요일',\n",
        "        1: '월요일',\n",
        "        2: '화요일',\n",
        "        3: '수요일',\n",
        "    }.get(요일, '요일없음')\n",
        "\n",
        "요일반환(2)\n",
        "요일반환(100)"
      ],
      "metadata": {
        "colab": {
          "base_uri": "https://localhost:8080/",
          "height": 36
        },
        "id": "_uaqqWjSoroR",
        "outputId": "215b92c7-22e4-4e6b-867e-97f925ad2d8c"
      },
      "execution_count": 109,
      "outputs": [
        {
          "output_type": "execute_result",
          "data": {
            "text/plain": [
              "'요일없음'"
            ],
            "application/vnd.google.colaboratory.intrinsic+json": {
              "type": "string"
            }
          },
          "metadata": {},
          "execution_count": 109
        }
      ]
    },
    {
      "cell_type": "markdown",
      "source": [
        "# Class\n",
        "* class 이론을 여러권 + ChatGPT + 유튜브를 보시는 것 보다는\n",
        "* 여러개를 만들어 보세요. ChatGPT에게 여러개의 클래스를 추천받고, ChatGPT에게 짜달라고 해서 그것을 타이핑 해보시는 것도 많은 도움이 될겁니다.\n",
        "* 결론: 많은 것을 만들어 보셔야 합니다."
      ],
      "metadata": {
        "id": "_x5Ce80q8AD6"
      }
    },
    {
      "cell_type": "markdown",
      "source": [
        "* class 클래스이름 => 인스턴스\n",
        "* class Blog => 게시물1, 게시물2, 게시물3...\n",
        "* class Blog => 점1, 점2, 점3...\n",
        "* class Matrix = > 행렬1, 행렬2, 행렬3...\n",
        "* class User => 유저1, 유저2, 유저3...\n",
        "* class Cart => Cart1, Cart2, Cart3....\n",
        "* class Commnet(댓글) => 댓글1, 댓글2, 댓글3...\n",
        "* class Character => Licat(주인공), Lion(빌런), Mob1(몬스터)...\n",
        "* class Product => 상품1, 상품2, 상품3...\n",
        "* class Class_ => 강의1, 강의2, 강의3...\n",
        "* class Teacher => 강사1, 강사2, 강사3..."
      ],
      "metadata": {
        "id": "yKAdE2Xo8FQN"
      }
    },
    {
      "cell_type": "code",
      "source": [
        "# 0번: 기초 상식\n",
        "# 0.0 __init__ 매직메서드는 없어도 되나요?\n",
        "# 실제로 이런 코드를 짜실 일이 생깁니다.\n",
        "class 우편번호:\n",
        "    제주도 = 100\n",
        "    경기도 = 101\n",
        "    전라북도 = 102\n",
        "    전라남도 = 103\n",
        "\n",
        "우편번호.제주도\n",
        "# 왜 이걸 딕셔너리로 만들지 않고 class로 만들었나요?\n",
        "# 재사용성 + 확장성\n",
        "\n",
        "# 0.1 클래스 꼭 사용해야 하나요?\n",
        "# 일부 자료형에서는 클래스는 꼭 사용해야 합니다.\n",
        "\n",
        "# 아래와 같이 저장한다고 해서 문제가 생기는가?\n",
        "# 데이터의 양(속도), 확장성, 다양성\n",
        "# 기본 클래스는(list, tuple, dict, set) 매우 느립니다.\n",
        "\n",
        "# 책을 웹에서 가져온다고 했을 때 (크롤링)\n",
        "# 제목 : python 기초\n",
        "# 저자 : 이호준\n",
        "\n",
        "{'제목' : 'python 기초', '저자' : '이호준'}\n",
        "\n",
        "# 제목 :  htmml 기초\n",
        "# 저자 : 한재현\n",
        "\n",
        "{'제목' : 'html 기초', '저자' : '한재현'}\n",
        "\n",
        "[{'제목' : 'python 기초', '저자' : '이호준'}, {'제목' : 'html 기초', '저자' : '한재현'}]"
      ],
      "metadata": {
        "colab": {
          "base_uri": "https://localhost:8080/"
        },
        "id": "KKScRQPi_m4S",
        "outputId": "64b20b25-9e88-43d2-db1d-c197695a80a0"
      },
      "execution_count": 111,
      "outputs": [
        {
          "output_type": "execute_result",
          "data": {
            "text/plain": [
              "100"
            ]
          },
          "metadata": {},
          "execution_count": 111
        }
      ]
    },
    {
      "cell_type": "code",
      "source": [
        "from datetime import datetime\n",
        "datetime.now()"
      ],
      "metadata": {
        "colab": {
          "base_uri": "https://localhost:8080/"
        },
        "id": "C9_9ZwgyDSkt",
        "outputId": "038e30a9-2987-487f-da8e-9ce3c313126f"
      },
      "execution_count": 112,
      "outputs": [
        {
          "output_type": "execute_result",
          "data": {
            "text/plain": [
              "datetime.datetime(2024, 1, 11, 5, 45, 10, 423359)"
            ]
          },
          "metadata": {},
          "execution_count": 112
        }
      ]
    },
    {
      "cell_type": "markdown",
      "source": [
        "# Post"
      ],
      "metadata": {
        "id": "KYlZi60iNazG"
      }
    },
    {
      "cell_type": "code",
      "source": [
        "# 1번\n",
        "# 클래스를 설계하실 때\n",
        "# 첫 번째로 - 모든 인스턴스에서 공유해야할 변수(클래스 변수)나 메서드 설정\n",
        "# 두 번째로 - 인스턴스 고유의 영역\n",
        "# in_crerate_at(스네이크 표기법) - 파이썬 권고사항\n",
        "# inCreatedAt(카멜 표기법) - 파이썬에서는 잘 사용하지 않습니다.(JavaScript에서는 많이 사용합니다.)\n",
        "# InCreatedAt(파스칼 표기법) - 파이썬 클래스\n",
        "\n",
        "class Post:\n",
        "    def __init__(\n",
        "            self,\n",
        "            in_title='',\n",
        "            in_contents='',\n",
        "            in_count=0,\n",
        "            in_crerate_at='',\n",
        "            in_updated_at='',\n",
        "            in_author=''\n",
        "        ):\n",
        "        self.title = in_title\n",
        "        self.contents = in_contents\n",
        "        self.count = in_count\n",
        "        self.created_at = in_crerate_at\n",
        "        self.updated_at = in_updated_at\n",
        "        self.author = in_author\n",
        "\n",
        "    def __str__(self):\n",
        "        return self.title\n",
        "\n",
        "    def __repr__(self):\n",
        "        return self.title\n",
        "\n",
        "    def __add__(self, next):\n",
        "        # return self.count + next.count\n",
        "        return self.title + next.title\n",
        "\n",
        "    def __eq__(self, next):\n",
        "        return self.title == next.title\n",
        "\n",
        "    def update(self, in_contents):\n",
        "        '''\n",
        "        in_ 실무에서 사용하는 접두사가 아닙니다!\n",
        "        여러분에 이해를 돕기 위한 변수명입니다.\n",
        "        '''\n",
        "        self.contents = in_contents\n",
        "        return '게시물 수정에 성공했습니다! 200'\n",
        "\n",
        "게시물1 = Post(\n",
        "    '파이썬은 참 깊군요!',\n",
        "    '오늘은 파이썬 클래스를 배웠는데 너무 어렵기도 하고, 신기했습니다.',\n",
        "    0,\n",
        "    '2024-01-11',\n",
        "    '2024-01-11',\n",
        "    '이호준'\n",
        ")\n",
        "\n",
        "게시물2 = Post('2', '22', 0, '2024-01-11', '2024-01-11', '이호준')\n",
        "\n",
        "print(게시물1)\n",
        "print(게시물1.title)\n",
        "print(게시물1 + 게시물2) # +연산이 나오면 앞(게시물 1)의 __add__가 실행됩니다.\n",
        "게시물1.update('hello world')\n",
        "게시물1.contents\n",
        "\n",
        "# 이해하지 않으셔도 됩니다.\n",
        "게시물1 == 게시물2 # 이 코드는 이제 title만 비교하는 코드가 되었습니다!"
      ],
      "metadata": {
        "colab": {
          "base_uri": "https://localhost:8080/"
        },
        "id": "i6DQgXOJApRN",
        "outputId": "b1a71433-1f81-4447-bd30-845f48be7fab"
      },
      "execution_count": 124,
      "outputs": [
        {
          "output_type": "stream",
          "name": "stdout",
          "text": [
            "파이썬은 참 깊군요!\n",
            "파이썬은 참 깊군요!\n",
            "파이썬은 참 깊군요!2\n"
          ]
        },
        {
          "output_type": "execute_result",
          "data": {
            "text/plain": [
              "False"
            ]
          },
          "metadata": {},
          "execution_count": 124
        }
      ]
    },
    {
      "cell_type": "markdown",
      "source": [
        "## Dot"
      ],
      "metadata": {
        "id": "AucxWbHGMxnu"
      }
    },
    {
      "cell_type": "code",
      "source": [
        "class Dot:\n",
        "    def __init__(self, x, y):\n",
        "        self.x = x\n",
        "        self.y = y\n",
        "\n",
        "    def __add__(self, next):\n",
        "        return (self.x + next.x, self.y + next.y)\n",
        "\n",
        "    def __mul__(self, next):\n",
        "        return (self.x * next.x, self.y * next.y)\n",
        "\n",
        "    def distance(self, next):\n",
        "        dx = self.x - next.x\n",
        "        dy = self.y - next.y\n",
        "        return (dx**2 + dy**2) ** 0.5 # root은 ** 0.5로 많이 사용합니다.\n",
        "\n",
        "dot1 = Dot(20, 10)\n",
        "dot2 = Dot(30, 5)\n",
        "\n",
        "dot1 + dot2\n",
        "dot1 * dot2\n",
        "dot1.distance(dot2)"
      ],
      "metadata": {
        "colab": {
          "base_uri": "https://localhost:8080/"
        },
        "id": "GlhVLiTqNf2Y",
        "outputId": "4da3a524-eda2-495a-be92-f250476190cb"
      },
      "execution_count": 126,
      "outputs": [
        {
          "output_type": "execute_result",
          "data": {
            "text/plain": [
              "11.180339887498949"
            ]
          },
          "metadata": {},
          "execution_count": 126
        }
      ]
    },
    {
      "cell_type": "markdown",
      "source": [
        "# Character"
      ],
      "metadata": {
        "id": "y70nMxJFP3zf"
      }
    },
    {
      "cell_type": "code",
      "source": [
        "class Character:\n",
        "    def __init__(self, name, skill, hp, mp, power, x):\n",
        "        self.name = name\n",
        "        self.skill = skill\n",
        "        self.hp = hp\n",
        "        self.mp = mp\n",
        "        self.power = power\n",
        "        self.x = x\n",
        "\n",
        "    def move(self):\n",
        "        self.x += 100\n",
        "\n",
        "    def attact(self, next):\n",
        "        next.hp -= self.power\n",
        "\n",
        "\n",
        "주인공1 = Character('licat', '질풍검', 100, 100, 10, 10)\n",
        "몹1 = Character('licat', '질풍검', 100, 100, 10, 10)\n",
        "\n",
        "주인공1.attact(몹1)\n",
        "몹1.hp"
      ],
      "metadata": {
        "colab": {
          "base_uri": "https://localhost:8080/"
        },
        "id": "iQSVEoWZQOQY",
        "outputId": "9189818b-8e6c-4f7d-9633-773a22530ddd"
      },
      "execution_count": 127,
      "outputs": [
        {
          "output_type": "execute_result",
          "data": {
            "text/plain": [
              "90"
            ]
          },
          "metadata": {},
          "execution_count": 127
        }
      ]
    }
  ]
}