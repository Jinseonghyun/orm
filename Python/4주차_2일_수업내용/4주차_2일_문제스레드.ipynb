{
  "nbformat": 4,
  "nbformat_minor": 0,
  "metadata": {
    "colab": {
      "provenance": []
    },
    "kernelspec": {
      "name": "python3",
      "display_name": "Python 3"
    },
    "language_info": {
      "name": "python"
    }
  },
  "cells": [
    {
      "cell_type": "markdown",
      "source": [
        "# 문제 1: 함수를 인자로 받는 고차함수\n",
        "- 주어진 리스트와 함수를 인자로 받아, 리스트의 각 요소에 해당 함수를 적용한 결과를 반환하는 고차함수 apply_function을 작성해주세요."
      ],
      "metadata": {
        "id": "Oo-HWn9wPa5m"
      }
    },
    {
      "cell_type": "code",
      "source": [
        "def apply_function(lst, func):\n",
        "    pass\n",
        "\n",
        "# 예제 사용\n",
        "result = apply_function([1, 2, 3, 4], lambda x: x * 2)\n",
        "print(result)  # [2, 4, 6, 8]이 출력되어야 함"
      ],
      "metadata": {
        "id": "MdP1PvfCPhwt"
      },
      "execution_count": null,
      "outputs": []
    },
    {
      "cell_type": "code",
      "source": [
        "# 문제 1번 정답\n",
        "def apply_function(lst, func):\n",
        "    return list(map(func, lst))\n",
        "\n",
        "\n",
        "\n",
        "# 예제 사용\n",
        "result = apply_function([1, 2, 3, 4], lambda x: x * 2)\n",
        "print(result)"
      ],
      "metadata": {
        "colab": {
          "base_uri": "https://localhost:8080/"
        },
        "id": "c9tddLQfPwKm",
        "outputId": "b235c9a9-b3f8-40ac-a595-48b90e7d9796"
      },
      "execution_count": 1,
      "outputs": [
        {
          "output_type": "stream",
          "name": "stdout",
          "text": [
            "[2, 4, 6, 8]\n"
          ]
        }
      ]
    },
    {
      "cell_type": "markdown",
      "source": [
        "# 문제 2: 함수를 반환하는 고차함수\n",
        "- 정수 n을 인자로 받아, 다른 정수 x에 n을 곱하는 함수를 반환하는 고차함수 multiply_by_n을 작성해주세요. 힌트를 드리자면 반환 값은 lambda여야 합니다."
      ],
      "metadata": {
        "id": "xM93XvUgPjJV"
      }
    },
    {
      "cell_type": "code",
      "source": [
        "def multiply_by_n(n):\n",
        "    pass\n",
        "\n",
        "# 예제 사용\n",
        "multiplier = multiply_by_n(5)\n",
        "print(multiplier(3))  # 15가 출력되어야 함"
      ],
      "metadata": {
        "id": "ULVadtIlPmoy"
      },
      "execution_count": null,
      "outputs": []
    },
    {
      "cell_type": "code",
      "source": [
        "# 문제 2번 정답\n",
        "def multiply_by_n(n):\n",
        "    return lambda x: x * n\n",
        "\n",
        "# 예제 사용\n",
        "multiplier = multiply_by_n(5)\n",
        "print(multiplier(3))  # 15가 출력되어야 함"
      ],
      "metadata": {
        "colab": {
          "base_uri": "https://localhost:8080/"
        },
        "id": "4wIzCk5pPynt",
        "outputId": "8580bff3-a850-4173-e730-0ae10138ce23"
      },
      "execution_count": 2,
      "outputs": [
        {
          "output_type": "stream",
          "name": "stdout",
          "text": [
            "15\n"
          ]
        }
      ]
    },
    {
      "cell_type": "code",
      "source": [],
      "metadata": {
        "id": "MSmsd6eGQHZt"
      },
      "execution_count": null,
      "outputs": []
    }
  ]
}