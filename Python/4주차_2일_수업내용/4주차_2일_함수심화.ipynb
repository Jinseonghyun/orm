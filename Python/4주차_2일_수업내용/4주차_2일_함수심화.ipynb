{
  "nbformat": 4,
  "nbformat_minor": 0,
  "metadata": {
    "colab": {
      "provenance": []
    },
    "kernelspec": {
      "name": "python3",
      "display_name": "Python 3"
    },
    "language_info": {
      "name": "python"
    }
  },
  "cells": [
    {
      "cell_type": "markdown",
      "source": [
        "# datetime 알고가자"
      ],
      "metadata": {
        "id": "Um50aO0nsV1N"
      }
    },
    {
      "cell_type": "code",
      "execution_count": null,
      "metadata": {
        "colab": {
          "base_uri": "https://localhost:8080/"
        },
        "id": "eBslOhCEj0xI",
        "outputId": "b607d3c2-6f79-46e6-e7ab-c6f33cee014f"
      },
      "outputs": [
        {
          "output_type": "stream",
          "name": "stdout",
          "text": [
            "현재 날짜와 시간: 2024-01-16 02:34:52.309092\n"
          ]
        }
      ],
      "source": [
        "import datetime\n",
        "\n",
        "current_datetime = datetime.datetime.now()\n",
        "print(\"현재 날짜와 시간:\", current_datetime)"
      ]
    },
    {
      "cell_type": "code",
      "source": [
        "import datetime\n",
        "\n",
        "specific_datetime = datetime.datetime(2022, 5, 15, 8, 30, 45)\n",
        "print(\"지정된 날짜와 시간:\", specific_datetime)"
      ],
      "metadata": {
        "colab": {
          "base_uri": "https://localhost:8080/"
        },
        "id": "MCa9VkUEHw5A",
        "outputId": "fe507072-051b-4bf0-d488-2c6438bdece6"
      },
      "execution_count": null,
      "outputs": [
        {
          "output_type": "stream",
          "name": "stdout",
          "text": [
            "지정된 날짜와 시간: 2022-05-15 08:30:45\n"
          ]
        }
      ]
    },
    {
      "cell_type": "code",
      "source": [
        "import datetime\n",
        "\n",
        "current_datetime = datetime.datetime.now()\n",
        "formatted_datetime = current_datetime.strftime(\"%Y년 %m월 %d일 %H시 %M분 %S초\")\n",
        "print(\"형식화된 날짜와 시간:\", formatted_datetime)\n"
      ],
      "metadata": {
        "colab": {
          "base_uri": "https://localhost:8080/"
        },
        "id": "sht4_WRsH18o",
        "outputId": "7d2a6884-e41a-47d0-b2f4-055b7a58d23b"
      },
      "execution_count": null,
      "outputs": [
        {
          "output_type": "stream",
          "name": "stdout",
          "text": [
            "형식화된 날짜와 시간: 2024년 01월 16일 02시 35분 27초\n"
          ]
        }
      ]
    },
    {
      "cell_type": "code",
      "source": [
        "import datetime\n",
        "\n",
        "today = datetime.datetime.now().weekday()\n",
        "if today >= 5:  # 5와 6은 토요일과 일요일\n",
        "    print(\"오늘은 주말입니다.\")\n",
        "else:\n",
        "    print(\"오늘은 평일입니다.\")"
      ],
      "metadata": {
        "colab": {
          "base_uri": "https://localhost:8080/"
        },
        "id": "tq3EClIUH5iI",
        "outputId": "4587eed8-39df-4f48-b6da-e37c11e78641"
      },
      "execution_count": null,
      "outputs": [
        {
          "output_type": "stream",
          "name": "stdout",
          "text": [
            "오늘은 평일입니다.\n"
          ]
        }
      ]
    },
    {
      "cell_type": "markdown",
      "source": [
        "# 메서드 체이닝"
      ],
      "metadata": {
        "id": "797SgaaCIDV4"
      }
    },
    {
      "cell_type": "code",
      "source": [
        "# 매우중요!\n",
        "# 꼭 복습하기\n",
        "'Hello World'.replace('Hello', 'hi').lower()\n",
        "# 그 메서드에 리턴된 값이 순차적으로 해소가 되는 방식\n",
        "\n",
        "#'hello world'.a().b().c().d()\n",
        "# 'Hello World'.split().lower() #error!!\n",
        "'Hello World'.split()[0].lower()"
      ],
      "metadata": {
        "colab": {
          "base_uri": "https://localhost:8080/",
          "height": 35
        },
        "id": "MEWcFGm8scH-",
        "outputId": "1a36fe60-2495-4b27-bcbf-2e7d4d887820"
      },
      "execution_count": null,
      "outputs": [
        {
          "output_type": "execute_result",
          "data": {
            "text/plain": [
              "'hello'"
            ],
            "application/vnd.google.colaboratory.intrinsic+json": {
              "type": "string"
            }
          },
          "metadata": {},
          "execution_count": 3
        }
      ]
    },
    {
      "cell_type": "code",
      "source": [
        "'hello world'.replace('hello', 'hi')\n",
        "'hello world'.replace('hello', 'hi').upper()\n",
        "'hello world'.replace('hello', 'hi').upper().replace('HI', 'HELLOW')\n",
        "# 'hello world'.replace('hello', 'hi').upper().append() #error"
      ],
      "metadata": {
        "colab": {
          "base_uri": "https://localhost:8080/",
          "height": 35
        },
        "id": "TW60HMW6uQt_",
        "outputId": "8c3fb6ae-e5e0-43e2-b92b-5e68bbdd546e"
      },
      "execution_count": null,
      "outputs": [
        {
          "output_type": "execute_result",
          "data": {
            "text/plain": [
              "'HELLOW WORLD'"
            ],
            "application/vnd.google.colaboratory.intrinsic+json": {
              "type": "string"
            }
          },
          "metadata": {},
          "execution_count": 4
        }
      ]
    },
    {
      "cell_type": "code",
      "source": [
        "class Calculator:\n",
        "    def __init__(self, value):\n",
        "        self.value = value\n",
        "\n",
        "    def add(self, other):\n",
        "        self.value += other\n",
        "        return self\n",
        "\n",
        "    def subtract(self, other):\n",
        "        self.value -= other\n",
        "        return self\n",
        "\n",
        "    def multiply(self, other):\n",
        "        self.value *= other\n",
        "        return self\n",
        "\n",
        "    def get_value(self):\n",
        "        return self.value  # 다른 return 값이 모두 self 인데 이것만 self.value , value 값을 반환하는 함수\n",
        "\n",
        "calc = Calculator(1)\n",
        "result = calc.add(2).subtract(1).multiply(3).get_value()\n",
        "print(result)  # 결과: 6"
      ],
      "metadata": {
        "colab": {
          "base_uri": "https://localhost:8080/"
        },
        "id": "DnWcEYMdskGM",
        "outputId": "0eabf643-dcc7-4aed-a993-30777ba42b4d"
      },
      "execution_count": null,
      "outputs": [
        {
          "output_type": "stream",
          "name": "stdout",
          "text": [
            "6\n"
          ]
        }
      ]
    },
    {
      "cell_type": "code",
      "source": [
        "# int\n",
        "# float\n",
        "# complex\n",
        "a = 3\n",
        "b = 3.5\n",
        "c = 3j + 1\n",
        "\n",
        "dir(a)\n",
        "dir(b)\n",
        "dir(c)\n",
        "\n",
        "# 'imag' # 허수부\n",
        "# 'real' # 실수부"
      ],
      "metadata": {
        "colab": {
          "base_uri": "https://localhost:8080/"
        },
        "id": "tPuJXTApvfc_",
        "outputId": "c6d62df3-0c03-45b9-ce95-23b6ef85cc46"
      },
      "execution_count": null,
      "outputs": [
        {
          "output_type": "execute_result",
          "data": {
            "text/plain": [
              "['__abs__',\n",
              " '__add__',\n",
              " '__bool__',\n",
              " '__class__',\n",
              " '__delattr__',\n",
              " '__dir__',\n",
              " '__doc__',\n",
              " '__eq__',\n",
              " '__format__',\n",
              " '__ge__',\n",
              " '__getattribute__',\n",
              " '__getnewargs__',\n",
              " '__gt__',\n",
              " '__hash__',\n",
              " '__init__',\n",
              " '__init_subclass__',\n",
              " '__le__',\n",
              " '__lt__',\n",
              " '__mul__',\n",
              " '__ne__',\n",
              " '__neg__',\n",
              " '__new__',\n",
              " '__pos__',\n",
              " '__pow__',\n",
              " '__radd__',\n",
              " '__reduce__',\n",
              " '__reduce_ex__',\n",
              " '__repr__',\n",
              " '__rmul__',\n",
              " '__rpow__',\n",
              " '__rsub__',\n",
              " '__rtruediv__',\n",
              " '__setattr__',\n",
              " '__sizeof__',\n",
              " '__str__',\n",
              " '__sub__',\n",
              " '__subclasshook__',\n",
              " '__truediv__',\n",
              " 'conjugate',\n",
              " 'imag',\n",
              " 'real']"
            ]
          },
          "metadata": {},
          "execution_count": 5
        }
      ]
    },
    {
      "cell_type": "markdown",
      "source": [
        "# 일급함수와 고차함수"
      ],
      "metadata": {
        "id": "C3rxf_vBwa2G"
      }
    },
    {
      "cell_type": "markdown",
      "source": [
        "# 함수를 변수에 할당할 수 있습니다.\n",
        "\n",
        "- 함수를 변수(값)취급 하는 것을 일급함수라고 합니다."
      ],
      "metadata": {
        "id": "7gIWrypJyORt"
      }
    },
    {
      "cell_type": "code",
      "source": [
        "# 일급 함수는 함수를 값으로 취급하는 것을 애기합니다.\n",
        "\n",
        "def greet(name):\n",
        "    return f'Hello, {name}'\n",
        "\n",
        "say_hello = greet\n",
        "print(say_hello(\"World\"))  # 출력: Hello, World"
      ],
      "metadata": {
        "colab": {
          "base_uri": "https://localhost:8080/"
        },
        "id": "mUVeq4MdweCV",
        "outputId": "ecf9baa7-aa72-443b-e500-53c7e9e6dc88"
      },
      "execution_count": null,
      "outputs": [
        {
          "output_type": "stream",
          "name": "stdout",
          "text": [
            "Hello, World\n"
          ]
        }
      ]
    },
    {
      "cell_type": "code",
      "source": [
        "# print 를 licat이라고 하고 사용할 수 있다.\n",
        "licat = print\n",
        "licat('hello world') # 출력: hello world"
      ],
      "metadata": {
        "id": "Aw9J3u5vweQu"
      },
      "execution_count": null,
      "outputs": []
    },
    {
      "cell_type": "code",
      "source": [
        "class Cat:\n",
        "    def sound(self):\n",
        "        print('냐옹')\n",
        "\n",
        "licat = Cat()\n",
        "licat_sound = licat.sound\n",
        "licat_sound() # 출력: 냐옹, licat.sound()"
      ],
      "metadata": {
        "colab": {
          "base_uri": "https://localhost:8080/"
        },
        "id": "U2Q6NEClLq5Y",
        "outputId": "ca00f19d-6ba1-4fa6-8f7e-4271b475c35e"
      },
      "execution_count": null,
      "outputs": [
        {
          "output_type": "stream",
          "name": "stdout",
          "text": [
            "냐옹\n"
          ]
        }
      ]
    },
    {
      "cell_type": "code",
      "source": [
        "# append 를 부르기 귀찮아 add로 바꿔서 부르겠다. (변수 이름이 너무 길때 사용한다.)\n",
        "l = [10, 20, 30]\n",
        "# l.append(100)\n",
        "add = l.append\n",
        "add(10)\n",
        "add(20)\n",
        "l"
      ],
      "metadata": {
        "colab": {
          "base_uri": "https://localhost:8080/"
        },
        "id": "GfQTD7cdySY9",
        "outputId": "a2726091-9c4e-43a1-cb73-0c551c2bd249"
      },
      "execution_count": null,
      "outputs": [
        {
          "output_type": "execute_result",
          "data": {
            "text/plain": [
              "[10, 20, 30, 10, 20]"
            ]
          },
          "metadata": {},
          "execution_count": 10
        }
      ]
    },
    {
      "cell_type": "code",
      "source": [
        "# 위와 같은 화살표 입니다.\n",
        "a = 10\n",
        "b = a\n",
        "c = b"
      ],
      "metadata": {
        "id": "BjLntwFqyVwn"
      },
      "execution_count": null,
      "outputs": []
    },
    {
      "cell_type": "markdown",
      "source": [
        "# 함수를 데이터 구조에 저장할 수 있습니다."
      ],
      "metadata": {
        "id": "ra7WWvNByKZv"
      }
    },
    {
      "cell_type": "code",
      "source": [
        "def add(x, y):\n",
        "    return x + y\n",
        "\n",
        "def subtract(x, y):\n",
        "    return x - y\n",
        "\n",
        "funcs = [add, subtract]\n",
        "print(funcs[0](2, 3))  # 출력: 5"
      ],
      "metadata": {
        "colab": {
          "base_uri": "https://localhost:8080/"
        },
        "id": "g0Uv0v4kweg3",
        "outputId": "b3e0cf8b-d38c-491c-d062-6ec0e575d56d"
      },
      "execution_count": null,
      "outputs": [
        {
          "output_type": "stream",
          "name": "stdout",
          "text": [
            "5\n"
          ]
        }
      ]
    },
    {
      "cell_type": "code",
      "source": [
        "class Operator:\n",
        "    def add(self, x, y):\n",
        "        return x + y\n",
        "\n",
        "    def sub(self, x, y):\n",
        "        return x - y\n",
        "\n",
        "    def mul(self, x, y):\n",
        "        return x * y\n",
        "\n",
        "    def div(self, x, y):\n",
        "        return x / y\n",
        "\n",
        "    def _and(self, x, y):\n",
        "        pass\n",
        "\n",
        "    def _or(self, x, y):\n",
        "        pass\n",
        "\n",
        "op = Operator()\n",
        "logical_op = {\n",
        "    'add': op.add,\n",
        "    'sub': op.sub,\n",
        "    'mul': op.mul,\n",
        "    'div': op.div,\n",
        "}\n",
        "arithmetic_op = {\n",
        "    '_and': op._and,\n",
        "    '_or': op._or,\n",
        "}\n",
        "\n",
        "print(logical_op['add'](2, 3)) # 출력: 5 마치 op.add(2, 3)인 것 처럼 사용할 수 있습니다.\n",
        "print(op.add(2, 3)) # 출력: 5\n",
        "\n",
        "for _, f in logical_op.items():\n",
        "    print(f(2, 3)) # 4칙연산 모두 계산"
      ],
      "metadata": {
        "colab": {
          "base_uri": "https://localhost:8080/"
        },
        "id": "NkqWMp5dweo-",
        "outputId": "8f4e0dc5-5efe-4e23-f6af-e3447b06a816"
      },
      "execution_count": null,
      "outputs": [
        {
          "output_type": "stream",
          "name": "stdout",
          "text": [
            "5\n",
            "5\n",
            "5\n",
            "-1\n",
            "6\n",
            "0.6666666666666666\n"
          ]
        }
      ]
    },
    {
      "cell_type": "code",
      "source": [
        "def add(a, b):\n",
        "    return a + b\n",
        "\n",
        "add(2, 3)"
      ],
      "metadata": {
        "colab": {
          "base_uri": "https://localhost:8080/"
        },
        "id": "-_eCElr9ytDd",
        "outputId": "817cce35-0bfd-4b48-99ef-7fc6582b0191"
      },
      "execution_count": null,
      "outputs": [
        {
          "output_type": "execute_result",
          "data": {
            "text/plain": [
              "5"
            ]
          },
          "metadata": {},
          "execution_count": 15
        }
      ]
    },
    {
      "cell_type": "markdown",
      "source": [
        "# 함수를 인자로 다른 함수에 전달할 수 있습니다."
      ],
      "metadata": {
        "id": "NpiQQZ-ezgy9"
      }
    },
    {
      "cell_type": "code",
      "source": [
        "# 데코레이터를 이해하기 위해 중요한 개념입니다.\n",
        "\n",
        "def add(a, b):\n",
        "    return a + b\n",
        "\n",
        "def say_hello(name):\n",
        "    return f'Hello, {name}'\n",
        "\n",
        "def greet(func, name):\n",
        "    return func(name)\n",
        "\n",
        "print(greet(say_hello, 'World'))  # 출력: Hello, World\n",
        "# greet함수에 say_hello 함수가 들어오는 중 func 는 say_hello say_hello에 name이 들어온다."
      ],
      "metadata": {
        "colab": {
          "base_uri": "https://localhost:8080/"
        },
        "id": "PKh2K2a1z7l9",
        "outputId": "0432ff90-ad4f-4176-dcd9-e75c14b06c83"
      },
      "execution_count": null,
      "outputs": [
        {
          "output_type": "stream",
          "name": "stdout",
          "text": [
            "Hello, World\n"
          ]
        }
      ]
    },
    {
      "cell_type": "code",
      "source": [
        "# 원의 넓이구하기\n",
        "def square(x):\n",
        "    return x ** 2\n",
        "\n",
        "def width_circle(r, s):\n",
        "    return s(r) * 3.14\n",
        "\n",
        "width_circle(10, square)"
      ],
      "metadata": {
        "colab": {
          "base_uri": "https://localhost:8080/"
        },
        "id": "QE5HgqT3MqMO",
        "outputId": "71d3aedf-74b6-4e5f-e9ca-18686523a1d8"
      },
      "execution_count": null,
      "outputs": [
        {
          "output_type": "execute_result",
          "data": {
            "text/plain": [
              "314.0"
            ]
          },
          "metadata": {},
          "execution_count": 48
        }
      ]
    },
    {
      "cell_type": "markdown",
      "source": [
        "# 함수를 결과로서 반환할 수 있습니다."
      ],
      "metadata": {
        "id": "HHz8bdEM0h3d"
      }
    },
    {
      "cell_type": "code",
      "source": [
        "# 함수를 리턴할 수 있다! (데코레이터에 핵심 개념)\n",
        "# 중요한 개념: x라는 변수가 함수가 끝났는데도 불구하고 살아있다? 클로져!\n",
        "def create_adder(x):\n",
        "    def adder(y):\n",
        "        return x + y\n",
        "    return adder\n",
        "\n",
        "add_5 = create_adder(5)\n",
        "print(add_5(10))  # 출력: 15"
      ],
      "metadata": {
        "colab": {
          "base_uri": "https://localhost:8080/"
        },
        "id": "IPxvjEw53wJ6",
        "outputId": "c8d5943f-c707-4f70-8541-471caf64c223"
      },
      "execution_count": null,
      "outputs": [
        {
          "output_type": "stream",
          "name": "stdout",
          "text": [
            "15\n"
          ]
        }
      ]
    },
    {
      "cell_type": "code",
      "source": [
        "# 밖에서 함수 안에 있는 값을 참조 못합니다.\n",
        "def f():\n",
        "    x = 10\n",
        "    y = 20\n",
        "    return x + y\n",
        "\n",
        "f()\n",
        "x"
      ],
      "metadata": {
        "colab": {
          "base_uri": "https://localhost:8080/"
        },
        "id": "um7Dh_jT3zWD",
        "outputId": "28df1e6b-f25f-44d7-f30a-0d15fd124968"
      },
      "execution_count": null,
      "outputs": [
        {
          "output_type": "execute_result",
          "data": {
            "text/plain": [
              "100"
            ]
          },
          "metadata": {},
          "execution_count": 21
        }
      ]
    },
    {
      "cell_type": "code",
      "source": [
        "# 안에서는 밖에 있는 값을 참조할 수 있습니다.\n",
        "one = 100\n",
        "def f():\n",
        "    x = one + 10\n",
        "    y = 20\n",
        "    return x + y\n",
        "\n",
        "f()\n",
        "x"
      ],
      "metadata": {
        "colab": {
          "base_uri": "https://localhost:8080/"
        },
        "id": "jGh41dqS4oXt",
        "outputId": "f8230b9a-2a14-494c-fa39-3d70cbf63361"
      },
      "execution_count": null,
      "outputs": [
        {
          "output_type": "execute_result",
          "data": {
            "text/plain": [
              "100"
            ]
          },
          "metadata": {},
          "execution_count": 22
        }
      ]
    },
    {
      "cell_type": "code",
      "source": [
        "x = 100\n",
        "def one():\n",
        "    def two():\n",
        "        x = 10\n",
        "        def three():\n",
        "            print(x)\n",
        "        three()\n",
        "    two()\n",
        "one()"
      ],
      "metadata": {
        "colab": {
          "base_uri": "https://localhost:8080/"
        },
        "id": "QPosTl2d4vse",
        "outputId": "17d1503e-c20c-40ff-8c3b-3ed69fa08683"
      },
      "execution_count": null,
      "outputs": [
        {
          "output_type": "stream",
          "name": "stdout",
          "text": [
            "10\n"
          ]
        }
      ]
    },
    {
      "cell_type": "code",
      "source": [
        "def create_sq(x):\n",
        "    def sq(y):\n",
        "        return x ** y\n",
        "    return sq\n",
        "\n",
        "제곱2 = create_sq(2)  # x를 변경 불가능하게 감추기 위한 코딩 기법\n",
        "제곱3 = create_sq(3)\n",
        "제곱4 = create_sq(4)\n",
        "\n",
        "제곱2(2), 제곱2(3), 제곱2(4)\n",
        "제곱3(2), 제곱3(3), 제곱3(4)\n",
        "제곱4(2), 제곱4(3), 제곱4(4)"
      ],
      "metadata": {
        "colab": {
          "base_uri": "https://localhost:8080/"
        },
        "id": "-fNmGXgF6ooW",
        "outputId": "0256bc3a-e6fc-492e-ee9c-93f1aa7593de"
      },
      "execution_count": null,
      "outputs": [
        {
          "output_type": "execute_result",
          "data": {
            "text/plain": [
              "(16, 64, 256)"
            ]
          },
          "metadata": {},
          "execution_count": 50
        }
      ]
    },
    {
      "cell_type": "markdown",
      "source": [
        "# 고차함수"
      ],
      "metadata": {
        "id": "wjT0lb5JTeve"
      }
    },
    {
      "cell_type": "code",
      "source": [
        "def apply_function(func, x):\n",
        "    return func(x)\n",
        "\n",
        "def square(x):\n",
        "    return x * x\n",
        "\n",
        "def cube(x):\n",
        "    return x * x * x\n",
        "\n",
        "# 사용 예:\n",
        "result = apply_function(square, 5)\n",
        "print(result)  # 출력: 25\n",
        "\n",
        "result = apply_function(cube, 5)\n",
        "print(result)  # 출력: 125"
      ],
      "metadata": {
        "colab": {
          "base_uri": "https://localhost:8080/"
        },
        "id": "qOgt5GmoTc-l",
        "outputId": "d79cc052-f28a-4ec3-b8b0-029b47b5d846"
      },
      "execution_count": 51,
      "outputs": [
        {
          "output_type": "stream",
          "name": "stdout",
          "text": [
            "25\n",
            "125\n"
          ]
        }
      ]
    },
    {
      "cell_type": "code",
      "source": [
        "def get_math_function(operation):\n",
        "    '''지정된 연산을 수행하는 함수를 반환합니다.'''\n",
        "\n",
        "    def add(x, y):\n",
        "        return x + y\n",
        "\n",
        "    def sub(x, y):\n",
        "        return x - y\n",
        "\n",
        "    def mul(x, y):\n",
        "        return x * y\n",
        "\n",
        "    if operation == 'add':\n",
        "        return add\n",
        "    elif operation == 'sub':\n",
        "        return sub\n",
        "    elif operation == 'mul':\n",
        "        return mul\n",
        "\n",
        "# 사용 예:\n",
        "# get_math_function 함수에 'add' 문자열을 전달하여 add 함수를 얻습니다.\n",
        "add_func = get_math_function('add')\n",
        "result = add_func(5, 3)  # add 함수에 5와 3을 전달하여 결과를 얻습니다.\n",
        "print(result)  # 출력: 8"
      ],
      "metadata": {
        "colab": {
          "base_uri": "https://localhost:8080/"
        },
        "id": "YTV4MRUQTqlt",
        "outputId": "9c9b2e4b-e4a2-44e2-9646-2306993c589b"
      },
      "execution_count": 52,
      "outputs": [
        {
          "output_type": "stream",
          "name": "stdout",
          "text": [
            "8\n"
          ]
        }
      ]
    },
    {
      "cell_type": "markdown",
      "source": [
        "# 여러개의 값 반환"
      ],
      "metadata": {
        "id": "D8-cM72tTrn1"
      }
    },
    {
      "cell_type": "code",
      "source": [
        "def add_and_subtract(x, y):\n",
        "    addition = x + y\n",
        "    subtraction = x - y\n",
        "    return addition, subtraction\n",
        "\n",
        "# 함수 호출\n",
        "result = add_and_subtract(5, 3)\n",
        "\n",
        "# 결과 출력\n",
        "print(result)  # 출력: (8, 2)\n",
        "a, s = result\n",
        "s"
      ],
      "metadata": {
        "colab": {
          "base_uri": "https://localhost:8080/"
        },
        "id": "h-fgfEBa7b-m",
        "outputId": "adc6ebda-5fea-4ca8-fd95-99ac3f9734d7"
      },
      "execution_count": null,
      "outputs": [
        {
          "output_type": "stream",
          "name": "stdout",
          "text": [
            "(8, 2)\n"
          ]
        },
        {
          "output_type": "execute_result",
          "data": {
            "text/plain": [
              "2"
            ]
          },
          "metadata": {},
          "execution_count": 29
        }
      ]
    },
    {
      "cell_type": "markdown",
      "source": [
        "# 재귀함수"
      ],
      "metadata": {
        "id": "qYffDQsB7dre"
      }
    },
    {
      "cell_type": "code",
      "source": [
        "# 내가 나를 호출하는 함수\n",
        "# 재귀는 내가 정말 자신있다가 아니면 반복문을 사용하자\n",
        "# 재귀를 억지로 사용하지 말자\n",
        "# 잘못 사용하면 비효율의 끝판왕"
      ],
      "metadata": {
        "id": "VQmf3z_A70iN"
      },
      "execution_count": null,
      "outputs": []
    },
    {
      "cell_type": "code",
      "source": [
        "# 주의! 실행하지 마세요!  무한반복 !!\n",
        "def 숫자출력():\n",
        "    print(1)\n",
        "    return 숫자출력() # 내가 나를 호출하는 것"
      ],
      "metadata": {
        "id": "41QhxmLj8ui4"
      },
      "execution_count": null,
      "outputs": []
    },
    {
      "cell_type": "code",
      "source": [
        "def 숫자출력(count):\n",
        "    if count > 100:\n",
        "        return\n",
        "    print(count)\n",
        "    return 숫자출력(count+1) #값을 1부터 반복횟수 까지의 값을 출력\n",
        "\n",
        "숫자출력(1)"
      ],
      "metadata": {
        "colab": {
          "base_uri": "https://localhost:8080/"
        },
        "id": "Ny8vJWTb9PZW",
        "outputId": "11cfee75-0f39-4de5-dfdb-62025fd3b222"
      },
      "execution_count": null,
      "outputs": [
        {
          "output_type": "stream",
          "name": "stdout",
          "text": [
            "1\n",
            "2\n",
            "3\n",
            "4\n",
            "5\n",
            "6\n",
            "7\n",
            "8\n",
            "9\n",
            "10\n",
            "11\n",
            "12\n",
            "13\n",
            "14\n",
            "15\n",
            "16\n",
            "17\n",
            "18\n",
            "19\n",
            "20\n",
            "21\n",
            "22\n",
            "23\n",
            "24\n",
            "25\n",
            "26\n",
            "27\n",
            "28\n",
            "29\n",
            "30\n",
            "31\n",
            "32\n",
            "33\n",
            "34\n",
            "35\n",
            "36\n",
            "37\n",
            "38\n",
            "39\n",
            "40\n",
            "41\n",
            "42\n",
            "43\n",
            "44\n",
            "45\n",
            "46\n",
            "47\n",
            "48\n",
            "49\n",
            "50\n",
            "51\n",
            "52\n",
            "53\n",
            "54\n",
            "55\n",
            "56\n",
            "57\n",
            "58\n",
            "59\n",
            "60\n",
            "61\n",
            "62\n",
            "63\n",
            "64\n",
            "65\n",
            "66\n",
            "67\n",
            "68\n",
            "69\n",
            "70\n",
            "71\n",
            "72\n",
            "73\n",
            "74\n",
            "75\n",
            "76\n",
            "77\n",
            "78\n",
            "79\n",
            "80\n",
            "81\n",
            "82\n",
            "83\n",
            "84\n",
            "85\n",
            "86\n",
            "87\n",
            "88\n",
            "89\n",
            "90\n",
            "91\n",
            "92\n",
            "93\n",
            "94\n",
            "95\n",
            "96\n",
            "97\n",
            "98\n",
            "99\n",
            "100\n"
          ]
        }
      ]
    },
    {
      "cell_type": "code",
      "source": [
        "# f(5) > 5 * 4 * 3 * 2 * 1 == 120 == 5! (수학 공식으로는 5팩토리얼)\n",
        "def f(n):\n",
        "    if n <= 1:\n",
        "        return n\n",
        "    return n * f(n-1)\n",
        "\n",
        "f(5)\n",
        "\n",
        "# step1                         # step2\n",
        "# factorial(5) = 5 * factorial(4) = 5 * 24 = 120\n",
        "# factorial(4) = 4 * factorial(3) = 4 * 6 = 24\n",
        "# factorial(3) = 3 * factorial(2) = 3 * 2 = 6\n",
        "# factorial(2) = 2 * factorial(1) = 2 * 1 = 2\n",
        "# factorial(1) = 1"
      ],
      "metadata": {
        "colab": {
          "base_uri": "https://localhost:8080/"
        },
        "id": "c3X9R9uF8D9E",
        "outputId": "f50414d0-8588-4a4a-c3eb-4c175fcc34bf"
      },
      "execution_count": null,
      "outputs": [
        {
          "output_type": "execute_result",
          "data": {
            "text/plain": [
              "120"
            ]
          },
          "metadata": {},
          "execution_count": 31
        }
      ]
    },
    {
      "cell_type": "code",
      "source": [
        "# 권장합니다!\n",
        "for i in range(1, 101):\n",
        "    print(i)"
      ],
      "metadata": {
        "id": "n4yFMHMv-7KO"
      },
      "execution_count": null,
      "outputs": []
    },
    {
      "cell_type": "code",
      "source": [
        "# 이런 코드를 연습해봄으로 재귀에 친숙해질 수 있습니다.\n",
        "# 분할 정복, 다이나믹 프로그래밍\n",
        "# f(5) => 5 * 4 * 3 * 2 * 1 == 120 == 5! (수학 공식으로는 5!로 표현합니다.)\n",
        "\n",
        "def f(n):\n",
        "    if n <= 1:\n",
        "        return n\n",
        "    return n * f(n-1)\n",
        "\n",
        "f(5)"
      ],
      "metadata": {
        "colab": {
          "base_uri": "https://localhost:8080/"
        },
        "id": "sKQp7Bl6-9oe",
        "outputId": "a11daac0-201b-4724-cc2d-55ef27a5f16b"
      },
      "execution_count": null,
      "outputs": [
        {
          "output_type": "execute_result",
          "data": {
            "text/plain": [
              "120"
            ]
          },
          "metadata": {},
          "execution_count": 35
        }
      ]
    },
    {
      "cell_type": "code",
      "source": [
        "# 권장합니다!\n",
        "result = 1\n",
        "for i in range(1, 6):\n",
        "    result *= i\n",
        "result"
      ],
      "metadata": {
        "colab": {
          "base_uri": "https://localhost:8080/"
        },
        "id": "pKCOHyhK_C1G",
        "outputId": "0a48965c-f037-411d-8f88-0669940a6149"
      },
      "execution_count": null,
      "outputs": [
        {
          "output_type": "execute_result",
          "data": {
            "text/plain": [
              "120"
            ]
          },
          "metadata": {},
          "execution_count": 36
        }
      ]
    },
    {
      "cell_type": "code",
      "source": [
        "# 설명\n",
        "def f(n):\n",
        "    if n <= 1:\n",
        "        return n\n",
        "    return n * f(n-1)\n",
        "\n",
        "# f(5)        5 * f(4) == 5 * 24 => 120\n",
        "# f(4)        4 * f(3) == 4 * 6\n",
        "# f(3)        3 * f(2) == 3 * 2\n",
        "# f(2)        2 * f(1) == 2 * 1\n",
        "# f(1)        1"
      ],
      "metadata": {
        "id": "R8vFoD4h_IA1"
      },
      "execution_count": null,
      "outputs": []
    },
    {
      "cell_type": "code",
      "source": [
        "'hello'[::-1]"
      ],
      "metadata": {
        "colab": {
          "base_uri": "https://localhost:8080/",
          "height": 35
        },
        "id": "UmxngndL_Xe-",
        "outputId": "64ad0121-a3ad-4abc-89c4-e6b5dbbf5d02"
      },
      "execution_count": null,
      "outputs": [
        {
          "output_type": "execute_result",
          "data": {
            "text/plain": [
              "'olleh'"
            ],
            "application/vnd.google.colaboratory.intrinsic+json": {
              "type": "string"
            }
          },
          "metadata": {},
          "execution_count": 38
        }
      ]
    },
    {
      "cell_type": "code",
      "source": [
        "s = ''\n",
        "for i in 'hello':\n",
        "    s = s + i\n",
        "\n",
        "s"
      ],
      "metadata": {
        "colab": {
          "base_uri": "https://localhost:8080/",
          "height": 35
        },
        "id": "qT1TPmkz_i01",
        "outputId": "5542708d-35f2-4fae-b319-aa40ca9619c1"
      },
      "execution_count": null,
      "outputs": [
        {
          "output_type": "execute_result",
          "data": {
            "text/plain": [
              "'hello'"
            ],
            "application/vnd.google.colaboratory.intrinsic+json": {
              "type": "string"
            }
          },
          "metadata": {},
          "execution_count": 39
        }
      ]
    },
    {
      "cell_type": "code",
      "source": [
        "s = ''\n",
        "for i in 'hello':\n",
        "    s = i + s\n",
        "\n",
        "s\n",
        "\n",
        "# s = 'h' + ''\n",
        "# s = 'e' + 'h'\n",
        "# s = 'l' + 'eh'\n",
        "# s = 'l' + 'leh'\n",
        "# s = 'o' + 'lleh'\n",
        "# => 'olleh'"
      ],
      "metadata": {
        "colab": {
          "base_uri": "https://localhost:8080/",
          "height": 35
        },
        "id": "wPvf_eo2A8p2",
        "outputId": "7ffb059d-482c-4f0a-9327-8a7d8bd9ac21"
      },
      "execution_count": null,
      "outputs": [
        {
          "output_type": "execute_result",
          "data": {
            "text/plain": [
              "'olleh'"
            ],
            "application/vnd.google.colaboratory.intrinsic+json": {
              "type": "string"
            }
          },
          "metadata": {},
          "execution_count": 41
        }
      ]
    },
    {
      "cell_type": "code",
      "source": [
        "def f(s):\n",
        "    if len(s) <= 1:\n",
        "        return s\n",
        "    return s[0] + f(s[1:])\n",
        "\n",
        "f('hello')"
      ],
      "metadata": {
        "colab": {
          "base_uri": "https://localhost:8080/",
          "height": 35
        },
        "id": "780ACV7W_5c-",
        "outputId": "9fec71bc-b438-4fa6-97b9-79a126a6f890"
      },
      "execution_count": null,
      "outputs": [
        {
          "output_type": "execute_result",
          "data": {
            "text/plain": [
              "'hello'"
            ],
            "application/vnd.google.colaboratory.intrinsic+json": {
              "type": "string"
            }
          },
          "metadata": {},
          "execution_count": 42
        }
      ]
    },
    {
      "cell_type": "code",
      "source": [
        "def f(s):\n",
        "    if len(s) <= 1:\n",
        "        return s\n",
        "    return f(s[1:]) + s[0]\n",
        "\n",
        "f('hello')\n",
        "# step1                                # step2\n",
        "# 거꾸로('hello') = 거꾸로('ello') + 'h' = 'olle' + 'h'\n",
        "# 거꾸로('ello')  = 거꾸로('llo') + 'e'  = 'oll' + 'e'\n",
        "# 거꾸로('llo')   = 거꾸로('lo') + 'l'   = 'ol' + 'l'\n",
        "# 거꾸로('lo')    = 거꾸로('o') + 'l'    = 'o' + 'l'\n",
        "# 거꾸로('o')     = 'o'                  = 'o'"
      ],
      "metadata": {
        "colab": {
          "base_uri": "https://localhost:8080/",
          "height": 35
        },
        "id": "T6FSQ8G-BAuK",
        "outputId": "2f920fc9-5f6a-487b-91fa-2bb5612a0b90"
      },
      "execution_count": null,
      "outputs": [
        {
          "output_type": "execute_result",
          "data": {
            "text/plain": [
              "'olleh'"
            ],
            "application/vnd.google.colaboratory.intrinsic+json": {
              "type": "string"
            }
          },
          "metadata": {},
          "execution_count": 44
        }
      ]
    }
  ]
}