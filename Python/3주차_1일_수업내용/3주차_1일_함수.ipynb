{
  "cells": [
    {
      "cell_type": "code",
      "execution_count": null,
      "metadata": {
        "id": "O7HambJ5VKoX"
      },
      "outputs": [],
      "source": [
        "# 1.함수의 정의\n",
        "def my_function(): # def > 이건 함수야 , my_function > 함수의 이름 + ():"
      ]
    },
    {
      "cell_type": "code",
      "execution_count": 1,
      "metadata": {
        "colab": {
          "base_uri": "https://localhost:8080/"
        },
        "id": "Rc11VPAJtYeR",
        "outputId": "2e565f92-7e89-4b06-aa76-ed9c554eff05"
      },
      "outputs": [
        {
          "name": "stdout",
          "output_type": "stream",
          "text": [
            "1\n",
            "2\n",
            "3\n"
          ]
        }
      ],
      "source": [
        "# 2. 들여쓰기\n",
        "\n",
        "def my_function():\n",
        "    print('1') # 4칸을 띄우는 것 > 함수의 본문을 적는 것\n",
        "    print('2')\n",
        "    print('3')\n",
        "\n",
        "# 함수의 실행\n",
        "my_function() # 실행을 할떄는 def와 : 은 필요없다. > 함수의 본문이 실행 된다."
      ]
    },
    {
      "cell_type": "code",
      "execution_count": 22,
      "metadata": {
        "colab": {
          "base_uri": "https://localhost:8080/"
        },
        "id": "p1LvgxEL05J8",
        "outputId": "d7f92dd7-f9cc-4394-d443-819c4cc74de2"
      },
      "outputs": [
        {
          "name": "stdout",
          "output_type": "stream",
          "text": [
            "function(10,9) = 19\n"
          ]
        }
      ],
      "source": [
        "def function(x,y):\n",
        "    z = x + y  # z = 10 + 9\n",
        "    return z   # z 만 가지고서는 출력이 되지 않는다.!\n",
        "\n",
        "# 1. return 을 함수 내에 지정하지 않았을 때\n",
        "# print(f\"function(10,9) = {function(10,9)}\")\n",
        "\n",
        "# 2. print() 문을 사용하지 않았을 때 안된다. colab이라 되고 있는것\n",
        "# function(10,9)\n",
        "\n",
        "print(f\"function(10,9) = {function(10,9)}\")"
      ]
    },
    {
      "cell_type": "markdown",
      "metadata": {
        "id": "h7h0Zr_m82HI"
      },
      "source": [
        "# 2. 함수 기본 구조 실습"
      ]
    },
    {
      "cell_type": "code",
      "execution_count": 24,
      "metadata": {
        "colab": {
          "base_uri": "https://localhost:8080/"
        },
        "id": "1DV-bFyw6Of_",
        "outputId": "19b05636-6398-4828-a9a8-c82f2e44a941"
      },
      "outputs": [
        {
          "name": "stdout",
          "output_type": "stream",
          "text": [
            "Hello, World!\n",
            "None\n"
          ]
        }
      ],
      "source": [
        "# 2.1 입력 매개변수가 없고, 반환 값도 없는 함수\n",
        "def simple_function():\n",
        "    print('Hello, World!') # 출력: 'Hello, World!'\n",
        "\n",
        "# 함수 호출\n",
        "print(simple_function()) # 출력: None   # 함수는 return값을 찾겠구나\n"
      ]
    },
    {
      "cell_type": "code",
      "execution_count": 25,
      "metadata": {
        "colab": {
          "base_uri": "https://localhost:8080/"
        },
        "id": "Gev1d9JV87iM",
        "outputId": "e13917a0-a9e3-4101-e13d-aff4633616ef"
      },
      "outputs": [
        {
          "name": "stdout",
          "output_type": "stream",
          "text": [
            "5\n"
          ]
        }
      ],
      "source": [
        "# 2.2 파라미터가 없고, 반환 값은 있는 함수\n",
        "def give_me_five():\n",
        "    return 5\n",
        "\n",
        "result = give_me_five()\n",
        "print(result) # 출력: 5"
      ]
    },
    {
      "cell_type": "code",
      "execution_count": 33,
      "metadata": {
        "colab": {
          "base_uri": "https://localhost:8080/"
        },
        "id": "MXvDPsy79dc-",
        "outputId": "d07bec3e-4b06-4380-cea9-bfdbf69674e7"
      },
      "outputs": [
        {
          "name": "stdout",
          "output_type": "stream",
          "text": [
            "Hello, Licat!\n"
          ]
        }
      ],
      "source": [
        "# 2.3 입력 매개변수가 있고, 반환 값이 없는 함수\n",
        "def greeting(name):\n",
        "    print(f'Hello, {name}!')\n",
        "\n",
        "# 함수 호출\n",
        "greeting('Licat')     # print 가 있냐 없냐에 따라 None 값이 출력이 안됨. return 값과 None 의 상태를 이해하자"
      ]
    },
    {
      "cell_type": "code",
      "execution_count": 29,
      "metadata": {
        "colab": {
          "base_uri": "https://localhost:8080/"
        },
        "id": "RpvEvbhp9hI2",
        "outputId": "93ac1146-89b7-4670-9aa1-ac117e98264a"
      },
      "outputs": [
        {
          "name": "stdout",
          "output_type": "stream",
          "text": [
            "8\n"
          ]
        }
      ],
      "source": [
        "# 2.4 입력 매개변수가 있고, 반환 값이 있는 함수\n",
        "def add_numbers(x, y):\n",
        "    sum = x + y\n",
        "    return sum\n",
        "\n",
        "# 함수 호출\n",
        "result = add_numbers(5, 3)\n",
        "print(result)  # 출력: 8"
      ]
    },
    {
      "cell_type": "code",
      "execution_count": 30,
      "metadata": {
        "colab": {
          "base_uri": "https://localhost:8080/"
        },
        "id": "ZcMNOHcX9nMc",
        "outputId": "aa19a013-a004-4b16-96ca-0fee9d065c79"
      },
      "outputs": [
        {
          "name": "stdout",
          "output_type": "stream",
          "text": [
            "12\n",
            "function(5, 7) = None\n"
          ]
        }
      ],
      "source": [
        "def function(x, y):\n",
        "    z = x + y\n",
        "    print(z)\n",
        "print(f'function(5, 7) = {function(5, 7)}')"
      ]
    },
    {
      "cell_type": "code",
      "execution_count": 31,
      "metadata": {
        "colab": {
          "base_uri": "https://localhost:8080/"
        },
        "id": "Ewb2jp429zp3",
        "outputId": "05706914-cafc-4314-9839-9749e5b8f0bd"
      },
      "outputs": [
        {
          "name": "stdout",
          "output_type": "stream",
          "text": [
            "hello\n",
            "None\n"
          ]
        }
      ],
      "source": [
        "print(print('hello'))"
      ]
    },
    {
      "cell_type": "markdown",
      "metadata": {
        "id": "FIRuYILH91G2"
      },
      "source": [
        "# 파라미터의 아규먼트"
      ]
    },
    {
      "cell_type": "code",
      "execution_count": 40,
      "metadata": {
        "colab": {
          "base_uri": "https://localhost:8080/"
        },
        "id": "bPBVjItPHjJy",
        "outputId": "867d8734-02f8-4ad9-c993-d70fbfdedb9f"
      },
      "outputs": [
        {
          "name": "stdout",
          "output_type": "stream",
          "text": [
            "100 200 300\n",
            "100 300 200\n",
            "100 200 300\n",
            "100 200 300\n"
          ]
        }
      ],
      "source": [
        "# 파라미터의 기본 사용\n",
        "def f(a, b, c):     # 파라미터 3개 이기에 아큐먼트도 3개 들어와야한다.\n",
        "    print(a, b, c)\n",
        "\n",
        "f(100, 200, 300)\n",
        "f(a=100, b=300, c=200)\n",
        "f(a=100, b=200, c=300) # 출력: 100 200 300    키워드 인자 (원하는 위치에 값을 집어넣는다.)\n",
        "f(c=300, a=100, b=200) # 출력: 100 200 300"
      ]
    },
    {
      "cell_type": "code",
      "execution_count": 41,
      "metadata": {
        "colab": {
          "base_uri": "https://localhost:8080/",
          "height": 148
        },
        "id": "QhobD_jxHx9C",
        "outputId": "11cd6f1b-e139-4fdf-9167-81fb567332a4"
      },
      "outputs": [
        {
          "ename": "SyntaxError",
          "evalue": "non-default argument follows default argument (<ipython-input-41-77f0c1b78406>, line 3)",
          "output_type": "error",
          "traceback": [
            "\u001b[0;36m  File \u001b[0;32m\"<ipython-input-41-77f0c1b78406>\"\u001b[0;36m, line \u001b[0;32m3\u001b[0m\n\u001b[0;31m    def f(a=10, b=20, c):\u001b[0m\n\u001b[0m                      ^\u001b[0m\n\u001b[0;31mSyntaxError\u001b[0m\u001b[0;31m:\u001b[0m non-default argument follows default argument\n"
          ]
        }
      ],
      "source": [
        "# 기본값을 가진 파라미터\n",
        "# 잘못된 예\n",
        "# 기본값이 없는 파라미터가 기본값을 가진 파라미터 뒤에 올 수 없습니다.\n",
        "def f(a=10, b=20, c):\n",
        "    print(a, b, c) # error\n",
        "\n",
        "# 올바른 예\n",
        "def f(a=10, b=20, c=30):\n",
        "    print(a, b, c)\n",
        "\n",
        "f() # 출력: 10 20 30\n",
        "f(100, 10) # 출력: 100 10 30\n",
        "f(a=100, b=200, c=300) # 출력: 100 200 300\n",
        "f(c=300, a=100, b=200) # 출력: 100 200 300"
      ]
    },
    {
      "cell_type": "code",
      "execution_count": 43,
      "metadata": {
        "colab": {
          "base_uri": "https://localhost:8080/"
        },
        "id": "fUDnU4exH5TK",
        "outputId": "b1074170-1fe5-4af3-f806-e07eb4d341d1"
      },
      "outputs": [
        {
          "name": "stdout",
          "output_type": "stream",
          "text": [
            "100 20 10\n",
            "100 200 300\n",
            "100 200 300\n"
          ]
        }
      ],
      "source": [
        "# 일부 파라미터만 기본값을 가지는 경우 (올바른 예)\n",
        "def f(a, b=20, c=10):\n",
        "    print(a, b, c)\n",
        "\n",
        "f(100) # 출력: 100 10 10\n",
        "f(a=100, b=200, c=300) # 출력: 100 200 300\n",
        "f(c=300, a=100, b=200) # 출력: 100 200 300"
      ]
    },
    {
      "cell_type": "code",
      "execution_count": 44,
      "metadata": {
        "colab": {
          "base_uri": "https://localhost:8080/"
        },
        "id": "FpJ3uG2CKQ7h",
        "outputId": "25d8714b-d484-4226-b2dd-02fce3479999"
      },
      "outputs": [
        {
          "name": "stdout",
          "output_type": "stream",
          "text": [
            "100 10 30\n",
            "None\n",
            "100 200 300\n",
            "None\n",
            "100 200 300\n",
            "None\n"
          ]
        }
      ],
      "source": [
        "def f(a, b=20, c=30):\n",
        "    print(a, b, c)\n",
        "\n",
        "# print(f()) # error\n",
        "print(f(100, 10)) # 출력 : 100, 10, 30\n",
        "print(f(a=100, b=200, c=300)) # 출력 : 100 200 300\n",
        "print(f(c=300, a=100, b=200)) # 출력 : 100 200 300\n",
        "# print(f(c=300)) # error"
      ]
    },
    {
      "cell_type": "markdown",
      "metadata": {
        "id": "RBnvFzrOKXCj"
      },
      "source": [
        "# 컨밴션 자료형을 아규먼트로 넣었을 때"
      ]
    },
    {
      "cell_type": "code",
      "execution_count": 50,
      "metadata": {
        "colab": {
          "base_uri": "https://localhost:8080/"
        },
        "id": "iB1KpGnpKvQE",
        "outputId": "4cbfb3a7-6395-4793-8e4d-76db6b0e54c4"
      },
      "outputs": [
        {
          "name": "stdout",
          "output_type": "stream",
          "text": [
            "[2, 3, 4, [1, 2]]\n"
          ]
        }
      ],
      "source": [
        "def add_element(my_list):\n",
        "    my_list.append([1,2])\n",
        "\n",
        "a = [2, 3, 4]\n",
        "add_element(a)\n",
        "print(a)  # 출력: [2, 3, 4, 1]"
      ]
    },
    {
      "cell_type": "code",
      "execution_count": 46,
      "metadata": {
        "colab": {
          "base_uri": "https://localhost:8080/"
        },
        "id": "6JWTDxjBKwe0",
        "outputId": "9ee1e0ea-6ee1-413c-c77d-a90677e0bd85"
      },
      "outputs": [
        {
          "name": "stdout",
          "output_type": "stream",
          "text": [
            "133800166927616\n",
            "133800166927616\n",
            "[2, 3, 4, 1]\n"
          ]
        }
      ],
      "source": [
        "def add_element(my_list):\n",
        "    my_list.append(1)\n",
        "    print(id(my_list)) # 출력: 135115033605760\n",
        "\n",
        "a = [2, 3, 4]\n",
        "add_element(a)\n",
        "print(id(a)) # 출력: 135115033605760\n",
        "print(a)  # 출력: [2, 3, 4, 1]"
      ]
    },
    {
      "cell_type": "code",
      "execution_count": 51,
      "metadata": {
        "id": "km2VGmQ7K05m"
      },
      "outputs": [],
      "source": [
        "# 위와 다르다"
      ]
    },
    {
      "cell_type": "code",
      "execution_count": 55,
      "metadata": {
        "colab": {
          "base_uri": "https://localhost:8080/"
        },
        "id": "H6PMny_HLk6s",
        "outputId": "2cba4d3b-d873-49be-9547-6034c2d6259c"
      },
      "outputs": [
        {
          "name": "stdout",
          "output_type": "stream",
          "text": [
            "133801436840464\n",
            "133800312430592\n",
            "[2, 3, 4]\n"
          ]
        }
      ],
      "source": [
        "def add_element(my_list):\n",
        "    my_list = 10\n",
        "    print(id(my_list)) # 출력: 135115442078224\n",
        "\n",
        "a = [2, 3, 4]\n",
        "add_element(a)\n",
        "print(id(a)) # 출력: 135115029248768\n",
        "print(a)  # 출력: [2, 3, 4]"
      ]
    },
    {
      "cell_type": "markdown",
      "metadata": {
        "id": "JNuJ7MJ0LlRS"
      },
      "source": [
        "# 권장하지 않는 기본값"
      ]
    },
    {
      "cell_type": "code",
      "execution_count": 62,
      "metadata": {
        "colab": {
          "base_uri": "https://localhost:8080/"
        },
        "id": "RADnTo_OfHgY",
        "outputId": "f523f0f3-4b9a-4aca-c9a3-c4504913151e"
      },
      "outputs": [
        {
          "data": {
            "text/plain": [
              "[1, 2]"
            ]
          },
          "execution_count": 62,
          "metadata": {},
          "output_type": "execute_result"
        }
      ],
      "source": [
        "# 권장하지 않는 방법\n",
        "#  리스트가 변경될 때마다 (즉, 함수가 호출될 때마다) 변경된 내용이 유지되며,\n",
        "# 이는 다음과 같은 예상치 못한 결과를 초래할 수 있습니다.\n",
        "def append_to_list(value, lst=[]):\n",
        "    # lst_update = lst # 추천방법!\n",
        "    lst.append(value)\n",
        "    return lst # 예상치 못한 결과가 발생할 수 있습니다.\n",
        "\n",
        "append_to_list(1) # 출력: [1]\n",
        "append_to_list(2) # 출력: [1, 2], 그러나 결과가 [2]가 나올것으로 예상할수도 있습니다."
      ]
    },
    {
      "cell_type": "code",
      "execution_count": 65,
      "metadata": {
        "id": "mRtmfeORfJRm"
      },
      "outputs": [],
      "source": [
        "# 권장 방법\n",
        "def append_to_list(value, lst=None):\n",
        "    if lst is None:\n",
        "        lst = []\n",
        "    lst.append(value)\n",
        "    return lst\n"
      ]
    },
    {
      "cell_type": "code",
      "execution_count": 67,
      "metadata": {
        "colab": {
          "base_uri": "https://localhost:8080/"
        },
        "id": "cd69yaiuflJx",
        "outputId": "ef5105a1-fd2e-4bbf-c584-b0032dd93465"
      },
      "outputs": [
        {
          "data": {
            "text/plain": [
              "[1]"
            ]
          },
          "execution_count": 67,
          "metadata": {},
          "output_type": "execute_result"
        }
      ],
      "source": [
        "append_to_list(1) # 결과: [1]"
      ]
    },
    {
      "cell_type": "code",
      "execution_count": 68,
      "metadata": {
        "colab": {
          "base_uri": "https://localhost:8080/"
        },
        "id": "MzUOqVTKfzP5",
        "outputId": "124b80a7-6350-49c6-f958-fe40802f3bc0"
      },
      "outputs": [
        {
          "data": {
            "text/plain": [
              "[2]"
            ]
          },
          "execution_count": 68,
          "metadata": {},
          "output_type": "execute_result"
        }
      ],
      "source": [
        "append_to_list(2) # 결과: [2]"
      ]
    },
    {
      "cell_type": "markdown",
      "metadata": {
        "id": "qDcq0EaBhM5R"
      },
      "source": [
        "# 지역변수와 전역변수"
      ]
    },
    {
      "cell_type": "markdown",
      "metadata": {
        "id": "lCe8UvFfkO3s"
      },
      "source": [
        "## 지역변수"
      ]
    },
    {
      "cell_type": "code",
      "execution_count": 78,
      "metadata": {
        "colab": {
          "base_uri": "https://localhost:8080/",
          "height": 242
        },
        "id": "UZ06TkcLhOw6",
        "outputId": "710662e9-f378-4b6e-ffde-9cebce60022b"
      },
      "outputs": [
        {
          "name": "stdout",
          "output_type": "stream",
          "text": [
            "1\n"
          ]
        },
        {
          "ename": "NameError",
          "evalue": "name 'b' is not defined",
          "output_type": "error",
          "traceback": [
            "\u001b[0;31m---------------------------------------------------------------------------\u001b[0m",
            "\u001b[0;31mNameError\u001b[0m                                 Traceback (most recent call last)",
            "\u001b[0;32m<ipython-input-78-f4cee3c4d93e>\u001b[0m in \u001b[0;36m<cell line: 7>\u001b[0;34m()\u001b[0m\n\u001b[1;32m      5\u001b[0m \u001b[0;34m\u001b[0m\u001b[0m\n\u001b[1;32m      6\u001b[0m \u001b[0mf\u001b[0m\u001b[0;34m(\u001b[0m\u001b[0;34m)\u001b[0m\u001b[0;34m\u001b[0m\u001b[0;34m\u001b[0m\u001b[0m\n\u001b[0;32m----> 7\u001b[0;31m \u001b[0mprint\u001b[0m\u001b[0;34m(\u001b[0m\u001b[0mb\u001b[0m\u001b[0;34m)\u001b[0m  \u001b[0;31m# error: a는 f 함수 내부에서만 정의되었습니다.\u001b[0m\u001b[0;34m\u001b[0m\u001b[0;34m\u001b[0m\u001b[0m\n\u001b[0m",
            "\u001b[0;31mNameError\u001b[0m: name 'b' is not defined"
          ]
        }
      ],
      "source": [
        "# 지역 변수 사용 예시\n",
        "def f():\n",
        "    b = 1\n",
        "    print(b)  # 출력: 1\n",
        "\n",
        "f()\n",
        "print(b)  # error: a는 f 함수 내부에서만 정의되었습니다."
      ]
    },
    {
      "cell_type": "code",
      "execution_count": 74,
      "metadata": {
        "colab": {
          "base_uri": "https://localhost:8080/"
        },
        "id": "WZ3eK3TQij0a",
        "outputId": "4e115997-982b-40ea-f613-651b21efcb9d"
      },
      "outputs": [
        {
          "name": "stdout",
          "output_type": "stream",
          "text": [
            "100\n",
            "1\n"
          ]
        }
      ],
      "source": [
        "# 전역변수\n",
        "test = 1\n",
        "\n",
        "# 지역 변수 (함수 내에 사용한 변수)\n",
        "def example():\n",
        "    test = 100\n",
        "    return test\n",
        "\n",
        "print(example())\n",
        "print(test)\n",
        "# 함수 내의 test 이기에 100이라고 할당해줘도 print를 찍어보면 밖에서 사용할 수 없기에 전역변수 1 이나온다.\n",
        "\n",
        "# 지역변수를 밖에서 사용하고 싶다면 return 을 해주거나 전역변수로 해줘야 한다.\n"
      ]
    },
    {
      "cell_type": "code",
      "execution_count": 73,
      "metadata": {
        "colab": {
          "base_uri": "https://localhost:8080/"
        },
        "id": "XXHe7wvghnnq",
        "outputId": "63eb3280-7a9f-434c-d550-77a1d880a4c7"
      },
      "outputs": [
        {
          "name": "stdout",
          "output_type": "stream",
          "text": [
            "{'b': 1}\n"
          ]
        }
      ],
      "source": [
        "# 지역에 선언된 변수 목록을 보려면 locals()를 사용\n",
        "def f():\n",
        "    b = 1\n",
        "    print(locals()) # 출력: {'a': 1}\n",
        "\n",
        "f()"
      ]
    },
    {
      "cell_type": "code",
      "execution_count": 79,
      "metadata": {
        "colab": {
          "base_uri": "https://localhost:8080/"
        },
        "id": "mu5VH16qj8wj",
        "outputId": "e3c99f2c-71fe-4d09-9a59-a76ff7d53868"
      },
      "outputs": [
        {
          "name": "stdout",
          "output_type": "stream",
          "text": [
            "{'a': 1, 'b': 'hello', 'ff': <function f.<locals>.ff at 0x79b0c771f490>}\n"
          ]
        }
      ],
      "source": [
        "def f():\n",
        "    a = 1\n",
        "    b = 'hello'\n",
        "    def ff():\n",
        "        pass\n",
        "    print(locals()) # 출력: {'a': 1, 'b': 'hello', 'ff': <function f.<locals>.ff at 0x7a46e99d2c20>}\n",
        "\n",
        "f()"
      ]
    },
    {
      "cell_type": "markdown",
      "metadata": {
        "id": "lVLQJ2NCj9GS"
      },
      "source": [
        "# 전역변수"
      ]
    },
    {
      "cell_type": "code",
      "execution_count": 84,
      "metadata": {
        "colab": {
          "base_uri": "https://localhost:8080/"
        },
        "id": "Boj-NxkXkR37",
        "outputId": "08e91fd0-7abf-4da8-be50-112b09201b57"
      },
      "outputs": [
        {
          "name": "stdout",
          "output_type": "stream",
          "text": [
            "101\n"
          ]
        }
      ],
      "source": [
        "a = 100\n",
        "\n",
        "def f():\n",
        "    global a\n",
        "    a = a + 1\n",
        "\n",
        "f()\n",
        "print(a)  # 출력: 101, 함수 f 내에서 전역 변수 a가 수정되었습니다."
      ]
    },
    {
      "cell_type": "code",
      "execution_count": 98,
      "metadata": {
        "colab": {
          "base_uri": "https://localhost:8080/"
        },
        "id": "iQYhuJaZnDq8",
        "outputId": "f60bc1f0-98f9-414e-d510-8dc8aa460587"
      },
      "outputs": [
        {
          "data": {
            "text/plain": [
              "101"
            ]
          },
          "execution_count": 98,
          "metadata": {},
          "output_type": "execute_result"
        }
      ],
      "source": [
        "def f():\n",
        "    a = 100\n",
        "    a = a + 1 # error        전역변수 선언을 안해주었다.\n",
        "    return a\n",
        "\n",
        "f()"
      ]
    },
    {
      "cell_type": "code",
      "execution_count": null,
      "metadata": {
        "id": "lB-vk9H6k-DE"
      },
      "outputs": [],
      "source": [
        "a = 100\n",
        "def f():\n",
        "    a = a + 1 # error        전역변수 선언을 안해주었다.\n",
        "\n",
        "f()\n",
        "print(a)"
      ]
    },
    {
      "cell_type": "code",
      "execution_count": 85,
      "metadata": {
        "colab": {
          "base_uri": "https://localhost:8080/"
        },
        "id": "_2MdlWlZlSnj",
        "outputId": "0c3980ca-77c4-40f2-9d88-aeb898add9c6"
      },
      "outputs": [
        {
          "name": "stdout",
          "output_type": "stream",
          "text": [
            "100\n",
            "101\n"
          ]
        }
      ],
      "source": [
        "# 전역변수 선언을 하지 않았기에 수정은 불가능, 읽어오기는 할 수 있다.\n",
        "\n",
        "a = 100\n",
        "\n",
        "def f():\n",
        "    print(a) # 출력: 100\n",
        "\n",
        "f()\n",
        "\n",
        "def ff():\n",
        "    b = a + 1\n",
        "    print(b) # 출력: 101\n",
        "\n",
        "ff()"
      ]
    },
    {
      "cell_type": "code",
      "execution_count": 86,
      "metadata": {
        "colab": {
          "base_uri": "https://localhost:8080/"
        },
        "id": "qmvmE_wIlUgq",
        "outputId": "236a4740-aace-4e33-e692-941655fcccf1"
      },
      "outputs": [
        {
          "name": "stdout",
          "output_type": "stream",
          "text": [
            "1000\n"
          ]
        }
      ],
      "source": [
        "a = 100\n",
        "\n",
        "def f():\n",
        "    a = 1000\n",
        "    print(a) # 출력: 1000\n",
        "\n",
        "f()"
      ]
    },
    {
      "cell_type": "code",
      "execution_count": 87,
      "metadata": {
        "colab": {
          "base_uri": "https://localhost:8080/"
        },
        "id": "sA96WBb1lihL",
        "outputId": "8d8f6602-bfeb-451c-8831-918aaf2ef48f"
      },
      "outputs": [
        {
          "name": "stdout",
          "output_type": "stream",
          "text": [
            "{'__name__': '__main__', '__doc__': 'Automatically created module for IPython interactive environment', '__package__': None, '__loader__': None, '__spec__': None, '__builtin__': <module 'builtins' (built-in)>, '__builtins__': <module 'builtins' (built-in)>, '_ih': ['', \"# 2. 들여쓰기\\n\\ndef my_function():\\n    print('1') # 4칸을 띄우는 것 > 함수의 본문을 적는 것\\n    print('2')\\n    print('3')\\n\\n# 함수의 실행\\nmy_function() # 실행을 할떄는 def와 : 은 필요없다.\", \"def my_function():\\n    print('1')\\n    print('2')\\nprint('3')\\nmy_function()\", \"def my_function():\\n    print('1')\\n    print('2')\\n print('3')\\nmy_function()\", \"def my_function():\\n    print('1')\\n    print('2')\\n    print('3')\\nmy_function()\", '||', 'def function(x,y):\\n    z = x + y\\n    return z', 'def function(x,y):\\n    z = x + y\\n    return z\\nprint(\"function(10,9)\",function(10,9))', 'def function(x,y):\\n    z = x + y\\n    return z\\nprint(f\"function(10,9) =\" {function(10,9)})', 'def function(x,y):\\n    z = x + y\\n    return z\\nprint(f\"function(10,9) = {function(10,9)}\")', 'def function(x,y):\\n    z = x + y\\n    return z\\nprint(f \"function(10,9) = {function(10,9)}\")', 'def function(x,y):\\n    z = x + y\\n    return z\\nprint(f\"function(10,9) = {function(10,9)}\")', 'def function_name(x, y):\\n    return x + y', 'def function_name(x, y):\\n    return x + y\\nfunction_name', 'def function_name(x, y):\\n    return x + y\\nfunction_name()', 'def give_me_five():\\n    return 5\\n\\ngive_me_five()', 'def give_me_five():\\n    return 5\\n\\n\\\\give_me_five()\\nprint(result) # 출력: 5', 'def give_me_five():\\n    return 5\\n\\nresult = give_me_five()\\nprint(result) # 출력: 5', 'def function_name(x, y):\\n    pass #임시로 값을 넣는 기능!\\nfunction_name()', 'def function_name(x, y):\\n    pass #임시로 값을 넣는 기능!', 'def function(x,y):\\n    z = x + y  # z = 10 + 9\\n    return z   # z 만 가지고서는 출력이 되지 않는다.!\\n\\n# 1. return 을 함수 내에 지정하지 않았을 때\\n#print(f\"function(10,9) = {function(10,9)}\")\\n\\n# 2. print() 문을 사용하지 않았을 때 안된다. colab이라 되고 있는것\\nfunction(10,9)', 'def function(x,y):\\n    z = x + y  # z = 10 + 9\\n    return z   # z 만 가지고서는 출력이 되지 않는다.!\\n\\n# 1. return 을 함수 내에 지정하지 않았을 때\\n# print(f\"function(10,9) = {function(10,9)}\")\\n\\n# 2. print() 문을 사용하지 않았을 때 안된다. colab이라 되고 있는것\\n# function(10,9)\\n\\nprint(f\"function(10,9) = {function(10,9)}\")', \"# 2.1 입력 매개변수가 없고, 반환 값도 없는 함수\\ndef simple_function():\\n    print('Hello, World!') # 출력: 'Hello, World!'\\n\\n# 함수 호출\\nprint(simple_function()) # 출력: None\", \"# 2.1 입력 매개변수가 없고, 반환 값도 없는 함수\\ndef simple_function():\\n    print('Hello, World!') # 출력: 'Hello, World!'\\n\\n# 함수 호출\\nprint(simple_function()) # 출력: None  \", '# 2.2 파라미터가 없고, 반환 값은 있는 함수\\ndef give_me_five():\\n    return 5\\n\\nresult = give_me_five()\\nprint(result) # 출력: 5', \"# 2.3 입력 매개변수가 있고, 반환 값이 없는 함수\\ndef greeting(name):\\n    print(f'Hello, {name}!')\\n\\n# 함수 호출\\ngreeting('Licat')\", '# 2.4 입력 매개변수가 있고, 반환 값이 있는 함수\\ndef add_numbers(x, y):\\n    sum = x + y\\n    return sum\\n\\n# 함수 호출\\nresult = add_numbers(5, 3)\\nprint(result)  # 출력: 8', '# 2.4 입력 매개변수가 있고, 반환 값이 있는 함수\\ndef add_numbers(x, y):\\n    sum = x + y\\n    return sum\\n\\n# 함수 호출\\nresult = add_numbers(5, 3)\\n#print(result)  # 출력: 8', '# 2.4 입력 매개변수가 있고, 반환 값이 있는 함수\\ndef add_numbers(x, y):\\n    sum = x + y\\n    return sum\\n\\n# 함수 호출\\nresult = add_numbers(5, 3)\\nprint(result)  # 출력: 8', \"def function(x, y): \\n    z = x + y      \\n    print(z)       \\nprint(f'function(5, 7) = {function(5, 7)}') \", \"print(print('hello'))\", \"# 2.3 입력 매개변수가 있고, 반환 값이 없는 함수\\ndef greeting(name):\\n    print(f'Hello, {name}!')\\n\\n# 함수 호출\\nprint(greeting('Licat'))\", \"# 2.3 입력 매개변수가 있고, 반환 값이 없는 함수\\ndef greeting(name):\\n    print(f'Hello, {name}!')\\n\\n# 함수 호출\\ngreeting('Licat')     \", '# 파라미터의 기본 사용\\ndef f(a, b, c):\\n    print(a, b, c)\\n\\nf(100, 200, 300)\\nf(a=100, b=200, c=300) # 출력: 100 200 300\\nf(c=300, a=100, b=200) # 출력: 100 200 300', 'f(a=100, b=300, c=200', 'f(a=100, b=300, c=200)', '# 파라미터의 기본 사용\\ndef f(a, b, c):\\n    print(a, b, c)\\n\\nf(100, 200, 300)\\nf(a=100, b=300, c=200)\\nf(a=100, b=200, c=300) # 출력: 100 200 300\\nf(c=300, a=100, b=200) # 출력: 100 200 300', '# 기본값을 가진 파라미터\\ndef f(a=10, b=20, c=30):\\n    print(a, b, c)\\n\\nf() # 출력: 10 20 30\\nf(100, 10) # 출력: 100 10 30\\nf(a=100, b=200, c=300) # 출력: 100 200 300\\nf(c=300, a=100, b=200) # 출력: 100 200 300', '# 파라미터의 기본 사용\\ndef f(a, b, c):     # 파라미터 3개 이기에 아큐먼트도 3개 들어와야한다.\\n    print(a, b, c)\\nf()\\nf(100, 200, 300)\\nf(a=100, b=300, c=200)\\nf(a=100, b=200, c=300) # 출력: 100 200 300    키워드 인자 (원하는 위치에 값을 집어넣는다.)\\nf(c=300, a=100, b=200) # 출력: 100 200 300', '# 파라미터의 기본 사용\\ndef f(a, b, c):     # 파라미터 3개 이기에 아큐먼트도 3개 들어와야한다.\\n    print(a, b, c)\\n    \\nf(100, 200, 300)\\nf(a=100, b=300, c=200)\\nf(a=100, b=200, c=300) # 출력: 100 200 300    키워드 인자 (원하는 위치에 값을 집어넣는다.)\\nf(c=300, a=100, b=200) # 출력: 100 200 300', '# 기본값을 가진 파라미터\\n# 잘못된 예\\ndef f(a=10, b=20, c):\\n    print(a, b, c) # error\\n\\n# 올바른 예\\ndef f(a=10, b=20, c=30):\\n    print(a, b, c)\\n\\nf() # 출력: 10 20 30\\nf(100, 10) # 출력: 100 10 30\\nf(a=100, b=200, c=300) # 출력: 100 200 300\\nf(c=300, a=100, b=200) # 출력: 100 200 300', '# 일부 파라미터만 기본값을 가지는 경우 (올바른 예)\\ndef f(a, b=20, c=10):\\n    print(a, b, c)\\n\\nf(100, 10) # 출력: 100 10 10\\nf(a=100, b=200, c=300) # 출력: 100 200 300\\nf(c=300, a=100, b=200) # 출력: 100 200 300', '# 일부 파라미터만 기본값을 가지는 경우 (올바른 예)\\ndef f(a, b=20, c=10):\\n    print(a, b, c)\\n\\nf(100) # 출력: 100 10 10\\nf(a=100, b=200, c=300) # 출력: 100 200 300\\nf(c=300, a=100, b=200) # 출력: 100 200 300', 'def f(a, b=20, c=30):\\n    print(a, b, c)\\n\\n# print(f()) # error\\nprint(f(100, 10)) # 출력 : 100, 10, 30\\nprint(f(a=100, b=200, c=300)) # 출력 : 100 200 300\\nprint(f(c=300, a=100, b=200)) # 출력 : 100 200 300\\n# print(f(c=300)) # error', 'def add_element(my_list):\\n    my_list.append(1)\\n\\na = [2, 3, 4]\\nadd_element(a)\\nprint(a)  # 출력: [2, 3, 4, 1]', 'def add_element(my_list):\\n    my_list.append(1)\\n    print(id(my_list)) # 출력: 135115033605760\\n\\na = [2, 3, 4]\\nadd_element(a)\\nprint(id(a)) # 출력: 135115033605760\\nprint(a)  # 출력: [2, 3, 4, 1]', 'def add_element(my_list):\\n    my_list.append([1,2])\\n\\na = [2, 3, 4]\\nadd_element(a)\\nprint(a)  # 출력: [2, 3, 4, 1]', 'def add_element(my_list):\\n    my_list.extend([1,2])\\n\\na = [2, 3, 4]\\nadd_element(a)\\nprint(a)  # 출력: [2, 3, 4, 1]', 'def add_element(my_list):\\n    my_list.extappend([1,2])\\n\\na = [2, 3, 4]\\nadd_element(a)\\nprint(a)  # 출력: [2, 3, 4, 1]', 'def add_element(my_list):\\n    my_list.append([1,2])\\n\\na = [2, 3, 4]\\nadd_element(a)\\nprint(a)  # 출력: [2, 3, 4, 1]', '# 위와 다르다', 'def add_element(my_list):\\n    my_list = 10\\n    print(id(my_list)) # 출력: 135115442078224 \\n\\na = [2, 3, 4]\\nadd_element(a)\\nprint(id(my_list)) # 출력: 135115029248768\\nprint(a)  # 출력: [2, 3, 4]', 'my_list = 10\\ndef add_element(my_list):\\n    #my_list = 10\\n    print(id(my_list)) # 출력: 135115442078224 \\n\\na = [2, 3, 4]\\nadd_element(a)\\nprint(id(my_list)) # 출력: 135115029248768\\nprint(a)  # 출력: [2, 3, 4]', 'my_list = 10\\ndef add_element(my_list):\\n    #my_list = 10\\n    print(id(my_list)) # 출력: 135115442078224 \\n\\na = [2, 3, 4]\\nadd_element(a)\\nprint(id(a)) # 출력: 135115029248768\\nprint(a)  # 출력: [2, 3, 4]', 'def add_element(my_list):\\n    my_list = 10\\n    print(id(my_list)) # 출력: 135115442078224 \\n\\na = [2, 3, 4]\\nadd_element(a)\\nprint(id(a)) # 출력: 135115029248768\\nprint(a)  # 출력: [2, 3, 4]', '# 권장하지 않는 방법\\ndef append_to_list(value, lst=[]):\\n    lst.append(value)\\n    return lst # 예상치 못한 결과가 발생할 수 있습니다.', '# 권장하지 않는 방법\\ndef append_to_list(value, lst=[]):\\n    lst.append(value)\\n    return lst # 예상치 못한 결과가 발생할 수 있습니다.\\n\\nappend_to_list(1) # 출력: [1]\\nappend_to_list(2) #', '# 권장하지 않는 방법\\ndef append_to_list(value, lst=[]):\\n    lst.append(value)\\n    return lst # 예상치 못한 결과가 발생할 수 있습니다.\\n\\nappend_to_list(1) # 출력: [1]\\nappend_to_list(2) # 출력: [1, 2], 그러나 결과가 [2]가 나올것으로 예상할수도 있습니다.', '# 권장하지 않는 방법\\n#  리스트가 변경될 때마다 (즉, 함수가 호출될 때마다) 변경된 내용이 유지되며,\\n# 이는 다음과 같은 예상치 못한 결과를 초래할 수 있습니다.\\ndef append_to_list(value, lst=[]):\\n    lst.append(value)\\n    return lst # 예상치 못한 결과가 발생할 수 있습니다.\\n\\nappend_to_list(1) # 출력: [1]\\nappend_to_list(2) # 출력: [1, 2], 그러나 결과가 [2]가 나올것으로 예상할수도 있습니다.', '# 권장하지 않는 방법\\n#  리스트가 변경될 때마다 (즉, 함수가 호출될 때마다) 변경된 내용이 유지되며,\\n# 이는 다음과 같은 예상치 못한 결과를 초래할 수 있습니다.\\ndef append_to_list(value, lst=[]):\\n    lst.append(value)\\n    return lst # 예상치 못한 결과가 발생할 수 있습니다.\\n\\nappend_to_list(1) # 출력: [1]\\n#append_to_list(2) # 출력: [1, 2], 그러나 결과가 [2]가 나올것으로 예상할수도 있습니다.', '# 권장하지 않는 방법\\n#  리스트가 변경될 때마다 (즉, 함수가 호출될 때마다) 변경된 내용이 유지되며,\\n# 이는 다음과 같은 예상치 못한 결과를 초래할 수 있습니다.\\ndef append_to_list(value, lst=[]):\\n    lst.append(value)\\n    return lst # 예상치 못한 결과가 발생할 수 있습니다.\\n\\n#append_to_list(1) # 출력: [1]\\nappend_to_list(2) # 출력: [1, 2], 그러나 결과가 [2]가 나올것으로 예상할수도 있습니다.', '# 권장하지 않는 방법\\n#  리스트가 변경될 때마다 (즉, 함수가 호출될 때마다) 변경된 내용이 유지되며,\\n# 이는 다음과 같은 예상치 못한 결과를 초래할 수 있습니다.\\ndef append_to_list(value, lst=[]):\\n    lst.append(value)\\n    return lst # 예상치 못한 결과가 발생할 수 있습니다.\\n\\nappend_to_list(1) # 출력: [1]\\nappend_to_list(2) # 출력: [1, 2], 그러나 결과가 [2]가 나올것으로 예상할수도 있습니다.', '# 권장 방법\\ndef append_to_list(value, lst=None):\\n    if lst is None:\\n        lst = []\\n    lst.append(value)\\n    return lst', '# 권장 방법\\ndef append_to_list(value, lst=None):\\n    if lst is None:\\n        lst = []\\n    lst.append(value)\\n    return lst\\n\\nappend_to_list(1) # 결과: [1]\\nappend_to_list(2) # 결과: [2]', '# 권장 방법\\ndef append_to_list(value, lst=None):\\n    if lst is None:\\n        lst = []\\n    lst.append(value)\\n    return lst', 'append_to_list(1) # 결과: [1]\\nappend_to_list(2) # 결과: [2]', 'append_to_list(1) # 결과: [1]', 'append_to_list(2) # 결과: [2]', '# 지역 변수 사용 예시\\ndef f():\\n    a = 1\\n    print(a)  # 출력: 1\\n\\nf()\\nprint(a)  # error: a는 f 함수 내부에서만 정의되었습니다.', \"def f():\\n    a = 1\\n    print(locals()) # 출력: {'a': 1}\\n\\nf()\", 'a', '# 지역 변수 사용 예시\\ndef f():\\n    b = 1\\n    print(b)  # 출력: 1\\n\\nf()\\nprint(b)  # error: a는 f 함수 내부에서만 정의되었습니다.', \"# 지역에 선언된 변수 목록을 보려면 locals()를 사용\\ndef f():\\n    b = 1\\n    print(locals()) # 출력: {'a': 1}\\n\\nf()\", '# 전역변수 \\ntest = 1\\n\\n# 지역 변수 (함수 내에 사용한 변수)\\ndef example():\\n    test = 100\\n    return test\\n\\nprint(example())\\nprint(test)', '# 지역 변수 사용 예시\\ndef f():\\n    b = 1\\n    return print(b)  # 출력: 1\\n\\nf()\\nprint(b)  # error: a는 f 함수 내부에서만 정의되었습니다.', '# 지역 변수 사용 예시\\ndef f():\\n    b = 1\\n    return b # 출력: 1\\n\\nf()\\nprint(b)  # error: a는 f 함수 내부에서만 정의되었습니다.', '# 지역 변수 사용 예시\\ndef f():\\n    b = 1\\n    return b # 출력: 1\\n\\nf(b)\\n#print(b)  # error: a는 f 함수 내부에서만 정의되었습니다.', '# 지역 변수 사용 예시\\ndef f():\\n    b = 1\\n    print(b)  # 출력: 1\\n\\nf()\\nprint(b)  # error: a는 f 함수 내부에서만 정의되었습니다.', \"def f():\\n    a = 1\\n    b = 'hello'\\n    def ff():\\n        pass\\n    print(locals()) # 출력: {'a': 1, 'b': 'hello', 'ff': <function f.<locals>.ff at 0x7a46e99d2c20>}\\n\\nf()\", 'a = 100\\n\\ndef f():\\n    global a\\n    a = a + 1\\n\\nf()\\nprint(a)  # 출력: 101, 함수 f 내에서 전역 변수 a가 수정되었습니다.', 'a = 100\\n\\ndef f():\\n    global a\\n    a = a + 1\\n\\nf()\\n#print(a)  # 출력: 101, 함수 f 내에서 전역 변수 a가 수정되었습니다.', 'a = 100\\n\\ndef f():\\n    global a\\n    a = a + 1\\n\\nf(a)\\n#print(a)  # 출력: 101, 함수 f 내에서 전역 변수 a가 수정되었습니다.', 'a = 100\\n\\ndef f():\\n    global a\\n    a = a + 1\\n\\n#f()\\nprint(a)  # 출력: 101, 함수 f 내에서 전역 변수 a가 수정되었습니다.', 'a = 100\\n\\ndef f():\\n    global a\\n    a = a + 1\\n\\nf()\\nprint(a)  # 출력: 101, 함수 f 내에서 전역 변수 a가 수정되었습니다.', 'a = 100\\n\\ndef f():\\n    print(a) # 출력: 100\\n\\nf()\\n\\ndef ff():\\n    b = a + 1\\n    print(b) # 출력: 101\\n\\nff()', 'a = 100\\n\\ndef f():\\n    a = 1000\\n    print(a) # 출력: 1000\\n\\nf()', \"a = 1\\nb = 'hello'\\ndef f():\\n    pass\\nprint(globals())\"], '_oh': {14: <function function_name at 0x79b0e0af6710>, 16: 5, 21: 19, 57: [1, 2], 58: [1, 2], 59: [1, 2], 60: [1], 61: [2], 62: [1, 2], 64: [2], 66: [2], 67: [1], 68: [2], 71: [2, 3, 4]}, '_dh': ['/content'], 'In': ['', \"# 2. 들여쓰기\\n\\ndef my_function():\\n    print('1') # 4칸을 띄우는 것 > 함수의 본문을 적는 것\\n    print('2')\\n    print('3')\\n\\n# 함수의 실행\\nmy_function() # 실행을 할떄는 def와 : 은 필요없다.\", \"def my_function():\\n    print('1')\\n    print('2')\\nprint('3')\\nmy_function()\", \"def my_function():\\n    print('1')\\n    print('2')\\n print('3')\\nmy_function()\", \"def my_function():\\n    print('1')\\n    print('2')\\n    print('3')\\nmy_function()\", '||', 'def function(x,y):\\n    z = x + y\\n    return z', 'def function(x,y):\\n    z = x + y\\n    return z\\nprint(\"function(10,9)\",function(10,9))', 'def function(x,y):\\n    z = x + y\\n    return z\\nprint(f\"function(10,9) =\" {function(10,9)})', 'def function(x,y):\\n    z = x + y\\n    return z\\nprint(f\"function(10,9) = {function(10,9)}\")', 'def function(x,y):\\n    z = x + y\\n    return z\\nprint(f \"function(10,9) = {function(10,9)}\")', 'def function(x,y):\\n    z = x + y\\n    return z\\nprint(f\"function(10,9) = {function(10,9)}\")', 'def function_name(x, y):\\n    return x + y', 'def function_name(x, y):\\n    return x + y\\nfunction_name', 'def function_name(x, y):\\n    return x + y\\nfunction_name()', 'def give_me_five():\\n    return 5\\n\\ngive_me_five()', 'def give_me_five():\\n    return 5\\n\\n\\\\give_me_five()\\nprint(result) # 출력: 5', 'def give_me_five():\\n    return 5\\n\\nresult = give_me_five()\\nprint(result) # 출력: 5', 'def function_name(x, y):\\n    pass #임시로 값을 넣는 기능!\\nfunction_name()', 'def function_name(x, y):\\n    pass #임시로 값을 넣는 기능!', 'def function(x,y):\\n    z = x + y  # z = 10 + 9\\n    return z   # z 만 가지고서는 출력이 되지 않는다.!\\n\\n# 1. return 을 함수 내에 지정하지 않았을 때\\n#print(f\"function(10,9) = {function(10,9)}\")\\n\\n# 2. print() 문을 사용하지 않았을 때 안된다. colab이라 되고 있는것\\nfunction(10,9)', 'def function(x,y):\\n    z = x + y  # z = 10 + 9\\n    return z   # z 만 가지고서는 출력이 되지 않는다.!\\n\\n# 1. return 을 함수 내에 지정하지 않았을 때\\n# print(f\"function(10,9) = {function(10,9)}\")\\n\\n# 2. print() 문을 사용하지 않았을 때 안된다. colab이라 되고 있는것\\n# function(10,9)\\n\\nprint(f\"function(10,9) = {function(10,9)}\")', \"# 2.1 입력 매개변수가 없고, 반환 값도 없는 함수\\ndef simple_function():\\n    print('Hello, World!') # 출력: 'Hello, World!'\\n\\n# 함수 호출\\nprint(simple_function()) # 출력: None\", \"# 2.1 입력 매개변수가 없고, 반환 값도 없는 함수\\ndef simple_function():\\n    print('Hello, World!') # 출력: 'Hello, World!'\\n\\n# 함수 호출\\nprint(simple_function()) # 출력: None  \", '# 2.2 파라미터가 없고, 반환 값은 있는 함수\\ndef give_me_five():\\n    return 5\\n\\nresult = give_me_five()\\nprint(result) # 출력: 5', \"# 2.3 입력 매개변수가 있고, 반환 값이 없는 함수\\ndef greeting(name):\\n    print(f'Hello, {name}!')\\n\\n# 함수 호출\\ngreeting('Licat')\", '# 2.4 입력 매개변수가 있고, 반환 값이 있는 함수\\ndef add_numbers(x, y):\\n    sum = x + y\\n    return sum\\n\\n# 함수 호출\\nresult = add_numbers(5, 3)\\nprint(result)  # 출력: 8', '# 2.4 입력 매개변수가 있고, 반환 값이 있는 함수\\ndef add_numbers(x, y):\\n    sum = x + y\\n    return sum\\n\\n# 함수 호출\\nresult = add_numbers(5, 3)\\n#print(result)  # 출력: 8', '# 2.4 입력 매개변수가 있고, 반환 값이 있는 함수\\ndef add_numbers(x, y):\\n    sum = x + y\\n    return sum\\n\\n# 함수 호출\\nresult = add_numbers(5, 3)\\nprint(result)  # 출력: 8', \"def function(x, y): \\n    z = x + y      \\n    print(z)       \\nprint(f'function(5, 7) = {function(5, 7)}') \", \"print(print('hello'))\", \"# 2.3 입력 매개변수가 있고, 반환 값이 없는 함수\\ndef greeting(name):\\n    print(f'Hello, {name}!')\\n\\n# 함수 호출\\nprint(greeting('Licat'))\", \"# 2.3 입력 매개변수가 있고, 반환 값이 없는 함수\\ndef greeting(name):\\n    print(f'Hello, {name}!')\\n\\n# 함수 호출\\ngreeting('Licat')     \", '# 파라미터의 기본 사용\\ndef f(a, b, c):\\n    print(a, b, c)\\n\\nf(100, 200, 300)\\nf(a=100, b=200, c=300) # 출력: 100 200 300\\nf(c=300, a=100, b=200) # 출력: 100 200 300', 'f(a=100, b=300, c=200', 'f(a=100, b=300, c=200)', '# 파라미터의 기본 사용\\ndef f(a, b, c):\\n    print(a, b, c)\\n\\nf(100, 200, 300)\\nf(a=100, b=300, c=200)\\nf(a=100, b=200, c=300) # 출력: 100 200 300\\nf(c=300, a=100, b=200) # 출력: 100 200 300', '# 기본값을 가진 파라미터\\ndef f(a=10, b=20, c=30):\\n    print(a, b, c)\\n\\nf() # 출력: 10 20 30\\nf(100, 10) # 출력: 100 10 30\\nf(a=100, b=200, c=300) # 출력: 100 200 300\\nf(c=300, a=100, b=200) # 출력: 100 200 300', '# 파라미터의 기본 사용\\ndef f(a, b, c):     # 파라미터 3개 이기에 아큐먼트도 3개 들어와야한다.\\n    print(a, b, c)\\nf()\\nf(100, 200, 300)\\nf(a=100, b=300, c=200)\\nf(a=100, b=200, c=300) # 출력: 100 200 300    키워드 인자 (원하는 위치에 값을 집어넣는다.)\\nf(c=300, a=100, b=200) # 출력: 100 200 300', '# 파라미터의 기본 사용\\ndef f(a, b, c):     # 파라미터 3개 이기에 아큐먼트도 3개 들어와야한다.\\n    print(a, b, c)\\n    \\nf(100, 200, 300)\\nf(a=100, b=300, c=200)\\nf(a=100, b=200, c=300) # 출력: 100 200 300    키워드 인자 (원하는 위치에 값을 집어넣는다.)\\nf(c=300, a=100, b=200) # 출력: 100 200 300', '# 기본값을 가진 파라미터\\n# 잘못된 예\\ndef f(a=10, b=20, c):\\n    print(a, b, c) # error\\n\\n# 올바른 예\\ndef f(a=10, b=20, c=30):\\n    print(a, b, c)\\n\\nf() # 출력: 10 20 30\\nf(100, 10) # 출력: 100 10 30\\nf(a=100, b=200, c=300) # 출력: 100 200 300\\nf(c=300, a=100, b=200) # 출력: 100 200 300', '# 일부 파라미터만 기본값을 가지는 경우 (올바른 예)\\ndef f(a, b=20, c=10):\\n    print(a, b, c)\\n\\nf(100, 10) # 출력: 100 10 10\\nf(a=100, b=200, c=300) # 출력: 100 200 300\\nf(c=300, a=100, b=200) # 출력: 100 200 300', '# 일부 파라미터만 기본값을 가지는 경우 (올바른 예)\\ndef f(a, b=20, c=10):\\n    print(a, b, c)\\n\\nf(100) # 출력: 100 10 10\\nf(a=100, b=200, c=300) # 출력: 100 200 300\\nf(c=300, a=100, b=200) # 출력: 100 200 300', 'def f(a, b=20, c=30):\\n    print(a, b, c)\\n\\n# print(f()) # error\\nprint(f(100, 10)) # 출력 : 100, 10, 30\\nprint(f(a=100, b=200, c=300)) # 출력 : 100 200 300\\nprint(f(c=300, a=100, b=200)) # 출력 : 100 200 300\\n# print(f(c=300)) # error', 'def add_element(my_list):\\n    my_list.append(1)\\n\\na = [2, 3, 4]\\nadd_element(a)\\nprint(a)  # 출력: [2, 3, 4, 1]', 'def add_element(my_list):\\n    my_list.append(1)\\n    print(id(my_list)) # 출력: 135115033605760\\n\\na = [2, 3, 4]\\nadd_element(a)\\nprint(id(a)) # 출력: 135115033605760\\nprint(a)  # 출력: [2, 3, 4, 1]', 'def add_element(my_list):\\n    my_list.append([1,2])\\n\\na = [2, 3, 4]\\nadd_element(a)\\nprint(a)  # 출력: [2, 3, 4, 1]', 'def add_element(my_list):\\n    my_list.extend([1,2])\\n\\na = [2, 3, 4]\\nadd_element(a)\\nprint(a)  # 출력: [2, 3, 4, 1]', 'def add_element(my_list):\\n    my_list.extappend([1,2])\\n\\na = [2, 3, 4]\\nadd_element(a)\\nprint(a)  # 출력: [2, 3, 4, 1]', 'def add_element(my_list):\\n    my_list.append([1,2])\\n\\na = [2, 3, 4]\\nadd_element(a)\\nprint(a)  # 출력: [2, 3, 4, 1]', '# 위와 다르다', 'def add_element(my_list):\\n    my_list = 10\\n    print(id(my_list)) # 출력: 135115442078224 \\n\\na = [2, 3, 4]\\nadd_element(a)\\nprint(id(my_list)) # 출력: 135115029248768\\nprint(a)  # 출력: [2, 3, 4]', 'my_list = 10\\ndef add_element(my_list):\\n    #my_list = 10\\n    print(id(my_list)) # 출력: 135115442078224 \\n\\na = [2, 3, 4]\\nadd_element(a)\\nprint(id(my_list)) # 출력: 135115029248768\\nprint(a)  # 출력: [2, 3, 4]', 'my_list = 10\\ndef add_element(my_list):\\n    #my_list = 10\\n    print(id(my_list)) # 출력: 135115442078224 \\n\\na = [2, 3, 4]\\nadd_element(a)\\nprint(id(a)) # 출력: 135115029248768\\nprint(a)  # 출력: [2, 3, 4]', 'def add_element(my_list):\\n    my_list = 10\\n    print(id(my_list)) # 출력: 135115442078224 \\n\\na = [2, 3, 4]\\nadd_element(a)\\nprint(id(a)) # 출력: 135115029248768\\nprint(a)  # 출력: [2, 3, 4]', '# 권장하지 않는 방법\\ndef append_to_list(value, lst=[]):\\n    lst.append(value)\\n    return lst # 예상치 못한 결과가 발생할 수 있습니다.', '# 권장하지 않는 방법\\ndef append_to_list(value, lst=[]):\\n    lst.append(value)\\n    return lst # 예상치 못한 결과가 발생할 수 있습니다.\\n\\nappend_to_list(1) # 출력: [1]\\nappend_to_list(2) #', '# 권장하지 않는 방법\\ndef append_to_list(value, lst=[]):\\n    lst.append(value)\\n    return lst # 예상치 못한 결과가 발생할 수 있습니다.\\n\\nappend_to_list(1) # 출력: [1]\\nappend_to_list(2) # 출력: [1, 2], 그러나 결과가 [2]가 나올것으로 예상할수도 있습니다.', '# 권장하지 않는 방법\\n#  리스트가 변경될 때마다 (즉, 함수가 호출될 때마다) 변경된 내용이 유지되며,\\n# 이는 다음과 같은 예상치 못한 결과를 초래할 수 있습니다.\\ndef append_to_list(value, lst=[]):\\n    lst.append(value)\\n    return lst # 예상치 못한 결과가 발생할 수 있습니다.\\n\\nappend_to_list(1) # 출력: [1]\\nappend_to_list(2) # 출력: [1, 2], 그러나 결과가 [2]가 나올것으로 예상할수도 있습니다.', '# 권장하지 않는 방법\\n#  리스트가 변경될 때마다 (즉, 함수가 호출될 때마다) 변경된 내용이 유지되며,\\n# 이는 다음과 같은 예상치 못한 결과를 초래할 수 있습니다.\\ndef append_to_list(value, lst=[]):\\n    lst.append(value)\\n    return lst # 예상치 못한 결과가 발생할 수 있습니다.\\n\\nappend_to_list(1) # 출력: [1]\\n#append_to_list(2) # 출력: [1, 2], 그러나 결과가 [2]가 나올것으로 예상할수도 있습니다.', '# 권장하지 않는 방법\\n#  리스트가 변경될 때마다 (즉, 함수가 호출될 때마다) 변경된 내용이 유지되며,\\n# 이는 다음과 같은 예상치 못한 결과를 초래할 수 있습니다.\\ndef append_to_list(value, lst=[]):\\n    lst.append(value)\\n    return lst # 예상치 못한 결과가 발생할 수 있습니다.\\n\\n#append_to_list(1) # 출력: [1]\\nappend_to_list(2) # 출력: [1, 2], 그러나 결과가 [2]가 나올것으로 예상할수도 있습니다.', '# 권장하지 않는 방법\\n#  리스트가 변경될 때마다 (즉, 함수가 호출될 때마다) 변경된 내용이 유지되며,\\n# 이는 다음과 같은 예상치 못한 결과를 초래할 수 있습니다.\\ndef append_to_list(value, lst=[]):\\n    lst.append(value)\\n    return lst # 예상치 못한 결과가 발생할 수 있습니다.\\n\\nappend_to_list(1) # 출력: [1]\\nappend_to_list(2) # 출력: [1, 2], 그러나 결과가 [2]가 나올것으로 예상할수도 있습니다.', '# 권장 방법\\ndef append_to_list(value, lst=None):\\n    if lst is None:\\n        lst = []\\n    lst.append(value)\\n    return lst', '# 권장 방법\\ndef append_to_list(value, lst=None):\\n    if lst is None:\\n        lst = []\\n    lst.append(value)\\n    return lst\\n\\nappend_to_list(1) # 결과: [1]\\nappend_to_list(2) # 결과: [2]', '# 권장 방법\\ndef append_to_list(value, lst=None):\\n    if lst is None:\\n        lst = []\\n    lst.append(value)\\n    return lst', 'append_to_list(1) # 결과: [1]\\nappend_to_list(2) # 결과: [2]', 'append_to_list(1) # 결과: [1]', 'append_to_list(2) # 결과: [2]', '# 지역 변수 사용 예시\\ndef f():\\n    a = 1\\n    print(a)  # 출력: 1\\n\\nf()\\nprint(a)  # error: a는 f 함수 내부에서만 정의되었습니다.', \"def f():\\n    a = 1\\n    print(locals()) # 출력: {'a': 1}\\n\\nf()\", 'a', '# 지역 변수 사용 예시\\ndef f():\\n    b = 1\\n    print(b)  # 출력: 1\\n\\nf()\\nprint(b)  # error: a는 f 함수 내부에서만 정의되었습니다.', \"# 지역에 선언된 변수 목록을 보려면 locals()를 사용\\ndef f():\\n    b = 1\\n    print(locals()) # 출력: {'a': 1}\\n\\nf()\", '# 전역변수 \\ntest = 1\\n\\n# 지역 변수 (함수 내에 사용한 변수)\\ndef example():\\n    test = 100\\n    return test\\n\\nprint(example())\\nprint(test)', '# 지역 변수 사용 예시\\ndef f():\\n    b = 1\\n    return print(b)  # 출력: 1\\n\\nf()\\nprint(b)  # error: a는 f 함수 내부에서만 정의되었습니다.', '# 지역 변수 사용 예시\\ndef f():\\n    b = 1\\n    return b # 출력: 1\\n\\nf()\\nprint(b)  # error: a는 f 함수 내부에서만 정의되었습니다.', '# 지역 변수 사용 예시\\ndef f():\\n    b = 1\\n    return b # 출력: 1\\n\\nf(b)\\n#print(b)  # error: a는 f 함수 내부에서만 정의되었습니다.', '# 지역 변수 사용 예시\\ndef f():\\n    b = 1\\n    print(b)  # 출력: 1\\n\\nf()\\nprint(b)  # error: a는 f 함수 내부에서만 정의되었습니다.', \"def f():\\n    a = 1\\n    b = 'hello'\\n    def ff():\\n        pass\\n    print(locals()) # 출력: {'a': 1, 'b': 'hello', 'ff': <function f.<locals>.ff at 0x7a46e99d2c20>}\\n\\nf()\", 'a = 100\\n\\ndef f():\\n    global a\\n    a = a + 1\\n\\nf()\\nprint(a)  # 출력: 101, 함수 f 내에서 전역 변수 a가 수정되었습니다.', 'a = 100\\n\\ndef f():\\n    global a\\n    a = a + 1\\n\\nf()\\n#print(a)  # 출력: 101, 함수 f 내에서 전역 변수 a가 수정되었습니다.', 'a = 100\\n\\ndef f():\\n    global a\\n    a = a + 1\\n\\nf(a)\\n#print(a)  # 출력: 101, 함수 f 내에서 전역 변수 a가 수정되었습니다.', 'a = 100\\n\\ndef f():\\n    global a\\n    a = a + 1\\n\\n#f()\\nprint(a)  # 출력: 101, 함수 f 내에서 전역 변수 a가 수정되었습니다.', 'a = 100\\n\\ndef f():\\n    global a\\n    a = a + 1\\n\\nf()\\nprint(a)  # 출력: 101, 함수 f 내에서 전역 변수 a가 수정되었습니다.', 'a = 100\\n\\ndef f():\\n    print(a) # 출력: 100\\n\\nf()\\n\\ndef ff():\\n    b = a + 1\\n    print(b) # 출력: 101\\n\\nff()', 'a = 100\\n\\ndef f():\\n    a = 1000\\n    print(a) # 출력: 1000\\n\\nf()', \"a = 1\\nb = 'hello'\\ndef f():\\n    pass\\nprint(globals())\"], 'Out': {14: <function function_name at 0x79b0e0af6710>, 16: 5, 21: 19, 57: [1, 2], 58: [1, 2], 59: [1, 2], 60: [1], 61: [2], 62: [1, 2], 64: [2], 66: [2], 67: [1], 68: [2], 71: [2, 3, 4]}, 'get_ipython': <bound method InteractiveShell.get_ipython of <google.colab._shell.Shell object at 0x79b10acba5c0>>, 'exit': <IPython.core.autocall.ZMQExitAutocall object at 0x79b10acbafb0>, 'quit': <IPython.core.autocall.ZMQExitAutocall object at 0x79b10acbafb0>, '_': [2, 3, 4], '__': [2], '___': [1], '_i': 'a = 100\\n\\ndef f():\\n    a = 1000\\n    print(a) # 출력: 1000\\n\\nf()', '_ii': 'a = 100\\n\\ndef f():\\n    print(a) # 출력: 100\\n\\nf()\\n\\ndef ff():\\n    b = a + 1\\n    print(b) # 출력: 101\\n\\nff()', '_iii': 'a = 100\\n\\ndef f():\\n    global a\\n    a = a + 1\\n\\nf()\\nprint(a)  # 출력: 101, 함수 f 내에서 전역 변수 a가 수정되었습니다.', '_i1': \"# 2. 들여쓰기\\n\\ndef my_function():\\n    print('1') # 4칸을 띄우는 것 > 함수의 본문을 적는 것\\n    print('2')\\n    print('3')\\n\\n# 함수의 실행\\nmy_function() # 실행을 할떄는 def와 : 은 필요없다.\", 'my_function': <function my_function at 0x79b0e094a0e0>, '_i2': \"def my_function():\\n    print('1')\\n    print('2')\\nprint('3')\\nmy_function()\", '_i3': \"def my_function():\\n    print('1')\\n    print('2')\\n print('3')\\nmy_function()\", '_i5': \"def my_function():\\n    print('1')\\n    print('2')\\n    print('3')\\nmy_function()\", '_i6': '||', '_i7': 'def function(x,y):\\n    z = x + y\\n    return z', 'function': <function function at 0x79b0e080d990>, '_i8': 'def function(x,y):\\n    z = x + y\\n    return z\\nprint(\"function(10,9)\",function(10,9))', '_i9': 'def function(x,y):\\n    z = x + y\\n    return z\\nprint(f\"function(10,9) =\" {function(10,9)})', '_i10': 'def function(x,y):\\n    z = x + y\\n    return z\\nprint(f\"function(10,9) = {function(10,9)}\")', '_i11': 'def function(x,y):\\n    z = x + y\\n    return z\\nprint(f \"function(10,9) = {function(10,9)}\")', '_i12': 'def function(x,y):\\n    z = x + y\\n    return z\\nprint(f\"function(10,9) = {function(10,9)}\")', '_i13': 'def function_name(x, y):\\n    return x + y', 'function_name': <function function_name at 0x79b0e080cee0>, '_i14': 'def function_name(x, y):\\n    return x + y\\nfunction_name', '_14': <function function_name at 0x79b0e0af6710>, '_i15': 'def function_name(x, y):\\n    return x + y\\nfunction_name()', '_i16': 'def give_me_five():\\n    return 5\\n\\ngive_me_five()', 'give_me_five': <function give_me_five at 0x79b0e080d1b0>, '_16': 5, '_i17': 'def give_me_five():\\n    return 5\\n\\n\\\\give_me_five()\\nprint(result) # 출력: 5', '_i18': 'def give_me_five():\\n    return 5\\n\\nresult = give_me_five()\\nprint(result) # 출력: 5', 'result': 8, '_i19': 'def function_name(x, y):\\n    pass #임시로 값을 넣는 기능!\\nfunction_name()', '_i20': 'def function_name(x, y):\\n    pass #임시로 값을 넣는 기능!', '_i21': 'def function(x,y):\\n    z = x + y  # z = 10 + 9\\n    return z   # z 만 가지고서는 출력이 되지 않는다.!\\n\\n# 1. return 을 함수 내에 지정하지 않았을 때\\n#print(f\"function(10,9) = {function(10,9)}\")\\n\\n# 2. print() 문을 사용하지 않았을 때 안된다. colab이라 되고 있는것\\nfunction(10,9)', '_21': 19, '_i22': 'def function(x,y):\\n    z = x + y  # z = 10 + 9\\n    return z   # z 만 가지고서는 출력이 되지 않는다.!\\n\\n# 1. return 을 함수 내에 지정하지 않았을 때\\n# print(f\"function(10,9) = {function(10,9)}\")\\n\\n# 2. print() 문을 사용하지 않았을 때 안된다. colab이라 되고 있는것\\n# function(10,9)\\n\\nprint(f\"function(10,9) = {function(10,9)}\")', '_i23': \"# 2.1 입력 매개변수가 없고, 반환 값도 없는 함수\\ndef simple_function():\\n    print('Hello, World!') # 출력: 'Hello, World!'\\n\\n# 함수 호출\\nprint(simple_function()) # 출력: None\", 'simple_function': <function simple_function at 0x79b0e080d510>, '_i24': \"# 2.1 입력 매개변수가 없고, 반환 값도 없는 함수\\ndef simple_function():\\n    print('Hello, World!') # 출력: 'Hello, World!'\\n\\n# 함수 호출\\nprint(simple_function()) # 출력: None  \", '_i25': '# 2.2 파라미터가 없고, 반환 값은 있는 함수\\ndef give_me_five():\\n    return 5\\n\\nresult = give_me_five()\\nprint(result) # 출력: 5', '_i26': \"# 2.3 입력 매개변수가 있고, 반환 값이 없는 함수\\ndef greeting(name):\\n    print(f'Hello, {name}!')\\n\\n# 함수 호출\\ngreeting('Licat')\", 'greeting': <function greeting at 0x79b0e0948280>, '_i27': '# 2.4 입력 매개변수가 있고, 반환 값이 있는 함수\\ndef add_numbers(x, y):\\n    sum = x + y\\n    return sum\\n\\n# 함수 호출\\nresult = add_numbers(5, 3)\\nprint(result)  # 출력: 8', 'add_numbers': <function add_numbers at 0x79b0e080d750>, '_i28': '# 2.4 입력 매개변수가 있고, 반환 값이 있는 함수\\ndef add_numbers(x, y):\\n    sum = x + y\\n    return sum\\n\\n# 함수 호출\\nresult = add_numbers(5, 3)\\n#print(result)  # 출력: 8', '_i29': '# 2.4 입력 매개변수가 있고, 반환 값이 있는 함수\\ndef add_numbers(x, y):\\n    sum = x + y\\n    return sum\\n\\n# 함수 호출\\nresult = add_numbers(5, 3)\\nprint(result)  # 출력: 8', '_i30': \"def function(x, y): \\n    z = x + y      \\n    print(z)       \\nprint(f'function(5, 7) = {function(5, 7)}') \", '_i31': \"print(print('hello'))\", '_i32': \"# 2.3 입력 매개변수가 있고, 반환 값이 없는 함수\\ndef greeting(name):\\n    print(f'Hello, {name}!')\\n\\n# 함수 호출\\nprint(greeting('Licat'))\", '_i33': \"# 2.3 입력 매개변수가 있고, 반환 값이 없는 함수\\ndef greeting(name):\\n    print(f'Hello, {name}!')\\n\\n# 함수 호출\\ngreeting('Licat')     \", '_i34': '# 파라미터의 기본 사용\\ndef f(a, b, c):\\n    print(a, b, c)\\n\\nf(100, 200, 300)\\nf(a=100, b=200, c=300) # 출력: 100 200 300\\nf(c=300, a=100, b=200) # 출력: 100 200 300', 'f': <function f at 0x79b0c771ff40>, '_i35': 'f(a=100, b=300, c=200', '_i36': 'f(a=100, b=300, c=200)', '_i37': '# 파라미터의 기본 사용\\ndef f(a, b, c):\\n    print(a, b, c)\\n\\nf(100, 200, 300)\\nf(a=100, b=300, c=200)\\nf(a=100, b=200, c=300) # 출력: 100 200 300\\nf(c=300, a=100, b=200) # 출력: 100 200 300', '_i38': '# 기본값을 가진 파라미터\\ndef f(a=10, b=20, c=30):\\n    print(a, b, c)\\n\\nf() # 출력: 10 20 30\\nf(100, 10) # 출력: 100 10 30\\nf(a=100, b=200, c=300) # 출력: 100 200 300\\nf(c=300, a=100, b=200) # 출력: 100 200 300', '_i39': '# 파라미터의 기본 사용\\ndef f(a, b, c):     # 파라미터 3개 이기에 아큐먼트도 3개 들어와야한다.\\n    print(a, b, c)\\nf()\\nf(100, 200, 300)\\nf(a=100, b=300, c=200)\\nf(a=100, b=200, c=300) # 출력: 100 200 300    키워드 인자 (원하는 위치에 값을 집어넣는다.)\\nf(c=300, a=100, b=200) # 출력: 100 200 300', '_i40': '# 파라미터의 기본 사용\\ndef f(a, b, c):     # 파라미터 3개 이기에 아큐먼트도 3개 들어와야한다.\\n    print(a, b, c)\\n    \\nf(100, 200, 300)\\nf(a=100, b=300, c=200)\\nf(a=100, b=200, c=300) # 출력: 100 200 300    키워드 인자 (원하는 위치에 값을 집어넣는다.)\\nf(c=300, a=100, b=200) # 출력: 100 200 300', '_i41': '# 기본값을 가진 파라미터\\n# 잘못된 예\\ndef f(a=10, b=20, c):\\n    print(a, b, c) # error\\n\\n# 올바른 예\\ndef f(a=10, b=20, c=30):\\n    print(a, b, c)\\n\\nf() # 출력: 10 20 30\\nf(100, 10) # 출력: 100 10 30\\nf(a=100, b=200, c=300) # 출력: 100 200 300\\nf(c=300, a=100, b=200) # 출력: 100 200 300', '_i42': '# 일부 파라미터만 기본값을 가지는 경우 (올바른 예)\\ndef f(a, b=20, c=10):\\n    print(a, b, c)\\n\\nf(100, 10) # 출력: 100 10 10\\nf(a=100, b=200, c=300) # 출력: 100 200 300\\nf(c=300, a=100, b=200) # 출력: 100 200 300', '_i43': '# 일부 파라미터만 기본값을 가지는 경우 (올바른 예)\\ndef f(a, b=20, c=10):\\n    print(a, b, c)\\n\\nf(100) # 출력: 100 10 10\\nf(a=100, b=200, c=300) # 출력: 100 200 300\\nf(c=300, a=100, b=200) # 출력: 100 200 300', '_i44': 'def f(a, b=20, c=30):\\n    print(a, b, c)\\n\\n# print(f()) # error\\nprint(f(100, 10)) # 출력 : 100, 10, 30\\nprint(f(a=100, b=200, c=300)) # 출력 : 100 200 300\\nprint(f(c=300, a=100, b=200)) # 출력 : 100 200 300\\n# print(f(c=300)) # error', '_i45': 'def add_element(my_list):\\n    my_list.append(1)\\n\\na = [2, 3, 4]\\nadd_element(a)\\nprint(a)  # 출력: [2, 3, 4, 1]', 'add_element': <function add_element at 0x79b0c771d1b0>, 'a': 1, '_i46': 'def add_element(my_list):\\n    my_list.append(1)\\n    print(id(my_list)) # 출력: 135115033605760\\n\\na = [2, 3, 4]\\nadd_element(a)\\nprint(id(a)) # 출력: 135115033605760\\nprint(a)  # 출력: [2, 3, 4, 1]', '_i47': 'def add_element(my_list):\\n    my_list.append([1,2])\\n\\na = [2, 3, 4]\\nadd_element(a)\\nprint(a)  # 출력: [2, 3, 4, 1]', '_i48': 'def add_element(my_list):\\n    my_list.extend([1,2])\\n\\na = [2, 3, 4]\\nadd_element(a)\\nprint(a)  # 출력: [2, 3, 4, 1]', '_i49': 'def add_element(my_list):\\n    my_list.extappend([1,2])\\n\\na = [2, 3, 4]\\nadd_element(a)\\nprint(a)  # 출력: [2, 3, 4, 1]', '_i50': 'def add_element(my_list):\\n    my_list.append([1,2])\\n\\na = [2, 3, 4]\\nadd_element(a)\\nprint(a)  # 출력: [2, 3, 4, 1]', '_i51': '# 위와 다르다', '_i52': 'def add_element(my_list):\\n    my_list = 10\\n    print(id(my_list)) # 출력: 135115442078224 \\n\\na = [2, 3, 4]\\nadd_element(a)\\nprint(id(my_list)) # 출력: 135115029248768\\nprint(a)  # 출력: [2, 3, 4]', '_i53': 'my_list = 10\\ndef add_element(my_list):\\n    #my_list = 10\\n    print(id(my_list)) # 출력: 135115442078224 \\n\\na = [2, 3, 4]\\nadd_element(a)\\nprint(id(my_list)) # 출력: 135115029248768\\nprint(a)  # 출력: [2, 3, 4]', 'my_list': 10, '_i54': 'my_list = 10\\ndef add_element(my_list):\\n    #my_list = 10\\n    print(id(my_list)) # 출력: 135115442078224 \\n\\na = [2, 3, 4]\\nadd_element(a)\\nprint(id(a)) # 출력: 135115029248768\\nprint(a)  # 출력: [2, 3, 4]', '_i55': 'def add_element(my_list):\\n    my_list = 10\\n    print(id(my_list)) # 출력: 135115442078224 \\n\\na = [2, 3, 4]\\nadd_element(a)\\nprint(id(a)) # 출력: 135115029248768\\nprint(a)  # 출력: [2, 3, 4]', '_i56': '# 권장하지 않는 방법\\ndef append_to_list(value, lst=[]):\\n    lst.append(value)\\n    return lst # 예상치 못한 결과가 발생할 수 있습니다.', 'append_to_list': <function append_to_list at 0x79b0c771dbd0>, '_i57': '# 권장하지 않는 방법\\ndef append_to_list(value, lst=[]):\\n    lst.append(value)\\n    return lst # 예상치 못한 결과가 발생할 수 있습니다.\\n\\nappend_to_list(1) # 출력: [1]\\nappend_to_list(2) #', '_57': [1, 2], '_i58': '# 권장하지 않는 방법\\ndef append_to_list(value, lst=[]):\\n    lst.append(value)\\n    return lst # 예상치 못한 결과가 발생할 수 있습니다.\\n\\nappend_to_list(1) # 출력: [1]\\nappend_to_list(2) # 출력: [1, 2], 그러나 결과가 [2]가 나올것으로 예상할수도 있습니다.', '_58': [1, 2], '_i59': '# 권장하지 않는 방법\\n#  리스트가 변경될 때마다 (즉, 함수가 호출될 때마다) 변경된 내용이 유지되며,\\n# 이는 다음과 같은 예상치 못한 결과를 초래할 수 있습니다.\\ndef append_to_list(value, lst=[]):\\n    lst.append(value)\\n    return lst # 예상치 못한 결과가 발생할 수 있습니다.\\n\\nappend_to_list(1) # 출력: [1]\\nappend_to_list(2) # 출력: [1, 2], 그러나 결과가 [2]가 나올것으로 예상할수도 있습니다.', '_59': [1, 2], '_i60': '# 권장하지 않는 방법\\n#  리스트가 변경될 때마다 (즉, 함수가 호출될 때마다) 변경된 내용이 유지되며,\\n# 이는 다음과 같은 예상치 못한 결과를 초래할 수 있습니다.\\ndef append_to_list(value, lst=[]):\\n    lst.append(value)\\n    return lst # 예상치 못한 결과가 발생할 수 있습니다.\\n\\nappend_to_list(1) # 출력: [1]\\n#append_to_list(2) # 출력: [1, 2], 그러나 결과가 [2]가 나올것으로 예상할수도 있습니다.', '_60': [1], '_i61': '# 권장하지 않는 방법\\n#  리스트가 변경될 때마다 (즉, 함수가 호출될 때마다) 변경된 내용이 유지되며,\\n# 이는 다음과 같은 예상치 못한 결과를 초래할 수 있습니다.\\ndef append_to_list(value, lst=[]):\\n    lst.append(value)\\n    return lst # 예상치 못한 결과가 발생할 수 있습니다.\\n\\n#append_to_list(1) # 출력: [1]\\nappend_to_list(2) # 출력: [1, 2], 그러나 결과가 [2]가 나올것으로 예상할수도 있습니다.', '_61': [2], '_i62': '# 권장하지 않는 방법\\n#  리스트가 변경될 때마다 (즉, 함수가 호출될 때마다) 변경된 내용이 유지되며,\\n# 이는 다음과 같은 예상치 못한 결과를 초래할 수 있습니다.\\ndef append_to_list(value, lst=[]):\\n    lst.append(value)\\n    return lst # 예상치 못한 결과가 발생할 수 있습니다.\\n\\nappend_to_list(1) # 출력: [1]\\nappend_to_list(2) # 출력: [1, 2], 그러나 결과가 [2]가 나올것으로 예상할수도 있습니다.', '_62': [1, 2], '_i63': '# 권장 방법\\ndef append_to_list(value, lst=None):\\n    if lst is None:\\n        lst = []\\n    lst.append(value)\\n    return lst', '_i64': '# 권장 방법\\ndef append_to_list(value, lst=None):\\n    if lst is None:\\n        lst = []\\n    lst.append(value)\\n    return lst\\n\\nappend_to_list(1) # 결과: [1]\\nappend_to_list(2) # 결과: [2]', '_64': [2], '_i65': '# 권장 방법\\ndef append_to_list(value, lst=None):\\n    if lst is None:\\n        lst = []\\n    lst.append(value)\\n    return lst', '_i66': 'append_to_list(1) # 결과: [1]\\nappend_to_list(2) # 결과: [2]', '_66': [2], '_i67': 'append_to_list(1) # 결과: [1]', '_67': [1], '_i68': 'append_to_list(2) # 결과: [2]', '_68': [2], '_i69': '# 지역 변수 사용 예시\\ndef f():\\n    a = 1\\n    print(a)  # 출력: 1\\n\\nf()\\nprint(a)  # error: a는 f 함수 내부에서만 정의되었습니다.', '_i70': \"def f():\\n    a = 1\\n    print(locals()) # 출력: {'a': 1}\\n\\nf()\", '_i71': 'a', '_71': [2, 3, 4], '_i72': '# 지역 변수 사용 예시\\ndef f():\\n    b = 1\\n    print(b)  # 출력: 1\\n\\nf()\\nprint(b)  # error: a는 f 함수 내부에서만 정의되었습니다.', '_i73': \"# 지역에 선언된 변수 목록을 보려면 locals()를 사용\\ndef f():\\n    b = 1\\n    print(locals()) # 출력: {'a': 1}\\n\\nf()\", '_i74': '# 전역변수 \\ntest = 1\\n\\n# 지역 변수 (함수 내에 사용한 변수)\\ndef example():\\n    test = 100\\n    return test\\n\\nprint(example())\\nprint(test)', 'test': 1, 'example': <function example at 0x79b0c771f640>, '_i75': '# 지역 변수 사용 예시\\ndef f():\\n    b = 1\\n    return print(b)  # 출력: 1\\n\\nf()\\nprint(b)  # error: a는 f 함수 내부에서만 정의되었습니다.', '_i76': '# 지역 변수 사용 예시\\ndef f():\\n    b = 1\\n    return b # 출력: 1\\n\\nf()\\nprint(b)  # error: a는 f 함수 내부에서만 정의되었습니다.', '_i77': '# 지역 변수 사용 예시\\ndef f():\\n    b = 1\\n    return b # 출력: 1\\n\\nf(b)\\n#print(b)  # error: a는 f 함수 내부에서만 정의되었습니다.', '_i78': '# 지역 변수 사용 예시\\ndef f():\\n    b = 1\\n    print(b)  # 출력: 1\\n\\nf()\\nprint(b)  # error: a는 f 함수 내부에서만 정의되었습니다.', '_i79': \"def f():\\n    a = 1\\n    b = 'hello'\\n    def ff():\\n        pass\\n    print(locals()) # 출력: {'a': 1, 'b': 'hello', 'ff': <function f.<locals>.ff at 0x7a46e99d2c20>}\\n\\nf()\", '_i80': 'a = 100\\n\\ndef f():\\n    global a\\n    a = a + 1\\n\\nf()\\nprint(a)  # 출력: 101, 함수 f 내에서 전역 변수 a가 수정되었습니다.', '_i81': 'a = 100\\n\\ndef f():\\n    global a\\n    a = a + 1\\n\\nf()\\n#print(a)  # 출력: 101, 함수 f 내에서 전역 변수 a가 수정되었습니다.', '_i82': 'a = 100\\n\\ndef f():\\n    global a\\n    a = a + 1\\n\\nf(a)\\n#print(a)  # 출력: 101, 함수 f 내에서 전역 변수 a가 수정되었습니다.', '_i83': 'a = 100\\n\\ndef f():\\n    global a\\n    a = a + 1\\n\\n#f()\\nprint(a)  # 출력: 101, 함수 f 내에서 전역 변수 a가 수정되었습니다.', '_i84': 'a = 100\\n\\ndef f():\\n    global a\\n    a = a + 1\\n\\nf()\\nprint(a)  # 출력: 101, 함수 f 내에서 전역 변수 a가 수정되었습니다.', '_i85': 'a = 100\\n\\ndef f():\\n    print(a) # 출력: 100\\n\\nf()\\n\\ndef ff():\\n    b = a + 1\\n    print(b) # 출력: 101\\n\\nff()', 'ff': <function ff at 0x79b0c771d360>, '_i86': 'a = 100\\n\\ndef f():\\n    a = 1000\\n    print(a) # 출력: 1000\\n\\nf()', '_i87': \"a = 1\\nb = 'hello'\\ndef f():\\n    pass\\nprint(globals())\", 'b': 'hello'}\n"
          ]
        }
      ],
      "source": [
        "a = 1\n",
        "b = 'hello'\n",
        "def f():\n",
        "    pass\n",
        "print(globals())"
      ]
    },
    {
      "cell_type": "code",
      "execution_count": 88,
      "metadata": {
        "colab": {
          "base_uri": "https://localhost:8080/"
        },
        "id": "wFlAtDztlzn6",
        "outputId": "67e17d73-104f-490e-c0f9-35cfdbc08a3c"
      },
      "outputs": [
        {
          "name": "stdout",
          "output_type": "stream",
          "text": [
            "100\n",
            "1000\n",
            "10000\n",
            "10\n"
          ]
        }
      ],
      "source": [
        "a = 10\n",
        "def f():\n",
        "    a = 100\n",
        "    print(a) # 출력: 100\n",
        "    def ff():\n",
        "        a = 1000\n",
        "        print(a) # 출력: 1000\n",
        "        def fff():\n",
        "            a = 10000 # 출력: 10000\n",
        "            print(a)\n",
        "        fff()\n",
        "    ff()\n",
        "f()\n",
        "print(a) # 출력: 10"
      ]
    },
    {
      "cell_type": "code",
      "execution_count": 89,
      "metadata": {
        "colab": {
          "base_uri": "https://localhost:8080/"
        },
        "id": "Wtdc3-dHl_Q7",
        "outputId": "7328ce36-cd07-4457-bb19-c172efd45c64"
      },
      "outputs": [
        {
          "name": "stdout",
          "output_type": "stream",
          "text": [
            "100\n",
            "1000\n",
            "10\n",
            "10\n"
          ]
        }
      ],
      "source": [
        "# global을 하면 함수가 얼만큼 중첩되어 있건 최상단에 있는 a를 바라봅니다.\n",
        "a = 10\n",
        "def f():\n",
        "    a = 100\n",
        "    print(a)\n",
        "    def ff():\n",
        "        a = 1000\n",
        "        print(a)\n",
        "        def fff():\n",
        "            global a\n",
        "            print(a)\n",
        "        fff()\n",
        "    ff()\n",
        "f()\n",
        "print(a)"
      ]
    },
    {
      "cell_type": "markdown",
      "metadata": {
        "id": "KyuQGn_bmGN6"
      },
      "source": [
        "# 빌트인 함수"
      ]
    },
    {
      "cell_type": "markdown",
      "metadata": {
        "id": "hmx-nRL4rp2u"
      },
      "source": [
        "all() 함수는 iterable(반복 가능한) 객체(예: 리스트, 튜플, 문자열 등)를 인수로 받아, 그 안에 있는 모든 요소가 True로 평가되면 True를 반환하고, 그렇지 않으면 False를 반환"
      ]
    },
    {
      "cell_type": "code",
      "execution_count": 106,
      "metadata": {
        "colab": {
          "base_uri": "https://localhost:8080/"
        },
        "id": "dpgjAVt_rWj6",
        "outputId": "a1abfb76-0797-4d31-9690-a473ac876c47"
      },
      "outputs": [
        {
          "data": {
            "text/plain": [
              "True"
            ]
          },
          "execution_count": 106,
          "metadata": {},
          "output_type": "execute_result"
        }
      ],
      "source": [
        "# 요소 전체의 True, False 판별\n",
        "# 모두 다 True여야 True 반환\n",
        "all([True, True, True]) # 출력: True\n",
        "all([True, True, False]) # 출력: False\n",
        "all([1, 1, 1, 0]) # 출력: False\n",
        "all([1, 0, 1, 1]) # 출력: False\n",
        "all([1, 100, 10, -1]) # 출력: True"
      ]
    },
    {
      "cell_type": "code",
      "execution_count": 103,
      "metadata": {
        "colab": {
          "base_uri": "https://localhost:8080/"
        },
        "id": "1pF2aQvKr7HT",
        "outputId": "b1e886bc-2078-4adb-ef01-b51f5ea65761"
      },
      "outputs": [
        {
          "data": {
            "text/plain": [
              "True"
            ]
          },
          "execution_count": 103,
          "metadata": {},
          "output_type": "execute_result"
        }
      ],
      "source": [
        "# 하나라도 True이면 True이다.\n",
        "any([True, False, False]) # 출력: True"
      ]
    },
    {
      "cell_type": "code",
      "execution_count": 104,
      "metadata": {
        "colab": {
          "base_uri": "https://localhost:8080/"
        },
        "id": "1lm8hy6wsGFE",
        "outputId": "996de772-4152-42aa-f8c1-08229dd374e1"
      },
      "outputs": [
        {
          "data": {
            "text/plain": [
              "False"
            ]
          },
          "execution_count": 104,
          "metadata": {},
          "output_type": "execute_result"
        }
      ],
      "source": [
        "any([False, False, False]) # 출력: False"
      ]
    },
    {
      "cell_type": "markdown",
      "metadata": {
        "id": "bM1q3us4sNo9"
      },
      "source": [
        "# map\n",
        "- **`map()`** 함수는 기존의 리스트(또는 튜플)의 모든 요소에 특정 함수를 적용한 결과를 map 객체 형태로 반환하는 함수입니다. map 객체는 다시 list()를 이용해 리스트 형태로 변환할 수 있습니다\n",
        "- map(함수, 리스트 혹은 튜플)\n",
        "\n",
        "\n",
        "- map() 함수는 이처럼 리스트의 각 요소에 특정 함수를 일괄적으로 적용할 때 매우 유용하게 사용됩니다."
      ]
    },
    {
      "cell_type": "code",
      "execution_count": 108,
      "metadata": {
        "colab": {
          "base_uri": "https://localhost:8080/"
        },
        "id": "GXQNT4k1sxjl",
        "outputId": "88b9f1c4-b66d-4210-8029-12f6e15a3372"
      },
      "outputs": [
        {
          "data": {
            "text/plain": [
              "[1, 4, 9, 16]"
            ]
          },
          "execution_count": 108,
          "metadata": {},
          "output_type": "execute_result"
        }
      ],
      "source": [
        "# 첫번째 방법\n",
        "def 제곱(x):\n",
        "    return x ** 2\n",
        "list(map(제곱, [1, 2, 3, 4])) # 출력: [1, 4, 9, 16]"
      ]
    },
    {
      "cell_type": "code",
      "execution_count": 109,
      "metadata": {
        "colab": {
          "base_uri": "https://localhost:8080/"
        },
        "id": "kkyqRYmJs2D7",
        "outputId": "e6d95c7c-b3ed-41c5-f2a7-e925fe310e1d"
      },
      "outputs": [
        {
          "data": {
            "text/plain": [
              "[1, 4, 9, 16]"
            ]
          },
          "execution_count": 109,
          "metadata": {},
          "output_type": "execute_result"
        }
      ],
      "source": [
        "# 두번째 방법\n",
        "# lambda 함수는 코드를 한줄로 표현할 수 있도록 도와주는 함수\n",
        "\n",
        "list(map(lambda x : x ** 2, [1, 2, 3, 4])) # 출력: [1, 4, 9, 16]"
      ]
    },
    {
      "cell_type": "markdown",
      "metadata": {
        "id": "JGdiQIbws2ZU"
      },
      "source": [
        "#  filter\n",
        "\n",
        "- filter() 함수는 순회할 수 있는 객체의 요소 중 특정 조건을 만족하는 요소만을 선택하여 반환합니다. 반환 값은 filter 객체 형태로 제공되며, 이를 다시 list()를 이용해 리스트 형태로 변환할 수 있습니다.\n",
        "\n",
        "- filter() 함수는 True를 반환하는 요소만 선택하여 결과로 반환"
      ]
    },
    {
      "cell_type": "code",
      "execution_count": 111,
      "metadata": {
        "colab": {
          "base_uri": "https://localhost:8080/"
        },
        "id": "RTtW--4CtN_-",
        "outputId": "7a8b225d-9990-435a-8f06-2d6fe31c2eb5"
      },
      "outputs": [
        {
          "data": {
            "text/plain": [
              "[51,\n",
              " 52,\n",
              " 53,\n",
              " 54,\n",
              " 55,\n",
              " 56,\n",
              " 57,\n",
              " 58,\n",
              " 59,\n",
              " 60,\n",
              " 61,\n",
              " 62,\n",
              " 63,\n",
              " 64,\n",
              " 65,\n",
              " 66,\n",
              " 67,\n",
              " 68,\n",
              " 69,\n",
              " 70,\n",
              " 71,\n",
              " 72,\n",
              " 73,\n",
              " 74,\n",
              " 75,\n",
              " 76,\n",
              " 77,\n",
              " 78,\n",
              " 79,\n",
              " 80,\n",
              " 81,\n",
              " 82,\n",
              " 83,\n",
              " 84,\n",
              " 85,\n",
              " 86,\n",
              " 87,\n",
              " 88,\n",
              " 89,\n",
              " 90,\n",
              " 91,\n",
              " 92,\n",
              " 93,\n",
              " 94,\n",
              " 95,\n",
              " 96,\n",
              " 97,\n",
              " 98,\n",
              " 99]"
            ]
          },
          "execution_count": 111,
          "metadata": {},
          "output_type": "execute_result"
        }
      ],
      "source": [
        "list(filter(lambda x : x > 50, range(100)))"
      ]
    },
    {
      "cell_type": "markdown",
      "metadata": {
        "id": "GbyLLs0Jtcf5"
      },
      "source": [
        "# zip\n",
        "\n",
        "- zip() 함수는 여러 개의 순회 할 수 있는 객체의 요소를 묶어서 반환합니다. 다만 메모리의 효율을 위해 형변환이나 직접 순회를 하기 전까지는 메모리 주소로만 반환합니다.\n",
        "\n",
        "- zip(순회할 수 있는 객체1, 순회할 수 있는 객체2...)"
      ]
    },
    {
      "cell_type": "code",
      "execution_count": 114,
      "metadata": {
        "colab": {
          "base_uri": "https://localhost:8080/"
        },
        "id": "kEifPS5Qtt60",
        "outputId": "97f0ee9d-ae8e-4969-fed0-1ae32965ca8c"
      },
      "outputs": [
        {
          "data": {
            "text/plain": [
              "<zip at 0x79b0c777ae80>"
            ]
          },
          "execution_count": 114,
          "metadata": {},
          "output_type": "execute_result"
        }
      ],
      "source": [
        "zip('ab', '12') # 출력: <zip at 0x7b9d83c6e440>"
      ]
    },
    {
      "cell_type": "code",
      "execution_count": 115,
      "metadata": {
        "colab": {
          "base_uri": "https://localhost:8080/"
        },
        "id": "y0e9cLYxt1Rd",
        "outputId": "ee60a7e9-e5bb-4444-f949-459f841a8101"
      },
      "outputs": [
        {
          "data": {
            "text/plain": [
              "[('a', '1'), ('b', '2')]"
            ]
          },
          "execution_count": 115,
          "metadata": {},
          "output_type": "execute_result"
        }
      ],
      "source": [
        "list(zip('ab', '12')) # 출력: [('a', '1'), ('b', '2')]"
      ]
    },
    {
      "cell_type": "code",
      "execution_count": 116,
      "metadata": {
        "colab": {
          "base_uri": "https://localhost:8080/"
        },
        "id": "UeiH-N8Jt8U8",
        "outputId": "780fabe7-ad62-406d-a63a-8dddee8d27f8"
      },
      "outputs": [
        {
          "data": {
            "text/plain": [
              "[('a', '1', 10), ('b', '2', 20)]"
            ]
          },
          "execution_count": 116,
          "metadata": {},
          "output_type": "execute_result"
        }
      ],
      "source": [
        "list(zip('ab', '12', [10, 20])) # 출력: [('a', '1', 10), ('b', '2', 20)]"
      ]
    },
    {
      "cell_type": "code",
      "execution_count": 118,
      "metadata": {
        "colab": {
          "base_uri": "https://localhost:8080/"
        },
        "id": "53guGUIcuTCl",
        "outputId": "03f5eee9-1376-4d39-869b-9140d759ef4f"
      },
      "outputs": [
        {
          "data": {
            "text/plain": [
              "[('a', '1', 10), ('b', '2', 20), ('c', '3', 30)]"
            ]
          },
          "execution_count": 118,
          "metadata": {},
          "output_type": "execute_result"
        }
      ],
      "source": [
        "list(zip('abc', '1234567', [10, 20, 30]))\n",
        "# 출력 : [('a', '1', 10), ('b', '2', 20), ('c', '3', 30)]"
      ]
    },
    {
      "cell_type": "code",
      "execution_count": 119,
      "metadata": {
        "colab": {
          "base_uri": "https://localhost:8080/"
        },
        "id": "CEie_9hWuWNk",
        "outputId": "422a36ce-8c25-4426-8b51-91211c66790b"
      },
      "outputs": [
        {
          "data": {
            "text/plain": [
              "[(2, 4, 8), (4, 8, 16), (8, 16, 32), (16, 32, 64), (32, 64, 128)]"
            ]
          },
          "execution_count": 119,
          "metadata": {},
          "output_type": "execute_result"
        }
      ],
      "source": [
        "x = [2, 4, 8, 16, 32, 64, 128]\n",
        "list(zip(x, x[1:], x[2:]))"
      ]
    },
    {
      "cell_type": "markdown",
      "metadata": {
        "id": "WO_izNodufF9"
      },
      "source": [
        "# format\n",
        "- format() 함수는 특정 값을 지정된 형식으로 변환하여 문자열로 반환하는 함수입니다. 만약 서식 지정자를 설정하지 않으면 str()한 것과 동일한 결과를 얻을 수 있습니다.\n",
        "- format(값, '서식 지정자(format_spec)')"
      ]
    },
    {
      "cell_type": "code",
      "execution_count": 120,
      "metadata": {
        "colab": {
          "base_uri": "https://localhost:8080/",
          "height": 36
        },
        "id": "xVMHhtUdu2hc",
        "outputId": "907afcd0-0dfe-4ae9-9482-658988bfe581"
      },
      "outputs": [
        {
          "data": {
            "application/vnd.google.colaboratory.intrinsic+json": {
              "type": "string"
            },
            "text/plain": [
              "'10,000'"
            ]
          },
          "execution_count": 120,
          "metadata": {},
          "output_type": "execute_result"
        }
      ],
      "source": [
        "format(10000, ',')"
      ]
    },
    {
      "cell_type": "code",
      "execution_count": 121,
      "metadata": {
        "colab": {
          "base_uri": "https://localhost:8080/"
        },
        "id": "j-nevPXCu24l",
        "outputId": "df4ab0ee-a2cb-4eee-910a-d0c746fce89a"
      },
      "outputs": [
        {
          "name": "stdout",
          "output_type": "stream",
          "text": [
            "123.46\n",
            "  Hello  \n"
          ]
        }
      ],
      "source": [
        "print(format(123.4567, '.2f')) # 출력: 123.46\n",
        "print(format('Hello', '^9')) # 출력: '  Hello  '  9자리에 중앙정렬(^)하라는 것입니다."
      ]
    },
    {
      "cell_type": "markdown",
      "metadata": {
        "id": "TX-oGPAgu6wO"
      },
      "source": [
        "# len\n",
        "- len() 함수는 주어진 시퀀스(문자열, 리스트, 튜플 등) 또는 컬렉션(딕셔너리, 세트 등)의 길이(요소의 개수)를 반환합니다."
      ]
    },
    {
      "cell_type": "code",
      "execution_count": 122,
      "metadata": {
        "colab": {
          "base_uri": "https://localhost:8080/"
        },
        "id": "SWmG01hBvXB9",
        "outputId": "69cb6087-c50c-4a73-b0fe-aff8285f53a1"
      },
      "outputs": [
        {
          "data": {
            "text/plain": [
              "11"
            ]
          },
          "execution_count": 122,
          "metadata": {},
          "output_type": "execute_result"
        }
      ],
      "source": [
        "len('hello world')"
      ]
    },
    {
      "cell_type": "markdown",
      "metadata": {
        "id": "aqkzR5-nvvu1"
      },
      "source": [
        "#  enumerate\n",
        "\n",
        "- enumerate 함수는 반복할 수 있는 객체의 인덱스와 값을 함께 반환하며 주로 반복문에서 사용합니다. 해당 예제에서는 리스트를 enumerate 함수에 전달하여 인덱스와 값을 함께 얻습니다. 추가로, enumerate 함수의 두 번째 인자를 통해 시작 인덱스를 지정할 수 있습니다. 이를 활용하여 반복문 내에서 인덱스와 값에 동시에 접근하는 것이 가능합니다."
      ]
    },
    {
      "cell_type": "code",
      "execution_count": 125,
      "metadata": {
        "colab": {
          "base_uri": "https://localhost:8080/"
        },
        "id": "kvxeL944wPEt",
        "outputId": "e9f3cb7e-f2c9-4a19-ecc8-18ef354c0634"
      },
      "outputs": [
        {
          "name": "stdout",
          "output_type": "stream",
          "text": [
            "[(0, 'A'), (1, 'B'), (2, 'C'), (3, 'D')]\n",
            "[(1, 'A'), (2, 'B'), (3, 'C'), (4, 'D')]\n",
            "[(100, 'A'), (101, 'B'), (102, 'C'), (103, 'D')]\n"
          ]
        }
      ],
      "source": [
        "values = ['A', 'B', 'C', 'D']\n",
        "print(list(enumerate(values)))\n",
        "print(list(enumerate(values, 1)))\n",
        "print(list(enumerate(values, 100)))"
      ]
    },
    {
      "cell_type": "code",
      "execution_count": 128,
      "metadata": {
        "colab": {
          "base_uri": "https://localhost:8080/"
        },
        "id": "PeBn9E21wpg-",
        "outputId": "fa9a19b2-766e-49cf-9e23-ab8f221fec0e"
      },
      "outputs": [
        {
          "name": "stdout",
          "output_type": "stream",
          "text": [
            "[(0, '고라파덕'), (1, '피카츄'), (2, '라이켓'), (3, '펭수')]\n"
          ]
        }
      ],
      "source": [
        "values = ['고라파덕', '피카츄', '라이켓', '펭수']\n",
        "print(list(enumerate(values)))"
      ]
    },
    {
      "cell_type": "markdown",
      "metadata": {
        "id": "R8k1FfyiwRoU"
      },
      "source": [
        "# sorted, reversed\n",
        "\n",
        "- sorted 함수는 시퀀스를 정렬하여 새로운 리스트를 반환합니다. reverse 및 key 아규먼트를 전달하여 정렬 방법을 사용자가 원하는 대로 변경할 수 있습니다"
      ]
    },
    {
      "cell_type": "code",
      "execution_count": 126,
      "metadata": {
        "colab": {
          "base_uri": "https://localhost:8080/"
        },
        "id": "LrbFhpcowi9O",
        "outputId": "9e0176f1-bf1c-4454-cdac-6a40f4c5cc96"
      },
      "outputs": [
        {
          "data": {
            "text/plain": [
              "[1, 2, 3, 4, 10, 20, 100, 200]"
            ]
          },
          "execution_count": 126,
          "metadata": {},
          "output_type": "execute_result"
        }
      ],
      "source": [
        "sorted([1, 2, 100, 200, 3, 4, 10, 20])\n",
        "# 출력 : [1, 2, 3, 4, 10, 20, 100, 200]"
      ]
    },
    {
      "cell_type": "code",
      "execution_count": 127,
      "metadata": {
        "colab": {
          "base_uri": "https://localhost:8080/"
        },
        "id": "MbXdIP_jwkO9",
        "outputId": "7052f176-f4c2-422a-d3fc-466e01e112be"
      },
      "outputs": [
        {
          "data": {
            "text/plain": [
              "[200, 100, 20, 10, 4, 3, 2, 1]"
            ]
          },
          "execution_count": 127,
          "metadata": {},
          "output_type": "execute_result"
        }
      ],
      "source": [
        "sorted([1, 2, 100, 200, 3, 4, 10, 20], reverse=True)\n",
        "# 출력 : [200, 100, 20, 10, 4, 3, 2, 1]"
      ]
    },
    {
      "cell_type": "code",
      "execution_count": 129,
      "metadata": {
        "colab": {
          "base_uri": "https://localhost:8080/"
        },
        "id": "bGzswoViwnqd",
        "outputId": "c14450e1-673e-4acf-993f-2c617a8ee38c"
      },
      "outputs": [
        {
          "data": {
            "text/plain": [
              "['a', 'hel', 'hello', 'heo', 'hllo', 'l']"
            ]
          },
          "execution_count": 129,
          "metadata": {},
          "output_type": "execute_result"
        }
      ],
      "source": [
        "sorted(['hello', 'l', 'hllo', 'hel', 'heo', 'a'])\n",
        "# 출력 : ['a', 'hel', 'hello', 'heo', 'hllo', 'l']"
      ]
    },
    {
      "cell_type": "code",
      "execution_count": 130,
      "metadata": {
        "colab": {
          "base_uri": "https://localhost:8080/"
        },
        "id": "akvCoGdBxN6m",
        "outputId": "a7714053-44e0-4d14-8391-39b6c78456d0"
      },
      "outputs": [
        {
          "data": {
            "text/plain": [
              "['l', 'a', 'hel', 'heo', 'hllo', 'hello']"
            ]
          },
          "execution_count": 130,
          "metadata": {},
          "output_type": "execute_result"
        }
      ],
      "source": [
        "# key=len를 사용하여 각 값을 문자열 길이대로 정렬하게 하였습니다.\n",
        "# 따라서 이 코드는 문자열 길이를 기준으로 오름차순으로 정렬합니다.\n",
        "\n",
        "sorted(['hello', 'l', 'hllo', 'hel', 'heo', 'a'], key=len)\n",
        "# 출력 : ['l', 'a', 'hel', 'heo', 'hllo', 'hello']"
      ]
    },
    {
      "cell_type": "code",
      "execution_count": 133,
      "metadata": {
        "colab": {
          "base_uri": "https://localhost:8080/"
        },
        "id": "BVAGgdq4xQMO",
        "outputId": "3771c390-12bd-4b07-c5ad-ec991a747f3a"
      },
      "outputs": [
        {
          "data": {
            "text/plain": [
              "['21', '21', '12', '22', '53', '15']"
            ]
          },
          "execution_count": 133,
          "metadata": {},
          "output_type": "execute_result"
        }
      ],
      "source": [
        "# lambda x:x[-1] 함수에서 마지막 값을 반환하고 있으므로 마지막 값을 기준으로 정렬하게 된 것입니다.\n",
        "sorted(['21', '21', '12', '22', '53', '15'], key=lambda x:x[-1])\n",
        "# 출력 : ['21', '21', '12', '22', '53', '15']"
      ]
    },
    {
      "cell_type": "code",
      "execution_count": 134,
      "metadata": {
        "colab": {
          "base_uri": "https://localhost:8080/"
        },
        "id": "eirVjjtixiDm",
        "outputId": "bd77bd48-fd5a-4f7e-fe41-2fab0b94bcc2"
      },
      "outputs": [
        {
          "data": {
            "text/plain": [
              "[10, 5, 4, 3, 2, 1]"
            ]
          },
          "execution_count": 134,
          "metadata": {},
          "output_type": "execute_result"
        }
      ],
      "source": [
        "# sorted와 reversed는 원본을 수정하지 않습니다.\n",
        "# reversed 함수는 모든 항목을 역순으로 반환합니다.\n",
        "# reversed는 sorted에서 reverse=True를 사용한 것과 다르게 역으로 정렬하는게 아니라 역순이라는 것을 기억해야합니다.\n",
        "list(reversed('hello world'))\n",
        "list(reversed([1, 2, 3, 10, 5, 4])) # 역 정렬 아닙니다! 역순입니다.\n",
        "list(reversed(sorted([1, 2, 3, 10, 5, 4])))"
      ]
    },
    {
      "cell_type": "markdown",
      "metadata": {
        "id": "rm_MIWJcyhV0"
      },
      "source": [
        "#  연습문제"
      ]
    },
    {
      "cell_type": "code",
      "execution_count": 135,
      "metadata": {
        "colab": {
          "base_uri": "https://localhost:8080/"
        },
        "id": "POzFLDJPyit-",
        "outputId": "d4f24ef1-a9b2-49cf-d0f4-289bb85cc88c"
      },
      "outputs": [
        {
          "name": "stdout",
          "output_type": "stream",
          "text": [
            "I\n",
            "love\n",
            "python\n"
          ]
        }
      ],
      "source": [
        "# 문제 1번\n",
        "a = 'pithon'\n",
        "\n",
        "def 함수1():\n",
        "    def 함수2():\n",
        "        print('love')\n",
        "\n",
        "    print('I')        #여기서 함수 1 출력\n",
        "    함수2()           #여기서 함수 2 출력\n",
        "    return \"python\"   #여기서 함수 3 출력\n",
        "\n",
        "\n",
        "a = 함수1()\n",
        "print(a)"
      ]
    },
    {
      "cell_type": "code",
      "execution_count": null,
      "metadata": {
        "id": "XMFkhEerzTc7"
      },
      "outputs": [],
      "source": [
        "# 문제 2번\n",
        "def plus(num1, num2):\n",
        "\t#이곳을 채워주세요\n",
        "\n",
        "def minus(num1, num2):\n",
        "\t#이곳을 채워주세요\n",
        "\n",
        "def multiply(num1, num2):\n",
        "\t#이곳을 채워주세요\n",
        "\n",
        "def divide(num1, num2):\n",
        "\t#이곳을 채워주세요\n",
        "\n",
        "print(f'plus : {plus(10, 5)}')\n",
        "print(f'minus : {minus(10, 5)}')\n",
        "print(f'multiply : {multiply(10, 5)}')\n",
        "print(f'divide : {divide(10, 5)}')"
      ]
    },
    {
      "cell_type": "code",
      "execution_count": 137,
      "metadata": {
        "colab": {
          "base_uri": "https://localhost:8080/"
        },
        "id": "iSgenqZ3z7w-",
        "outputId": "16ba75ec-c457-486e-c325-393f7fe9a9c1"
      },
      "outputs": [
        {
          "name": "stdout",
          "output_type": "stream",
          "text": [
            "plus : 15\n",
            "minus : 5\n",
            "multiply : 50\n",
            "divide : 2.0\n"
          ]
        }
      ],
      "source": [
        "def plus(num1, num2):\n",
        "    return num1 + num2\n",
        "\n",
        "def minus(num1, num2):\n",
        "    return num1 - num2\n",
        "\n",
        "def multiply(num1, num2):\n",
        "    return num1 * num2\n",
        "\n",
        "def divide(num1, num2):\n",
        "    if num2 != 0:\n",
        "        return num1 / num2\n",
        "    else:\n",
        "        return \"0으로 나눌 수 없음\"\n",
        "\n",
        "print(f'plus : {plus(10, 5)}')\n",
        "print(f'minus : {minus(10, 5)}')\n",
        "print(f'multiply : {multiply(10, 5)}')\n",
        "print(f'divide : {divide(10, 5)}')"
      ]
    },
    {
      "cell_type": "markdown",
      "metadata": {
        "id": "SHrXzrNQz9K0"
      },
      "source": [
        "# 문제 3번\n",
        "2번의 해답을 이용하여 a와 b를 더한 값과 a와 b를 뺀 값을 곱하는 함수를 만들어주세요. 아래와 같은 값이 있다면 (2 + 3) * (2 - 3) = -5가 출력이 되어야 합니다."
      ]
    },
    {
      "cell_type": "code",
      "execution_count": 140,
      "metadata": {
        "colab": {
          "base_uri": "https://localhost:8080/"
        },
        "id": "nxn1qlbp05lJ",
        "outputId": "45fc33eb-fd0e-4bc0-fa9f-37304f1e8bfd"
      },
      "outputs": [
        {
          "name": "stdout",
          "output_type": "stream",
          "text": [
            "calculate : -5\n"
          ]
        }
      ],
      "source": [
        "def calculate(x,y):\n",
        "    return (x + y) * (x - y)\n",
        "\n",
        "print(f\"calculate : {calculate(2,3)}\")"
      ]
    }
  ],
  "metadata": {
    "colab": {
      "provenance": []
    },
    "kernelspec": {
      "display_name": "Python 3",
      "name": "python3"
    },
    "language_info": {
      "name": "python"
    }
  },
  "nbformat": 4,
  "nbformat_minor": 0
}
