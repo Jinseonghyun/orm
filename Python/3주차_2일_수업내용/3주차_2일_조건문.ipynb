{
  "nbformat": 4,
  "nbformat_minor": 0,
  "metadata": {
    "colab": {
      "provenance": []
    },
    "kernelspec": {
      "name": "python3",
      "display_name": "Python 3"
    },
    "language_info": {
      "name": "python"
    }
  },
  "cells": [
    {
      "cell_type": "markdown",
      "source": [
        "# 1. 조건문이란?\n",
        "\n",
        "프로그래밍에서 ‘조건문’은 주어진 조건이 참(true)인지 거짓(false)인지를 평가하여, 해당 조건이 참인 경우 특정 코드 블록을 실행하는 구조입니다. 파이썬에서는 주로 **`if`** 문을 사용하고 3.10버전 이후부터는 **`match`** 문으로도 작성할 수 있습니다. if문의 특징은 조건에 합당하다면 들여쓰기 되어있는 곳까지 Code를 실행시킨다는 것입니다."
      ],
      "metadata": {
        "id": "IdnQSrl9iSWM"
      }
    },
    {
      "cell_type": "markdown",
      "source": [
        "1.1. if문의 기본 구조\n",
        "여기서 ‘조건’은 평가되어 참 또는 거짓으로 나뉩니다. ‘조건’이 참인 경우 들여쓰기된 코드 블록이 실행됩니다."
      ],
      "metadata": {
        "id": "PXfB4jY9nxtV"
      }
    },
    {
      "cell_type": "code",
      "source": [
        "x = 2       # 비교할 대상\n",
        "if x > 1:   # 비교 식 > 비교식이 참일 경우에 하단의 print('True')가 실행된다.\n",
        "    print('True') # 출력: True"
      ],
      "metadata": {
        "colab": {
          "base_uri": "https://localhost:8080/"
        },
        "id": "qAmNAXdioxTm",
        "outputId": "998a0757-c64f-416a-90fb-83e9e591f5e0"
      },
      "execution_count": null,
      "outputs": [
        {
          "output_type": "stream",
          "name": "stdout",
          "text": [
            "True\n"
          ]
        }
      ]
    },
    {
      "cell_type": "markdown",
      "source": [
        "### 아래처럼 직접 True나 False를 입력할 수도 있습니다."
      ],
      "metadata": {
        "id": "FPu7gXEdo4EF"
      }
    },
    {
      "cell_type": "code",
      "source": [
        "if True:\n",
        "    print('True') # 출력: True"
      ],
      "metadata": {
        "colab": {
          "base_uri": "https://localhost:8080/"
        },
        "id": "vK4d-LuWpCg0",
        "outputId": "ddcb5ef5-61d2-4cfc-ce67-7b7b8d9a4b88"
      },
      "execution_count": null,
      "outputs": [
        {
          "output_type": "stream",
          "name": "stdout",
          "text": [
            "True\n"
          ]
        }
      ]
    },
    {
      "cell_type": "code",
      "source": [
        "if 1:\n",
        "    print('True') # 출력: True"
      ],
      "metadata": {
        "colab": {
          "base_uri": "https://localhost:8080/"
        },
        "id": "Ob8QnbhGqeuN",
        "outputId": "91461651-e046-45e8-e534-4eddb4c745c3"
      },
      "execution_count": null,
      "outputs": [
        {
          "output_type": "stream",
          "name": "stdout",
          "text": [
            "True\n"
          ]
        }
      ]
    },
    {
      "cell_type": "code",
      "source": [
        "if \" \":\n",
        "    print('True') # 출력: True"
      ],
      "metadata": {
        "colab": {
          "base_uri": "https://localhost:8080/"
        },
        "id": "8mTq0HpuqfKG",
        "outputId": "477b49d7-b3cc-4309-80b0-181cef9ff131"
      },
      "execution_count": null,
      "outputs": [
        {
          "output_type": "stream",
          "name": "stdout",
          "text": [
            "True\n"
          ]
        }
      ]
    },
    {
      "cell_type": "markdown",
      "source": [
        "## 1.2 참과 거짓으로 평가\n",
        "\n",
        "if문 뒤에는 참과 거짓으로 평가되어 처리됩니다. 예를 들어 아래 코드는 True나 False값은 아니지만 print가 출력됩니다."
      ],
      "metadata": {
        "id": "b2umQio1pD-e"
      }
    },
    {
      "cell_type": "code",
      "source": [
        "if 1:\n",
        "    print('hello')"
      ],
      "metadata": {
        "colab": {
          "base_uri": "https://localhost:8080/"
        },
        "id": "rQvdGzmApK0F",
        "outputId": "59b63fe6-a63b-44e3-d132-7e42535d1482"
      },
      "execution_count": null,
      "outputs": [
        {
          "output_type": "stream",
          "name": "stdout",
          "text": [
            "hello\n"
          ]
        }
      ]
    },
    {
      "cell_type": "code",
      "source": [
        "if 10 and [1, 2, 3]: # True나 False가 아니라 단락평가에 의해 [1, 2, 3]\n",
        "    print('hello')"
      ],
      "metadata": {
        "colab": {
          "base_uri": "https://localhost:8080/"
        },
        "id": "wXgKB-FSpMcE",
        "outputId": "bf58e725-62b6-4d00-e701-f02564e040f8"
      },
      "execution_count": null,
      "outputs": [
        {
          "output_type": "stream",
          "name": "stdout",
          "text": [
            "hello\n"
          ]
        }
      ]
    },
    {
      "cell_type": "markdown",
      "source": [
        "-1은 어떻게 될까요? 0이 아닌 모든 정수형은 True로 인식을 하게 되어 hello와 end가 모두 출력이 되게 됩니다. 여기서는 띄어쓰기 4칸까지가 if문에 범위인 것을 알려드리기 위해 'end'를 함께 표시하였습니다."
      ],
      "metadata": {
        "id": "545qf48FrWtm"
      }
    },
    {
      "cell_type": "code",
      "source": [
        "if -1: # 정수를 바꿔서도 실습해보세요\n",
        "    print('hello')\n",
        "print('end')"
      ],
      "metadata": {
        "colab": {
          "base_uri": "https://localhost:8080/"
        },
        "id": "7hYNoE-qpPX1",
        "outputId": "f1a338ed-6db2-4a00-994f-f1b946d5e9c4"
      },
      "execution_count": null,
      "outputs": [
        {
          "output_type": "stream",
          "name": "stdout",
          "text": [
            "hello\n",
            "end\n"
          ]
        }
      ]
    },
    {
      "cell_type": "markdown",
      "source": [
        "공백은 기본적으로 ‘False’를 의미합니다. 공백을 제외한 나머지(하나 이상의 문자)는 모두 True로 작동을 하게됩니다."
      ],
      "metadata": {
        "id": "qoe2QRaUrPhd"
      }
    },
    {
      "cell_type": "code",
      "source": [
        "# 공백이 있는 문자열\n",
        "if ' ':\n",
        "    print('hello')\n",
        "print('end')"
      ],
      "metadata": {
        "colab": {
          "base_uri": "https://localhost:8080/"
        },
        "id": "cQkHK-6urip2",
        "outputId": "5729f259-69fc-42b6-e60c-eb61e055968c"
      },
      "execution_count": null,
      "outputs": [
        {
          "output_type": "stream",
          "name": "stdout",
          "text": [
            "hello\n",
            "end\n"
          ]
        }
      ]
    },
    {
      "cell_type": "code",
      "source": [
        "# 공백이 없는 문자열\n",
        "if '':\n",
        "    print('hello')\n",
        "print('end')"
      ],
      "metadata": {
        "colab": {
          "base_uri": "https://localhost:8080/"
        },
        "id": "8MgOIlfsrk3r",
        "outputId": "0ae1fc1a-a956-4186-9acf-ba29c83aaa87"
      },
      "execution_count": null,
      "outputs": [
        {
          "output_type": "stream",
          "name": "stdout",
          "text": [
            "end\n"
          ]
        }
      ]
    },
    {
      "cell_type": "markdown",
      "source": [
        "None의 경우는 거짓으로 평가됩니다. 공백과 동일하죠? 참을 표현하고 싶으면 None의 반대 개념인 not None을 사용하면 됩니다."
      ],
      "metadata": {
        "id": "UltDRob2roRe"
      }
    },
    {
      "cell_type": "code",
      "source": [
        "if not '':\n",
        "    print('hello')\n",
        "print('end')"
      ],
      "metadata": {
        "colab": {
          "base_uri": "https://localhost:8080/"
        },
        "id": "uCaKarrxrta4",
        "outputId": "56b45cdc-9001-4aee-ab64-e5aff1595e7c"
      },
      "execution_count": null,
      "outputs": [
        {
          "output_type": "stream",
          "name": "stdout",
          "text": [
            "hello\n",
            "end\n"
          ]
        }
      ]
    },
    {
      "cell_type": "code",
      "source": [
        "if None: # None은 False로 처리됩니다.\n",
        "    print('hello')\n",
        "print('end')"
      ],
      "metadata": {
        "colab": {
          "base_uri": "https://localhost:8080/"
        },
        "id": "cV5RcQTSrvBT",
        "outputId": "84d0cb92-93c5-44af-84cd-8b32e3b22122"
      },
      "execution_count": null,
      "outputs": [
        {
          "output_type": "stream",
          "name": "stdout",
          "text": [
            "end\n"
          ]
        }
      ]
    },
    {
      "cell_type": "code",
      "source": [
        "if not None:\n",
        "    print('hello')\n",
        "print('end')"
      ],
      "metadata": {
        "colab": {
          "base_uri": "https://localhost:8080/"
        },
        "id": "HDkgkGvvr0_f",
        "outputId": "6e8c3c7c-4ce1-4fcd-890d-037df06d9e79"
      },
      "execution_count": null,
      "outputs": [
        {
          "output_type": "stream",
          "name": "stdout",
          "text": [
            "hello\n",
            "end\n"
          ]
        }
      ]
    },
    {
      "cell_type": "markdown",
      "source": [
        "## if문에 사용할 수 있는 표현식\n",
        "\n",
        "**`if`**문의 조건에는 불리언(boolean) 표현식이 사용됩니다. 이 표현식은 **`True`** 또는 **`False`** 값을 결과로 반환해야 합니다. 여기 몇 가지 예시가 있습니다:\n",
        "\n",
        "- 비교 연산자: **`==`**, **`!=`**, **`<`**, **`<=`**, **`>`**, **`>=`**\n",
        "- 논리 연산자: **`and`**, **`or`**, **`not`**\n",
        "- 멤버십 연산자: **`in`**, **`not in`**\n",
        "- 식별 연산자: **`is`**, **`is not`**\n",
        "- 다른 함수의 반환 값이나 변수의 값 (이 값들이 결국 불리언으로 평가됨)"
      ],
      "metadata": {
        "id": "CaWvdgKQr3G9"
      }
    },
    {
      "cell_type": "markdown",
      "source": [
        "# if 문의 코드 블록에 들어갈 수 있는 것"
      ],
      "metadata": {
        "id": "_gUWRGZBsIL9"
      }
    },
    {
      "cell_type": "markdown",
      "source": [
        "if문의 코드 블록에는 어떤 파이썬 문장도 올 수 있습니다. 변수 할당, 함수 호출, 루프, 추가적인 if문 등을 포함합니다. 일반적으로 이 블록은 특정 조건이 충족될 때 수행할 작업을 정의합니다."
      ],
      "metadata": {
        "id": "lb6np-s5sPiV"
      }
    },
    {
      "cell_type": "code",
      "source": [
        "def f():\n",
        "    return True\n",
        "\n",
        "if f() or f():\n",
        "    print('hello')"
      ],
      "metadata": {
        "colab": {
          "base_uri": "https://localhost:8080/"
        },
        "id": "sy6FfJjKsUoS",
        "outputId": "fd76c469-2535-4650-c69b-82120de116ed"
      },
      "execution_count": null,
      "outputs": [
        {
          "output_type": "stream",
          "name": "stdout",
          "text": [
            "hello\n"
          ]
        }
      ]
    },
    {
      "cell_type": "markdown",
      "source": [
        "# 단축평가\n",
        "\n",
        "단축 평가는 논리 연산에서 두 번째 인수의 평가가 첫 번째 인수의 결과에 따라 달라지는 방식입니다. 파이썬에서 **`and`** 및 **`or`** 연산자가 이러한 평가를 수행합니다."
      ],
      "metadata": {
        "id": "0wZv2NQKsVb9"
      }
    },
    {
      "cell_type": "code",
      "source": [
        "if x and y: # x가 False라면 y는 평가되지 않습니다.\n",
        "    pass"
      ],
      "metadata": {
        "colab": {
          "base_uri": "https://localhost:8080/",
          "height": 204
        },
        "id": "75dROK69sbed",
        "outputId": "c7b99d1c-9b2d-44db-89e2-e08ea1f1980f"
      },
      "execution_count": null,
      "outputs": [
        {
          "output_type": "error",
          "ename": "NameError",
          "evalue": "name 'y' is not defined",
          "traceback": [
            "\u001b[0;31m---------------------------------------------------------------------------\u001b[0m",
            "\u001b[0;31mNameError\u001b[0m                                 Traceback (most recent call last)",
            "\u001b[0;32m<ipython-input-31-9c62355ecdc6>\u001b[0m in \u001b[0;36m<cell line: 1>\u001b[0;34m()\u001b[0m\n\u001b[0;32m----> 1\u001b[0;31m \u001b[0;32mif\u001b[0m \u001b[0mx\u001b[0m \u001b[0;32mand\u001b[0m \u001b[0my\u001b[0m\u001b[0;34m:\u001b[0m \u001b[0;31m# x가 False라면 y는 평가되지 않습니다.\u001b[0m\u001b[0;34m\u001b[0m\u001b[0;34m\u001b[0m\u001b[0m\n\u001b[0m\u001b[1;32m      2\u001b[0m     \u001b[0;32mpass\u001b[0m\u001b[0;34m\u001b[0m\u001b[0;34m\u001b[0m\u001b[0m\n",
            "\u001b[0;31mNameError\u001b[0m: name 'y' is not defined"
          ]
        }
      ]
    },
    {
      "cell_type": "code",
      "source": [
        "if x or y: # x가 True라면 y는 평가되지 않습니다.\n",
        "    pass"
      ],
      "metadata": {
        "id": "UPMcgWV3sfR-"
      },
      "execution_count": null,
      "outputs": []
    },
    {
      "cell_type": "code",
      "source": [
        "# 실제로 평가되지 않는지는 아래와 같은 코드로 판단할 수 있습니다."
      ],
      "metadata": {
        "id": "ZF9wBnQQsk6G"
      },
      "execution_count": null,
      "outputs": []
    },
    {
      "cell_type": "code",
      "source": [
        "# 성능에 영향을 끼칩니다!\n",
        "def f():\n",
        "    return True           # 무조건 True 반환 되는 함수"
      ],
      "metadata": {
        "id": "RWEmNE5QsrG-"
      },
      "execution_count": null,
      "outputs": []
    },
    {
      "cell_type": "code",
      "source": [
        "def ff():\n",
        "    x = 100 / 0 # error\n",
        "    return 'hello'"
      ],
      "metadata": {
        "id": "ZjvAMs6wxY_2"
      },
      "execution_count": null,
      "outputs": []
    },
    {
      "cell_type": "code",
      "source": [
        "if f() or ff():   # f() > 하나의 조건에 불과 !\n",
        "    print('hello') # 출력: hello"
      ],
      "metadata": {
        "colab": {
          "base_uri": "https://localhost:8080/"
        },
        "id": "6pBaGM_WxmB2",
        "outputId": "f8d8af6a-9dc5-4f4c-ed28-11ad0d6ee509"
      },
      "execution_count": null,
      "outputs": [
        {
          "output_type": "stream",
          "name": "stdout",
          "text": [
            "hello\n"
          ]
        }
      ]
    },
    {
      "cell_type": "markdown",
      "source": [
        "## **삼항 연산자**\n",
        "\n",
        "삼항 연산자는 `if-else` 구문을 한 줄로 간단하게 표현할 수 있는 방법을 제공합니다. 이 연산자는 `X if 조건 else Y`와 같은 형태로 사용됩니다. 여기서 ‘조건’이 참이면 X가 평가되고, 거짓이면 Y가 평가됩니다.\n",
        "\n",
        "삼항 연산자는 코드를 간결하게 만들어주며, 가독성을 향상시킬 수 있습니다. 하지만 복잡한 조건에서는 코드가 복잡해질 수 있으므로 적절히 사용해야 합니다."
      ],
      "metadata": {
        "id": "H9mlBWqCxnBt"
      }
    },
    {
      "cell_type": "code",
      "source": [
        "# X if 조건 else Y\n",
        "x = 5\n",
        "y = 10\n",
        "# 맞았을 때 조건 / if 조건/ else / 틀렸을 때 조건\n",
        "result = 'x가 더 큽니다' if x > y else 'y와 같거나 y가 더 큽니다.'\n",
        "print(result) # 출력: 'y와 같거나 y가 더 큽니다.'"
      ],
      "metadata": {
        "colab": {
          "base_uri": "https://localhost:8080/"
        },
        "id": "fAxvxx8Jx0k3",
        "outputId": "6e751719-6399-44bb-de9a-532e6973db45"
      },
      "execution_count": null,
      "outputs": [
        {
          "output_type": "stream",
          "name": "stdout",
          "text": [
            "y와 같거나 y가 더 큽니다.\n"
          ]
        }
      ]
    },
    {
      "cell_type": "code",
      "source": [
        "def f(x, y):\n",
        "    return x if x > y else y"
      ],
      "metadata": {
        "id": "RqLwBomnyWmm"
      },
      "execution_count": null,
      "outputs": []
    },
    {
      "cell_type": "code",
      "source": [
        "[i for i in range(10) if i % 2 == 0] # [0, 2, 4, 6, 8]"
      ],
      "metadata": {
        "colab": {
          "base_uri": "https://localhost:8080/"
        },
        "id": "C9ZOEv6GzZuH",
        "outputId": "21a8dc6a-9528-4747-915e-6dd045edbdc8"
      },
      "execution_count": null,
      "outputs": [
        {
          "output_type": "execute_result",
          "data": {
            "text/plain": [
              "[0, 2, 4, 6, 8]"
            ]
          },
          "metadata": {},
          "execution_count": 47
        }
      ]
    },
    {
      "cell_type": "code",
      "source": [
        "[i if i % 2 == 0 else None for i in range(10)] # [0, None, 2, None, 4, None, 6, None, 8, None]"
      ],
      "metadata": {
        "colab": {
          "base_uri": "https://localhost:8080/"
        },
        "id": "lKVKvAlnze-e",
        "outputId": "63468d01-4fb6-4fb3-c201-36ea9748050e"
      },
      "execution_count": null,
      "outputs": [
        {
          "output_type": "execute_result",
          "data": {
            "text/plain": [
              "[0, None, 2, None, 4, None, 6, None, 8, None]"
            ]
          },
          "metadata": {},
          "execution_count": 46
        }
      ]
    },
    {
      "cell_type": "markdown",
      "source": [
        "조건문과 람다 함수"
      ],
      "metadata": {
        "id": "atn4KWoGzh_G"
      }
    },
    {
      "cell_type": "markdown",
      "source": [
        "# 람다함수\n",
        "\n",
        "* 익명함수 - 한줄로 표현/임시 함수 만들 때 사용"
      ],
      "metadata": {
        "id": "xHP0mLuK0QV-"
      }
    },
    {
      "cell_type": "code",
      "source": [
        "# 예 ) 두 숫자를 더하는 간단한 람다함수를 만든다.\n",
        "\n",
        "# def sum(x,y):\n",
        "#      z = x + y\n",
        "#      return z\n",
        "\n",
        "add = lambda x, y : x + y\n",
        "print(add(5,3))"
      ],
      "metadata": {
        "colab": {
          "base_uri": "https://localhost:8080/"
        },
        "id": "b6DD8AKg0Xqe",
        "outputId": "ef8d5341-e604-44d8-f0c6-db85c11a9eeb"
      },
      "execution_count": null,
      "outputs": [
        {
          "output_type": "stream",
          "name": "stdout",
          "text": [
            "8\n"
          ]
        }
      ]
    },
    {
      "cell_type": "code",
      "source": [
        "# 홀짝\n",
        "my_function = lambda x: 'Even' if x % 2 == 0 else 'Odd'"
      ],
      "metadata": {
        "id": "tm-68qLLz6_I"
      },
      "execution_count": null,
      "outputs": []
    },
    {
      "cell_type": "markdown",
      "source": [
        "조건문과 딕셔너리"
      ],
      "metadata": {
        "id": "6D_4Jgt5z9Po"
      }
    },
    {
      "cell_type": "code",
      "source": [
        "my_dict = {x: 'Even' if x % 2 == 0 else 'Odd' for x in range(10)}"
      ],
      "metadata": {
        "id": "hU7skfb0z_WX"
      },
      "execution_count": null,
      "outputs": []
    },
    {
      "cell_type": "markdown",
      "source": [
        "# 2. if - else\n",
        "\n",
        "if문을 사용하면 조건을 기반으로 서로 다른 코드 블록을 실행할 수 있습니다. 그러나 조건이 많아질수록 if문만으로는 코드를 효율적으로 관리하기 어렵습니다. 이러한 문제를 해결하기 위해, else문을 사용하여 if문의 조건이 거짓이거나 충족되지 않는 경우를 처리할 수 있습니다."
      ],
      "metadata": {
        "id": "SvsiWkZ60AwX"
      }
    },
    {
      "cell_type": "code",
      "source": [
        "# if, else문의 기본구조\n",
        "if 조건문: # 조건문을 확인해서 만약 '참'이면 if 문 다음에 문장들은 수행합니다.\n",
        "    pass\n",
        "\t  # 참일 경우에 수행할 문장 1\n",
        "else: # if문의 조건이 거짓이면 else 문이 실행됩니다.(else에는 조건을 따로 적지 않아도 된다.)\n",
        "    pass\n",
        "\t  # if에 조건문이 거짓일 떄 수행할 문장 2"
      ],
      "metadata": {
        "id": "CboHzR2T1aYR"
      },
      "execution_count": null,
      "outputs": []
    },
    {
      "cell_type": "code",
      "source": [
        "x = 3\n",
        "y = 1\n",
        "\n",
        "if x > y:\n",
        "    print('첫번째 값이 더 큽니다.')\n",
        "else:\n",
        "    print('두번째 값이 더 크거나 같습니다.')"
      ],
      "metadata": {
        "colab": {
          "base_uri": "https://localhost:8080/"
        },
        "id": "6W3g12UX1dEQ",
        "outputId": "53ee8e84-f482-4ab9-b2cf-9d0143938912"
      },
      "execution_count": null,
      "outputs": [
        {
          "output_type": "stream",
          "name": "stdout",
          "text": [
            "첫번째 값이 더 큽니다.\n"
          ]
        }
      ]
    },
    {
      "cell_type": "markdown",
      "source": [
        "# if-elif-else\n",
        "\n",
        "두개의 조건만 있을 경우네는 if -else를 주로 활용하지만 세개 이상의 여러개의 조건을 한꺼번에 검사해야 할 경우에는 elif를 사용합니다. elif는 필요한 만큼 사용할 수 있습니다. 그리고 마지막에 else를 사용함으로써 조건에 대해서 마무리하게 됩니다."
      ],
      "metadata": {
        "id": "VD0P2Buw1xPw"
      }
    },
    {
      "cell_type": "code",
      "source": [
        "# if, elif, else문의 기본구조\n",
        "\n",
        "if 조건문: # 조건문을 확인해서 만약 '참'이면 if 문 다음에 문장들은 수행합니다.\n",
        "\t  # 수행할 문장 1\n",
        "    pass\n",
        "elif: # if문의 조건이 '참'이 아니라면 elif 문의 조건문이 참이라면 수행한다.\n",
        "\t  # 수행할 문장 2\n",
        "    pass\n",
        "else: # 위 모든 if문, elif문의 조건이 '참'이 아니라면 수행합니다.\n",
        "\t  # 수행할 문장 3\n",
        "    pass"
      ],
      "metadata": {
        "id": "11sk5eh12eDW"
      },
      "execution_count": null,
      "outputs": []
    },
    {
      "cell_type": "markdown",
      "source": [
        "위 코드에서 if나 elif문 뒤가 참이면 코드를 수행하고, 모두 거짓을 경우 else문을 출력합니다.\n",
        "\n",
        "아래 성적을 입력받아 학점을 매기는 프로그램을 작성한다 생각해보겠습니다."
      ],
      "metadata": {
        "id": "PbskWGqM2g8Y"
      }
    },
    {
      "cell_type": "code",
      "source": [
        "score = int(input(\"성적을 입력하세요 (0-100): \"))\n",
        "\n",
        "if score >= 90: # 90점 이상\n",
        "    print(\"A\")\n",
        "elif 90 > score >= 80: #80점이상 90점 미만\n",
        "    print(\"B\")\n",
        "elif 80 > score >= 70:\n",
        "    print(\"C\")\n",
        "elif 70 > score >= 60:\n",
        "    print(\"D\")\n",
        "else:\n",
        "    print(\"F\")"
      ],
      "metadata": {
        "colab": {
          "base_uri": "https://localhost:8080/"
        },
        "id": "d07tz8U63ENf",
        "outputId": "a189c80d-4e6e-46d4-add9-496d33ef8e27"
      },
      "execution_count": null,
      "outputs": [
        {
          "output_type": "stream",
          "name": "stdout",
          "text": [
            "성적을 입력하세요 (0-100): 89\n",
            "B\n"
          ]
        }
      ]
    },
    {
      "cell_type": "code",
      "source": [
        "score = int(input(\"성적을 입력하세요 (0-100): \"))\n",
        "\n",
        "if score >= 90:\n",
        "    print(\"A\")\n",
        "elif score >= 80:\n",
        "    print(\"B\")\n",
        "elif score >= 70:\n",
        "    print(\"C\")\n",
        "elif score >= 60:\n",
        "    print(\"D\")\n",
        "else:\n",
        "    print(\"F\")"
      ],
      "metadata": {
        "colab": {
          "base_uri": "https://localhost:8080/"
        },
        "id": "Y6S8lPEg3H6f",
        "outputId": "3c9d89c1-5b8d-4490-ed07-d3693d14748c"
      },
      "execution_count": null,
      "outputs": [
        {
          "output_type": "stream",
          "name": "stdout",
          "text": [
            "성적을 입력하세요 (0-100): 90\n",
            "A\n"
          ]
        }
      ]
    },
    {
      "cell_type": "code",
      "source": [
        "score = 81\n",
        "money = 0\n",
        "\n",
        "if score >= 90:\n",
        "    money += 1000000\n",
        "elif score >= 80:\n",
        "    money += 100000\n",
        "elif score >= 70:\n",
        "    money += 10000\n",
        "elif score >= 60:\n",
        "    money += 1000\n",
        "else:\n",
        "    money = 0\n",
        "print(money) # 출력: 100000"
      ],
      "metadata": {
        "colab": {
          "base_uri": "https://localhost:8080/"
        },
        "id": "EL1sNZ3I3ian",
        "outputId": "7cd59263-08dc-4a6b-9aa7-d04dca1b5891"
      },
      "execution_count": null,
      "outputs": [
        {
          "output_type": "stream",
          "name": "stdout",
          "text": [
            "100000\n"
          ]
        }
      ]
    },
    {
      "cell_type": "markdown",
      "source": [
        "# 중첩 if - elif문 사용하기\n",
        "\n",
        "중첩 조건문은 조건문 안에 또 다른 조건문을 포함하는 것으로, 코드의 흐름을 다양한 경로로 분기시킬 수 있게 합니다."
      ],
      "metadata": {
        "id": "BfCmploH4K8o"
      }
    },
    {
      "cell_type": "code",
      "source": [
        "# if를 중첩해서 사용하기\n",
        "movie = {\n",
        "    '영화': '레미제라블',\n",
        "    '장르': '드라마',\n",
        "    '서비스': '디즈니',\n",
        "    '비용': 15000,\n",
        "    '평점': 4.9\n",
        "}\n",
        "\n",
        "if movie['장르'] == '드라마':\n",
        "    if movie['서비스'] == '디즈니' or movie['서비스'] == '넷플릭스':\n",
        "        if movie['평점'] >= 4.5:\n",
        "            if movie['비용'] <= 20000:\n",
        "                print('영화시청') # 출력: 영화시청"
      ],
      "metadata": {
        "colab": {
          "base_uri": "https://localhost:8080/"
        },
        "id": "QbO3nVUw4QpH",
        "outputId": "b83de39f-00fd-4b0f-d4f0-a4cfc6e0d9f8"
      },
      "execution_count": null,
      "outputs": [
        {
          "output_type": "stream",
          "name": "stdout",
          "text": [
            "영화시청\n"
          ]
        }
      ]
    },
    {
      "cell_type": "markdown",
      "source": [
        "이렇게 중첩되어 있는 조건문은 and를 사용하여 아래와 같이 변경할 수 있습니다."
      ],
      "metadata": {
        "id": "ehiNCheM4UBI"
      }
    },
    {
      "cell_type": "code",
      "source": [
        "# if를 중첩해서 사용하기\n",
        "# 간략해진 것 맞나요?\n",
        "movie = {\n",
        "    '영화': '레미제라블',\n",
        "    '장르': '드라마',\n",
        "    '서비스': '디즈니',\n",
        "    '비용': 15000,\n",
        "    '평점': 4.9\n",
        "}\n",
        "\n",
        "if movie['장르'] == 'SF' and (movie['서비스'] == '디즈니' or movie['서비스'] == '넷플릭스') and movie['평점'] >= 4.5 and movie['비용'] <= 20000:\n",
        "    print('영화시청') # 출력: 영화시청"
      ],
      "metadata": {
        "id": "BMSCmedo4zzo"
      },
      "execution_count": null,
      "outputs": []
    },
    {
      "cell_type": "code",
      "source": [
        "movie = {\n",
        "    '영화': '레미제라블',\n",
        "    '장르': '드라마',\n",
        "    '서비스': '왓챠',\n",
        "    '비용': 15000,\n",
        "    '평점': 4.9\n",
        "}\n",
        "\n",
        "if movie['장르'] == 'SF':\n",
        "    if movie['서비스'] == '디즈니' or movie['서비스'] == '넷플릭스':\n",
        "        if movie['평점'] >= 4.5 and movie['비용'] <= 20000:\n",
        "            print('영화시청')\n",
        "    else:\n",
        "        print(movie['서비스'] + ' 구독하기!') # 출력: 왓챠 구독하기!"
      ],
      "metadata": {
        "id": "yVbZITw_47ls"
      },
      "execution_count": null,
      "outputs": []
    }
  ]
}