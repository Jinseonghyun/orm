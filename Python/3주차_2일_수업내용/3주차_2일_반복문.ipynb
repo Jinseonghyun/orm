{
  "nbformat": 4,
  "nbformat_minor": 0,
  "metadata": {
    "colab": {
      "provenance": []
    },
    "kernelspec": {
      "name": "python3",
      "display_name": "Python 3"
    },
    "language_info": {
      "name": "python"
    }
  },
  "cells": [
    {
      "cell_type": "markdown",
      "source": [
        "# 1. for문\n",
        "\n",
        "for문은 특정 범위나 순서열(ex 리스트, 문자열 등)을 순회하며 순서열의 끝에 도달하면 반복을 멈추게 됩니다. 또한 객체를 처음부터 끝까지 하나씩 **추출하며 순회**하기 때문에 다양한 방식으로 활용될 수 있습니다.\n",
        "\n",
        "## 1.1. for문의 기본구조\n",
        "\n",
        "시퀀스 자료형 자료 또는 반복 가능한 자료형을 아래와 같이 순회 돌 수 있습니다."
      ],
      "metadata": {
        "id": "8V4f2_S_EAWz"
      }
    },
    {
      "cell_type": "code",
      "source": [
        "for 변수명 in 순회_가능한_객체 :\n",
        "    pass # 수행할_문장"
      ],
      "metadata": {
        "id": "5Gwwy7sLERgR"
      },
      "execution_count": null,
      "outputs": []
    },
    {
      "cell_type": "code",
      "source": [
        "#1. 'helllo'를 순서대로 하나씩 단어를 꺼내서\n",
        "#2. x에 하나씩 넣은 다음에\n",
        "#3. 하니씩 for문 아래 코드블럭을 수행ㅎ나다.\n",
        "#4. 그리고 순서가 마쳐지면 > 다음 시퀀스(순서)로 똑같은 작업을 수행한다.\n",
        "\n",
        "# 시퀀스 자료형에 대표적인 문자열을 순회하는 방법\n",
        "\n",
        "for x in 'hello': # 순회 가능한 객체가 들어갑니다. (문자열 / 리스트 / 다른 데이터셋 / range() / 기타등등)\n",
        "    print(f'현재 값은 {x} 입니다.')"
      ],
      "metadata": {
        "colab": {
          "base_uri": "https://localhost:8080/"
        },
        "id": "0E5Ix8_pEUNB",
        "outputId": "7ce0212d-e48e-47e3-de3b-8eeccc4aa1a3"
      },
      "execution_count": null,
      "outputs": [
        {
          "output_type": "stream",
          "name": "stdout",
          "text": [
            "현재 값은 h 입니다.\n",
            "현재 값은 e 입니다.\n",
            "현재 값은 l 입니다.\n",
            "현재 값은 l 입니다.\n",
            "현재 값은 o 입니다.\n"
          ]
        }
      ]
    },
    {
      "cell_type": "code",
      "source": [
        "# 시퀀스형 자료형인 튜플을 반복하고 있습니다\n",
        "for x in (1, 2, 3, 4, 5):\n",
        "    print(f'현재 값은 {x} 입니다.')"
      ],
      "metadata": {
        "colab": {
          "base_uri": "https://localhost:8080/"
        },
        "id": "41b3u_mjEwA5",
        "outputId": "8b68da65-4ba0-4176-a901-cf216f74a84a"
      },
      "execution_count": null,
      "outputs": [
        {
          "output_type": "stream",
          "name": "stdout",
          "text": [
            "현재 값은 1 입니다.\n",
            "현재 값은 2 입니다.\n",
            "현재 값은 3 입니다.\n",
            "현재 값은 4 입니다.\n",
            "현재 값은 5 입니다.\n"
          ]
        }
      ]
    },
    {
      "cell_type": "code",
      "source": [
        "# 시퀀스형 자료형인 리스트을 반복하고 있습니다\n",
        "for x in [1, 2, 3, 4, 5]:\n",
        "    print(f'현재 값은 {x} 입니다.')"
      ],
      "metadata": {
        "colab": {
          "base_uri": "https://localhost:8080/"
        },
        "id": "f5weS10nGs2k",
        "outputId": "05accf63-40f7-463c-94dd-30b126bff506"
      },
      "execution_count": null,
      "outputs": [
        {
          "output_type": "stream",
          "name": "stdout",
          "text": [
            "현재 값은 1 입니다.\n",
            "현재 값은 2 입니다.\n",
            "현재 값은 3 입니다.\n",
            "현재 값은 4 입니다.\n",
            "현재 값은 5 입니다.\n"
          ]
        }
      ]
    },
    {
      "cell_type": "code",
      "source": [
        "# 시퀀스형 자료형인 range 반복하고 있습니다\n",
        "for x in range(1,10,2):\n",
        "    print(f'현재 값은 {x} 입니다.')"
      ],
      "metadata": {
        "colab": {
          "base_uri": "https://localhost:8080/"
        },
        "id": "A7wOhYZ8GwSz",
        "outputId": "bf74206c-e5ec-469b-cc3a-93afa272454d"
      },
      "execution_count": null,
      "outputs": [
        {
          "output_type": "stream",
          "name": "stdout",
          "text": [
            "현재 값은 1 입니다.\n",
            "현재 값은 3 입니다.\n",
            "현재 값은 5 입니다.\n",
            "현재 값은 7 입니다.\n",
            "현재 값은 9 입니다.\n"
          ]
        }
      ]
    },
    {
      "cell_type": "markdown",
      "source": [
        "## 1.2. **문자열(str) 자료형을 범위로 지정한 예시**\n",
        "\n",
        "문자열 s를 순회하면서 각 문자를 i 변수에 할당하여 문자를 출력합니다."
      ],
      "metadata": {
        "id": "JSTtRTGkE8-y"
      }
    },
    {
      "cell_type": "code",
      "source": [
        "s = 'hello world'\n",
        "for i in s:\n",
        "    print(i)"
      ],
      "metadata": {
        "colab": {
          "base_uri": "https://localhost:8080/"
        },
        "id": "TXzm933gFpri",
        "outputId": "90131583-10c8-4dbd-e476-7cedc39175dd"
      },
      "execution_count": null,
      "outputs": [
        {
          "output_type": "stream",
          "name": "stdout",
          "text": [
            "h\n",
            "e\n",
            "l\n",
            "l\n",
            "o\n",
            " \n",
            "w\n",
            "o\n",
            "r\n",
            "l\n",
            "d\n"
          ]
        }
      ]
    },
    {
      "cell_type": "code",
      "source": [
        "# 문자열에서 숫자를 모두 더하는 예제\n",
        "s = '123'\n",
        "result = 0\n",
        "for i in s:\n",
        "    result += int(i)\n",
        "print(result)"
      ],
      "metadata": {
        "colab": {
          "base_uri": "https://localhost:8080/"
        },
        "id": "nxuorHq2Frx_",
        "outputId": "9d028ec3-5372-43ce-fe2d-502b36108f6b"
      },
      "execution_count": null,
      "outputs": [
        {
          "output_type": "stream",
          "name": "stdout",
          "text": [
            "6\n"
          ]
        }
      ]
    },
    {
      "cell_type": "markdown",
      "source": [
        "## 1.3. **리스트(list) 자료형을 범위로 지정한 예시**\n",
        "\n",
        "리스트의 각 요소를 순회하면서 출력합니다."
      ],
      "metadata": {
        "id": "CRp-xC5_GZ2a"
      }
    },
    {
      "cell_type": "code",
      "source": [
        "l = ['one', 'two', 'three']\n",
        "for i in l:\n",
        "    print(i)"
      ],
      "metadata": {
        "colab": {
          "base_uri": "https://localhost:8080/"
        },
        "id": "DrLGXlmcHxTB",
        "outputId": "b645d745-b506-4dcd-9cdb-5e9219295f09"
      },
      "execution_count": null,
      "outputs": [
        {
          "output_type": "stream",
          "name": "stdout",
          "text": [
            "one\n",
            "two\n",
            "three\n"
          ]
        }
      ]
    },
    {
      "cell_type": "markdown",
      "source": [
        "## 1.4. **사전(dict) 자료형을 범위로 지정한 예시**\n",
        "\n",
        "for 문을 이용하여 dict 자료형을 순회하면 key(키)만을 가져오게 됩니다."
      ],
      "metadata": {
        "id": "5_vsNAEBHyiH"
      }
    },
    {
      "cell_type": "code",
      "source": [
        "단어_사전 = {\n",
        "    '하나' : 'one',\n",
        "    '둘' : 'two',\n",
        "    '셋' : 'three',\n",
        "}\n",
        "\n",
        "for i in 단어_사전:\n",
        "    print(i)            # value 값이 아닌 key값이 나온다."
      ],
      "metadata": {
        "colab": {
          "base_uri": "https://localhost:8080/"
        },
        "id": "j-HPX4xoH087",
        "outputId": "b4e95db8-d379-4864-a405-33f7c189bc20"
      },
      "execution_count": null,
      "outputs": [
        {
          "output_type": "stream",
          "name": "stdout",
          "text": [
            "하나\n",
            "둘\n",
            "셋\n"
          ]
        }
      ]
    },
    {
      "cell_type": "markdown",
      "source": [
        "key(키)에 해당하는 value(값) 또한 가져오고 싶다면 아래와 같이 튜플 언패킹을 사용할 수 있습니다."
      ],
      "metadata": {
        "id": "JQNGatqBH2YR"
      }
    },
    {
      "cell_type": "code",
      "source": [
        "for key, value in 단어_사전.items():\n",
        "    print(f'{key} : {value}')"
      ],
      "metadata": {
        "colab": {
          "base_uri": "https://localhost:8080/"
        },
        "id": "6SJukcYAH_AJ",
        "outputId": "da39b3fc-3aeb-4acf-dc73-75736bf96aa4"
      },
      "execution_count": null,
      "outputs": [
        {
          "output_type": "stream",
          "name": "stdout",
          "text": [
            "하나 : one\n",
            "둘 : two\n",
            "셋 : three\n"
          ]
        }
      ]
    },
    {
      "cell_type": "code",
      "source": [
        "for i in 단어_사전:\n",
        "    print(i, ':', 단어_사전[i])"
      ],
      "metadata": {
        "colab": {
          "base_uri": "https://localhost:8080/"
        },
        "id": "UZ86OtixIGFa",
        "outputId": "f8cccbb5-3211-4aa0-f076-f0fd5a6099cd"
      },
      "execution_count": null,
      "outputs": [
        {
          "output_type": "stream",
          "name": "stdout",
          "text": [
            "하나 : one\n",
            "둘 : two\n",
            "셋 : three\n"
          ]
        }
      ]
    },
    {
      "cell_type": "markdown",
      "source": [
        "## 1.5. range를 **범위로 지정한 예시**\n",
        "\n",
        "for문에서 가장 많이 사용되는 range에 대해 알아봅시다. range는 앞 챕터 built-in function에서 다뤄봤습니다. `range(시작_값, 종료_값, 연속하는_두_수의_차)`형식입니다.\n",
        "\n",
        "가장 많이 사용되는 형태는 range(n)의 형태입니다."
      ],
      "metadata": {
        "id": "-H1JANdKLrjx"
      }
    },
    {
      "cell_type": "code",
      "source": [
        "for i in range(5):\n",
        "    print(i)"
      ],
      "metadata": {
        "colab": {
          "base_uri": "https://localhost:8080/"
        },
        "id": "X1e8CewdLuvh",
        "outputId": "77c638d2-35bf-4aab-a73f-096005158a04"
      },
      "execution_count": null,
      "outputs": [
        {
          "output_type": "stream",
          "name": "stdout",
          "text": [
            "0\n",
            "1\n",
            "2\n",
            "3\n",
            "4\n"
          ]
        }
      ]
    },
    {
      "cell_type": "markdown",
      "source": [
        "아래코드는 0이상, 10이하 짝수만 더하는 코드입니다. 10이하이기 때문에 range의 종료값이 11이어야 합니다. 종료값-1 까지 값을 생성하기 때문입니다."
      ],
      "metadata": {
        "id": "KmU5DCSyLwCq"
      }
    },
    {
      "cell_type": "code",
      "source": [
        "result = 0\n",
        "for i in range(0, 11, 2):\n",
        "    result += i\n",
        "result # 결과: 30"
      ],
      "metadata": {
        "colab": {
          "base_uri": "https://localhost:8080/"
        },
        "id": "0NQWe0P3L1lJ",
        "outputId": "2ba3a94c-e0fa-4bf2-b044-19f8bebf8825"
      },
      "execution_count": null,
      "outputs": [
        {
          "output_type": "execute_result",
          "data": {
            "text/plain": [
              "30"
            ]
          },
          "metadata": {},
          "execution_count": 25
        }
      ]
    },
    {
      "cell_type": "code",
      "source": [
        "# 아래 코드는 1부터 100까지 더하는 코드입니다.\n",
        "result = 0\n",
        "for i in range(101):\n",
        "    result += i\n",
        "result\n",
        "#이러한 코드는 아래 코드보다 성능이 떨어집니다.\n",
        "#위 코드는 100번 순회를 돌아야 하는데 아래 코드는 한 번만 수행하면 되기 때문입니다."
      ],
      "metadata": {
        "colab": {
          "base_uri": "https://localhost:8080/"
        },
        "id": "VCyPAxBLL2wB",
        "outputId": "61f74361-6016-441d-ebd3-f557ebb80de8"
      },
      "execution_count": null,
      "outputs": [
        {
          "output_type": "execute_result",
          "data": {
            "text/plain": [
              "5050"
            ]
          },
          "metadata": {},
          "execution_count": 26
        }
      ]
    },
    {
      "cell_type": "code",
      "source": [
        "n = 100\n",
        "result = (n + 1) * n / 2\n",
        "result"
      ],
      "metadata": {
        "colab": {
          "base_uri": "https://localhost:8080/"
        },
        "id": "KvVgTxjnL72y",
        "outputId": "8e64d97f-27b3-45c6-853e-3105b70b747a"
      },
      "execution_count": null,
      "outputs": [
        {
          "output_type": "execute_result",
          "data": {
            "text/plain": [
              "5050.0"
            ]
          },
          "metadata": {},
          "execution_count": 27
        }
      ]
    },
    {
      "cell_type": "code",
      "source": [
        "# 이번에는 짝수 코드를 작성하는 것을 한 번 보도록 하겠습니다. 이 코드는 0부터 100까지 짝수를 더하는 코드입니다.\n",
        "#100번 순회를 돌고, if문도 확인해야 합니다.\n",
        "result = 0\n",
        "for i in range(101): # 0~100까지 시퀀스 자료형을 불러온다.\n",
        "    if i % 2 == 0:   # 나머지가 0인 것을 추출해서\n",
        "        result += i  # i에 더한다.     0, 2, 4, 6...100\n",
        "result"
      ],
      "metadata": {
        "colab": {
          "base_uri": "https://localhost:8080/"
        },
        "id": "eorc_dhYMD9C",
        "outputId": "ed6c997e-4481-4566-d742-2963b275677d"
      },
      "execution_count": null,
      "outputs": [
        {
          "output_type": "execute_result",
          "data": {
            "text/plain": [
              "2550"
            ]
          },
          "metadata": {},
          "execution_count": 28
        }
      ]
    },
    {
      "cell_type": "code",
      "source": [
        "# 위 코드보다 효율적\n",
        "result = 0\n",
        "for i in range(0, 101, 2):\n",
        "    result += i\n",
        "result"
      ],
      "metadata": {
        "colab": {
          "base_uri": "https://localhost:8080/"
        },
        "id": "BCtbI6OiMZOS",
        "outputId": "17ab9368-a526-4743-ad3b-09820cd8d7c4"
      },
      "execution_count": null,
      "outputs": [
        {
          "output_type": "execute_result",
          "data": {
            "text/plain": [
              "2550"
            ]
          },
          "metadata": {},
          "execution_count": 32
        }
      ]
    },
    {
      "cell_type": "markdown",
      "source": [
        "# 2. 중첩 for문\n",
        "\n",
        "다중 리스트 예제를 다시 한 번 보도록 하겠습니다. 이번에는 언패킹을 하지 않고 하나의 변수에서 확인을 하였습니다."
      ],
      "metadata": {
        "id": "_wZh4a2FMjUL"
      }
    },
    {
      "cell_type": "code",
      "source": [
        "# code1\n",
        "for i in [[1, 2], [10, 20], [100, 200]]:\n",
        "    print(i)"
      ],
      "metadata": {
        "colab": {
          "base_uri": "https://localhost:8080/"
        },
        "id": "iyjUL2qSMnVL",
        "outputId": "229a56c1-ab1c-43d5-a83e-5b61b5055c44"
      },
      "execution_count": null,
      "outputs": [
        {
          "output_type": "stream",
          "name": "stdout",
          "text": [
            "[1, 2]\n",
            "[10, 20]\n",
            "[100, 200]\n"
          ]
        }
      ]
    },
    {
      "cell_type": "code",
      "source": [
        "# code2\n",
        "for j in [1, 2]:\n",
        "    print(j)"
      ],
      "metadata": {
        "colab": {
          "base_uri": "https://localhost:8080/"
        },
        "id": "NMDMyYwCOTuy",
        "outputId": "91f5b4ad-32e9-4fde-bb1a-30cc6ccb1862"
      },
      "execution_count": null,
      "outputs": [
        {
          "output_type": "stream",
          "name": "stdout",
          "text": [
            "1\n",
            "2\n"
          ]
        }
      ]
    },
    {
      "cell_type": "code",
      "source": [
        "# 첫번째 반복에서 내부 리스트를 출력하고 두번째 반복에서 출력한 내부리스트의 요소를 출력합니다\n",
        "# code1 + code2\n",
        "for i in [[1, 2], [10, 20], [100, 200]]:\n",
        "    for j in i:\n",
        "        print(i)\n",
        "        print(j)"
      ],
      "metadata": {
        "colab": {
          "base_uri": "https://localhost:8080/"
        },
        "id": "HqPDzaWrMon8",
        "outputId": "615e9db3-503a-43c2-dff8-859bf84932a3"
      },
      "execution_count": null,
      "outputs": [
        {
          "output_type": "stream",
          "name": "stdout",
          "text": [
            "[1, 2]\n",
            "1\n",
            "[1, 2]\n",
            "2\n",
            "[10, 20]\n",
            "10\n",
            "[10, 20]\n",
            "20\n",
            "[100, 200]\n",
            "100\n",
            "[100, 200]\n",
            "200\n"
          ]
        }
      ]
    },
    {
      "cell_type": "code",
      "source": [
        "# 구구단\n",
        "for i in range(2, 10):   #2~9단을 만들기 위해 범위를 설정\n",
        "    print(f'---{i}단---')  # 몇단인지에 따른 표시를 해준다.\n",
        "    for j in range(1, 10):  # 2~9단이 설정되고 그 안의 1~9까지의 곱셈의 범위를 잡아줌\n",
        "        print(f'{i} X {j} = {i * j}') # i * j를 통해 1~9 구구단 완성"
      ],
      "metadata": {
        "colab": {
          "base_uri": "https://localhost:8080/"
        },
        "id": "i_FDKNRsNNuy",
        "outputId": "fe3c4bae-5701-4c96-a4db-ce303b7255f4"
      },
      "execution_count": null,
      "outputs": [
        {
          "output_type": "stream",
          "name": "stdout",
          "text": [
            "---2단---\n",
            "2 X 1 = 2\n",
            "2 X 2 = 4\n",
            "2 X 3 = 6\n",
            "2 X 4 = 8\n",
            "2 X 5 = 10\n",
            "2 X 6 = 12\n",
            "2 X 7 = 14\n",
            "2 X 8 = 16\n",
            "2 X 9 = 18\n",
            "---3단---\n",
            "3 X 1 = 3\n",
            "3 X 2 = 6\n",
            "3 X 3 = 9\n",
            "3 X 4 = 12\n",
            "3 X 5 = 15\n",
            "3 X 6 = 18\n",
            "3 X 7 = 21\n",
            "3 X 8 = 24\n",
            "3 X 9 = 27\n",
            "---4단---\n",
            "4 X 1 = 4\n",
            "4 X 2 = 8\n",
            "4 X 3 = 12\n",
            "4 X 4 = 16\n",
            "4 X 5 = 20\n",
            "4 X 6 = 24\n",
            "4 X 7 = 28\n",
            "4 X 8 = 32\n",
            "4 X 9 = 36\n",
            "---5단---\n",
            "5 X 1 = 5\n",
            "5 X 2 = 10\n",
            "5 X 3 = 15\n",
            "5 X 4 = 20\n",
            "5 X 5 = 25\n",
            "5 X 6 = 30\n",
            "5 X 7 = 35\n",
            "5 X 8 = 40\n",
            "5 X 9 = 45\n",
            "---6단---\n",
            "6 X 1 = 6\n",
            "6 X 2 = 12\n",
            "6 X 3 = 18\n",
            "6 X 4 = 24\n",
            "6 X 5 = 30\n",
            "6 X 6 = 36\n",
            "6 X 7 = 42\n",
            "6 X 8 = 48\n",
            "6 X 9 = 54\n",
            "---7단---\n",
            "7 X 1 = 7\n",
            "7 X 2 = 14\n",
            "7 X 3 = 21\n",
            "7 X 4 = 28\n",
            "7 X 5 = 35\n",
            "7 X 6 = 42\n",
            "7 X 7 = 49\n",
            "7 X 8 = 56\n",
            "7 X 9 = 63\n",
            "---8단---\n",
            "8 X 1 = 8\n",
            "8 X 2 = 16\n",
            "8 X 3 = 24\n",
            "8 X 4 = 32\n",
            "8 X 5 = 40\n",
            "8 X 6 = 48\n",
            "8 X 7 = 56\n",
            "8 X 8 = 64\n",
            "8 X 9 = 72\n",
            "---9단---\n",
            "9 X 1 = 9\n",
            "9 X 2 = 18\n",
            "9 X 3 = 27\n",
            "9 X 4 = 36\n",
            "9 X 5 = 45\n",
            "9 X 6 = 54\n",
            "9 X 7 = 63\n",
            "9 X 8 = 72\n",
            "9 X 9 = 81\n"
          ]
        }
      ]
    },
    {
      "cell_type": "markdown",
      "source": [
        "# 3. 컴프리헨션(comprehension)\n",
        "\n",
        "## 3.1. 리스트 컴프리헨션(list comprehension)\n",
        "\n",
        "### 3.1.1. 리스트 컴프리헨션 기본 사용법\n",
        "\n",
        "리스트 컴프리헨션(list comprehension)은 파이썬에서 간결하게 리스트를 생성하는 기능으로, 반복문과 조건문을 결합하여 리스트를 생성합니다."
      ],
      "metadata": {
        "id": "dUr6Ye_LNZzC"
      }
    },
    {
      "cell_type": "code",
      "source": [
        "x = []\n",
        "\n",
        "for i in range(1, 10):\n",
        "  x.append(i)\n",
        "\n",
        "print(x)"
      ],
      "metadata": {
        "colab": {
          "base_uri": "https://localhost:8080/"
        },
        "id": "SCUlMqUzNwLU",
        "outputId": "c7af1fd5-2a87-484c-acbc-7b8562f8bc9e"
      },
      "execution_count": null,
      "outputs": [
        {
          "output_type": "stream",
          "name": "stdout",
          "text": [
            "[1, 2, 3, 4, 5, 6, 7, 8, 9]\n"
          ]
        }
      ]
    },
    {
      "cell_type": "markdown",
      "source": [
        "기본적인 형태\n",
        "- [추가할변수_또는_표현식 for 변수 in 특정범위]"
      ],
      "metadata": {
        "id": "rCHYayFXTM8z"
      }
    },
    {
      "cell_type": "code",
      "source": [
        "# 리스트 컴프리헨션\n",
        "# step1 list안에 for문을 가져옵니다.\n",
        "#[i for i in range(1, 10)]  # for문 시작하는 조건을 가져오고 리스트로 묶는다.\n",
        "\n",
        "# step2 append 항목을 앞으로 가져옵니다. - 여깃 i > 자동으로 append\n",
        "a = [i for i in range(1, 10)] # 출력: [1, 2, 3, 4, 5, 6, 7, 8, 9]\n",
        "b = [i*2 for i in range(1, 10)] # 출력: [1, 2, 3, 4, 5, 6, 7, 8, 9]\n",
        "print(a,b)"
      ],
      "metadata": {
        "colab": {
          "base_uri": "https://localhost:8080/"
        },
        "id": "-yUvJnE6RoKm",
        "outputId": "b3dbb74f-2d47-4f7b-c177-a0c49b2dbc74"
      },
      "execution_count": null,
      "outputs": [
        {
          "output_type": "stream",
          "name": "stdout",
          "text": [
            "[1, 2, 3, 4, 5, 6, 7, 8, 9] [2, 4, 6, 8, 10, 12, 14, 16, 18]\n"
          ]
        }
      ]
    },
    {
      "cell_type": "markdown",
      "source": [
        "### 3.1.2. 컴프리헨션 내 조건문 사용법\n",
        "\n",
        "컴프리헨션 내 아래와 같이 if문을 넣을 수도 있습니다.\n",
        "\n",
        "결과가 같지만 형태가 다른 코드들"
      ],
      "metadata": {
        "id": "_ZtWe1icSxLs"
      }
    },
    {
      "cell_type": "code",
      "source": [
        "l = [i for i in range(1, 100) if i % 3 == 0 or i % 5 == 0]\n",
        "print(l)"
      ],
      "metadata": {
        "colab": {
          "base_uri": "https://localhost:8080/"
        },
        "id": "IBFvhnujTWPD",
        "outputId": "e4e56b53-6fad-47f1-b9a1-5be70e230193"
      },
      "execution_count": null,
      "outputs": [
        {
          "output_type": "stream",
          "name": "stdout",
          "text": [
            "[3, 5, 6, 9, 10, 12, 15, 18, 20, 21, 24, 25, 27, 30, 33, 35, 36, 39, 40, 42, 45, 48, 50, 51, 54, 55, 57, 60, 63, 65, 66, 69, 70, 72, 75, 78, 80, 81, 84, 85, 87, 90, 93, 95, 96, 99]\n"
          ]
        }
      ]
    },
    {
      "cell_type": "code",
      "source": [
        "l = []\n",
        "for i in range(1, 100):\n",
        "    if i % 3 == 0 or i % 5 == 0:\n",
        "        l.append(i)\n",
        "print(l)"
      ],
      "metadata": {
        "colab": {
          "base_uri": "https://localhost:8080/"
        },
        "id": "At1jEOtiTXgb",
        "outputId": "11d4360b-9966-4f47-8e08-0a8004e10327"
      },
      "execution_count": null,
      "outputs": [
        {
          "output_type": "stream",
          "name": "stdout",
          "text": [
            "[3, 5, 6, 9, 10, 12, 15, 18, 20, 21, 24, 25, 27, 30, 33, 35, 36, 39, 40, 42, 45, 48, 50, 51, 54, 55, 57, 60, 63, 65, 66, 69, 70, 72, 75, 78, 80, 81, 84, 85, 87, 90, 93, 95, 96, 99]\n"
          ]
        }
      ]
    },
    {
      "cell_type": "code",
      "source": [
        "nums = [1, 2, 3, 4, 5]\n",
        "result = [f'{x}는 3보다 큰 짝수' if x % 2 == 0 else f'{x}는 3보다 큰 홀수' for x in nums if x > 3]\n",
        "print(result) # 출력: ['4는 3보다 큰 짝수', '5는 3보다 큰 홀수']"
      ],
      "metadata": {
        "colab": {
          "base_uri": "https://localhost:8080/"
        },
        "id": "fqwjahKrTxgG",
        "outputId": "30358a76-eb98-41cc-9ab6-6fee381331d1"
      },
      "execution_count": null,
      "outputs": [
        {
          "output_type": "stream",
          "name": "stdout",
          "text": [
            "['4는 3보다 큰 짝수', '5는 3보다 큰 홀수']\n"
          ]
        }
      ]
    },
    {
      "cell_type": "code",
      "source": [
        "result = []\n",
        "nums = [1, 2, 3, 4, 5]\n",
        "for x in nums:\n",
        "    if x > 3:\n",
        "        if x % 2 == 0:\n",
        "            result.append(f'{x}는 3보다 큰 짝수')\n",
        "        else:\n",
        "            result.append(f'{x}는 3보다 큰 홀수')\n",
        "print(result)"
      ],
      "metadata": {
        "colab": {
          "base_uri": "https://localhost:8080/"
        },
        "id": "6J8S8aFiT2xQ",
        "outputId": "c7a9a3b4-9d47-4b4e-dcd3-e0986f3378b9"
      },
      "execution_count": null,
      "outputs": [
        {
          "output_type": "stream",
          "name": "stdout",
          "text": [
            "['4는 3보다 큰 짝수', '5는 3보다 큰 홀수']\n"
          ]
        }
      ]
    },
    {
      "cell_type": "code",
      "source": [
        "nums = [1, 2, 3, 4, 5, 6]\n",
        "result = [x for x in nums if x % 2 == 0 if x % 3 == 0]\n",
        "result # 출력: [6]"
      ],
      "metadata": {
        "colab": {
          "base_uri": "https://localhost:8080/"
        },
        "id": "cRcGsuDPT7Ds",
        "outputId": "37a456c1-cd49-4c6c-b467-ff5233d7dd0c"
      },
      "execution_count": null,
      "outputs": [
        {
          "output_type": "execute_result",
          "data": {
            "text/plain": [
              "[6]"
            ]
          },
          "metadata": {},
          "execution_count": 51
        }
      ]
    },
    {
      "cell_type": "code",
      "source": [
        "nums = [1, 2, 3, 4, 5, 6]\n",
        "result = [x for x in nums if x % 2 == 0 and x % 3 == 0]\n",
        "result # 출력: [6]"
      ],
      "metadata": {
        "colab": {
          "base_uri": "https://localhost:8080/"
        },
        "id": "Xsw6BBVPTgsb",
        "outputId": "95236d88-fc7f-43a6-eeb8-115635feb732"
      },
      "execution_count": null,
      "outputs": [
        {
          "output_type": "execute_result",
          "data": {
            "text/plain": [
              "[6]"
            ]
          },
          "metadata": {},
          "execution_count": 49
        }
      ]
    },
    {
      "cell_type": "markdown",
      "source": [
        "### 3.1.3. 중첩된 반복문과 중첩된 컴프리헨션\n",
        "\n",
        "컴프리헨션은 중첩된 반복문을 사용할 수 있으며 컴프리헨션 내에서도 컴프리헨션 중첩이 가능합니다. 일반적인 for문 방식과 비교하여 리스트 컴프리헨션의 간결함을 확인할 수 있습니다."
      ],
      "metadata": {
        "id": "J8u4c_moTzZa"
      }
    },
    {
      "cell_type": "code",
      "source": [
        "# 리스트 컴프리헨션: 중첩된 반복문\n",
        "# 구구단\n",
        "c = [f'{i} × {j} = {i*j}' for i in range(2, 10) for j in range(1, 10)]\n",
        "\n",
        "# 리스트 컴프리헨션: 중첩된 컴프리헨션\n",
        "cc = [[f'{i} × {j} = {i*j}' for j in range(1, 10)] for i in range(2, 10)]\n",
        "\n",
        "# 전통적인 방법\n",
        "c_list = []\n",
        "for i in range(2, 10):\n",
        "    for j in range(1, 10):\n",
        "        c_list.append(f'{i} × {j} = {i*j}')"
      ],
      "metadata": {
        "id": "C5f9S9znUBps"
      },
      "execution_count": null,
      "outputs": []
    },
    {
      "cell_type": "markdown",
      "source": [
        "다만 이러한 컴프리헨션 문법의 중첩은 코드의 가독성을 떨어트리므로 주의해 사용해주세요. 보통 회사 컨벤션(회사의 코딩 규칙)에서는 3개 이상의 컴프리헨션 중첩을 하지 않기를 권합니다.\n",
        "\n",
        "### 3.1.4. 컴프리헨션 내 함수 사용하기\n",
        "\n",
        "기존 리스트를 순회하며 요소들을 함수의 인수에 넣어 함수의 return 값을 새로운 리스트에 저장하실 수 있습니다."
      ],
      "metadata": {
        "id": "oiMfw7mwUDDw"
      }
    },
    {
      "cell_type": "code",
      "source": [
        "def sumthingFunction(i):       # 함수 sumthingFunction(i)을 생성\n",
        "    if i % 100 ==0:            # 조건문 100으로 나눴을때 나머지가 0이 되는것\n",
        "        return i               # 조건에 일치하면 i를 리턴 일치하지 않으면 0을 리턴하는데,\n",
        "    else:\n",
        "        return 0               # 남는 것들은 0으로\n",
        "\n",
        "l = [100, 200, 300, 101, 202, 303]\n",
        "l = [sumthingFunction(i) for i in l] # 리스트에 있는 값들을 하나씩 꺼내서, 함수에 태워보고, 조건에 맞는것만 출력\n",
        "l # 출력: [100, 200, 300, 0, 0, 0]\n",
        "print(l)"
      ],
      "metadata": {
        "colab": {
          "base_uri": "https://localhost:8080/"
        },
        "id": "AgTCR67WUIQk",
        "outputId": "6c84c353-0221-4022-b60c-c2c0d619db3f"
      },
      "execution_count": null,
      "outputs": [
        {
          "output_type": "stream",
          "name": "stdout",
          "text": [
            "[100, 200, 300, 0, 0, 0]\n"
          ]
        }
      ]
    },
    {
      "cell_type": "code",
      "source": [
        "l = [100, 200, 300, 101, 202, 303]\n",
        "l2 = [(lambda x : x * x)(x) for x in l]\n",
        "print(l2)"
      ],
      "metadata": {
        "colab": {
          "base_uri": "https://localhost:8080/"
        },
        "id": "7Tsh0F6Vp1Nu",
        "outputId": "6a3149a8-7904-4362-876b-f1d780836bca"
      },
      "execution_count": null,
      "outputs": [
        {
          "output_type": "stream",
          "name": "stdout",
          "text": [
            "[10000, 40000, 90000, 10201, 40804, 91809]\n"
          ]
        }
      ]
    },
    {
      "cell_type": "markdown",
      "source": [
        "## 3.2. 딕셔너리 컴프리헨션\n",
        "\n",
        "컴프리헨션은 리스트 컴프리헨션, 딕셔너리 컴프리헨션, 세트 컴프리헨션, 그리고 제너레이터 컴프리헨션이 있습니다. 여기서 딕셔너리 컴프리헨션은 그 형태가 조금 다르므로 여기서 다뤄보고 가도록 하겠습니다."
      ],
      "metadata": {
        "id": "yx2k2dS7UJvb"
      }
    },
    {
      "cell_type": "code",
      "source": [
        "# 전통적인 방법\n",
        "d = {}\n",
        "for i in range(5):\n",
        "    d[i] = i**2\n",
        "\n",
        "# 딕셔너리 컴프리헨션 사용\n",
        "dd = {i: i**2 for i in range(5)}   # key : value\n",
        "print(dd)"
      ],
      "metadata": {
        "colab": {
          "base_uri": "https://localhost:8080/"
        },
        "id": "I4KieshYnjPe",
        "outputId": "38b574cd-1dbc-4081-f48f-a4289c3c13dc"
      },
      "execution_count": null,
      "outputs": [
        {
          "output_type": "stream",
          "name": "stdout",
          "text": [
            "{0: 0, 1: 1, 2: 4, 3: 9, 4: 16}\n"
          ]
        }
      ]
    },
    {
      "cell_type": "markdown",
      "source": [
        "딕셔너리 컴프리헨션의 기본 구조는 `중괄호({})` 내부에 `for문`과 필요한 조건문을 넣어주며, 그 앞에는 딕셔너리의 `키`와 `값`이 콜론(`:`)으로 구분되어 위치합니다.\n",
        "\n",
        "아래와 같이 if를 사용할 수도 있습니다."
      ],
      "metadata": {
        "id": "c2VyUTUqnksc"
      }
    },
    {
      "cell_type": "markdown",
      "source": [
        "# 4. 복합 자료형 순회\n",
        "\n",
        "앞에서 다뤘던 것처럼 반복되는 값이 같은 구조를 가지고 있다면 언패킹하여 한꺼번에 받아 순회할 수 있습니다. 순회 할 수 있는 객체를 변수에 하나씩 할당하는 것을 언패킹이라 하였습니다. 이번에는 리스트 안에 리스트가 아니라 리스트 안에 문자열, 리스트 안에 튜플 등 다양한 복합 자료형이 중첩되어 있을 때 어떻게 언패킹하여 순회를 하는지 다뤄보도록 하겠습니다."
      ],
      "metadata": {
        "id": "JCLtNEwdrX00"
      }
    },
    {
      "cell_type": "code",
      "source": [
        "for i, j, k in ['abc', 'def', 'ghi']:\n",
        "    print(i, j, k)"
      ],
      "metadata": {
        "colab": {
          "base_uri": "https://localhost:8080/"
        },
        "id": "3FfuluklrZtv",
        "outputId": "5ba7151a-914c-4e12-a37f-9de87de63d54"
      },
      "execution_count": null,
      "outputs": [
        {
          "output_type": "stream",
          "name": "stdout",
          "text": [
            "a b c\n",
            "d e f\n",
            "g h i\n"
          ]
        }
      ]
    },
    {
      "cell_type": "markdown",
      "source": [
        "리스트 안에 문자열이 들어가 있으면 해당 자료형도 언패킹이 가능합니다. 문자열은 순회 할 수 있는 객체이기 때문입니다. 따라서 처음 순회가 될 ‘abc’가 준비되었을 때 전체를 받을 변수 하나가 있다면 하나의 변수에 할당이 되며, ‘a’, ‘b’, ‘c’ 각각의 값을 받을 변수가 모두 준비되어 있다면 이를 각각의 변수에 할당합니다."
      ],
      "metadata": {
        "id": "eI7p6h1_rbDt"
      }
    },
    {
      "cell_type": "code",
      "source": [
        "skill = [\n",
        "        ('고기잡이', 100),\n",
        "        ('고기팔기', 120),\n",
        "        ('낚시', 5),\n",
        "        ('통발', 5),\n",
        "        ('큰그물', 5)\n",
        "]\n",
        "\n",
        "for i, j in skill:\n",
        "    print(i, j)"
      ],
      "metadata": {
        "colab": {
          "base_uri": "https://localhost:8080/"
        },
        "id": "1TlrP6MDrrRH",
        "outputId": "ad00c281-41f9-4616-a1ca-4a966e1c1778"
      },
      "execution_count": null,
      "outputs": [
        {
          "output_type": "stream",
          "name": "stdout",
          "text": [
            "고기잡이 100\n",
            "고기팔기 120\n",
            "낚시 5\n",
            "통발 5\n",
            "큰그물 5\n"
          ]
        }
      ]
    },
    {
      "cell_type": "markdown",
      "source": [
        "튜플 내의 요소가 3개인 경우에도 각각의 요소를 가져와서 출력하실 수 있습니다."
      ],
      "metadata": {
        "id": "igfz509jrtJG"
      }
    },
    {
      "cell_type": "code",
      "source": [
        "# 하나만 리스트여도 쌍이면 상관없이 잘 돌아감\n",
        "skill = [\n",
        "        ('고기잡이', 100, 'SS'),\n",
        "        ('고기팔기', 120, 'SSS'),\n",
        "        ('낚시', 5, 'C'),\n",
        "        ('통발', 5, 'C'),\n",
        "        ('큰그물', 5, 'C')\n",
        "]\n",
        "\n",
        "for skillName, skillLevel, skillGrade in skill:\n",
        "    print(skillName, skillLevel, skillGrade)"
      ],
      "metadata": {
        "colab": {
          "base_uri": "https://localhost:8080/"
        },
        "id": "_jf3BO8XsgOG",
        "outputId": "0a17bd92-0f06-4702-a1f7-dc7ce88fd736"
      },
      "execution_count": null,
      "outputs": [
        {
          "output_type": "stream",
          "name": "stdout",
          "text": [
            "고기잡이 100 SS\n",
            "고기팔기 120 SSS\n",
            "낚시 5 C\n",
            "통발 5 C\n",
            "큰그물 5 C\n"
          ]
        }
      ]
    },
    {
      "cell_type": "markdown",
      "source": [
        "# 5. enumerate를 사용한 순회\n",
        "\n",
        "enumerate는 순서를 매길 때 사용합니다. enumerate는 별도의 변수를 선언하지 않고 이것이 가능하게 해줍니다."
      ],
      "metadata": {
        "id": "oP17K-CRsgiv"
      }
    },
    {
      "cell_type": "code",
      "source": [
        "enumerate(순회 가능한 객체, 인덱스의 시작값)"
      ],
      "metadata": {
        "id": "NRNDKTpjsqfY"
      },
      "execution_count": null,
      "outputs": []
    },
    {
      "cell_type": "code",
      "source": [
        "# enumerate에 인덱스의 시작값을 지정하지 않으면 기본값 0부터 시작하는 것을 볼 수 있습니다.\n",
        "영화누적관객수 = ['레미제라블', '뷰티인사이트', '매트릭스', '인셉션', '어거스트 러쉬']\n",
        "for i in enumerate(영화누적관객수):\n",
        "    print(i)\n",
        "\n",
        "for i, j in enumerate(영화누적관객수, 1):  # enumerate 1부터 시작\n",
        "    print(f'누적관객수 {i}위! {j}!')"
      ],
      "metadata": {
        "colab": {
          "base_uri": "https://localhost:8080/"
        },
        "id": "ic3lvHOHssAu",
        "outputId": "f491f5d8-7768-4a82-aa89-7802820f528a"
      },
      "execution_count": null,
      "outputs": [
        {
          "output_type": "stream",
          "name": "stdout",
          "text": [
            "(0, '레미제라블')\n",
            "(1, '뷰티인사이트')\n",
            "(2, '매트릭스')\n",
            "(3, '인셉션')\n",
            "(4, '어거스트 러쉬')\n",
            "누적관객수 1위! 레미제라블!\n",
            "누적관객수 2위! 뷰티인사이트!\n",
            "누적관객수 3위! 매트릭스!\n",
            "누적관객수 4위! 인셉션!\n",
            "누적관객수 5위! 어거스트 러쉬!\n"
          ]
        }
      ]
    },
    {
      "cell_type": "code",
      "source": [
        "영화누적관객수 = ['레미제라블', '뷰티인사이트', '매트릭스', '인셉션', '어거스트 러쉬']\n",
        "for i, j in enumerate(영화누적관객수, 100):\n",
        "    print(f'누적관객수 {i}위! {j}!')   # i에는 index값 j에는 영화 제목!,"
      ],
      "metadata": {
        "colab": {
          "base_uri": "https://localhost:8080/"
        },
        "id": "UiG6n5bOsvxM",
        "outputId": "8a736ddc-958f-44dd-8b44-d9d296d350da"
      },
      "execution_count": null,
      "outputs": [
        {
          "output_type": "stream",
          "name": "stdout",
          "text": [
            "누적관객수 100위! 레미제라블!\n",
            "누적관객수 101위! 뷰티인사이트!\n",
            "누적관객수 102위! 매트릭스!\n",
            "누적관객수 103위! 인셉션!\n",
            "누적관객수 104위! 어거스트 러쉬!\n"
          ]
        }
      ]
    },
    {
      "cell_type": "markdown",
      "source": [
        "# 1. while문\n",
        "\n",
        "이번에는 for문과 함께 많이 사용되는 구문인 while 문을 살펴보도록 합시다. while문은 조건이 참인 동안에 명령을 반복해서 수행합니다. 반복할 명령은 들여쓰기로 구분되며 조건이 거짓이면 들여쓰기로 구분되어 있는 반복 구문을 탈출합니다.\n",
        "\n",
        "## 1.1. while문의 기본 구조"
      ],
      "metadata": {
        "id": "yBQVprlOvOze"
      }
    },
    {
      "cell_type": "code",
      "source": [
        "while 구문:\n",
        "    pass # 수행할 문장"
      ],
      "metadata": {
        "id": "bhzlAOAVv6vf"
      },
      "execution_count": null,
      "outputs": []
    },
    {
      "cell_type": "code",
      "source": [
        "# while문 기초\n",
        "a = 1\n",
        "\n",
        "while a < 10 :  # 조건이 만족할때 까지\n",
        "\tprint(a)\n",
        "\ta += 1\n",
        "\n",
        "# for 문 기초\n",
        "for i in range(1,10):   # 범위가 끝날때 까지\n",
        "    print(i)\n"
      ],
      "metadata": {
        "colab": {
          "base_uri": "https://localhost:8080/"
        },
        "id": "pv8VTZ3Ev8vo",
        "outputId": "a1aa39f9-067b-4d3a-aa33-f9bc09ec0dc9"
      },
      "execution_count": null,
      "outputs": [
        {
          "output_type": "stream",
          "name": "stdout",
          "text": [
            "1\n",
            "2\n",
            "3\n",
            "4\n",
            "5\n",
            "6\n",
            "7\n",
            "8\n",
            "9\n",
            "1\n",
            "2\n",
            "3\n",
            "4\n",
            "5\n",
            "6\n",
            "7\n",
            "8\n",
            "9\n"
          ]
        }
      ]
    },
    {
      "cell_type": "markdown",
      "source": [
        "# 프로그램 1. 스무고개 숫자맞추기"
      ],
      "metadata": {
        "id": "LDscufZxv84u"
      }
    },
    {
      "cell_type": "markdown",
      "source": [
        "## 1.1 숫자를 입력 받기\n",
        "* input을 활용해서 숫자를 입력 받으세요!\n",
        "* 20번안에 숫자를 맞춰야하는 게임"
      ],
      "metadata": {
        "id": "0o_7PcdK0ZGK"
      }
    },
    {
      "cell_type": "code",
      "source": [
        "# 우리가 입력할 값\n",
        "number = int(input(\"숫자를 입력하세요(1~100까지): \"))"
      ],
      "metadata": {
        "colab": {
          "base_uri": "https://localhost:8080/"
        },
        "id": "5BlYhefN0i1n",
        "outputId": "09b786d9-5e18-4602-ef12-cb6a9685de8d"
      },
      "execution_count": null,
      "outputs": [
        {
          "name": "stdout",
          "output_type": "stream",
          "text": [
            "숫자를 입력하세요(1~100100까지): 100\n"
          ]
        }
      ]
    },
    {
      "cell_type": "code",
      "source": [
        "print(number)\n",
        "print(type(number))"
      ],
      "metadata": {
        "colab": {
          "base_uri": "https://localhost:8080/"
        },
        "id": "CRd3fx1j0oyR",
        "outputId": "42a36287-acbb-434f-e44f-6849e3a303b8"
      },
      "execution_count": null,
      "outputs": [
        {
          "output_type": "stream",
          "name": "stdout",
          "text": [
            "100\n",
            "<class 'int'>\n"
          ]
        }
      ]
    },
    {
      "cell_type": "code",
      "source": [
        "# 우리가 맞춰야할 숫자\n",
        "import random\n",
        "secret_number = random.randrange(1,101)"
      ],
      "metadata": {
        "id": "JeeITlQO005_"
      },
      "execution_count": null,
      "outputs": []
    },
    {
      "cell_type": "code",
      "source": [
        "# 정답을 위한 Step 1\n",
        "# if문을 사용해서 같으면 정답 틀리면 틀렸습니다. 라고 출력해보기!\n",
        "if number == secret_number:\n",
        "    print(\"정답입니다.\")\n",
        "else:\n",
        "    print(\"틀렸습니다.\")\n",
        "# 계속 틀리다가 맞추면 정답! 출력하지만 못맞추면 20번 반복\n",
        "# step 3. 왜 틀렸는데? Up/Down 힌트를 주면 좋을 것 같다."
      ],
      "metadata": {
        "colab": {
          "base_uri": "https://localhost:8080/"
        },
        "id": "QbYGeDYm1djw",
        "outputId": "ceb23e74-0caf-47ea-aba1-b8e821bb1364"
      },
      "execution_count": null,
      "outputs": [
        {
          "output_type": "stream",
          "name": "stdout",
          "text": [
            "정답입니다.\n"
          ]
        }
      ]
    },
    {
      "cell_type": "code",
      "source": [
        "import random\n",
        "\n",
        "# 우리가 입력할 값\n",
        "secret_number = random.randrange(1,101)   # 고정값!\n",
        "\n",
        "# 우리가 입력할 값\n",
        "for i in range(1,21):    # step 1. 반복할 값을 지정한다.\n",
        "    number = int(input(\"숫자를 입력하세요(1~100까지): \"))  # step 2. input을 지정한다.\n",
        "\n",
        "    if number == secret_number:\n",
        "        print(\"정답입니다.\")\n",
        "        break\n",
        "    elif secret_number < number :\n",
        "        print(\"Down입니다.\")\n",
        "    else:\n",
        "        print(\"Up입니다.\")"
      ],
      "metadata": {
        "colab": {
          "base_uri": "https://localhost:8080/"
        },
        "id": "PLsdwz5K4Vk9",
        "outputId": "320415f0-4cc8-4eaf-bca8-e116f7cee876"
      },
      "execution_count": null,
      "outputs": [
        {
          "output_type": "stream",
          "name": "stdout",
          "text": [
            "숫자를 입력하세요(1~100까지): 50\n",
            "Down입니다.\n",
            "숫자를 입력하세요(1~100까지): 25\n",
            "Down입니다.\n",
            "숫자를 입력하세요(1~100까지): 13\n",
            "Down입니다.\n",
            "숫자를 입력하세요(1~100까지): 11\n",
            "Down입니다.\n",
            "숫자를 입력하세요(1~100까지): 5\n",
            "Up입니다.\n",
            "숫자를 입력하세요(1~100까지): 8\n",
            "Down입니다.\n",
            "숫자를 입력하세요(1~100까지): 9\n",
            "Down입니다.\n",
            "숫자를 입력하세요(1~100까지): 7\n",
            "Down입니다.\n",
            "숫자를 입력하세요(1~100까지): 6\n",
            "정답입니다.\n"
          ]
        }
      ]
    },
    {
      "cell_type": "markdown",
      "source": [
        "# 프로그램 2: 가위바위보"
      ],
      "metadata": {
        "id": "HRPVIkvN7Ss_"
      }
    },
    {
      "cell_type": "code",
      "source": [
        "# step 1 : 우리가 낼 가위, 바위, 보를 입력 받는다.\n",
        "# step 2 : 컴퓨터가 낼 가위, 바위, 보를 입력 받는다.\n",
        "# step 3 : 승패요건\n",
        "# step 4 : 가위,바위,보 외에 다른거를 냈을떄 어떻게 해야하는지? /종료하고 싶은지 물어보는 것도 추가!"
      ],
      "metadata": {
        "id": "ioxKzLHy7VKo"
      },
      "execution_count": null,
      "outputs": []
    },
    {
      "cell_type": "code",
      "source": [
        "import random\n",
        "\n",
        "while True:\n",
        "    user_choice = input(\"가위, 바위, 보 중 하나를 선택하세요 (끝내려면 '끝' 입력): \").strip().lower()\n",
        "\n",
        "    # 사용자가 끝내기를 선택한 경우\n",
        "    if user_choice == '끝':\n",
        "        print(\"게임을 종료합니다.\")\n",
        "        break\n",
        "\n",
        "    # 사용자가 가위, 바위, 보 이외의 값을 선택한 경우\n",
        "    if user_choice not in ['가위', '바위', '보']:\n",
        "        print(\"가위, 바위, 보 중에서 선택해주세요.\")\n",
        "        continue\n",
        "\n",
        "    # 컴퓨터의 선택 - 랜덤하게 가위, 바위, 보 중 선택\n",
        "\n",
        "    choices = ['가위', '바위', '보']\n",
        "    computer_choice = random.choice(choices)\n",
        "\n",
        "    # 사용자와 컴퓨터의 선택 출력\n",
        "    print(f\"사용자: {user_choice}, 컴퓨터: {computer_choice}\")\n",
        "\n",
        "    # 승부 판단\n",
        "    if user_choice == computer_choice:\n",
        "        print(\"무승부!\")\n",
        "    elif (user_choice == '가위' and computer_choice == '보') or \\\n",
        "         (user_choice == '바위' and computer_choice == '가위') or \\\n",
        "         (user_choice == '보' and computer_choice == '바위'):\n",
        "        print(\"사용자 승리!\")\n",
        "    else:\n",
        "        print(\"컴퓨터 승리!\")\n"
      ],
      "metadata": {
        "colab": {
          "base_uri": "https://localhost:8080/"
        },
        "id": "ahiIH3jR8Sdg",
        "outputId": "3adc80e3-fa73-476e-a6b6-915398c47c7b"
      },
      "execution_count": null,
      "outputs": [
        {
          "metadata": {
            "tags": null
          },
          "name": "stdout",
          "output_type": "stream",
          "text": [
            "가위, 바위, 보 중에서 선택해주세요.\n",
            "사용자: 보, 컴퓨터: 보\n",
            "무승부!\n"
          ]
        }
      ]
    },
    {
      "cell_type": "code",
      "source": [],
      "metadata": {
        "id": "ost2iMAc85lJ"
      },
      "execution_count": null,
      "outputs": []
    }
  ]
}