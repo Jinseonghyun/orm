{
  "nbformat": 4,
  "nbformat_minor": 0,
  "metadata": {
    "colab": {
      "provenance": []
    },
    "kernelspec": {
      "name": "python3",
      "display_name": "Python 3"
    },
    "language_info": {
      "name": "python"
    }
  },
  "cells": [
    {
      "cell_type": "markdown",
      "source": [
        "`class Commnet`를 작성해주세요.\n",
        "\n",
        "요구사항\n",
        "* 각 댓글은 고유한 ID, 작성자 이름, 댓글 내용, 작성 시간을 가져야 합니다.\n",
        "* 댓글은 하나 이상의 대댓글을 가질 수 있어야 합니다.\n",
        "* 대댓글도 Comment 클래스의 인스턴스로 생성되며, 원 댓글에 종속됩니다.\n",
        "* 시간은 '년-월-일 시:분' 형식으로 표시되어야 합니다.\n",
        "* (선택 과제) 댓글 출력 기능 - 계층적 출력을 해보세요.\n",
        "* (선택 과제)댓글에 대한 좋아요 기능을 추가할 수 있습니다."
      ],
      "metadata": {
        "id": "hufX8CUwEO2f"
      }
    },
    {
      "cell_type": "code",
      "source": [
        "from datetime import datetime\n",
        "\n",
        "class Comment:\n",
        "    def __init__(self, comment_id, author, content, parent_comment=None):\n",
        "        self.comment_id = comment_id\n",
        "        self.author = author\n",
        "        self.content = content\n",
        "        self.parent_comment = parent_comment\n",
        "        self.timestamp = datetime.now().strftime('%Y-%m-%d %H:%M')\n",
        "        self.replies = []\n",
        "        self.likes = 0\n",
        "\n",
        "    def add_reply(self, reply):\n",
        "        if isinstance(reply, Comment):\n",
        "            self.replies.append(reply)\n",
        "        else:\n",
        "            print(\"Error: Invalid reply. Please provide a Comment instance.\")\n",
        "\n",
        "    def like_comment(self):\n",
        "        self.likes += 1\n",
        "\n",
        "    def display_comments(self, level=0):\n",
        "        indent = '    ' * level\n",
        "        print(f\"{indent}{self.author} ({self.timestamp}): {self.content} - Likes: {self.likes}\")\n",
        "        for reply in self.replies:\n",
        "            reply.display_comments(level + 1)\n",
        "\n",
        "# Example Usage:\n",
        "if __name__ == \"__main__\":\n",
        "    # Creating Comments\n",
        "    root_comment = Comment(1, \"Alice\", \"This is the root comment.\")\n",
        "    reply1 = Comment(2, \"Bob\", \"I agree!\", root_comment)\n",
        "    reply2 = Comment(3, \"Charlie\", \"Disagree.\", root_comment)\n",
        "    reply3 = Comment(4, \"David\", \"Why do you disagree?\", reply2)\n",
        "    reply4 = Comment(5, \"Eve\", \"I have a different opinion.\", root_comment)\n",
        "\n",
        "    # Adding Replies\n",
        "    root_comment.add_reply(reply1)\n",
        "    root_comment.add_reply(reply2)\n",
        "    reply2.add_reply(reply3)\n",
        "    root_comment.add_reply(reply4)\n",
        "\n",
        "    # Displaying Comments\n",
        "    root_comment.display_comments()\n",
        "\n",
        "    # Liking Comments\n",
        "    root_comment.like_comment()\n",
        "    reply1.like_comment()\n",
        "    reply3.like_comment()\n",
        "\n",
        "    # Displaying Comments with Likes\n",
        "    print(\"\\nAfter liking comments:\")\n",
        "    root_comment.display_comments()\n"
      ],
      "metadata": {
        "colab": {
          "base_uri": "https://localhost:8080/"
        },
        "id": "2TmjhQxmETdv",
        "outputId": "703ddbd7-a1c6-4b06-e305-4d44500532a5"
      },
      "execution_count": 2,
      "outputs": [
        {
          "output_type": "stream",
          "name": "stdout",
          "text": [
            "Alice (2024-01-15 07:49): This is the root comment. - Likes: 0\n",
            "    Bob (2024-01-15 07:49): I agree! - Likes: 0\n",
            "    Charlie (2024-01-15 07:49): Disagree. - Likes: 0\n",
            "        David (2024-01-15 07:49): Why do you disagree? - Likes: 0\n",
            "    Eve (2024-01-15 07:49): I have a different opinion. - Likes: 0\n",
            "\n",
            "After liking comments:\n",
            "Alice (2024-01-15 07:49): This is the root comment. - Likes: 1\n",
            "    Bob (2024-01-15 07:49): I agree! - Likes: 1\n",
            "    Charlie (2024-01-15 07:49): Disagree. - Likes: 0\n",
            "        David (2024-01-15 07:49): Why do you disagree? - Likes: 1\n",
            "    Eve (2024-01-15 07:49): I have a different opinion. - Likes: 0\n"
          ]
        }
      ]
    },
    {
      "cell_type": "code",
      "source": [],
      "metadata": {
        "id": "2kkjJE8TEqLu"
      },
      "execution_count": null,
      "outputs": []
    }
  ]
}