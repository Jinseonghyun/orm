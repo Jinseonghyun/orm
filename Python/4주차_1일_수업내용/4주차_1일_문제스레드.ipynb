{
  "nbformat": 4,
  "nbformat_minor": 0,
  "metadata": {
    "colab": {
      "provenance": []
    },
    "kernelspec": {
      "name": "python3",
      "display_name": "Python 3"
    },
    "language_info": {
      "name": "python"
    }
  },
  "cells": [
    {
      "cell_type": "markdown",
      "source": [
        "`class Commnet`를 작성해주세요.\n",
        "\n",
        "요구사항\n",
        "* 각 댓글은 고유한 ID, 작성자 이름, 댓글 내용, 작성 시간을 가져야 합니다.\n",
        "* 댓글은 하나 이상의 대댓글을 가질 수 있어야 합니다.\n",
        "* 대댓글도 Comment 클래스의 인스턴스로 생성되며, 원 댓글에 종속됩니다.\n",
        "* 시간은 '년-월-일 시:분' 형식으로 표시되어야 합니다.\n",
        "* (선택 과제) 댓글 출력 기능 - 계층적 출력을 해보세요.\n",
        "* (선택 과제)댓글에 대한 좋아요 기능을 추가할 수 있습니다."
      ],
      "metadata": {
        "id": "hufX8CUwEO2f"
      }
    },
    {
      "cell_type": "code",
      "source": [
        "# 대댓글 기능은 chatgpt의 도움을 받았습니다.\n",
        "\n",
        "import uuid\n",
        "from datetime import datetime\n",
        "import time\n",
        "\n",
        "class Comment:\n",
        "    ids = []\n",
        "    comment_counts = 0\n",
        "    likes = 0\n",
        "\n",
        "    def __init__(self, name, content):\n",
        "        self.id = self._id_creation()\n",
        "        self.name = name\n",
        "        self.content = content\n",
        "        self.replies = [] # 대댓글 저장 리스트\n",
        "        self.written_date = datetime.now().strftime('%Y-%m-%d %H:%M')\n",
        "\n",
        "        # Comment.comment_counts +=1\n",
        "\n",
        "    def _id_creation(self):\n",
        "        id = uuid.uuid4().hex\n",
        "        if id not in self.ids:\n",
        "            self.ids.append(id)\n",
        "            return id\n",
        "        else:\n",
        "            return id\n",
        "\n",
        "    def reply(self, next):\n",
        "        self.replies.append(next)\n",
        "\n",
        "    def like(self): # 좋아요 기능\n",
        "        self.likes +=1\n",
        "\n",
        "    def __str__(self):\n",
        "        result = f'(좋아요 : {self.likes} ) [{self.written_date}] {self.name}: {self.content} \\n'\n",
        "\n",
        "        for reply in self.replies:\n",
        "            result += f' - {reply}'\n",
        "        return result\n",
        "\n",
        "    def __repr__(self):\n",
        "        result = f'(좋아요 : {self.likes} ) [{self.written_date}] {self.name}: {self.content} \\n'\n",
        "\n",
        "        for reply in self.replies:\n",
        "            result += f' - {reply}'\n",
        "        return result\n",
        "\n",
        "    @classmethod\n",
        "    def increment(cls):\n",
        "        cls.comment_counts += 1\n",
        "\n",
        "comment1 = Comment('철수', '파이썬 너무 어렵다.')\n",
        "comment1.increment()\n",
        "comment1.like()\n",
        "\n",
        "time.sleep(60)\n",
        "\n",
        "comment2 = Comment('길동', '난 할 만 하던데')\n",
        "comment2.increment()\n",
        "comment1.reply(comment2)\n",
        "\n",
        "print(comment1)\n",
        "\n",
        "time.sleep(60)\n",
        "\n",
        "comment3 = Comment('John', 'That can be difficult at advanced levels')\n",
        "comment3.increment()\n",
        "comment2.reply(comment3)\n",
        "comment3.like()\n",
        "\n",
        "print(comment2)\n",
        "print(comment3)\n",
        "\n",
        "\n",
        "print('댓글 갯수 및 id 정보')\n",
        "print(f'댓글 갯수: {Comment.comment_counts}개')\n",
        "print(f'고유 id 리스트: {Comment.ids}')\n",
        "\n",
        "# d.strftime('%Y-%m-%d %H:%M:%S')"
      ],
      "metadata": {
        "id": "2kkjJE8TEqLu",
        "colab": {
          "base_uri": "https://localhost:8080/"
        },
        "outputId": "5d39c28e-8e87-484f-94b8-d537a179d1b7"
      },
      "execution_count": 2,
      "outputs": [
        {
          "output_type": "stream",
          "name": "stdout",
          "text": [
            "(좋아요 : 1 ) [2024-01-16 00:19] 철수: 파이썬 너무 어렵다. \n",
            " - (좋아요 : 0 ) [2024-01-16 00:20] 길동: 난 할 만 하던데 \n",
            "\n",
            "(좋아요 : 0 ) [2024-01-16 00:20] 길동: 난 할 만 하던데 \n",
            " - (좋아요 : 1 ) [2024-01-16 00:21] John: That can be difficult at advanced levels \n",
            "\n",
            "(좋아요 : 1 ) [2024-01-16 00:21] John: That can be difficult at advanced levels \n",
            "\n",
            "댓글 갯수 및 id 정보\n",
            "댓글 갯수: 3개\n",
            "고유 id 리스트: ['da35077d86e6465c8a2500ebf3d3517a', '2a0e155d0d0e4868bc96a8504c753349', '59b4823be3724b6aa88f07b0c89f6248']\n"
          ]
        }
      ]
    },
    {
      "cell_type": "code",
      "source": [
        "from datetime import datetime\n",
        "\n",
        "class Comment:\n",
        "    def __init__(self, comment_id, author, content, parent=None, timestamp=None):\n",
        "        self.comment_id = comment_id\n",
        "        self.author = author\n",
        "        self.content = content\n",
        "        self.parent = parent\n",
        "        self.timestamp = timestamp or datetime.now()\n",
        "\n",
        "        self.replies = []  # 대댓글을 저장할 리스트\n",
        "\n",
        "    def add_reply(self, reply):\n",
        "        self.replies.append(reply)\n",
        "\n",
        "    def display(self, depth=0):\n",
        "        blank = \"  \" * depth # 주 댓글 공백을 띄워주는 출력기능\n",
        "        print(f\"{blank}ID: {self.comment_id}\")\n",
        "        print(f\"{blank}Author: {self.author}\")\n",
        "        print(f\"{blank}Content: {self.content}\")\n",
        "        print(f\"{blank}Timestamp: {self.timestamp.strftime('%Y-%m-%d %H:%M')}\")\n",
        "\n",
        "        for reply in self.replies:\n",
        "            reply.display(depth + 1)\n",
        "\n",
        "# 예제 사용:\n",
        "if __name__ == \"__main__\":\n",
        "    # 루트 댓글 생성\n",
        "    root_comment = Comment(1, \"기준하\", \"이것은 주 댓글입니다.\")\n",
        "\n",
        "    # 루트 댓글에 대댓글 추가\n",
        "    reply1 = Comment(2, \"홍길동\", \"주 댓글에 대한 첫 번째 대댓글입니다.\", parent=root_comment)\n",
        "    root_comment.add_reply(reply1)\n",
        "\n",
        "    reply2 = Comment(3, \"이순신\", \"주 댓글에 대한 두 번째 대댓글입니다.\", parent=root_comment)\n",
        "    root_comment.add_reply(reply2)\n",
        "\n",
        "    # 대댓글에 대한 댓글 추가\n",
        "    reply3 = Comment(4, \"세종\", \"첫 번째 대댓글에 대한 댓글입니다.\", parent=reply1)\n",
        "    reply1.add_reply(reply3)\n",
        "\n",
        "    # 댓글을 계층적으로 출력\n",
        "    root_comment.display()"
      ],
      "metadata": {
        "colab": {
          "base_uri": "https://localhost:8080/"
        },
        "id": "BwxOxKnioqy5",
        "outputId": "16b5b5b5-f3b9-42ce-b585-23692a94893d"
      },
      "execution_count": 3,
      "outputs": [
        {
          "output_type": "stream",
          "name": "stdout",
          "text": [
            "ID: 1\n",
            "Author: 기준하\n",
            "Content: 이것은 주 댓글입니다.\n",
            "Timestamp: 2024-01-16 00:21\n",
            "  ID: 2\n",
            "  Author: 홍길동\n",
            "  Content: 주 댓글에 대한 첫 번째 대댓글입니다.\n",
            "  Timestamp: 2024-01-16 00:21\n",
            "    ID: 4\n",
            "    Author: 세종\n",
            "    Content: 첫 번째 대댓글에 대한 댓글입니다.\n",
            "    Timestamp: 2024-01-16 00:21\n",
            "  ID: 3\n",
            "  Author: 이순신\n",
            "  Content: 주 댓글에 대한 두 번째 대댓글입니다.\n",
            "  Timestamp: 2024-01-16 00:21\n"
          ]
        }
      ]
    },
    {
      "cell_type": "code",
      "source": [],
      "metadata": {
        "id": "E2wkpbejpB7Q"
      },
      "execution_count": null,
      "outputs": []
    }
  ]
}