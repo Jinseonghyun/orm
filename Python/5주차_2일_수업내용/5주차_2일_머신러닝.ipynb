{
  "nbformat": 4,
  "nbformat_minor": 0,
  "metadata": {
    "colab": {
      "provenance": []
    },
    "kernelspec": {
      "name": "python3",
      "display_name": "Python 3"
    },
    "language_info": {
      "name": "python"
    }
  },
  "cells": [
    {
      "cell_type": "markdown",
      "source": [
        "#1. 데이터 import"
      ],
      "metadata": {
        "id": "j-_X5LRtGW_p"
      }
    },
    {
      "cell_type": "code",
      "source": [
        "from sklearn.datasets import fetch_openml\n",
        "\n",
        "# fetch_openml을 사용하여 타이타닉 데이터셋을 불러옵니다.\n",
        "titanic = fetch_openml('titanic', version=1, as_frame=True)\n",
        "\n",
        "# 데이터 프레임으로 변환\n",
        "titanic_data = titanic.frame"
      ],
      "metadata": {
        "colab": {
          "base_uri": "https://localhost:8080/"
        },
        "id": "UnVtT5UfTVwJ",
        "outputId": "b0cae806-84c8-49ef-96a6-f91e4fdfbfdd"
      },
      "execution_count": null,
      "outputs": [
        {
          "output_type": "stream",
          "name": "stderr",
          "text": [
            "/usr/local/lib/python3.10/dist-packages/sklearn/datasets/_openml.py:968: FutureWarning: The default value of `parser` will change from `'liac-arff'` to `'auto'` in 1.4. You can set `parser='auto'` to silence this warning. Therefore, an `ImportError` will be raised from 1.4 if the dataset is dense and pandas is not installed. Note that the pandas parser may return different data types. See the Notes Section in fetch_openml's API doc for details.\n",
            "  warn(\n"
          ]
        }
      ]
    },
    {
      "cell_type": "markdown",
      "source": [
        "#2.데이터 확인"
      ],
      "metadata": {
        "id": "y2N8g608UFZJ"
      }
    },
    {
      "cell_type": "code",
      "source": [
        "# 데이터의 처음 5행을 출력하여 데이터를 살펴봅니다.\n",
        "print(titanic_data.head())"
      ],
      "metadata": {
        "colab": {
          "base_uri": "https://localhost:8080/"
        },
        "id": "0HGQvs-KThAm",
        "outputId": "ae37502d-f19d-4e6b-f8e1-c99169c8f756"
      },
      "execution_count": null,
      "outputs": [
        {
          "output_type": "stream",
          "name": "stdout",
          "text": [
            "   pclass survived                                             name     sex  \\\n",
            "0     1.0        1                    Allen, Miss. Elisabeth Walton  female   \n",
            "1     1.0        1                   Allison, Master. Hudson Trevor    male   \n",
            "2     1.0        0                     Allison, Miss. Helen Loraine  female   \n",
            "3     1.0        0             Allison, Mr. Hudson Joshua Creighton    male   \n",
            "4     1.0        0  Allison, Mrs. Hudson J C (Bessie Waldo Daniels)  female   \n",
            "\n",
            "       age  sibsp  parch  ticket      fare    cabin embarked  boat   body  \\\n",
            "0  29.0000    0.0    0.0   24160  211.3375       B5        S     2   None   \n",
            "1   0.9167    1.0    2.0  113781  151.5500  C22 C26        S    11    NaN   \n",
            "2   2.0000    1.0    2.0  113781  151.5500  C22 C26        S  None    NaN   \n",
            "3  30.0000    1.0    2.0  113781  151.5500  C22 C26        S  None  135.0   \n",
            "4  25.0000    1.0    2.0  113781  151.5500  C22 C26        S  None    NaN   \n",
            "\n",
            "                         home.dest  \n",
            "0                     St Louis, MO  \n",
            "1  Montreal, PQ / Chesterville, ON  \n",
            "2  Montreal, PQ / Chesterville, ON  \n",
            "3  Montreal, PQ / Chesterville, ON  \n",
            "4  Montreal, PQ / Chesterville, ON  \n"
          ]
        }
      ]
    },
    {
      "cell_type": "code",
      "source": [
        "# 데이터셋의 통계적 요약을 출력합니다.\n",
        "print(titanic_data.describe())"
      ],
      "metadata": {
        "colab": {
          "base_uri": "https://localhost:8080/"
        },
        "id": "IQ10RsUhULLx",
        "outputId": "d48a26ec-1409-468e-b19b-d0b6a48d1f5e"
      },
      "execution_count": null,
      "outputs": [
        {
          "output_type": "stream",
          "name": "stdout",
          "text": [
            "            pclass          age        sibsp        parch         fare\n",
            "count  1309.000000  1046.000000  1309.000000  1309.000000  1308.000000\n",
            "mean      2.294882    29.881135     0.498854     0.385027    33.295479\n",
            "std       0.837836    14.413500     1.041658     0.865560    51.758668\n",
            "min       1.000000     0.166700     0.000000     0.000000     0.000000\n",
            "25%       2.000000    21.000000     0.000000     0.000000     7.895800\n",
            "50%       3.000000    28.000000     0.000000     0.000000    14.454200\n",
            "75%       3.000000    39.000000     1.000000     0.000000    31.275000\n",
            "max       3.000000    80.000000     8.000000     9.000000   512.329200\n"
          ]
        }
      ]
    },
    {
      "cell_type": "code",
      "source": [
        "# 데이터셋의 통계적 요약을 출력합니다.\n",
        "print(titanic_data.info())"
      ],
      "metadata": {
        "colab": {
          "base_uri": "https://localhost:8080/"
        },
        "id": "LXp6M3etUSDB",
        "outputId": "568d51a2-c921-42dd-9ecb-5b73a908e03c"
      },
      "execution_count": null,
      "outputs": [
        {
          "output_type": "stream",
          "name": "stdout",
          "text": [
            "<class 'pandas.core.frame.DataFrame'>\n",
            "RangeIndex: 1309 entries, 0 to 1308\n",
            "Data columns (total 14 columns):\n",
            " #   Column     Non-Null Count  Dtype   \n",
            "---  ------     --------------  -----   \n",
            " 0   pclass     1309 non-null   float64 \n",
            " 1   survived   1309 non-null   category\n",
            " 2   name       1309 non-null   object  \n",
            " 3   sex        1309 non-null   category\n",
            " 4   age        1046 non-null   float64 \n",
            " 5   sibsp      1309 non-null   float64 \n",
            " 6   parch      1309 non-null   float64 \n",
            " 7   ticket     1309 non-null   object  \n",
            " 8   fare       1308 non-null   float64 \n",
            " 9   cabin      295 non-null    object  \n",
            " 10  embarked   1307 non-null   category\n",
            " 11  boat       486 non-null    object  \n",
            " 12  body       121 non-null    object  \n",
            " 13  home.dest  745 non-null    object  \n",
            "dtypes: category(3), float64(5), object(6)\n",
            "memory usage: 116.8+ KB\n",
            "None\n"
          ]
        }
      ]
    },
    {
      "cell_type": "code",
      "source": [
        "# 결측치가 있는지 확인합니다.\n",
        "print(titanic_data.isnull().sum())"
      ],
      "metadata": {
        "colab": {
          "base_uri": "https://localhost:8080/"
        },
        "id": "uCpffTo2UNjY",
        "outputId": "98f44e25-cb0c-4041-c1d0-3dc80226effb"
      },
      "execution_count": null,
      "outputs": [
        {
          "output_type": "stream",
          "name": "stdout",
          "text": [
            "pclass          0\n",
            "survived        0\n",
            "name            0\n",
            "sex             0\n",
            "age           263\n",
            "sibsp           0\n",
            "parch           0\n",
            "ticket          0\n",
            "fare            1\n",
            "cabin        1014\n",
            "embarked        2\n",
            "boat          823\n",
            "body         1188\n",
            "home.dest     564\n",
            "dtype: int64\n"
          ]
        }
      ]
    },
    {
      "cell_type": "markdown",
      "source": [
        "#3. 데이터 전처리"
      ],
      "metadata": {
        "id": "xccbHkJOUOyh"
      }
    },
    {
      "cell_type": "code",
      "source": [
        "import pandas as pd\n",
        "\n",
        "# 예시: 나이 결측치 처리, 성별 인코딩, 불필요한 특성 제거\n",
        "\n",
        "# 1. 250개가 결측치 -> 만약에 이 데이터를 다 제거했을경우 1300개 20% 데이터 손실! -> 모델성능도 떨어질수 있다.\n",
        "# 2. 250개를 살렸을때 -> 값을 모르는 상태 대체했을때 -> 1300개 다 쓸수있으니까 데이터는 확보 -> 신빙성이 떨어질수 있다.\n",
        "    # -> 준지도학습 다른 데이터에 기반해서 추정!\n",
        "\n",
        "#추가 : 새로운 변수는 없을까?\n",
        "\n",
        "titanic_data['age'].fillna(titanic_data['age'].mean(), inplace=True) # ['age']변수의 평균값으로 null값을 채워라 / 기존 데이터에 업데이트 해라)\n",
        "\n",
        "titanic_data['sex'] = titanic_data['sex'].map({'male': 0, 'female': 1})\n",
        "\n",
        "titanic_data = titanic_data.drop(['name', 'ticket', 'cabin', 'embarked', 'boat', 'body', 'home.dest'], axis=1)"
      ],
      "metadata": {
        "id": "-gBts1hSUlvS"
      },
      "execution_count": null,
      "outputs": []
    },
    {
      "cell_type": "code",
      "source": [
        "print(titanic_data.info())"
      ],
      "metadata": {
        "colab": {
          "base_uri": "https://localhost:8080/"
        },
        "id": "MaNAFle1VP3q",
        "outputId": "f94599d8-db97-4e29-f677-dc4870057e06"
      },
      "execution_count": null,
      "outputs": [
        {
          "output_type": "stream",
          "name": "stdout",
          "text": [
            "<class 'pandas.core.frame.DataFrame'>\n",
            "RangeIndex: 1309 entries, 0 to 1308\n",
            "Data columns (total 7 columns):\n",
            " #   Column    Non-Null Count  Dtype   \n",
            "---  ------    --------------  -----   \n",
            " 0   pclass    1309 non-null   float64 \n",
            " 1   survived  1309 non-null   category\n",
            " 2   sex       1309 non-null   category\n",
            " 3   age       1309 non-null   float64 \n",
            " 4   sibsp     1309 non-null   float64 \n",
            " 5   parch     1309 non-null   float64 \n",
            " 6   fare      1308 non-null   float64 \n",
            "dtypes: category(2), float64(5)\n",
            "memory usage: 54.1 KB\n",
            "None\n"
          ]
        }
      ]
    },
    {
      "cell_type": "code",
      "source": [
        "print(titanic_data)"
      ],
      "metadata": {
        "colab": {
          "base_uri": "https://localhost:8080/"
        },
        "id": "AruGE9kvVUcK",
        "outputId": "5bc27891-64e3-49e4-c3b5-5f4f3668728e"
      },
      "execution_count": null,
      "outputs": [
        {
          "output_type": "stream",
          "name": "stdout",
          "text": [
            "      pclass survived sex        age  sibsp  parch      fare\n",
            "0        1.0        1   1  29.000000    0.0    0.0  211.3375\n",
            "1        1.0        1   0   0.916700    1.0    2.0  151.5500\n",
            "2        1.0        0   1   2.000000    1.0    2.0  151.5500\n",
            "3        1.0        0   0  30.000000    1.0    2.0  151.5500\n",
            "4        1.0        0   1  25.000000    1.0    2.0  151.5500\n",
            "...      ...      ...  ..        ...    ...    ...       ...\n",
            "1304     3.0        0   1  14.500000    1.0    0.0   14.4542\n",
            "1305     3.0        0   1  29.881135    1.0    0.0   14.4542\n",
            "1306     3.0        0   0  26.500000    0.0    0.0    7.2250\n",
            "1307     3.0        0   0  27.000000    0.0    0.0    7.2250\n",
            "1308     3.0        0   0  29.000000    0.0    0.0    7.8750\n",
            "\n",
            "[1309 rows x 7 columns]\n"
          ]
        }
      ]
    },
    {
      "cell_type": "code",
      "source": [
        "titanic_data['fare'].fillna(titanic_data['fare'].mean(), inplace=True) # ['age']변수의 평균값으로 null값을 채워라 / 기존 데이터에 업데이트 해라)"
      ],
      "metadata": {
        "id": "ERV8OGvyaPuQ"
      },
      "execution_count": null,
      "outputs": []
    },
    {
      "cell_type": "code",
      "source": [
        "print(titanic_data.info())"
      ],
      "metadata": {
        "id": "BWhnB-WeaP1w",
        "colab": {
          "base_uri": "https://localhost:8080/"
        },
        "outputId": "2c478312-e718-40da-e080-e1a700c2cfc9"
      },
      "execution_count": null,
      "outputs": [
        {
          "output_type": "stream",
          "name": "stdout",
          "text": [
            "<class 'pandas.core.frame.DataFrame'>\n",
            "RangeIndex: 1309 entries, 0 to 1308\n",
            "Data columns (total 7 columns):\n",
            " #   Column    Non-Null Count  Dtype   \n",
            "---  ------    --------------  -----   \n",
            " 0   pclass    1309 non-null   float64 \n",
            " 1   survived  1309 non-null   category\n",
            " 2   sex       1309 non-null   category\n",
            " 3   age       1309 non-null   float64 \n",
            " 4   sibsp     1309 non-null   float64 \n",
            " 5   parch     1309 non-null   float64 \n",
            " 6   fare      1309 non-null   float64 \n",
            "dtypes: category(2), float64(5)\n",
            "memory usage: 54.1 KB\n",
            "None\n"
          ]
        }
      ]
    },
    {
      "cell_type": "markdown",
      "source": [
        "#4. 데이터 분할"
      ],
      "metadata": {
        "id": "1EmWtt3AY3xO"
      }
    },
    {
      "cell_type": "code",
      "source": [
        "from sklearn.model_selection import train_test_split\n",
        "\n",
        "# 입력 변수와 타겟 변수 분리\n",
        "X = titanic_data.drop(['survived'], axis=1) # 'survived' 컬럼 제외  (x에는 타겟이 있으면 안됨)\n",
        "y = titanic_data['survived'] # 타겟 변수  (y에만 정답이 있어야한다.)\n",
        "\n",
        "# 데이터 분할: 훈련 세트 80%, 테스트 세트 20%\n",
        "X_train, X_test, y_train, y_test = train_test_split(X, y, test_size=0.2, random_state=31) # 고정된 값으로 분할이 가능"
      ],
      "metadata": {
        "id": "eBkXDbbuVlAQ"
      },
      "execution_count": null,
      "outputs": []
    },
    {
      "cell_type": "code",
      "source": [
        "X_test"
      ],
      "metadata": {
        "colab": {
          "base_uri": "https://localhost:8080/",
          "height": 423
        },
        "id": "E8_1dglVao0I",
        "outputId": "efb56c31-0beb-47ce-ab3c-6a1627451a66"
      },
      "execution_count": null,
      "outputs": [
        {
          "output_type": "execute_result",
          "data": {
            "text/plain": [
              "      pclass sex        age  sibsp  parch     fare\n",
              "1074     3.0   0  29.881135    0.0    0.0   7.7500\n",
              "703      3.0   0  21.000000    0.0    0.0   7.7500\n",
              "222      1.0   0  28.500000    0.0    0.0  27.7208\n",
              "1295     3.0   0  21.000000    0.0    0.0   7.2500\n",
              "557      2.0   1  25.000000    0.0    1.0  26.0000\n",
              "...      ...  ..        ...    ...    ...      ...\n",
              "997      3.0   1  29.881135    0.0    0.0   7.2250\n",
              "170      1.0   0  49.000000    0.0    0.0   0.0000\n",
              "1159     3.0   1  29.881135    0.0    0.0   8.0500\n",
              "966      3.0   1  25.000000    0.0    0.0   7.7750\n",
              "696      3.0   1  21.000000    0.0    0.0   8.6625\n",
              "\n",
              "[262 rows x 6 columns]"
            ],
            "text/html": [
              "\n",
              "  <div id=\"df-bd3beed7-67d9-45c5-acfd-2f2754d04518\" class=\"colab-df-container\">\n",
              "    <div>\n",
              "<style scoped>\n",
              "    .dataframe tbody tr th:only-of-type {\n",
              "        vertical-align: middle;\n",
              "    }\n",
              "\n",
              "    .dataframe tbody tr th {\n",
              "        vertical-align: top;\n",
              "    }\n",
              "\n",
              "    .dataframe thead th {\n",
              "        text-align: right;\n",
              "    }\n",
              "</style>\n",
              "<table border=\"1\" class=\"dataframe\">\n",
              "  <thead>\n",
              "    <tr style=\"text-align: right;\">\n",
              "      <th></th>\n",
              "      <th>pclass</th>\n",
              "      <th>sex</th>\n",
              "      <th>age</th>\n",
              "      <th>sibsp</th>\n",
              "      <th>parch</th>\n",
              "      <th>fare</th>\n",
              "    </tr>\n",
              "  </thead>\n",
              "  <tbody>\n",
              "    <tr>\n",
              "      <th>1074</th>\n",
              "      <td>3.0</td>\n",
              "      <td>0</td>\n",
              "      <td>29.881135</td>\n",
              "      <td>0.0</td>\n",
              "      <td>0.0</td>\n",
              "      <td>7.7500</td>\n",
              "    </tr>\n",
              "    <tr>\n",
              "      <th>703</th>\n",
              "      <td>3.0</td>\n",
              "      <td>0</td>\n",
              "      <td>21.000000</td>\n",
              "      <td>0.0</td>\n",
              "      <td>0.0</td>\n",
              "      <td>7.7500</td>\n",
              "    </tr>\n",
              "    <tr>\n",
              "      <th>222</th>\n",
              "      <td>1.0</td>\n",
              "      <td>0</td>\n",
              "      <td>28.500000</td>\n",
              "      <td>0.0</td>\n",
              "      <td>0.0</td>\n",
              "      <td>27.7208</td>\n",
              "    </tr>\n",
              "    <tr>\n",
              "      <th>1295</th>\n",
              "      <td>3.0</td>\n",
              "      <td>0</td>\n",
              "      <td>21.000000</td>\n",
              "      <td>0.0</td>\n",
              "      <td>0.0</td>\n",
              "      <td>7.2500</td>\n",
              "    </tr>\n",
              "    <tr>\n",
              "      <th>557</th>\n",
              "      <td>2.0</td>\n",
              "      <td>1</td>\n",
              "      <td>25.000000</td>\n",
              "      <td>0.0</td>\n",
              "      <td>1.0</td>\n",
              "      <td>26.0000</td>\n",
              "    </tr>\n",
              "    <tr>\n",
              "      <th>...</th>\n",
              "      <td>...</td>\n",
              "      <td>...</td>\n",
              "      <td>...</td>\n",
              "      <td>...</td>\n",
              "      <td>...</td>\n",
              "      <td>...</td>\n",
              "    </tr>\n",
              "    <tr>\n",
              "      <th>997</th>\n",
              "      <td>3.0</td>\n",
              "      <td>1</td>\n",
              "      <td>29.881135</td>\n",
              "      <td>0.0</td>\n",
              "      <td>0.0</td>\n",
              "      <td>7.2250</td>\n",
              "    </tr>\n",
              "    <tr>\n",
              "      <th>170</th>\n",
              "      <td>1.0</td>\n",
              "      <td>0</td>\n",
              "      <td>49.000000</td>\n",
              "      <td>0.0</td>\n",
              "      <td>0.0</td>\n",
              "      <td>0.0000</td>\n",
              "    </tr>\n",
              "    <tr>\n",
              "      <th>1159</th>\n",
              "      <td>3.0</td>\n",
              "      <td>1</td>\n",
              "      <td>29.881135</td>\n",
              "      <td>0.0</td>\n",
              "      <td>0.0</td>\n",
              "      <td>8.0500</td>\n",
              "    </tr>\n",
              "    <tr>\n",
              "      <th>966</th>\n",
              "      <td>3.0</td>\n",
              "      <td>1</td>\n",
              "      <td>25.000000</td>\n",
              "      <td>0.0</td>\n",
              "      <td>0.0</td>\n",
              "      <td>7.7750</td>\n",
              "    </tr>\n",
              "    <tr>\n",
              "      <th>696</th>\n",
              "      <td>3.0</td>\n",
              "      <td>1</td>\n",
              "      <td>21.000000</td>\n",
              "      <td>0.0</td>\n",
              "      <td>0.0</td>\n",
              "      <td>8.6625</td>\n",
              "    </tr>\n",
              "  </tbody>\n",
              "</table>\n",
              "<p>262 rows × 6 columns</p>\n",
              "</div>\n",
              "    <div class=\"colab-df-buttons\">\n",
              "\n",
              "  <div class=\"colab-df-container\">\n",
              "    <button class=\"colab-df-convert\" onclick=\"convertToInteractive('df-bd3beed7-67d9-45c5-acfd-2f2754d04518')\"\n",
              "            title=\"Convert this dataframe to an interactive table.\"\n",
              "            style=\"display:none;\">\n",
              "\n",
              "  <svg xmlns=\"http://www.w3.org/2000/svg\" height=\"24px\" viewBox=\"0 -960 960 960\">\n",
              "    <path d=\"M120-120v-720h720v720H120Zm60-500h600v-160H180v160Zm220 220h160v-160H400v160Zm0 220h160v-160H400v160ZM180-400h160v-160H180v160Zm440 0h160v-160H620v160ZM180-180h160v-160H180v160Zm440 0h160v-160H620v160Z\"/>\n",
              "  </svg>\n",
              "    </button>\n",
              "\n",
              "  <style>\n",
              "    .colab-df-container {\n",
              "      display:flex;\n",
              "      gap: 12px;\n",
              "    }\n",
              "\n",
              "    .colab-df-convert {\n",
              "      background-color: #E8F0FE;\n",
              "      border: none;\n",
              "      border-radius: 50%;\n",
              "      cursor: pointer;\n",
              "      display: none;\n",
              "      fill: #1967D2;\n",
              "      height: 32px;\n",
              "      padding: 0 0 0 0;\n",
              "      width: 32px;\n",
              "    }\n",
              "\n",
              "    .colab-df-convert:hover {\n",
              "      background-color: #E2EBFA;\n",
              "      box-shadow: 0px 1px 2px rgba(60, 64, 67, 0.3), 0px 1px 3px 1px rgba(60, 64, 67, 0.15);\n",
              "      fill: #174EA6;\n",
              "    }\n",
              "\n",
              "    .colab-df-buttons div {\n",
              "      margin-bottom: 4px;\n",
              "    }\n",
              "\n",
              "    [theme=dark] .colab-df-convert {\n",
              "      background-color: #3B4455;\n",
              "      fill: #D2E3FC;\n",
              "    }\n",
              "\n",
              "    [theme=dark] .colab-df-convert:hover {\n",
              "      background-color: #434B5C;\n",
              "      box-shadow: 0px 1px 3px 1px rgba(0, 0, 0, 0.15);\n",
              "      filter: drop-shadow(0px 1px 2px rgba(0, 0, 0, 0.3));\n",
              "      fill: #FFFFFF;\n",
              "    }\n",
              "  </style>\n",
              "\n",
              "    <script>\n",
              "      const buttonEl =\n",
              "        document.querySelector('#df-bd3beed7-67d9-45c5-acfd-2f2754d04518 button.colab-df-convert');\n",
              "      buttonEl.style.display =\n",
              "        google.colab.kernel.accessAllowed ? 'block' : 'none';\n",
              "\n",
              "      async function convertToInteractive(key) {\n",
              "        const element = document.querySelector('#df-bd3beed7-67d9-45c5-acfd-2f2754d04518');\n",
              "        const dataTable =\n",
              "          await google.colab.kernel.invokeFunction('convertToInteractive',\n",
              "                                                    [key], {});\n",
              "        if (!dataTable) return;\n",
              "\n",
              "        const docLinkHtml = 'Like what you see? Visit the ' +\n",
              "          '<a target=\"_blank\" href=https://colab.research.google.com/notebooks/data_table.ipynb>data table notebook</a>'\n",
              "          + ' to learn more about interactive tables.';\n",
              "        element.innerHTML = '';\n",
              "        dataTable['output_type'] = 'display_data';\n",
              "        await google.colab.output.renderOutput(dataTable, element);\n",
              "        const docLink = document.createElement('div');\n",
              "        docLink.innerHTML = docLinkHtml;\n",
              "        element.appendChild(docLink);\n",
              "      }\n",
              "    </script>\n",
              "  </div>\n",
              "\n",
              "\n",
              "<div id=\"df-2abbd3e2-e003-4303-9437-cdd4ef6056f1\">\n",
              "  <button class=\"colab-df-quickchart\" onclick=\"quickchart('df-2abbd3e2-e003-4303-9437-cdd4ef6056f1')\"\n",
              "            title=\"Suggest charts\"\n",
              "            style=\"display:none;\">\n",
              "\n",
              "<svg xmlns=\"http://www.w3.org/2000/svg\" height=\"24px\"viewBox=\"0 0 24 24\"\n",
              "     width=\"24px\">\n",
              "    <g>\n",
              "        <path d=\"M19 3H5c-1.1 0-2 .9-2 2v14c0 1.1.9 2 2 2h14c1.1 0 2-.9 2-2V5c0-1.1-.9-2-2-2zM9 17H7v-7h2v7zm4 0h-2V7h2v10zm4 0h-2v-4h2v4z\"/>\n",
              "    </g>\n",
              "</svg>\n",
              "  </button>\n",
              "\n",
              "<style>\n",
              "  .colab-df-quickchart {\n",
              "      --bg-color: #E8F0FE;\n",
              "      --fill-color: #1967D2;\n",
              "      --hover-bg-color: #E2EBFA;\n",
              "      --hover-fill-color: #174EA6;\n",
              "      --disabled-fill-color: #AAA;\n",
              "      --disabled-bg-color: #DDD;\n",
              "  }\n",
              "\n",
              "  [theme=dark] .colab-df-quickchart {\n",
              "      --bg-color: #3B4455;\n",
              "      --fill-color: #D2E3FC;\n",
              "      --hover-bg-color: #434B5C;\n",
              "      --hover-fill-color: #FFFFFF;\n",
              "      --disabled-bg-color: #3B4455;\n",
              "      --disabled-fill-color: #666;\n",
              "  }\n",
              "\n",
              "  .colab-df-quickchart {\n",
              "    background-color: var(--bg-color);\n",
              "    border: none;\n",
              "    border-radius: 50%;\n",
              "    cursor: pointer;\n",
              "    display: none;\n",
              "    fill: var(--fill-color);\n",
              "    height: 32px;\n",
              "    padding: 0;\n",
              "    width: 32px;\n",
              "  }\n",
              "\n",
              "  .colab-df-quickchart:hover {\n",
              "    background-color: var(--hover-bg-color);\n",
              "    box-shadow: 0 1px 2px rgba(60, 64, 67, 0.3), 0 1px 3px 1px rgba(60, 64, 67, 0.15);\n",
              "    fill: var(--button-hover-fill-color);\n",
              "  }\n",
              "\n",
              "  .colab-df-quickchart-complete:disabled,\n",
              "  .colab-df-quickchart-complete:disabled:hover {\n",
              "    background-color: var(--disabled-bg-color);\n",
              "    fill: var(--disabled-fill-color);\n",
              "    box-shadow: none;\n",
              "  }\n",
              "\n",
              "  .colab-df-spinner {\n",
              "    border: 2px solid var(--fill-color);\n",
              "    border-color: transparent;\n",
              "    border-bottom-color: var(--fill-color);\n",
              "    animation:\n",
              "      spin 1s steps(1) infinite;\n",
              "  }\n",
              "\n",
              "  @keyframes spin {\n",
              "    0% {\n",
              "      border-color: transparent;\n",
              "      border-bottom-color: var(--fill-color);\n",
              "      border-left-color: var(--fill-color);\n",
              "    }\n",
              "    20% {\n",
              "      border-color: transparent;\n",
              "      border-left-color: var(--fill-color);\n",
              "      border-top-color: var(--fill-color);\n",
              "    }\n",
              "    30% {\n",
              "      border-color: transparent;\n",
              "      border-left-color: var(--fill-color);\n",
              "      border-top-color: var(--fill-color);\n",
              "      border-right-color: var(--fill-color);\n",
              "    }\n",
              "    40% {\n",
              "      border-color: transparent;\n",
              "      border-right-color: var(--fill-color);\n",
              "      border-top-color: var(--fill-color);\n",
              "    }\n",
              "    60% {\n",
              "      border-color: transparent;\n",
              "      border-right-color: var(--fill-color);\n",
              "    }\n",
              "    80% {\n",
              "      border-color: transparent;\n",
              "      border-right-color: var(--fill-color);\n",
              "      border-bottom-color: var(--fill-color);\n",
              "    }\n",
              "    90% {\n",
              "      border-color: transparent;\n",
              "      border-bottom-color: var(--fill-color);\n",
              "    }\n",
              "  }\n",
              "</style>\n",
              "\n",
              "  <script>\n",
              "    async function quickchart(key) {\n",
              "      const quickchartButtonEl =\n",
              "        document.querySelector('#' + key + ' button');\n",
              "      quickchartButtonEl.disabled = true;  // To prevent multiple clicks.\n",
              "      quickchartButtonEl.classList.add('colab-df-spinner');\n",
              "      try {\n",
              "        const charts = await google.colab.kernel.invokeFunction(\n",
              "            'suggestCharts', [key], {});\n",
              "      } catch (error) {\n",
              "        console.error('Error during call to suggestCharts:', error);\n",
              "      }\n",
              "      quickchartButtonEl.classList.remove('colab-df-spinner');\n",
              "      quickchartButtonEl.classList.add('colab-df-quickchart-complete');\n",
              "    }\n",
              "    (() => {\n",
              "      let quickchartButtonEl =\n",
              "        document.querySelector('#df-2abbd3e2-e003-4303-9437-cdd4ef6056f1 button');\n",
              "      quickchartButtonEl.style.display =\n",
              "        google.colab.kernel.accessAllowed ? 'block' : 'none';\n",
              "    })();\n",
              "  </script>\n",
              "</div>\n",
              "\n",
              "  <div id=\"id_ee2696c5-7228-4a01-90e5-f39be5c53d5a\">\n",
              "    <style>\n",
              "      .colab-df-generate {\n",
              "        background-color: #E8F0FE;\n",
              "        border: none;\n",
              "        border-radius: 50%;\n",
              "        cursor: pointer;\n",
              "        display: none;\n",
              "        fill: #1967D2;\n",
              "        height: 32px;\n",
              "        padding: 0 0 0 0;\n",
              "        width: 32px;\n",
              "      }\n",
              "\n",
              "      .colab-df-generate:hover {\n",
              "        background-color: #E2EBFA;\n",
              "        box-shadow: 0px 1px 2px rgba(60, 64, 67, 0.3), 0px 1px 3px 1px rgba(60, 64, 67, 0.15);\n",
              "        fill: #174EA6;\n",
              "      }\n",
              "\n",
              "      [theme=dark] .colab-df-generate {\n",
              "        background-color: #3B4455;\n",
              "        fill: #D2E3FC;\n",
              "      }\n",
              "\n",
              "      [theme=dark] .colab-df-generate:hover {\n",
              "        background-color: #434B5C;\n",
              "        box-shadow: 0px 1px 3px 1px rgba(0, 0, 0, 0.15);\n",
              "        filter: drop-shadow(0px 1px 2px rgba(0, 0, 0, 0.3));\n",
              "        fill: #FFFFFF;\n",
              "      }\n",
              "    </style>\n",
              "    <button class=\"colab-df-generate\" onclick=\"generateWithVariable('X_test')\"\n",
              "            title=\"Generate code using this dataframe.\"\n",
              "            style=\"display:none;\">\n",
              "\n",
              "  <svg xmlns=\"http://www.w3.org/2000/svg\" height=\"24px\"viewBox=\"0 0 24 24\"\n",
              "       width=\"24px\">\n",
              "    <path d=\"M7,19H8.4L18.45,9,17,7.55,7,17.6ZM5,21V16.75L18.45,3.32a2,2,0,0,1,2.83,0l1.4,1.43a1.91,1.91,0,0,1,.58,1.4,1.91,1.91,0,0,1-.58,1.4L9.25,21ZM18.45,9,17,7.55Zm-12,3A5.31,5.31,0,0,0,4.9,8.1,5.31,5.31,0,0,0,1,6.5,5.31,5.31,0,0,0,4.9,4.9,5.31,5.31,0,0,0,6.5,1,5.31,5.31,0,0,0,8.1,4.9,5.31,5.31,0,0,0,12,6.5,5.46,5.46,0,0,0,6.5,12Z\"/>\n",
              "  </svg>\n",
              "    </button>\n",
              "    <script>\n",
              "      (() => {\n",
              "      const buttonEl =\n",
              "        document.querySelector('#id_ee2696c5-7228-4a01-90e5-f39be5c53d5a button.colab-df-generate');\n",
              "      buttonEl.style.display =\n",
              "        google.colab.kernel.accessAllowed ? 'block' : 'none';\n",
              "\n",
              "      buttonEl.onclick = () => {\n",
              "        google.colab.notebook.generateWithVariable('X_test');\n",
              "      }\n",
              "      })();\n",
              "    </script>\n",
              "  </div>\n",
              "\n",
              "    </div>\n",
              "  </div>\n"
            ]
          },
          "metadata": {},
          "execution_count": 12
        }
      ]
    },
    {
      "cell_type": "markdown",
      "source": [
        "#5. 알고리즘 선택! - 베이스라인 모델"
      ],
      "metadata": {
        "id": "qMAzQGgWYTUJ"
      }
    },
    {
      "cell_type": "code",
      "source": [
        "from sklearn.ensemble import RandomForestClassifier\n",
        "\n",
        "# 랜덤 포레스트 분류기 인스턴스 생성 준비!\n",
        "model = RandomForestClassifier(random_state=31)"
      ],
      "metadata": {
        "id": "QhGC2OAIY8bx"
      },
      "execution_count": null,
      "outputs": []
    },
    {
      "cell_type": "markdown",
      "source": [
        "#6.학습"
      ],
      "metadata": {
        "id": "cjxyYEzWZNwp"
      }
    },
    {
      "cell_type": "code",
      "source": [
        "model.fit(X_train, y_train)"
      ],
      "metadata": {
        "colab": {
          "base_uri": "https://localhost:8080/",
          "height": 74
        },
        "id": "LK5IAFVAZZ3B",
        "outputId": "b7ad2bfb-dc7d-4ffa-f63a-654035d2a979"
      },
      "execution_count": null,
      "outputs": [
        {
          "output_type": "execute_result",
          "data": {
            "text/plain": [
              "RandomForestClassifier(random_state=31)"
            ],
            "text/html": [
              "<style>#sk-container-id-1 {color: black;background-color: white;}#sk-container-id-1 pre{padding: 0;}#sk-container-id-1 div.sk-toggleable {background-color: white;}#sk-container-id-1 label.sk-toggleable__label {cursor: pointer;display: block;width: 100%;margin-bottom: 0;padding: 0.3em;box-sizing: border-box;text-align: center;}#sk-container-id-1 label.sk-toggleable__label-arrow:before {content: \"▸\";float: left;margin-right: 0.25em;color: #696969;}#sk-container-id-1 label.sk-toggleable__label-arrow:hover:before {color: black;}#sk-container-id-1 div.sk-estimator:hover label.sk-toggleable__label-arrow:before {color: black;}#sk-container-id-1 div.sk-toggleable__content {max-height: 0;max-width: 0;overflow: hidden;text-align: left;background-color: #f0f8ff;}#sk-container-id-1 div.sk-toggleable__content pre {margin: 0.2em;color: black;border-radius: 0.25em;background-color: #f0f8ff;}#sk-container-id-1 input.sk-toggleable__control:checked~div.sk-toggleable__content {max-height: 200px;max-width: 100%;overflow: auto;}#sk-container-id-1 input.sk-toggleable__control:checked~label.sk-toggleable__label-arrow:before {content: \"▾\";}#sk-container-id-1 div.sk-estimator input.sk-toggleable__control:checked~label.sk-toggleable__label {background-color: #d4ebff;}#sk-container-id-1 div.sk-label input.sk-toggleable__control:checked~label.sk-toggleable__label {background-color: #d4ebff;}#sk-container-id-1 input.sk-hidden--visually {border: 0;clip: rect(1px 1px 1px 1px);clip: rect(1px, 1px, 1px, 1px);height: 1px;margin: -1px;overflow: hidden;padding: 0;position: absolute;width: 1px;}#sk-container-id-1 div.sk-estimator {font-family: monospace;background-color: #f0f8ff;border: 1px dotted black;border-radius: 0.25em;box-sizing: border-box;margin-bottom: 0.5em;}#sk-container-id-1 div.sk-estimator:hover {background-color: #d4ebff;}#sk-container-id-1 div.sk-parallel-item::after {content: \"\";width: 100%;border-bottom: 1px solid gray;flex-grow: 1;}#sk-container-id-1 div.sk-label:hover label.sk-toggleable__label {background-color: #d4ebff;}#sk-container-id-1 div.sk-serial::before {content: \"\";position: absolute;border-left: 1px solid gray;box-sizing: border-box;top: 0;bottom: 0;left: 50%;z-index: 0;}#sk-container-id-1 div.sk-serial {display: flex;flex-direction: column;align-items: center;background-color: white;padding-right: 0.2em;padding-left: 0.2em;position: relative;}#sk-container-id-1 div.sk-item {position: relative;z-index: 1;}#sk-container-id-1 div.sk-parallel {display: flex;align-items: stretch;justify-content: center;background-color: white;position: relative;}#sk-container-id-1 div.sk-item::before, #sk-container-id-1 div.sk-parallel-item::before {content: \"\";position: absolute;border-left: 1px solid gray;box-sizing: border-box;top: 0;bottom: 0;left: 50%;z-index: -1;}#sk-container-id-1 div.sk-parallel-item {display: flex;flex-direction: column;z-index: 1;position: relative;background-color: white;}#sk-container-id-1 div.sk-parallel-item:first-child::after {align-self: flex-end;width: 50%;}#sk-container-id-1 div.sk-parallel-item:last-child::after {align-self: flex-start;width: 50%;}#sk-container-id-1 div.sk-parallel-item:only-child::after {width: 0;}#sk-container-id-1 div.sk-dashed-wrapped {border: 1px dashed gray;margin: 0 0.4em 0.5em 0.4em;box-sizing: border-box;padding-bottom: 0.4em;background-color: white;}#sk-container-id-1 div.sk-label label {font-family: monospace;font-weight: bold;display: inline-block;line-height: 1.2em;}#sk-container-id-1 div.sk-label-container {text-align: center;}#sk-container-id-1 div.sk-container {/* jupyter's `normalize.less` sets `[hidden] { display: none; }` but bootstrap.min.css set `[hidden] { display: none !important; }` so we also need the `!important` here to be able to override the default hidden behavior on the sphinx rendered scikit-learn.org. See: https://github.com/scikit-learn/scikit-learn/issues/21755 */display: inline-block !important;position: relative;}#sk-container-id-1 div.sk-text-repr-fallback {display: none;}</style><div id=\"sk-container-id-1\" class=\"sk-top-container\"><div class=\"sk-text-repr-fallback\"><pre>RandomForestClassifier(random_state=31)</pre><b>In a Jupyter environment, please rerun this cell to show the HTML representation or trust the notebook. <br />On GitHub, the HTML representation is unable to render, please try loading this page with nbviewer.org.</b></div><div class=\"sk-container\" hidden><div class=\"sk-item\"><div class=\"sk-estimator sk-toggleable\"><input class=\"sk-toggleable__control sk-hidden--visually\" id=\"sk-estimator-id-1\" type=\"checkbox\" checked><label for=\"sk-estimator-id-1\" class=\"sk-toggleable__label sk-toggleable__label-arrow\">RandomForestClassifier</label><div class=\"sk-toggleable__content\"><pre>RandomForestClassifier(random_state=31)</pre></div></div></div></div></div>"
            ]
          },
          "metadata": {},
          "execution_count": 14
        }
      ]
    },
    {
      "cell_type": "markdown",
      "source": [
        "#7.예측"
      ],
      "metadata": {
        "id": "Y1dzeC7UZe95"
      }
    },
    {
      "cell_type": "code",
      "source": [
        "predictions = model.predict(X_test)"
      ],
      "metadata": {
        "id": "9k3tHA0LZ4ag"
      },
      "execution_count": null,
      "outputs": []
    },
    {
      "cell_type": "code",
      "source": [
        "predictions"
      ],
      "metadata": {
        "colab": {
          "base_uri": "https://localhost:8080/"
        },
        "id": "aY-Rxcq0aruI",
        "outputId": "43fab08f-eb5c-477d-d00a-d9722f564d90"
      },
      "execution_count": null,
      "outputs": [
        {
          "output_type": "execute_result",
          "data": {
            "text/plain": [
              "array(['0', '0', '0', '0', '1', '1', '0', '1', '0', '0', '0', '0', '1',\n",
              "       '0', '1', '1', '0', '0', '0', '0', '0', '1', '0', '1', '0', '0',\n",
              "       '1', '0', '0', '0', '0', '0', '1', '1', '0', '0', '1', '0', '0',\n",
              "       '1', '0', '1', '0', '0', '0', '0', '0', '0', '0', '0', '1', '1',\n",
              "       '0', '1', '0', '0', '0', '1', '0', '1', '1', '0', '0', '0', '0',\n",
              "       '0', '0', '0', '0', '0', '0', '1', '1', '1', '1', '1', '1', '1',\n",
              "       '1', '1', '1', '0', '1', '1', '0', '0', '0', '1', '0', '1', '1',\n",
              "       '1', '1', '0', '1', '0', '0', '0', '1', '1', '1', '1', '0', '0',\n",
              "       '0', '1', '0', '1', '1', '0', '1', '0', '0', '0', '1', '1', '1',\n",
              "       '0', '1', '0', '0', '0', '0', '0', '0', '1', '0', '1', '0', '0',\n",
              "       '0', '1', '0', '0', '0', '1', '0', '0', '0', '0', '1', '1', '0',\n",
              "       '0', '0', '0', '1', '1', '0', '1', '1', '0', '1', '0', '1', '1',\n",
              "       '0', '0', '0', '1', '1', '1', '1', '1', '1', '1', '1', '0', '1',\n",
              "       '0', '0', '1', '1', '0', '0', '1', '1', '0', '1', '0', '0', '0',\n",
              "       '0', '0', '0', '0', '1', '0', '0', '0', '0', '0', '0', '0', '1',\n",
              "       '0', '1', '1', '1', '1', '0', '1', '1', '1', '1', '0', '1', '0',\n",
              "       '1', '1', '0', '0', '1', '1', '0', '0', '1', '0', '0', '1', '1',\n",
              "       '1', '0', '0', '0', '1', '1', '1', '1', '1', '0', '0', '0', '0',\n",
              "       '0', '0', '0', '0', '0', '0', '0', '1', '1', '1', '0', '1', '1',\n",
              "       '0', '0', '1', '0', '1', '0', '0', '0', '1', '1', '1', '0', '0',\n",
              "       '1', '0'], dtype=object)"
            ]
          },
          "metadata": {},
          "execution_count": 16
        }
      ]
    },
    {
      "cell_type": "markdown",
      "source": [
        "#8.평가"
      ],
      "metadata": {
        "id": "pnyfp-1wZ7YA"
      }
    },
    {
      "cell_type": "markdown",
      "source": [
        "* 실제값과 예측된값이 실제로 일치하는지를 점검! -> 정확도\n",
        "* 생존여부(1/0) -> 분류 -> 이진 분류 -> 맞는지 틀리는지 정확도!"
      ],
      "metadata": {
        "id": "585deSDLadFZ"
      }
    },
    {
      "cell_type": "code",
      "source": [
        "# 테스트 데이터를 가지고 predict(예측)한다.\n",
        "predictions = model.predict(X_train)"
      ],
      "metadata": {
        "id": "GdgKueHxwmxx"
      },
      "execution_count": null,
      "outputs": []
    },
    {
      "cell_type": "code",
      "source": [
        "from sklearn.metrics import accuracy_score\n",
        "accuracy = accuracy_score(y_train, predictions) #실제값과 예측값을 비교해줘\n",
        "print(f\"Accuracy: {accuracy}\") # 두 데이터가 얼마나 일치하는지 점검"
      ],
      "metadata": {
        "colab": {
          "base_uri": "https://localhost:8080/"
        },
        "id": "JKBpOYaKwoDh",
        "outputId": "fc1611ef-6e17-4d67-ab39-fa9766b268fa"
      },
      "execution_count": null,
      "outputs": [
        {
          "output_type": "stream",
          "name": "stdout",
          "text": [
            "Accuracy: 0.9703915950334289\n"
          ]
        }
      ]
    },
    {
      "cell_type": "code",
      "source": [
        "# 학습 97% / 평가 78% -> 내신 상위 3% / 수능 22%\n",
        "# 과적합 -> 학습된 데이터만 잘 맞추는것! / 그외의 데이터는 잘 맞추지 못한다.!\n",
        "# 보통 학습과 평가간의 10% 이상 오차가 나"
      ],
      "metadata": {
        "id": "IWweIT_VwS9K"
      },
      "execution_count": null,
      "outputs": []
    },
    {
      "cell_type": "code",
      "source": [
        "# 약 200개정도 정답을 맞췄어 60개 정도는 틀렸어!"
      ],
      "metadata": {
        "id": "PkpzL0S6wSii"
      },
      "execution_count": null,
      "outputs": []
    },
    {
      "cell_type": "code",
      "source": [
        "from sklearn.metrics import accuracy_score\n",
        "accuracy = accuracy_score(y_test, predictions) #실제값과 예측값을 비교해줘\n",
        "print(f\"Accuracy: {accuracy}\") # 두 데이터가 얼마나 일치하는지 점검"
      ],
      "metadata": {
        "id": "YrnpBYVRZ9Jw",
        "colab": {
          "base_uri": "https://localhost:8080/"
        },
        "outputId": "c220385d-4a8b-4459-91c7-0775a2acae05"
      },
      "execution_count": null,
      "outputs": [
        {
          "output_type": "stream",
          "name": "stdout",
          "text": [
            "Accuracy: 0.7709923664122137\n"
          ]
        }
      ]
    },
    {
      "cell_type": "code",
      "source": [
        "# 두가지 방법\n",
        "# 1. EDA로 다시 돌아가서 처음부터 진행! -> 78% 마음에 안들어 -> 90%(자의적, 타의적)! # 10번\n",
        "# 2. 나는 이 성능에 만족하니까 하이퍼파라미터 튜닝! # 맨 마지막!"
      ],
      "metadata": {
        "id": "6G42oZydawFZ"
      },
      "execution_count": null,
      "outputs": []
    },
    {
      "cell_type": "code",
      "source": [],
      "metadata": {
        "colab": {
          "base_uri": "https://localhost:8080/",
          "height": 738
        },
        "id": "t7U7tG3Ea436",
        "outputId": "3f965bea-5982-4fa1-cf43-3e582e6053a4"
      },
      "execution_count": null,
      "outputs": [
        {
          "output_type": "display_data",
          "data": {
            "text/plain": [
              "<Figure size 1000x800 with 1 Axes>"
            ],
            "image/png": "[encoded data removed]"
          },
          "metadata": {}
        }
      ]
    },
    {
      "cell_type": "markdown",
      "source": [
        "#9. 튜닝"
      ],
      "metadata": {
        "id": "8r34QwuNbMLF"
      }
    },
    {
      "cell_type": "code",
      "source": [
        "from sklearn.model_selection import GridSearchCV\n",
        "\n",
        "param_grid = {'n_estimators': [50, 100, 200], 'max_depth': [5, 10, 20]}\n",
        "grid_search = GridSearchCV(model, param_grid, cv=5)\n",
        "grid_search.fit(X_train, y_train)"
      ],
      "metadata": {
        "colab": {
          "base_uri": "https://localhost:8080/",
          "height": 116
        },
        "id": "lkVAfzRKbNaa",
        "outputId": "eab39565-2ba9-4885-ed2e-1b8e512e99f5"
      },
      "execution_count": null,
      "outputs": [
        {
          "output_type": "execute_result",
          "data": {
            "text/plain": [
              "GridSearchCV(cv=5, estimator=RandomForestClassifier(random_state=31),\n",
              "             param_grid={'max_depth': [5, 10, 20],\n",
              "                         'n_estimators': [50, 100, 200]})"
            ],
            "text/html": [
              "<style>#sk-container-id-2 {color: black;background-color: white;}#sk-container-id-2 pre{padding: 0;}#sk-container-id-2 div.sk-toggleable {background-color: white;}#sk-container-id-2 label.sk-toggleable__label {cursor: pointer;display: block;width: 100%;margin-bottom: 0;padding: 0.3em;box-sizing: border-box;text-align: center;}#sk-container-id-2 label.sk-toggleable__label-arrow:before {content: \"▸\";float: left;margin-right: 0.25em;color: #696969;}#sk-container-id-2 label.sk-toggleable__label-arrow:hover:before {color: black;}#sk-container-id-2 div.sk-estimator:hover label.sk-toggleable__label-arrow:before {color: black;}#sk-container-id-2 div.sk-toggleable__content {max-height: 0;max-width: 0;overflow: hidden;text-align: left;background-color: #f0f8ff;}#sk-container-id-2 div.sk-toggleable__content pre {margin: 0.2em;color: black;border-radius: 0.25em;background-color: #f0f8ff;}#sk-container-id-2 input.sk-toggleable__control:checked~div.sk-toggleable__content {max-height: 200px;max-width: 100%;overflow: auto;}#sk-container-id-2 input.sk-toggleable__control:checked~label.sk-toggleable__label-arrow:before {content: \"▾\";}#sk-container-id-2 div.sk-estimator input.sk-toggleable__control:checked~label.sk-toggleable__label {background-color: #d4ebff;}#sk-container-id-2 div.sk-label input.sk-toggleable__control:checked~label.sk-toggleable__label {background-color: #d4ebff;}#sk-container-id-2 input.sk-hidden--visually {border: 0;clip: rect(1px 1px 1px 1px);clip: rect(1px, 1px, 1px, 1px);height: 1px;margin: -1px;overflow: hidden;padding: 0;position: absolute;width: 1px;}#sk-container-id-2 div.sk-estimator {font-family: monospace;background-color: #f0f8ff;border: 1px dotted black;border-radius: 0.25em;box-sizing: border-box;margin-bottom: 0.5em;}#sk-container-id-2 div.sk-estimator:hover {background-color: #d4ebff;}#sk-container-id-2 div.sk-parallel-item::after {content: \"\";width: 100%;border-bottom: 1px solid gray;flex-grow: 1;}#sk-container-id-2 div.sk-label:hover label.sk-toggleable__label {background-color: #d4ebff;}#sk-container-id-2 div.sk-serial::before {content: \"\";position: absolute;border-left: 1px solid gray;box-sizing: border-box;top: 0;bottom: 0;left: 50%;z-index: 0;}#sk-container-id-2 div.sk-serial {display: flex;flex-direction: column;align-items: center;background-color: white;padding-right: 0.2em;padding-left: 0.2em;position: relative;}#sk-container-id-2 div.sk-item {position: relative;z-index: 1;}#sk-container-id-2 div.sk-parallel {display: flex;align-items: stretch;justify-content: center;background-color: white;position: relative;}#sk-container-id-2 div.sk-item::before, #sk-container-id-2 div.sk-parallel-item::before {content: \"\";position: absolute;border-left: 1px solid gray;box-sizing: border-box;top: 0;bottom: 0;left: 50%;z-index: -1;}#sk-container-id-2 div.sk-parallel-item {display: flex;flex-direction: column;z-index: 1;position: relative;background-color: white;}#sk-container-id-2 div.sk-parallel-item:first-child::after {align-self: flex-end;width: 50%;}#sk-container-id-2 div.sk-parallel-item:last-child::after {align-self: flex-start;width: 50%;}#sk-container-id-2 div.sk-parallel-item:only-child::after {width: 0;}#sk-container-id-2 div.sk-dashed-wrapped {border: 1px dashed gray;margin: 0 0.4em 0.5em 0.4em;box-sizing: border-box;padding-bottom: 0.4em;background-color: white;}#sk-container-id-2 div.sk-label label {font-family: monospace;font-weight: bold;display: inline-block;line-height: 1.2em;}#sk-container-id-2 div.sk-label-container {text-align: center;}#sk-container-id-2 div.sk-container {/* jupyter's `normalize.less` sets `[hidden] { display: none; }` but bootstrap.min.css set `[hidden] { display: none !important; }` so we also need the `!important` here to be able to override the default hidden behavior on the sphinx rendered scikit-learn.org. See: https://github.com/scikit-learn/scikit-learn/issues/21755 */display: inline-block !important;position: relative;}#sk-container-id-2 div.sk-text-repr-fallback {display: none;}</style><div id=\"sk-container-id-2\" class=\"sk-top-container\"><div class=\"sk-text-repr-fallback\"><pre>GridSearchCV(cv=5, estimator=RandomForestClassifier(random_state=31),\n",
              "             param_grid={&#x27;max_depth&#x27;: [5, 10, 20],\n",
              "                         &#x27;n_estimators&#x27;: [50, 100, 200]})</pre><b>In a Jupyter environment, please rerun this cell to show the HTML representation or trust the notebook. <br />On GitHub, the HTML representation is unable to render, please try loading this page with nbviewer.org.</b></div><div class=\"sk-container\" hidden><div class=\"sk-item sk-dashed-wrapped\"><div class=\"sk-label-container\"><div class=\"sk-label sk-toggleable\"><input class=\"sk-toggleable__control sk-hidden--visually\" id=\"sk-estimator-id-2\" type=\"checkbox\" ><label for=\"sk-estimator-id-2\" class=\"sk-toggleable__label sk-toggleable__label-arrow\">GridSearchCV</label><div class=\"sk-toggleable__content\"><pre>GridSearchCV(cv=5, estimator=RandomForestClassifier(random_state=31),\n",
              "             param_grid={&#x27;max_depth&#x27;: [5, 10, 20],\n",
              "                         &#x27;n_estimators&#x27;: [50, 100, 200]})</pre></div></div></div><div class=\"sk-parallel\"><div class=\"sk-parallel-item\"><div class=\"sk-item\"><div class=\"sk-label-container\"><div class=\"sk-label sk-toggleable\"><input class=\"sk-toggleable__control sk-hidden--visually\" id=\"sk-estimator-id-3\" type=\"checkbox\" ><label for=\"sk-estimator-id-3\" class=\"sk-toggleable__label sk-toggleable__label-arrow\">estimator: RandomForestClassifier</label><div class=\"sk-toggleable__content\"><pre>RandomForestClassifier(random_state=31)</pre></div></div></div><div class=\"sk-serial\"><div class=\"sk-item\"><div class=\"sk-estimator sk-toggleable\"><input class=\"sk-toggleable__control sk-hidden--visually\" id=\"sk-estimator-id-4\" type=\"checkbox\" ><label for=\"sk-estimator-id-4\" class=\"sk-toggleable__label sk-toggleable__label-arrow\">RandomForestClassifier</label><div class=\"sk-toggleable__content\"><pre>RandomForestClassifier(random_state=31)</pre></div></div></div></div></div></div></div></div></div></div>"
            ]
          },
          "metadata": {},
          "execution_count": 20
        }
      ]
    },
    {
      "cell_type": "code",
      "source": [
        "# 테스트 데이터를 가지고 predict(예측)한다.\n",
        "predictions_grid = grid_search.predict(X_test)"
      ],
      "metadata": {
        "id": "Ffa6tc4IbOIZ"
      },
      "execution_count": null,
      "outputs": []
    },
    {
      "cell_type": "code",
      "source": [
        "from sklearn.metrics import accuracy_score\n",
        "accuracy = accuracy_score(y_test, predictions_grid) #실제값과 예측값을 비교해줘\n",
        "print(f\"Accuracy: {accuracy}\") # 두 데이터가 얼마나 일치하는지 점검"
      ],
      "metadata": {
        "colab": {
          "base_uri": "https://localhost:8080/"
        },
        "id": "f5TRWEIabzFw",
        "outputId": "1f199e41-64e3-440d-eeda-598791895dc1"
      },
      "execution_count": null,
      "outputs": [
        {
          "output_type": "stream",
          "name": "stdout",
          "text": [
            "Accuracy: 0.7786259541984732\n"
          ]
        }
      ]
    },
    {
      "cell_type": "code",
      "source": [],
      "metadata": {
        "id": "y2bGLPHabz8X"
      },
      "execution_count": null,
      "outputs": []
    }
  ]
}