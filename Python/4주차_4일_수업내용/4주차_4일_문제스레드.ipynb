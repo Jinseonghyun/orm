{
  "nbformat": 4,
  "nbformat_minor": 0,
  "metadata": {
    "colab": {
      "provenance": []
    },
    "kernelspec": {
      "name": "python3",
      "display_name": "Python 3"
    },
    "language_info": {
      "name": "python"
    }
  },
  "cells": [
    {
      "cell_type": "markdown",
      "source": [
        "# 문제 1: 이메일 주소 변경하기 (sub 사용)\n",
        "- 문제: 주어진 문자열에서 모든 이메일 주소를 user@weniv.co.kr으로 변경하시오.\n",
        "- 예시 입력: \"저의 이메일 주소는 kim123@gmail.com입니다. 친구의 이메일 주소는 lee456@gmail.com입니다.\"\n",
        "- 예시 출력: \"저의 이메일 주소는 user@weniv.co.kr입니다. 친구의 이메일 주소는 user@weniv.co.kr입니다.\"\n",
        "\n",
        "- 힌트: 이메일 주소를 찾기 위한 정규표현식은 \\b[A-Za-z0-9._%+-]+@[A-Za-z0-9.-]+\\.[A-Z|a-z]{2,}\\b를 사용할 수 있습니다."
      ],
      "metadata": {
        "id": "SKXI0Vu8to0g"
      }
    },
    {
      "cell_type": "code",
      "source": [
        "# 문제 오류\n",
        "# 예시 출력에 user@weniv.co.kr 이렇게 되어있는데 @ 앞 부분은 원래 이메일로 동일해야함"
      ],
      "metadata": {
        "id": "_d4aGZJOGwtV"
      },
      "execution_count": null,
      "outputs": []
    },
    {
      "cell_type": "code",
      "source": [
        "# 1번 문제 정답\n",
        "import re\n",
        "\n",
        "example_string = \"저의 이메일 주소는 kim123@gmail.com입니다. 친구의 이메일 주소는 lee456@gmail.com입니다.\"\n",
        "\n",
        "def solution(change_string):\n",
        "    # 정규표현식 힌트 있으나 직접 작성해보기\n",
        "    return re.sub(r\"([a-zA-Z0-9._-]+@[a-zA-Z0-9_-]+\\.[a-zA-Z]+)\", \"user@weniv.co.kr\", change_string)\n",
        "\n",
        "solution(example_string)"
      ],
      "metadata": {
        "colab": {
          "base_uri": "https://localhost:8080/",
          "height": 36
        },
        "id": "hUyAZ0qguqCy",
        "outputId": "4f70d3fb-8e53-45b6-ca08-d89c29155779"
      },
      "execution_count": null,
      "outputs": [
        {
          "output_type": "execute_result",
          "data": {
            "text/plain": [
              "'저의 이메일 주소는 user@weniv.co.kr입니다. 친구의 이메일 주소는 user@weniv.co.kr입니다.'"
            ],
            "application/vnd.google.colaboratory.intrinsic+json": {
              "type": "string"
            }
          },
          "metadata": {},
          "execution_count": 3
        }
      ]
    },
    {
      "cell_type": "code",
      "source": [
        "# 오류 그대로 문제일 때 정답\n",
        "\n",
        "# 출제 했던 문제의 해답\n",
        "my_string = \"저의 이메일 주소는 kim123@gmail.com입니다. 친구의 이메일 주소는 lee456@gmail.com입니다.\"\n",
        "re.sub(r\"[A-Za-z0-9._%+-]+@[A-Za-z0-9.-]+\\.[A-Z|a-z]{2,}\", \"user@weniv.co.kr\", my_string)"
      ],
      "metadata": {
        "colab": {
          "base_uri": "https://localhost:8080/",
          "height": 36
        },
        "id": "-ueZG1fYHDQz",
        "outputId": "3448435d-9002-47bf-a60a-205a7bee8beb"
      },
      "execution_count": 4,
      "outputs": [
        {
          "output_type": "execute_result",
          "data": {
            "text/plain": [
              "'저의 이메일 주소는 user@weniv.co.kr입니다. 친구의 이메일 주소는 user@weniv.co.kr입니다.'"
            ],
            "application/vnd.google.colaboratory.intrinsic+json": {
              "type": "string"
            }
          },
          "metadata": {},
          "execution_count": 4
        }
      ]
    },
    {
      "cell_type": "code",
      "source": [
        "# 원래의도대로 문제 정답\n",
        "# 1번 강사님 답안\n",
        "# 변경된 문제의 해답\n",
        "import re\n",
        "\n",
        "def chagedomain(url):\n",
        "    return url.split('@')[0] + '@weniv.co.kr'\n",
        "\n",
        "# 콤마는 의도적으로 넣지 않은 것입니다.\n",
        "findpattern = re.findall(r\"[A-Za-z0-9._%+-]+@[A-Za-z0-9.-]+\\.[A-Z|a-z]{2,}\",\n",
        "                         \"저의 이메일 주소는 kim123@gmail.com입니다.\"\n",
        "                         \"친구의 이메일 주소는 lee456@gmail.com입니다.\")\n",
        "\n",
        "for url in findpattern:\n",
        "    print(chagedomain(url))"
      ],
      "metadata": {
        "colab": {
          "base_uri": "https://localhost:8080/"
        },
        "id": "81H3U6yRE540",
        "outputId": "c6cdde5f-4635-4134-f703-d3f0c85e2953"
      },
      "execution_count": 3,
      "outputs": [
        {
          "output_type": "stream",
          "name": "stdout",
          "text": [
            "kim123@weniv.co.kr\n",
            "lee456@weniv.co.kr\n"
          ]
        }
      ]
    },
    {
      "cell_type": "code",
      "source": [
        "# 변경된 문제의 해답\n",
        "my_string = \"저의 이메일 주소는 kim123@gmail.com입니다. 친구의 이메일 주소는 lee456@gmail.com입니다.\"\n",
        "re.sub(r\"@[A-Za-z0-9.-]+\\.[A-Z|a-z]{2,}\", \"@weniv.co.kr\", my_string)"
      ],
      "metadata": {
        "colab": {
          "base_uri": "https://localhost:8080/",
          "height": 36
        },
        "id": "vLCRrC9ZHU41",
        "outputId": "b1355bc3-320a-4266-c400-f74b179da71e"
      },
      "execution_count": 5,
      "outputs": [
        {
          "output_type": "execute_result",
          "data": {
            "text/plain": [
              "'저의 이메일 주소는 kim123@weniv.co.kr입니다. 친구의 이메일 주소는 lee456@weniv.co.kr입니다.'"
            ],
            "application/vnd.google.colaboratory.intrinsic+json": {
              "type": "string"
            }
          },
          "metadata": {},
          "execution_count": 5
        }
      ]
    },
    {
      "cell_type": "markdown",
      "source": [
        "# 문제 2: HTML 태그 제거하기 (sub 사용)\n",
        "- 문제: 주어진 HTML 문자열에서 모든 HTML 태그를 제거하고 텍스트만 남기시오.\n",
        "- 예시 입력: \"<p>이것은 <b>예시</b> 문장입니다.</p>\"\n",
        "- 예시 출력: \"이것은 예시 문장입니다.\"\n",
        "\n",
        "- 힌트: HTML 태그를 찾기 위한 정규표현식은 <[^>]+>를 사용할 수 있습니다."
      ],
      "metadata": {
        "id": "txMc3pmVt1Rh"
      }
    },
    {
      "cell_type": "code",
      "source": [
        "# 2번 문제 정답\n",
        "import re\n",
        "\n",
        "example_string = \"<p>이것은 <b>예시</b> 문장입니다.</p>\"\n",
        "\n",
        "def solution(change_string):\n",
        "    return re.sub(r\"<\\/?[a-zA-Z]+>\", \"\", change_string)\n",
        "\n",
        "solution(example_string)"
      ],
      "metadata": {
        "colab": {
          "base_uri": "https://localhost:8080/",
          "height": 36
        },
        "id": "FyPC417tt1g5",
        "outputId": "8e38856b-fec5-42cc-b4c4-6398e1d4bf6f"
      },
      "execution_count": null,
      "outputs": [
        {
          "output_type": "execute_result",
          "data": {
            "text/plain": [
              "'이것은 예시 문장입니다.'"
            ],
            "application/vnd.google.colaboratory.intrinsic+json": {
              "type": "string"
            }
          },
          "metadata": {},
          "execution_count": 5
        }
      ]
    }
  ]
}