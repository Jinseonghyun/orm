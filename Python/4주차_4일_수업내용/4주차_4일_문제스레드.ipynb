{
  "nbformat": 4,
  "nbformat_minor": 0,
  "metadata": {
    "colab": {
      "provenance": []
    },
    "kernelspec": {
      "name": "python3",
      "display_name": "Python 3"
    },
    "language_info": {
      "name": "python"
    }
  },
  "cells": [
    {
      "cell_type": "markdown",
      "source": [
        "# 문제 1: 이메일 주소 변경하기 (sub 사용)\n",
        "- 문제: 주어진 문자열에서 모든 이메일 주소를 user@weniv.co.kr으로 변경하시오.\n",
        "- 예시 입력: \"저의 이메일 주소는 kim123@gmail.com입니다. 친구의 이메일 주소는 lee456@gmail.com입니다.\"\n",
        "- 예시 출력: \"저의 이메일 주소는 user@weniv.co.kr입니다. 친구의 이메일 주소는 user@weniv.co.kr입니다.\"\n",
        "\n",
        "- 힌트: 이메일 주소를 찾기 위한 정규표현식은 \\b[A-Za-z0-9._%+-]+@[A-Za-z0-9.-]+\\.[A-Z|a-z]{2,}\\b를 사용할 수 있습니다."
      ],
      "metadata": {
        "id": "SKXI0Vu8to0g"
      }
    },
    {
      "cell_type": "code",
      "source": [
        "# 1번 문제 정답\n",
        "import re\n",
        "\n",
        "example_string = \"저의 이메일 주소는 kim123@gmail.com입니다. 친구의 이메일 주소는 lee456@gmail.com입니다.\"\n",
        "\n",
        "def solution(change_string):\n",
        "    # 정규표현식 힌트 있으나 직접 작성해보기\n",
        "    return re.sub(r\"([a-zA-Z0-9._-]+@[a-zA-Z0-9_-]+\\.[a-zA-Z]+)\", \"user@weniv.co.kr\", change_string)\n",
        "\n",
        "solution(example_string)"
      ],
      "metadata": {
        "colab": {
          "base_uri": "https://localhost:8080/",
          "height": 36
        },
        "id": "hUyAZ0qguqCy",
        "outputId": "4f70d3fb-8e53-45b6-ca08-d89c29155779"
      },
      "execution_count": 3,
      "outputs": [
        {
          "output_type": "execute_result",
          "data": {
            "text/plain": [
              "'저의 이메일 주소는 user@weniv.co.kr입니다. 친구의 이메일 주소는 user@weniv.co.kr입니다.'"
            ],
            "application/vnd.google.colaboratory.intrinsic+json": {
              "type": "string"
            }
          },
          "metadata": {},
          "execution_count": 3
        }
      ]
    },
    {
      "cell_type": "markdown",
      "source": [
        "# 문제 2: HTML 태그 제거하기 (sub 사용)\n",
        "- 문제: 주어진 HTML 문자열에서 모든 HTML 태그를 제거하고 텍스트만 남기시오.\n",
        "- 예시 입력: \"<p>이것은 <b>예시</b> 문장입니다.</p>\"\n",
        "- 예시 출력: \"이것은 예시 문장입니다.\"\n",
        "\n",
        "- 힌트: HTML 태그를 찾기 위한 정규표현식은 <[^>]+>를 사용할 수 있습니다."
      ],
      "metadata": {
        "id": "txMc3pmVt1Rh"
      }
    },
    {
      "cell_type": "code",
      "source": [
        "# 2번 문제 정답\n",
        "import re\n",
        "\n",
        "example_string = \"<p>이것은 <b>예시</b> 문장입니다.</p>\"\n",
        "\n",
        "def solution(change_string):\n",
        "    return re.sub(r\"<\\/?[a-zA-Z]+>\", \"\", change_string)\n",
        "\n",
        "solution(example_string)"
      ],
      "metadata": {
        "colab": {
          "base_uri": "https://localhost:8080/",
          "height": 36
        },
        "id": "FyPC417tt1g5",
        "outputId": "8e38856b-fec5-42cc-b4c4-6398e1d4bf6f"
      },
      "execution_count": 5,
      "outputs": [
        {
          "output_type": "execute_result",
          "data": {
            "text/plain": [
              "'이것은 예시 문장입니다.'"
            ],
            "application/vnd.google.colaboratory.intrinsic+json": {
              "type": "string"
            }
          },
          "metadata": {},
          "execution_count": 5
        }
      ]
    }
  ]
}