{
  "nbformat": 4,
  "nbformat_minor": 0,
  "metadata": {
    "colab": {
      "provenance": []
    },
    "kernelspec": {
      "name": "python3",
      "display_name": "Python 3"
    },
    "language_info": {
      "name": "python"
    }
  },
  "cells": [
    {
      "cell_type": "markdown",
      "source": [
        "# 파이썬 버전별 변동사항"
      ],
      "metadata": {
        "id": "oI9PovRTAKWH"
      }
    },
    {
      "cell_type": "markdown",
      "source": [
        "* Python 3.5: async await\n",
        "* Python 3.6: Dict에 순서, f-string, 타입힌트\n",
        "* Python 3.7: dataclasses\n",
        "* Python 3.8: 왈러스 연산자(:=)\n",
        "* Python 3.9: 딕셔너리 결합 연산자(|)\n",
        "* Python 3.10: match"
      ],
      "metadata": {
        "id": "0pideRVYAMGD"
      }
    },
    {
      "cell_type": "code",
      "execution_count": 1,
      "metadata": {
        "id": "-b8ABW3U4Feh"
      },
      "outputs": [],
      "source": [
        "# id, name, email이 각각 3번씩 반복\n",
        "# -> 이러한 현상을  보일러 플레이트(boiler-plate)라 함\n",
        "# -> print를 해도 필드값이 보이지 않아 불편\n",
        "class User:\n",
        "    def __init__(self, id, name, email):\n",
        "        self.id = id\n",
        "        self.name = name\n",
        "        self.email = email"
      ]
    },
    {
      "cell_type": "code",
      "source": [
        "# 실무에서 아무도 사용안함 복습 x (좋은 기능이긴함)\n",
        "from dataclasses import dataclass\n",
        "\n",
        "@dataclass\n",
        "class User:\n",
        "    id: int\n",
        "    name: str\n",
        "    email : str\n",
        "\n",
        "user = User(123, 'hojun', 'hojun@gmail')\n",
        "user"
      ],
      "metadata": {
        "id": "9ywZ5zRI_Q1V"
      },
      "execution_count": null,
      "outputs": []
    },
    {
      "cell_type": "markdown",
      "source": [
        "# 파일 입출력"
      ],
      "metadata": {
        "id": "xq5fgkaqAQZk"
      }
    },
    {
      "cell_type": "code",
      "source": [
        "# open(파일이름, 파일모드)\n",
        "f = open('python.txt', 'w') # 파일모드 : r, w, a, r+,\n",
        "f.close()"
      ],
      "metadata": {
        "id": "SJ0ORTQGAm4M"
      },
      "execution_count": null,
      "outputs": []
    },
    {
      "cell_type": "code",
      "source": [
        "# 닫지 않으면 메모리가 살아있다.\n",
        "f = open('python.txt', 'w') # 파일모드 : r, w, a, r+,\n",
        "f.write('hello world')\n",
        "f.close()  # 파일을 열면 닫아줘야한다. (잘 까먹음)"
      ],
      "metadata": {
        "id": "ctD_xJcDA6AD"
      },
      "execution_count": null,
      "outputs": []
    },
    {
      "cell_type": "code",
      "source": [
        "# 위의 방식보다 아래방식 선호 닫을 필요가 없다. 자동으로 열고 닫힘\n",
        "# 파일 여러개를 한번에 생성할 수 았음\n",
        "for i in range(10):\n",
        "    with open(f'test{i}.txt', 'w') as f:\n",
        "        f.write('hello world!')"
      ],
      "metadata": {
        "id": "j-Phv6TjBEq5"
      },
      "execution_count": 4,
      "outputs": []
    },
    {
      "cell_type": "code",
      "source": [
        "db_data = [\n",
        "  {\n",
        "    \"_id\": \"7f5440ab-7e2f-4a42-Be13-89987fa65b32\",\n",
        "    \"index\": \"1\",\n",
        "    \"name\": \"등윤상\",\n",
        "    \"email\": \"user-qe89s09@ut.io\",\n",
        "    \"phone\": \"010-3542-7711\",\n",
        "    \"country\": \"키리바시\",\n",
        "    \"address\": \"방학로 74-9\",\n",
        "    \"job\": \"일러스트레이터\"\n",
        "  },\n",
        "  {\n",
        "    \"_id\": \"b4f7ade0-38bb-4e6f-B94a-18af1426eb30\",\n",
        "    \"index\": \"2\",\n",
        "    \"name\": \"노동규\",\n",
        "    \"email\": \"user-nyr5mqw@ornare.com\",\n",
        "    \"phone\": \"010-9743-6320\",\n",
        "    \"country\": \"베냉\",\n",
        "    \"address\": \"남부순환로 54-6\",\n",
        "    \"job\": \"애완동물미용사\"\n",
        "  },\n",
        "  {\n",
        "    \"_id\": \"5d788255-8d5e-4f03-B446-dbac6a147e37\",\n",
        "    \"index\": \"3\",\n",
        "    \"name\": \"경진아\",\n",
        "    \"email\": \"user-n7pey4v@Etiam.biz\",\n",
        "    \"phone\": \"010-4049-8718\",\n",
        "    \"country\": \"아르메니아\",\n",
        "    \"address\": \"강남대로 87-5\",\n",
        "    \"job\": \"플로리스트\"\n",
        "  },\n",
        "  {\n",
        "    \"_id\": \"083efce4-17ed-4e9f-Ad7c-f9aa0ac6cb79\",\n",
        "    \"index\": \"4\",\n",
        "    \"name\": \"복소유\",\n",
        "    \"email\": \"user-ohaz2is@nibh.biz\",\n",
        "    \"phone\": \"010-3400-5945\",\n",
        "    \"country\": \"페루\",\n",
        "    \"address\": \"양산로 78-1\",\n",
        "    \"job\": \"응급구조사\"\n",
        "  },\n",
        "  {\n",
        "    \"_id\": \"d54ce0fa-c025-4af6-Cd9a-b9d10aa8be5a\",\n",
        "    \"index\": \"5\",\n",
        "    \"name\": \"화예빈\",\n",
        "    \"email\": \"user-mnkpdlp@vel.net\",\n",
        "    \"phone\": \"010-3120-8720\",\n",
        "    \"country\": \"허드 및 맥도널드 제도\",\n",
        "    \"address\": \"한남대로 6-2\",\n",
        "    \"job\": \"전문의사\"\n",
        "  }\n",
        "]"
      ],
      "metadata": {
        "id": "fVzKO6cYBTdL"
      },
      "execution_count": 7,
      "outputs": []
    },
    {
      "cell_type": "code",
      "source": [
        "# 미션 1\n",
        "# 각각의 회원 이름_info.txt로 각각 정보 정리\n",
        "\n",
        "# 미션 2\n",
        "# 엑셀로 각각 정보 정리\n",
        "\n",
        "# 미션 3\n",
        "# html 로 tale로 정리하기 => table로 클릭하면 정렬되게 하기(JSㄴ를 배우셨으면 했을텐데 지금은 안된다.)"
      ],
      "metadata": {
        "id": "PBEYvHp2Bu6r"
      },
      "execution_count": null,
      "outputs": []
    },
    {
      "cell_type": "code",
      "source": [
        "# 미션 1\n",
        "# 각각의 회원 이름_info.txt로 각각 정보 정리\n",
        "list(map(lambda x: x['name'], db_data))\n",
        "\n",
        "for i, name in enumerate(map(lambda x: x['name'], db_data)):\n",
        "    with open(f'{name}_info.txt', 'w') as f:\n",
        "        f.write(str(db_data[i]))"
      ],
      "metadata": {
        "id": "WqMPX0XEGCAc"
      },
      "execution_count": 9,
      "outputs": []
    },
    {
      "cell_type": "code",
      "source": [
        "from bs4 import BeautifulSoup\n",
        "import json\n",
        "\n",
        "soup = BeautifulSoup(str(db_data), 'html.parser')\n",
        "# json_data = json.loads(soup.text)\n",
        "# json_data"
      ],
      "metadata": {
        "id": "ELU9EQ2QGSf1"
      },
      "execution_count": 10,
      "outputs": []
    },
    {
      "cell_type": "code",
      "source": [
        "# 미션 2\n",
        "# 엑셀로 각각 정보 정리\n",
        "with open('data.csv', 'w') as f:\n",
        "    s = '아이디,인덱스,이름,이메일,휴대폰,나라,주소,직업\\n'\n",
        "    for i in db_data:\n",
        "        s += f'{i[\"_id\"]},{i[\"index\"]},{i[\"name\"]},{i[\"email\"]},{i[\"phone\"]},{i[\"country\"]},{i[\"address\"]},{i[\"job\"]}\\n'\n",
        "    f.write(s)"
      ],
      "metadata": {
        "id": "UXizNT4KHxer"
      },
      "execution_count": 11,
      "outputs": []
    },
    {
      "cell_type": "markdown",
      "source": [
        "# 부록\n",
        "# 엑셀라이터"
      ],
      "metadata": {
        "id": "Qf_P15EcJE4k"
      }
    },
    {
      "cell_type": "code",
      "source": [
        "# 엑셀라이터 설치\n",
        "!pip install xlsxwriter"
      ],
      "metadata": {
        "id": "EWxIGywTJPjD"
      },
      "execution_count": null,
      "outputs": []
    },
    {
      "cell_type": "code",
      "source": [
        "# 워크북(엑셀파일 1개입니다.)\n",
        "# 워크시트(sheet이라고 아래 여러개의 sheet을 만들 수 있습니다.)\n",
        "# 셀(네모 칸 하나)"
      ],
      "metadata": {
        "id": "iL6spxZ0JTZG"
      },
      "execution_count": 13,
      "outputs": []
    },
    {
      "cell_type": "code",
      "source": [
        "import xlsxwriter\n",
        "\n",
        "workbook = xlsxwriter.Workbook('hello.xlsx')\n",
        "worksheet = workbook.add_worksheet('test')\n",
        "\n",
        "worksheet.write('A1', 'A')\n",
        "worksheet.write('B1', 'B')\n",
        "worksheet.write('C1', 'C')\n",
        "worksheet.write('A2', 'D')\n",
        "worksheet.write('B2', 'E')\n",
        "worksheet.write('C2', 'F')\n",
        "\n",
        "worksheet.write(2, 0, 'hello')\n",
        "worksheet.write(2, 1, 'world')\n",
        "worksheet.write(2, 2, 'hojun')\n",
        "\n",
        "workbook.close()"
      ],
      "metadata": {
        "id": "ycGfTPPuJ9IL"
      },
      "execution_count": 16,
      "outputs": []
    },
    {
      "cell_type": "markdown",
      "source": [
        "# 수식계산"
      ],
      "metadata": {
        "id": "k-ZZ7A-DNt3T"
      }
    },
    {
      "cell_type": "code",
      "source": [
        "import xlsxwriter\n",
        "\n",
        "workbook = xlsxwriter.Workbook('hello.xlsx')\n",
        "worksheet = workbook.add_worksheet('test')\n",
        "\n",
        "철수 = [10, 20, 30]\n",
        "영희 = [40, 50, 60]\n",
        "\n",
        "worksheet.write('A1', '국')\n",
        "worksheet.write('B1', '영')\n",
        "worksheet.write('C1', '수')\n",
        "worksheet.write('A2', 철수[0])\n",
        "worksheet.write('B2', 철수[1])\n",
        "worksheet.write('C2', 철수[2])\n",
        "worksheet.write('A3', 영희[0])\n",
        "worksheet.write('B3', 영희[1])\n",
        "worksheet.write('C3', 영희[2])\n",
        "\n",
        "for i in zip('ABC', 철수, 영희):\n",
        "    worksheet.write(f'{i[0]}4', i[1] + i[2])\n",
        "\n",
        "workbook.close()"
      ],
      "metadata": {
        "id": "A-xxceNbLDzh"
      },
      "execution_count": 17,
      "outputs": []
    },
    {
      "cell_type": "code",
      "source": [
        "for i in zip('ABC', 철수, 영희):  # sum을 안써도 sum이 된다.\n",
        "    print(f'{i[0]}4', i[1] + i[2])"
      ],
      "metadata": {
        "colab": {
          "base_uri": "https://localhost:8080/"
        },
        "id": "lTU08GieMm9s",
        "outputId": "2041a6b8-8429-49c4-8034-88f7b134d3af"
      },
      "execution_count": 18,
      "outputs": [
        {
          "output_type": "stream",
          "name": "stdout",
          "text": [
            "A4 50\n",
            "B4 70\n",
            "C4 90\n"
          ]
        }
      ]
    },
    {
      "cell_type": "code",
      "source": [
        "import xlsxwriter\n",
        "\n",
        "workbook = xlsxwriter.Workbook('hello.xlsx')\n",
        "worksheet = workbook.add_worksheet('test')\n",
        "\n",
        "철수 = [10, 20, 30]\n",
        "영희 = [40, 50, 60]\n",
        "\n",
        "worksheet.write('A1', '국')\n",
        "worksheet.write('B1', '영')\n",
        "worksheet.write('C1', '수')\n",
        "worksheet.write('A2', 철수[0])\n",
        "worksheet.write('B2', 철수[1])\n",
        "worksheet.write('C2', 철수[2])\n",
        "worksheet.write('A3', 영희[0])\n",
        "worksheet.write('B3', 영희[1])\n",
        "worksheet.write('C3', 영희[2])\n",
        "\n",
        "for i in zip('ABC', 철수, 영희):\n",
        "    worksheet.write(f'{i[0]}4', i[1] + i[2])\n",
        "\n",
        "# D1에 평균 텍스트 삽입\n",
        "worksheet.write('D1', '평균')\n",
        "# 수식 삽입\n",
        "worksheet.write('D2', '=SUM(A2:C2)/3')\n",
        "worksheet.write('D3', '=SUM(A3:C3)/3')\n",
        "\n",
        "workbook.close()"
      ],
      "metadata": {
        "id": "nIRyT9FVNqBz"
      },
      "execution_count": null,
      "outputs": []
    },
    {
      "cell_type": "code",
      "source": [
        "# 크롤링\n",
        "# 웹크롤링 -> 엑셀\n",
        "# 한글파일 크롤링 -> 엑셀\n",
        "# PDF 크롤링 -> 엑셀\n",
        "\n",
        "# 파일 형식 변환\n",
        "# CSV => xlsx\n",
        "# JSON => xlsx\n",
        "\n",
        "# 메크로\n",
        "# 메크로 작동 로직 => 엑셀"
      ],
      "metadata": {
        "id": "Uf9_0mgmOZq7"
      },
      "execution_count": 20,
      "outputs": []
    },
    {
      "cell_type": "code",
      "source": [
        "# 미션 3\n",
        "# html로 table로 정리하기\n",
        "db_data"
      ],
      "metadata": {
        "colab": {
          "base_uri": "https://localhost:8080/"
        },
        "id": "7FwrUfzuOat1",
        "outputId": "134a7502-f0d8-446f-ece4-ca596a892bb7"
      },
      "execution_count": 21,
      "outputs": [
        {
          "output_type": "execute_result",
          "data": {
            "text/plain": [
              "[{'_id': '7f5440ab-7e2f-4a42-Be13-89987fa65b32',\n",
              "  'index': '1',\n",
              "  'name': '등윤상',\n",
              "  'email': 'user-qe89s09@ut.io',\n",
              "  'phone': '010-3542-7711',\n",
              "  'country': '키리바시',\n",
              "  'address': '방학로 74-9',\n",
              "  'job': '일러스트레이터'},\n",
              " {'_id': 'b4f7ade0-38bb-4e6f-B94a-18af1426eb30',\n",
              "  'index': '2',\n",
              "  'name': '노동규',\n",
              "  'email': 'user-nyr5mqw@ornare.com',\n",
              "  'phone': '010-9743-6320',\n",
              "  'country': '베냉',\n",
              "  'address': '남부순환로 54-6',\n",
              "  'job': '애완동물미용사'},\n",
              " {'_id': '5d788255-8d5e-4f03-B446-dbac6a147e37',\n",
              "  'index': '3',\n",
              "  'name': '경진아',\n",
              "  'email': 'user-n7pey4v@Etiam.biz',\n",
              "  'phone': '010-4049-8718',\n",
              "  'country': '아르메니아',\n",
              "  'address': '강남대로 87-5',\n",
              "  'job': '플로리스트'},\n",
              " {'_id': '083efce4-17ed-4e9f-Ad7c-f9aa0ac6cb79',\n",
              "  'index': '4',\n",
              "  'name': '복소유',\n",
              "  'email': 'user-ohaz2is@nibh.biz',\n",
              "  'phone': '010-3400-5945',\n",
              "  'country': '페루',\n",
              "  'address': '양산로 78-1',\n",
              "  'job': '응급구조사'},\n",
              " {'_id': 'd54ce0fa-c025-4af6-Cd9a-b9d10aa8be5a',\n",
              "  'index': '5',\n",
              "  'name': '화예빈',\n",
              "  'email': 'user-mnkpdlp@vel.net',\n",
              "  'phone': '010-3120-8720',\n",
              "  'country': '허드 및 맥도널드 제도',\n",
              "  'address': '한남대로 6-2',\n",
              "  'job': '전문의사'}]"
            ]
          },
          "metadata": {},
          "execution_count": 21
        }
      ]
    },
    {
      "cell_type": "code",
      "source": [
        "s = '''\n",
        "<style>\n",
        "    table {\n",
        "        border-collapse: collapse;\n",
        "        width: 100%;\n",
        "        border: 1px solid black;\n",
        "    }\n",
        "    tr, td, th {\n",
        "        border: 1px solid black;\n",
        "    }\n",
        "</style>\n",
        "<table>\n",
        "    <tr>\n",
        "        <th>아이디</th>\n",
        "        <th>인덱스</th>\n",
        "        <th>이름</th>\n",
        "        <th>이메일</th>\n",
        "        <th>휴대폰</th>\n",
        "        <th>나라</th>\n",
        "        <th>주소</th>\n",
        "        <th>직업</th>\n",
        "    </tr>\n",
        "'''\n",
        "\n",
        "for item in db_data:\n",
        "    s += f'''\n",
        "        <tr>\n",
        "                <td>{item[\"_id\"]}</td>\n",
        "                <td>{item[\"index\"]}</td>\n",
        "                <td>{item[\"name\"]}</td>\n",
        "                <td>{item[\"email\"]}</td>\n",
        "                <td>{item[\"phone\"]}</td>\n",
        "                <td>{item[\"country\"]}</td>\n",
        "                <td>{item[\"address\"]}</td>\n",
        "                <td>{item[\"job\"]}</td>\n",
        "        </tr>\n",
        "        '''\n",
        "\n",
        "s += '</table>'\n",
        "\n",
        "with open('test.html', 'w') as f:\n",
        "    f.write(s)"
      ],
      "metadata": {
        "id": "dr1yJZN6OkFq"
      },
      "execution_count": 24,
      "outputs": []
    },
    {
      "cell_type": "code",
      "source": [
        "f = open('test.html', 'r')\n",
        "while True:\n",
        "    line = f.readline()  # readline 한라인씩 읽어온다.\n",
        "    if not line:\n",
        "        break\n",
        "    print(line, end='')\n",
        "f.close()"
      ],
      "metadata": {
        "colab": {
          "base_uri": "https://localhost:8080/"
        },
        "id": "72T5Fv6qPzPr",
        "outputId": "8e4d15b0-ec9a-404c-db61-545640772dbb"
      },
      "execution_count": 25,
      "outputs": [
        {
          "output_type": "stream",
          "name": "stdout",
          "text": [
            "\n",
            "<style>\n",
            "    table {\n",
            "        border-collapse: collapse;\n",
            "        width: 100%;\n",
            "        border: 1px solid black;\n",
            "    }\n",
            "    tr, td, th {\n",
            "        border: 1px solid black;\n",
            "    }\n",
            "</style>\n",
            "<table>\n",
            "    <tr>\n",
            "        <th>아이디</th>\n",
            "        <th>인덱스</th>\n",
            "        <th>이름</th>\n",
            "        <th>이메일</th>\n",
            "        <th>휴대폰</th>\n",
            "        <th>나라</th>\n",
            "        <th>주소</th>\n",
            "        <th>직업</th>\n",
            "    </tr>\n",
            "\n",
            "        <tr>\n",
            "                <td>7f5440ab-7e2f-4a42-Be13-89987fa65b32</td>\n",
            "                <td>1</td>\n",
            "                <td>등윤상</td>\n",
            "                <td>user-qe89s09@ut.io</td>\n",
            "                <td>010-3542-7711</td>\n",
            "                <td>키리바시</td>\n",
            "                <td>방학로 74-9</td>\n",
            "                <td>일러스트레이터</td>\n",
            "        </tr>\n",
            "        \n",
            "        <tr>\n",
            "                <td>b4f7ade0-38bb-4e6f-B94a-18af1426eb30</td>\n",
            "                <td>2</td>\n",
            "                <td>노동규</td>\n",
            "                <td>user-nyr5mqw@ornare.com</td>\n",
            "                <td>010-9743-6320</td>\n",
            "                <td>베냉</td>\n",
            "                <td>남부순환로 54-6</td>\n",
            "                <td>애완동물미용사</td>\n",
            "        </tr>\n",
            "        \n",
            "        <tr>\n",
            "                <td>5d788255-8d5e-4f03-B446-dbac6a147e37</td>\n",
            "                <td>3</td>\n",
            "                <td>경진아</td>\n",
            "                <td>user-n7pey4v@Etiam.biz</td>\n",
            "                <td>010-4049-8718</td>\n",
            "                <td>아르메니아</td>\n",
            "                <td>강남대로 87-5</td>\n",
            "                <td>플로리스트</td>\n",
            "        </tr>\n",
            "        \n",
            "        <tr>\n",
            "                <td>083efce4-17ed-4e9f-Ad7c-f9aa0ac6cb79</td>\n",
            "                <td>4</td>\n",
            "                <td>복소유</td>\n",
            "                <td>user-ohaz2is@nibh.biz</td>\n",
            "                <td>010-3400-5945</td>\n",
            "                <td>페루</td>\n",
            "                <td>양산로 78-1</td>\n",
            "                <td>응급구조사</td>\n",
            "        </tr>\n",
            "        \n",
            "        <tr>\n",
            "                <td>d54ce0fa-c025-4af6-Cd9a-b9d10aa8be5a</td>\n",
            "                <td>5</td>\n",
            "                <td>화예빈</td>\n",
            "                <td>user-mnkpdlp@vel.net</td>\n",
            "                <td>010-3120-8720</td>\n",
            "                <td>허드 및 맥도널드 제도</td>\n",
            "                <td>한남대로 6-2</td>\n",
            "                <td>전문의사</td>\n",
            "        </tr>\n",
            "        </table>"
          ]
        }
      ]
    },
    {
      "cell_type": "code",
      "source": [
        "f = open('test.html', 'r')\n",
        "data = f.read()\n",
        "print(data)\n",
        "f.close()"
      ],
      "metadata": {
        "colab": {
          "base_uri": "https://localhost:8080/"
        },
        "id": "xfCzyNBdXP5R",
        "outputId": "eb32e8e6-cf7f-4e5c-9648-040218c3acdc"
      },
      "execution_count": 26,
      "outputs": [
        {
          "output_type": "stream",
          "name": "stdout",
          "text": [
            "\n",
            "<style>\n",
            "    table {\n",
            "        border-collapse: collapse;\n",
            "        width: 100%;\n",
            "        border: 1px solid black;\n",
            "    }\n",
            "    tr, td, th {\n",
            "        border: 1px solid black;\n",
            "    }\n",
            "</style>\n",
            "<table>\n",
            "    <tr>\n",
            "        <th>아이디</th>\n",
            "        <th>인덱스</th>\n",
            "        <th>이름</th>\n",
            "        <th>이메일</th>\n",
            "        <th>휴대폰</th>\n",
            "        <th>나라</th>\n",
            "        <th>주소</th>\n",
            "        <th>직업</th>\n",
            "    </tr>\n",
            "\n",
            "        <tr>\n",
            "                <td>7f5440ab-7e2f-4a42-Be13-89987fa65b32</td>\n",
            "                <td>1</td>\n",
            "                <td>등윤상</td>\n",
            "                <td>user-qe89s09@ut.io</td>\n",
            "                <td>010-3542-7711</td>\n",
            "                <td>키리바시</td>\n",
            "                <td>방학로 74-9</td>\n",
            "                <td>일러스트레이터</td>\n",
            "        </tr>\n",
            "        \n",
            "        <tr>\n",
            "                <td>b4f7ade0-38bb-4e6f-B94a-18af1426eb30</td>\n",
            "                <td>2</td>\n",
            "                <td>노동규</td>\n",
            "                <td>user-nyr5mqw@ornare.com</td>\n",
            "                <td>010-9743-6320</td>\n",
            "                <td>베냉</td>\n",
            "                <td>남부순환로 54-6</td>\n",
            "                <td>애완동물미용사</td>\n",
            "        </tr>\n",
            "        \n",
            "        <tr>\n",
            "                <td>5d788255-8d5e-4f03-B446-dbac6a147e37</td>\n",
            "                <td>3</td>\n",
            "                <td>경진아</td>\n",
            "                <td>user-n7pey4v@Etiam.biz</td>\n",
            "                <td>010-4049-8718</td>\n",
            "                <td>아르메니아</td>\n",
            "                <td>강남대로 87-5</td>\n",
            "                <td>플로리스트</td>\n",
            "        </tr>\n",
            "        \n",
            "        <tr>\n",
            "                <td>083efce4-17ed-4e9f-Ad7c-f9aa0ac6cb79</td>\n",
            "                <td>4</td>\n",
            "                <td>복소유</td>\n",
            "                <td>user-ohaz2is@nibh.biz</td>\n",
            "                <td>010-3400-5945</td>\n",
            "                <td>페루</td>\n",
            "                <td>양산로 78-1</td>\n",
            "                <td>응급구조사</td>\n",
            "        </tr>\n",
            "        \n",
            "        <tr>\n",
            "                <td>d54ce0fa-c025-4af6-Cd9a-b9d10aa8be5a</td>\n",
            "                <td>5</td>\n",
            "                <td>화예빈</td>\n",
            "                <td>user-mnkpdlp@vel.net</td>\n",
            "                <td>010-3120-8720</td>\n",
            "                <td>허드 및 맥도널드 제도</td>\n",
            "                <td>한남대로 6-2</td>\n",
            "                <td>전문의사</td>\n",
            "        </tr>\n",
            "        </table>\n"
          ]
        }
      ]
    },
    {
      "cell_type": "markdown",
      "source": [
        "# 비트연산"
      ],
      "metadata": {
        "id": "ERnWzKVDXYjd"
      }
    },
    {
      "cell_type": "code",
      "source": [
        "# 실무에서 비트연산을 하는 경우가 거~~~의 없습니다.\n",
        "# 알고리즘 테스트에서 CS지식 정도를 테스트 하는 용도로 간혹 출제가 됩니다.\n",
        "# 진법: 수학 기초 상식\n",
        "\n",
        "# 10진법\n",
        "# 1542 == 1 * (10**3) + 5 * (10**2) + 4 * (10**1) + 2 * (10**0)\n",
        "# 0123456789 10\n",
        "\n",
        "# 16진법\n",
        "# 1542 == 1 * (16**3) + 5 * (16**2) + 4 * (16**1) + 2 * (16**0)\n",
        "# 0123456789abcdef 10\n",
        "\n",
        "# 8진법\n",
        "# 1542 == 1 * (8**3) + 5 * (8**2) + 4 * (8**1) + 2 * (8**0)\n",
        "# 01234567 10\n",
        "\n",
        "# 01 10"
      ],
      "metadata": {
        "id": "RuUD7tcFYFYz"
      },
      "execution_count": 27,
      "outputs": []
    },
    {
      "cell_type": "code",
      "source": [
        "# 진법 변환 팁\n",
        "# 10진 == 2진\n",
        "# 1 == 1\n",
        "# 2 == 10\n",
        "# 4 == 100\n",
        "# 8 == 1000\n",
        "# 16 == 10000\n",
        "\n",
        "# 9는? 8 + 1 => 1000 + 1 => 1001\n",
        "# 15는? 16 - 1 => 10000 - 1 => 1111"
      ],
      "metadata": {
        "id": "D2SnSfzZZL6j"
      },
      "execution_count": 28,
      "outputs": []
    },
    {
      "cell_type": "code",
      "source": [
        "3 & 9\n",
        "\n",
        "# 0011\n",
        "# 1001\n",
        "# ----\n",
        "# 0001"
      ],
      "metadata": {
        "colab": {
          "base_uri": "https://localhost:8080/"
        },
        "id": "s5Jm67A_Z9U7",
        "outputId": "7f65140a-36d0-4baa-f042-9d5f56954877"
      },
      "execution_count": 34,
      "outputs": [
        {
          "output_type": "execute_result",
          "data": {
            "text/plain": [
              "1"
            ]
          },
          "metadata": {},
          "execution_count": 34
        }
      ]
    },
    {
      "cell_type": "code",
      "source": [
        "3 | 9\n",
        "\n",
        "# 0011\n",
        "# 1001\n",
        "# ----\n",
        "# 1011 => 11"
      ],
      "metadata": {
        "colab": {
          "base_uri": "https://localhost:8080/"
        },
        "id": "2lwIIFQfaA9a",
        "outputId": "79064031-3ccb-4110-ab16-0de7017c0096"
      },
      "execution_count": 33,
      "outputs": [
        {
          "output_type": "execute_result",
          "data": {
            "text/plain": [
              "11"
            ]
          },
          "metadata": {},
          "execution_count": 33
        }
      ]
    },
    {
      "cell_type": "code",
      "source": [
        "# 복습 XXX\n",
        "# 8개의 비트(bit)를 숫자로 사용할 수 있습니다.\n",
        "# 8개 비트 사용하면 1개를 부호 비트\n",
        "# 00000000\n",
        "# 00000001 == 1\n",
        "# 11111110 == -1\n",
        "# 11111111 + 1 => 00000000(우리가 원하는 값)"
      ],
      "metadata": {
        "id": "TaO4jRYxavRL"
      },
      "execution_count": null,
      "outputs": []
    },
    {
      "cell_type": "markdown",
      "source": [
        "# 프로그래머스 문제\n",
        "(문제)[https://school.programmers.co.kr/learn/courses/30/lessons/17681]"
      ],
      "metadata": {
        "id": "jRUullMWelhi"
      }
    },
    {
      "cell_type": "code",
      "source": [
        "# 9 | 30\n",
        "# bin(9 | 30)\n",
        "# bin(9 | 30)[2:]\n",
        "# bin(9 | 30)[2:].replace('1', '#').replace('0', ' ')\n",
        "\n",
        "arr1 = [9, 20, 28, 18, 11]\n",
        "arr2 = [30, 1, 21, 17, 28]\n",
        "\n",
        "for i, j in zip(arr1, arr2):\n",
        "    print(bin(i | j)[2:].replace('1', '#').replace('0', ' '))"
      ],
      "metadata": {
        "colab": {
          "base_uri": "https://localhost:8080/"
        },
        "id": "z-3ra_nJelBT",
        "outputId": "b2ccb257-1ac2-4167-b8fc-f42200db5cea"
      },
      "execution_count": 35,
      "outputs": [
        {
          "output_type": "stream",
          "name": "stdout",
          "text": [
            "#####\n",
            "# # #\n",
            "### #\n",
            "#  ##\n",
            "#####\n"
          ]
        }
      ]
    },
    {
      "cell_type": "code",
      "source": [
        "bin(31) # 2진법 변환  '0b11111'\n",
        "oct(31) # 8진법 변환  '0o37'\n",
        "hex(31) # 16진법 변환 '0x1f'\n",
        "\n",
        "int('0b11111', 2) # 2진수를 10진수로 변환\n",
        "int('11111', 2) # 2진수를 10진수로 변환"
      ],
      "metadata": {
        "colab": {
          "base_uri": "https://localhost:8080/"
        },
        "id": "Y7Alq1cSex7Q",
        "outputId": "787ae830-5d8d-4a07-db27-68f5d8ec2303"
      },
      "execution_count": 36,
      "outputs": [
        {
          "output_type": "execute_result",
          "data": {
            "text/plain": [
              "31"
            ]
          },
          "metadata": {},
          "execution_count": 36
        }
      ]
    },
    {
      "cell_type": "markdown",
      "source": [
        "# f-string"
      ],
      "metadata": {
        "id": "TjxkKbssh6xa"
      }
    },
    {
      "cell_type": "code",
      "source": [
        "# printd에 들어가는 문자열 만들기\n",
        "'제 이름은 %s이고 제 나이는 %d입니다.'%('텔레토피',10)  # 이제 안쓴다.\n",
        "\n",
        "# format\n",
        "'제 이름은{}이고 제 나이는 {}입니다.'.format('텔레토비',10) # 쓰기는 함\n",
        "\n",
        "# f-string\n",
        "name = '텔레토비'\n",
        "age = 10\n",
        "f'제 이름은 {name}이고 제 나이는 {age}입니다.'  # 사용 권고"
      ],
      "metadata": {
        "colab": {
          "base_uri": "https://localhost:8080/",
          "height": 36
        },
        "id": "PnaJBGruiHQ8",
        "outputId": "964f51ef-c60a-4501-9cef-665ef961d651"
      },
      "execution_count": 39,
      "outputs": [
        {
          "output_type": "execute_result",
          "data": {
            "text/plain": [
              "'제 이름은 텔레토비이고 제 나이는 10입니다.'"
            ],
            "application/vnd.google.colaboratory.intrinsic+json": {
              "type": "string"
            }
          },
          "metadata": {},
          "execution_count": 39
        }
      ]
    },
    {
      "cell_type": "code",
      "source": [
        "삼 = '짝'*3\n",
        "칠 = '짝'*7\n",
        "print('삼삼칠 박수 :  {0}!!! {0}!!! {1}!!! '.format(삼, 칠))\n",
        "print(f'삼삼칠 박수 :  {삼}!!! {삼}!!! {칠}!!! ')\n",
        "print(f'삼삼칠 박수 :  {삼*2}!!! {삼}!!! {칠}!!! ') # {}안에서 연산하는 것은 가독성을 해칠 우려가 있습니다."
      ],
      "metadata": {
        "colab": {
          "base_uri": "https://localhost:8080/"
        },
        "id": "Ke-sfRYZjr3M",
        "outputId": "da0ae99e-2425-4014-cb34-538c4d6af8a5"
      },
      "execution_count": 41,
      "outputs": [
        {
          "output_type": "stream",
          "name": "stdout",
          "text": [
            "삼삼칠 박수 :  짝짝짝!!! 짝짝짝!!! 짝짝짝짝짝짝짝!!! \n",
            "삼삼칠 박수 :  짝짝짝!!! 짝짝짝!!! 짝짝짝짝짝짝짝!!! \n",
            "삼삼칠 박수 :  짝짝짝짝짝짝!!! 짝짝짝!!! 짝짝짝짝짝짝짝!!! \n"
          ]
        }
      ]
    },
    {
      "cell_type": "code",
      "source": [
        "one_length = 5.343123123\n",
        "\n",
        "print(f'{one_length} 입니다.')\n",
        "print(f'{one_length:.1f} 입니다.')\n",
        "print('{0:.2f}'.format(one_length))\n",
        "print('{:.2f}'.format(one_length))"
      ],
      "metadata": {
        "colab": {
          "base_uri": "https://localhost:8080/"
        },
        "id": "2ueLF4JEkXHT",
        "outputId": "fc88b9eb-89f8-46e5-e92b-7e05cfc48d1a"
      },
      "execution_count": 42,
      "outputs": [
        {
          "output_type": "stream",
          "name": "stdout",
          "text": [
            "5.343123123 입니다.\n",
            "5.3 입니다.\n",
            "5.34\n",
            "5.34\n"
          ]
        }
      ]
    },
    {
      "cell_type": "code",
      "source": [
        "# log 출력할 때 가운데 정렬은 많이 사용합니다.\n",
        "age = 100\n",
        "print('당신의 나이는 [{:^15}]세'.format(22))\n",
        "print(f'당신의 나이는 [{age:^15}]세')"
      ],
      "metadata": {
        "colab": {
          "base_uri": "https://localhost:8080/"
        },
        "id": "bdIGl5qOkkqc",
        "outputId": "c694a35f-b973-4cb0-86f6-473a141daf81"
      },
      "execution_count": 43,
      "outputs": [
        {
          "output_type": "stream",
          "name": "stdout",
          "text": [
            "당신의 나이는 [      22       ]세\n",
            "당신의 나이는 [      100      ]세\n"
          ]
        }
      ]
    },
    {
      "cell_type": "code",
      "source": [
        "# log 출력할 때 가운데 정렬은 많이 사용합니다.\n",
        "age = 100\n",
        "print('당신의 나이는 [{:^15}]세'.format(22))\n",
        "print(f'당신의 나이는 [{age:^15}]세')\n",
        "print(f'당신의 나이는 [{age:<15}]세')\n",
        "print(f'당신의 나이는 [{age:>15}]세')\n",
        "print(f'당신의 나이는 [{age:=^15}]세')\n",
        "print(f'당신의 나이는 [{age:#^15}]세')\n",
        "print(f'############{age}##############')"
      ],
      "metadata": {
        "colab": {
          "base_uri": "https://localhost:8080/"
        },
        "id": "k_fWRy9sk2fb",
        "outputId": "379f143d-fb17-4969-cfb8-cd042620737b"
      },
      "execution_count": 45,
      "outputs": [
        {
          "output_type": "stream",
          "name": "stdout",
          "text": [
            "당신의 나이는 [      22       ]세\n",
            "당신의 나이는 [      100      ]세\n",
            "당신의 나이는 [100            ]세\n",
            "당신의 나이는 [            100]세\n",
            "당신의 나이는 [======100======]세\n",
            "당신의 나이는 [######100######]세\n",
            "############100##############\n"
          ]
        }
      ]
    },
    {
      "cell_type": "code",
      "source": [
        "# 중괄호 3개는 1년에 5번정도 만나는 것 같습니다.\n",
        "# 잘 모르시면 이걸 해결하는 것이 참 힘듭니다.\n",
        "# 중괄호 3개를 해야 안의 값이 계산됨\n",
        "age = 10\n",
        "\n",
        "print(f'My set is {{1, 2, 3}}.')    # 출력: My set is {1, 2, 3}.\n",
        "print(f'My set is {{age*2}}.')      # 출력: My set is {age*2}.\n",
        "print(f'My set is {{{age*2}}}.')    # 출력: My set is {20}."
      ],
      "metadata": {
        "colab": {
          "base_uri": "https://localhost:8080/"
        },
        "id": "TTyu353FlIfC",
        "outputId": "8d0a025c-70b3-4780-88ac-be33b493d17e"
      },
      "execution_count": 46,
      "outputs": [
        {
          "output_type": "stream",
          "name": "stdout",
          "text": [
            "My set is {1, 2, 3}.\n",
            "My set is {age*2}.\n",
            "My set is {20}.\n"
          ]
        }
      ]
    },
    {
      "cell_type": "markdown",
      "source": [
        "# 컴프리핸션"
      ],
      "metadata": {
        "id": "xPVtdyX5nDvT"
      }
    },
    {
      "cell_type": "code",
      "source": [
        "l = []\n",
        "for i in range(2, 10):\n",
        "    for j in range(1, 10):\n",
        "        l.append(f'{i} X {j} = {i*j}')\n",
        "l"
      ],
      "metadata": {
        "id": "wj_1UH4amO8T"
      },
      "execution_count": null,
      "outputs": []
    },
    {
      "cell_type": "code",
      "source": [
        "# 위와 같은 결과 지만 컴프리헨션은 속도가 빠르다 하지만 가독성 떨어질수 있고 2중까지만\n",
        "[f'{i} X {j} = {i*j}' for i in range(2, 10) for j in range(1, 10)]"
      ],
      "metadata": {
        "id": "x-QzAMQYmnWa"
      },
      "execution_count": null,
      "outputs": []
    },
    {
      "cell_type": "markdown",
      "source": [
        "# 비동기와 코루틴"
      ],
      "metadata": {
        "id": "DeU4A3pWm5w6"
      }
    },
    {
      "cell_type": "code",
      "source": [
        "# 복습 x\n",
        "!pip install nest_asyncio"
      ],
      "metadata": {
        "colab": {
          "base_uri": "https://localhost:8080/"
        },
        "id": "nQcub-jfnG1M",
        "outputId": "ac34421b-e145-4d44-d585-e82936117534"
      },
      "execution_count": 52,
      "outputs": [
        {
          "output_type": "stream",
          "name": "stdout",
          "text": [
            "Requirement already satisfied: nest_asyncio in /usr/local/lib/python3.10/dist-packages (1.5.8)\n"
          ]
        }
      ]
    },
    {
      "cell_type": "code",
      "source": [
        "import nest_asyncio\n",
        "\n",
        "nest_asyncio.apply()"
      ],
      "metadata": {
        "id": "6QZq8Jqdoq-i"
      },
      "execution_count": 53,
      "outputs": []
    },
    {
      "cell_type": "code",
      "source": [
        "# 동기 하나씩 차례대로 진행\n",
        "import time\n",
        "\n",
        "def job(number):\n",
        "    print(f\"Job {number} started\")\n",
        "    time.sleep(1)  # 매우 오래 걸리는 작업, 일반 sleep은 CPU를 쉬게 합니다.\n",
        "    print(f\"Job {number} completed\")\n",
        "\n",
        "job(1)\n",
        "job(2)\n",
        "job(3)"
      ],
      "metadata": {
        "colab": {
          "base_uri": "https://localhost:8080/"
        },
        "id": "bKVJUMB3otzq",
        "outputId": "34240357-00d0-474c-d46e-2137c20a4757"
      },
      "execution_count": 54,
      "outputs": [
        {
          "output_type": "stream",
          "name": "stdout",
          "text": [
            "Job 1 started\n",
            "Job 1 completed\n",
            "Job 2 started\n",
            "Job 2 completed\n",
            "Job 3 started\n",
            "Job 3 completed\n"
          ]
        }
      ]
    },
    {
      "cell_type": "code",
      "source": [
        "# colab에서 작동하는 코드\n",
        "# 기본 base는 colab에서 작동하지 않습니다.\n",
        "# 비동기 동시에 진행된다.(주문과 주문결과가 동시에 진행)\n",
        "# async 를 주면 비동기가 된다.\n",
        "import asyncio\n",
        "\n",
        "async def job(number):\n",
        "    print(f\"Job {number} started\")\n",
        "    await asyncio.sleep(1) # 주의!! 매우 오래 걸리는 작업, asyncio.sleep은 비동기 처리를 할 수 있도록 합니다.(다른 작업이 가능합니다.)\n",
        "    print(f\"Job {number} completed\")\n",
        "\n",
        "async def main():\n",
        "    await asyncio.gather(job(1), job(2), job(3)) # await asyncio.wait([job(1), job(2), job(3)])\n",
        "\n",
        "asyncio.run(main()) # 위의 main 함수안의 job은 따라 각각 돈다.\n",
        "print('hello world')"
      ],
      "metadata": {
        "colab": {
          "base_uri": "https://localhost:8080/"
        },
        "id": "vfG1Y7V9pXkp",
        "outputId": "c917a675-8ba5-4983-9ee5-06bac628fb27"
      },
      "execution_count": 55,
      "outputs": [
        {
          "output_type": "stream",
          "name": "stdout",
          "text": [
            "Job 1 started\n",
            "Job 2 started\n",
            "Job 3 started\n",
            "Job 1 completed\n",
            "Job 2 completed\n",
            "Job 3 completed\n",
            "hello world\n"
          ]
        }
      ]
    },
    {
      "cell_type": "markdown",
      "source": [
        "# 코르틴"
      ],
      "metadata": {
        "id": "Qd1JtqA3sJQb"
      }
    },
    {
      "cell_type": "code",
      "source": [
        "async def job():   # 코르틴 자체를 실행하면 안나온다.\n",
        "    print('job')\n",
        "\n",
        "print(job) # <function job at 0x7fc8cb38ef80>\n",
        "job() # <coroutine object job at 0x7fc8cb32bc30>, print('job')이 실행되진 않습니다!"
      ],
      "metadata": {
        "colab": {
          "base_uri": "https://localhost:8080/"
        },
        "id": "ZDHTlx_gpba6",
        "outputId": "40409f15-088f-458c-ea14-6f53d15dec4c"
      },
      "execution_count": 56,
      "outputs": [
        {
          "output_type": "stream",
          "name": "stdout",
          "text": [
            "<function job at 0x7b53d16470a0>\n"
          ]
        },
        {
          "output_type": "execute_result",
          "data": {
            "text/plain": [
              "<coroutine object job at 0x7b53d1668350>"
            ]
          },
          "metadata": {},
          "execution_count": 56
        }
      ]
    },
    {
      "cell_type": "code",
      "source": [
        "async def job():\n",
        "    print('job')\n",
        "\n",
        "async def main():\n",
        "    return await job()\n",
        "\n",
        "print(main) # <coroutine object main at 0x7fc8cb22bf40>\n",
        "print(await main()) # None"
      ],
      "metadata": {
        "colab": {
          "base_uri": "https://localhost:8080/"
        },
        "id": "gniF2xqKr3W5",
        "outputId": "d7980ff9-2185-4057-851b-407b156e48cf"
      },
      "execution_count": 57,
      "outputs": [
        {
          "output_type": "stream",
          "name": "stdout",
          "text": [
            "<function main at 0x7b53d1645750>\n",
            "job\n",
            "None\n"
          ]
        }
      ]
    },
    {
      "cell_type": "markdown",
      "source": [
        "# 정규표현식"
      ],
      "metadata": {
        "id": "pc2z_vJzr43h"
      }
    },
    {
      "cell_type": "markdown",
      "source": [
        "- 유효성 검증(validator), 문자열 처리, 코딩테스트(1문제 필수)\n",
        "- 다른 언어에서도 사용할 수 있습니다.\n",
        "- 정규표현식에서는 대소문자 구분\n",
        "- (정규표현식)[https://regexr.com/5nvc2]"
      ],
      "metadata": {
        "id": "dTq-mwM39S8z"
      }
    },
    {
      "cell_type": "code",
      "source": [
        "# https://regexr.com/5nvc2\n",
        "# 1번 일반 문자열 패턴\n",
        "# hello world\n",
        "# Hello\n",
        "# ^hello\n",
        "# hello$\n",
        "# ^hello$\n",
        "# .\n",
        "# .....\n",
        "# h[eao]llo\n",
        "# .[eao]llo\n",
        "# ^h[eao]llo$\n",
        "# h[a-zA-Z0-9]llo\n",
        "# h[a-zA-Z]llo\n",
        "# 010-[0-9][0-9][0-9][0-9]-[0-9][0-9][0-9][0-9]\n",
        "# 010.[0-9][0-9][0-9][0-9].[0-9][0-9][0-9][0-9]\n",
        "# 010[- .][0-9][0-9][0-9][0-9][- .][0-9][0-9][0-9][0-9]\n",
        "# [^a-zA-Z0-9]: 나머지 문자열을 찾음 # ^는 대괄호 안에서는 '부정'\n",
        "# _* : 앞에 있는 문자가 0개 ~ N개\n",
        "# _+ : 앞에 있는 문자가 1개 ~ N개\n",
        "# _? : 앞에 있는 문자가 0개 ~ 1개\n",
        "# 010[- .]?[0-9][0-9][0-9][0-9][- .]?[0-9][0-9][0-9][0-9]\n",
        "\n",
        "# {3} : 3개\n",
        "# {3,} : 3개 이상\n",
        "# {1,3} : 1개 ~ 3개\n",
        "# 010[- .]?[0-9]{4}[- .]?[0-9]{4}\n",
        "\n",
        "# _* : 앞에 있는 문자가 0개 ~ N개 ({0,})\n",
        "# _+ : 앞에 있는 문자가 1개 ~ N개({1,})\n",
        "# _? : 앞에 있는 문자가 0개 ~ 1개 ({0,1})\n",
        "\n",
        "# /[0-9]{3}[-.* ][0-9]{4}[-.* ][0-9]{4}/gm\n",
        "\n",
        "# 전화번호\n",
        "# /[0-9a-zA-Z]{2,3}[-.* ][0-9]{3,4}[-.* ][0-9]{4}/gm\n",
        "# /[0-9]{2,3}[-.* ][0-9]{3,4}[-.* ][0-9]{4}/gm\n",
        "\n",
        "# 이메일\n",
        "# /[0-9a-zA-Z]+@[0-9a-zA-Z]+.[a-zA-Z]+/gm\n",
        "# ^[a-zA-Z0-9+-_.]+@[a-zA-Z0-9-]+\\.[a-zA-Z0-9-.]+$\n",
        "# .....@----....\n",
        "\n",
        "\n",
        "# /\\w/gm : 워드 # 많이 사용\n",
        "# /\\w{5} /gm : 5개의 글자와 스페이스 하나\n",
        "# /\\W/gm : not 워드 # 많이 사용\n",
        "# /\\d/gm : 숫자 # 많이 사용\n",
        "# /\\D/gm : not 숫자\n",
        "# /\\s/gm : 스페이스\n",
        "# /\\S/gm : not 스페이스\n",
        "\n",
        "# ^\\d{3}[- .]?\\d{3,4}[- .]?\\d{4}$\n",
        "\n",
        "# /\\[.*]/gm : 대괄호([]) 안에 감싸여진 문자열\n",
        "# /\\(.*\\)/gm : 소괄호 안에 감싸여진 문자열\n",
        "# /\\\\.*\\//gm : 이미 사용되고 있는 특수문자로 감싸여진 문자열\n",
        "# /-.*-/gm : 이스케이프 문자를 사용할 필요가 없는 경우\n",
        "# /\\^\\^/gm : 이스케이프 문자가 필요한 경우\n",
        "# /:\\)/gm : 이스케이프 문자가 필요한 경우\n",
        "\n",
        "# \\[.*]\n",
        "# \\[.*\\], \\[.*\\]"
      ],
      "metadata": {
        "id": "cvsTbUMDEQ9t"
      },
      "execution_count": 59,
      "outputs": []
    },
    {
      "cell_type": "code",
      "source": [
        "# 사용되는 패턴\n",
        "# 1\n",
        "p = re.compile(r'([0-9]|10)([SDT])([\\*\\#]?)')\n",
        "p.findall('1S2D*3T')\n",
        "\n",
        "# 2\n",
        "re.findall(r'([0-9]|10)([SDT])([\\*\\#]?)', '1S2D*3T')\n",
        "\n",
        "# 자주 사용하는 메서드\n",
        "# findall() : 매치된 부분 모두 리스트 반환\n",
        "# sub() : 매치된 부분을 치환 (str에 replace와 같은 역활) # 가장 많이 사용."
      ],
      "metadata": {
        "id": "Ya8iD66_KR6g"
      },
      "execution_count": null,
      "outputs": []
    },
    {
      "cell_type": "markdown",
      "source": [
        "# findall() : 매치된 부분 모두 리스트 반환\n",
        "- (findall문제)[https://school.programmers.co.kr/learn/courses/30/lessons/17682]"
      ],
      "metadata": {
        "id": "CoVZojroP9Aj"
      }
    },
    {
      "cell_type": "code",
      "source": [
        "# 싱글 // 더블 // 트리플\n",
        "# 1S // 2D* // 3T\n",
        "# 스타상, 아차상은 빼고 진행\n",
        "\n",
        "l = []\n",
        "for i in '1S2D*3T':\n",
        "    if i.isdigit():\n",
        "        l.append(int(i))\n",
        "    elif i == 'S':\n",
        "        l[-1] = l[-1] ** 1\n",
        "    elif i == 'D':\n",
        "        l[-1] = l[-1] ** 2\n",
        "    elif i == 'T':\n",
        "        l[-1] = l[-1] ** 3\n",
        "sum(l)"
      ],
      "metadata": {
        "colab": {
          "base_uri": "https://localhost:8080/"
        },
        "id": "WoohpfuoKzr6",
        "outputId": "fa9ca680-e174-44e7-bc80-e43639989e4a"
      },
      "execution_count": 63,
      "outputs": [
        {
          "output_type": "execute_result",
          "data": {
            "text/plain": [
              "32"
            ]
          },
          "metadata": {},
          "execution_count": 63
        }
      ]
    },
    {
      "cell_type": "code",
      "source": [
        "# 1S // 2D* // 3T\n",
        "# 스타상, 아차상은 빼고 진행\n",
        "\n",
        "l = []\n",
        "for i in '1S2D*10T':\n",
        "    if i.isdigit():\n",
        "        l.append(int(i))\n",
        "    elif i == 'S':\n",
        "        l[-1] = l[-1] ** 1\n",
        "    elif i == 'D':\n",
        "        l[-1] = l[-1] ** 2\n",
        "    elif i == 'T':\n",
        "        l[-1] = l[-1] ** 3\n",
        "l"
      ],
      "metadata": {
        "colab": {
          "base_uri": "https://localhost:8080/"
        },
        "id": "656HNd0PNdcb",
        "outputId": "7d3d12ce-4d82-48c5-cbe7-f58d4efc4bf2"
      },
      "execution_count": 64,
      "outputs": [
        {
          "output_type": "execute_result",
          "data": {
            "text/plain": [
              "[1, 4, 1, 0]"
            ]
          },
          "metadata": {},
          "execution_count": 64
        }
      ]
    },
    {
      "cell_type": "code",
      "source": [
        "import re\n",
        "  # ([0-9]|10): 0부터 9까지의 숫자 또는 10이라는 숫자를 나타내는 그룹\n",
        "  # ([SDT]): 'S', 'D', 'T' 중 하나의 문자를 나타내는 그룹\n",
        "  # ([\\*\\#]?): '*' 또는 '#' 문자를 나타내는 그룹으로, 이 부분은 옵션을 나타냅니다.\n",
        "import re\n",
        "\n",
        "list(re.findall(r'([0-9]|10)([SDT])([\\*\\#]?)', '1S2D*3T'))\n",
        "list(re.findall(r'([0-9]|10)([SDT])([\\*\\#]?)', '1S10D*10T'))"
      ],
      "metadata": {
        "colab": {
          "base_uri": "https://localhost:8080/"
        },
        "id": "MA1QtjsPLeiB",
        "outputId": "c177ecb3-f36a-4705-8e36-d48c6919adee"
      },
      "execution_count": 67,
      "outputs": [
        {
          "output_type": "execute_result",
          "data": {
            "text/plain": [
              "[('1', 'S', ''), ('10', 'D', '*'), ('10', 'T', '')]"
            ]
          },
          "metadata": {},
          "execution_count": 67
        }
      ]
    },
    {
      "cell_type": "code",
      "source": [
        "d = {\n",
        "    'S':1,\n",
        "    'D':2,\n",
        "    'T':3\n",
        "}\n",
        "for 점수, 승수, 상 in re.findall(r'([0-9]|10)([SDT])([\\*\\#]?)', '1S2D*10T'):\n",
        "    print(int(점수) ** d[승수])"
      ],
      "metadata": {
        "colab": {
          "base_uri": "https://localhost:8080/"
        },
        "id": "4kR00Gw2Nghi",
        "outputId": "774201e9-8127-4d1c-9f6f-bbfc76acdaf7"
      },
      "execution_count": 68,
      "outputs": [
        {
          "output_type": "stream",
          "name": "stdout",
          "text": [
            "1\n",
            "4\n",
            "1000\n"
          ]
        }
      ]
    },
    {
      "cell_type": "markdown",
      "source": [
        "(암호문퀴즈)[https://pyalgo.co.kr/?page=2#]"
      ],
      "metadata": {
        "id": "zkptaNgAPA0U"
      }
    },
    {
      "cell_type": "code",
      "source": [
        "# https://pyalgo.co.kr/?page=2#\n",
        "\n",
        "re.findall(r'([rev])(10|[0-9])', 'a10b9r1ce33uab8wc918v2cv11v9')"
      ],
      "metadata": {
        "colab": {
          "base_uri": "https://localhost:8080/"
        },
        "id": "fUY8yz-wO-PS",
        "outputId": "8d0cec9a-d10c-4a89-e966-d76409566c90"
      },
      "execution_count": 69,
      "outputs": [
        {
          "output_type": "execute_result",
          "data": {
            "text/plain": [
              "[('r', '1'), ('e', '3'), ('v', '2'), ('v', '1'), ('v', '9')]"
            ]
          },
          "metadata": {},
          "execution_count": 69
        }
      ]
    },
    {
      "cell_type": "markdown",
      "source": [
        "# sub() : 매치된 부분을 치환 (str에 replace와 같은 역활)\n",
        "- (sub문제)[https://school.programmers.co.kr/learn/courses/30/lessons/120849]"
      ],
      "metadata": {
        "id": "gFJcNdOSO_lS"
      }
    },
    {
      "cell_type": "code",
      "source": [
        "\"nice to meet you\".replace('a', '').replace('e', '').replace('i', '').replace('o', '').replace('u', '')"
      ],
      "metadata": {
        "colab": {
          "base_uri": "https://localhost:8080/",
          "height": 36
        },
        "id": "wyGVXYRQQQqL",
        "outputId": "e4c21365-d759-4fc5-8991-ce66322fe69b"
      },
      "execution_count": 70,
      "outputs": [
        {
          "output_type": "execute_result",
          "data": {
            "text/plain": [
              "'nc t mt y'"
            ],
            "application/vnd.google.colaboratory.intrinsic+json": {
              "type": "string"
            }
          },
          "metadata": {},
          "execution_count": 70
        }
      ]
    },
    {
      "cell_type": "code",
      "source": [
        "# 복습 X\n",
        "# dir(\"nice to meet you\")\n",
        "s = \"nice to meet you\"\n",
        "ch = s.maketrans(\"aeiou\", \"!!!!!\");\n",
        "\n",
        "print(s.translate(ch));"
      ],
      "metadata": {
        "colab": {
          "base_uri": "https://localhost:8080/"
        },
        "id": "ht7YYisnQY7L",
        "outputId": "d9ed32bc-0b3d-4109-938e-bbd9e070b2e9"
      },
      "execution_count": 71,
      "outputs": [
        {
          "output_type": "stream",
          "name": "stdout",
          "text": [
            "n!c! t! m!!t y!!\n"
          ]
        }
      ]
    },
    {
      "cell_type": "code",
      "source": [
        "def solution(my_string):\n",
        "    return my_string.replace('a', '').replace('e', '').replace('i', '').replace('o', '').replace('u', '')\n",
        "\n",
        "def solution(my_string):\n",
        "    string = 'aeiou'\n",
        "    for i in string:\n",
        "        my_string = my_string.replace(i, '')\n",
        "    return my_string"
      ],
      "metadata": {
        "id": "bpmdl5KkQfuK"
      },
      "execution_count": 72,
      "outputs": []
    },
    {
      "cell_type": "code",
      "source": [
        "import re\n",
        "\n",
        "def solution(my_string):\n",
        "    return re.sub(r\"[aeiou]\", \"\", my_string)"
      ],
      "metadata": {
        "id": "syBp2sSmQ1AJ"
      },
      "execution_count": 73,
      "outputs": []
    },
    {
      "cell_type": "code",
      "source": [
        "# 문제: 아래 문자열에서 모든 문자를 제거하고 숫자만 모두 더해주세요.\n",
        "'hello1928ljwlie123slie21e1j3'"
      ],
      "metadata": {
        "colab": {
          "base_uri": "https://localhost:8080/",
          "height": 36
        },
        "id": "-zoQCHj9Q2MB",
        "outputId": "22fb1100-facc-4d55-9972-4c57184f36de"
      },
      "execution_count": 75,
      "outputs": [
        {
          "output_type": "execute_result",
          "data": {
            "text/plain": [
              "'hello1928ljwlie123slie21e1j3'"
            ],
            "application/vnd.google.colaboratory.intrinsic+json": {
              "type": "string"
            }
          },
          "metadata": {},
          "execution_count": 75
        }
      ]
    },
    {
      "cell_type": "code",
      "source": [
        "import re\n",
        "\n",
        "def solution(my_string):\n",
        "    return re.sub(r\"[a-zA-Z]\", \"\", my_string)\n",
        "\n",
        "solution('hello1928ljwlie123slie21e1j3')"
      ],
      "metadata": {
        "colab": {
          "base_uri": "https://localhost:8080/",
          "height": 36
        },
        "id": "qQggkStUSHvq",
        "outputId": "c0ebf680-2e5f-4d50-eb78-4996d044b0b4"
      },
      "execution_count": 77,
      "outputs": [
        {
          "output_type": "execute_result",
          "data": {
            "text/plain": [
              "'19281232113'"
            ],
            "application/vnd.google.colaboratory.intrinsic+json": {
              "type": "string"
            }
          },
          "metadata": {},
          "execution_count": 77
        }
      ]
    },
    {
      "cell_type": "code",
      "source": [
        "# 복습 X\n",
        "import re\n",
        "\n",
        "\n",
        "def solution(my_string):\n",
        "    return sum(map(int, list(re.sub(r\"[a-zA-Z]\", \"\", my_string))))\n",
        "\n",
        "solution('hello1928ljwlie123slie21e1j3')"
      ],
      "metadata": {
        "colab": {
          "base_uri": "https://localhost:8080/"
        },
        "id": "rpx-7P7bSJQK",
        "outputId": "f3cf56b6-5acb-4093-d814-dd3ba23d2f02"
      },
      "execution_count": 78,
      "outputs": [
        {
          "output_type": "execute_result",
          "data": {
            "text/plain": [
              "33"
            ]
          },
          "metadata": {},
          "execution_count": 78
        }
      ]
    },
    {
      "cell_type": "code",
      "source": [
        "list(re.findall(r'[0-9]', 'hello1928ljwlie123slie21e1j3'))\n",
        "list(re.findall(r'[0-9]+', 'hello1928ljwlie123slie21e1j3'))"
      ],
      "metadata": {
        "colab": {
          "base_uri": "https://localhost:8080/"
        },
        "id": "9Y25GJLISXuQ",
        "outputId": "8ad24682-0b43-405b-aae9-d142b3cbd630"
      },
      "execution_count": 79,
      "outputs": [
        {
          "output_type": "execute_result",
          "data": {
            "text/plain": [
              "['1928', '123', '21', '1', '3']"
            ]
          },
          "metadata": {},
          "execution_count": 79
        }
      ]
    },
    {
      "cell_type": "code",
      "source": [
        "import re\n",
        "\n",
        "my_string = \"aAb1B2cC34oOp\"\n",
        "re.sub('[^1-9]', '', my_string) # 1 ~ 9 숫자만"
      ],
      "metadata": {
        "colab": {
          "base_uri": "https://localhost:8080/",
          "height": 36
        },
        "id": "fFCamSXcSsxg",
        "outputId": "387a142b-154e-44e3-f255-f02952eb8a4a"
      },
      "execution_count": 81,
      "outputs": [
        {
          "output_type": "execute_result",
          "data": {
            "text/plain": [
              "'1234'"
            ],
            "application/vnd.google.colaboratory.intrinsic+json": {
              "type": "string"
            }
          },
          "metadata": {},
          "execution_count": 81
        }
      ]
    },
    {
      "cell_type": "code",
      "source": [
        "import re\n",
        "\n",
        "my_string = \"aAb1B2cC34oOp\"\n",
        "re.sub('\\d', '', my_string) # 문자열만"
      ],
      "metadata": {
        "colab": {
          "base_uri": "https://localhost:8080/",
          "height": 36
        },
        "id": "SCeUSpdUUHwx",
        "outputId": "333739b2-a3f5-4b21-ec77-dade2135eaae"
      },
      "execution_count": 82,
      "outputs": [
        {
          "output_type": "execute_result",
          "data": {
            "text/plain": [
              "'aAbBcCoOp'"
            ],
            "application/vnd.google.colaboratory.intrinsic+json": {
              "type": "string"
            }
          },
          "metadata": {},
          "execution_count": 82
        }
      ]
    },
    {
      "cell_type": "code",
      "source": [
        "# 복습 X\n",
        "import re\n",
        "\n",
        "print(re.sub(r'([0-9]{3})-([0-9]{4})-([0-9]{4})', r'\\1!\\2!\\3', '010-5000-3000'))\n",
        "print(re.sub(r'([0-9]{3})-([0-9]{4})-([0-9]{4})', r'\\1/\\2/\\3', '010-5000-3000'))\n",
        "print(re.sub(r'([0-9]{3})-([0-9]{4})-([0-9]{4})', r'[\\1][\\2][\\3]', '010-5000-3000'))\n",
        "print(re.sub(r'([0-9]{3})-([0-9]{4})-([0-9]{4})', r'[\\1]-[\\2]-[\\3]', '010-5000-3000'))\n",
        "print(re.sub(r'([0-9]{3})-([0-9]{4})-([0-9]{4})', r'지역번호: \\1 전화번호: \\2\\3', '010-5000-3000'))"
      ],
      "metadata": {
        "colab": {
          "base_uri": "https://localhost:8080/"
        },
        "id": "QdLjO_1JUJdq",
        "outputId": "8dcf51d4-a40f-4f39-ebe7-77e5ca947094"
      },
      "execution_count": 83,
      "outputs": [
        {
          "output_type": "stream",
          "name": "stdout",
          "text": [
            "010!5000!3000\n",
            "010/5000/3000\n",
            "[010][5000][3000]\n",
            "[010]-[5000]-[3000]\n",
            "지역번호: 010 전화번호: 50003000\n"
          ]
        }
      ]
    },
    {
      "cell_type": "code",
      "source": [
        "# 복습 XXX\n",
        "import re\n",
        "\n",
        "print(re.sub(r'(?P<one>[0-9]{3})-(?P<two>[0-9]{4})-(?P<three>[0-9]{4})', r'\\g<one>!!\\g<two>!!\\g<three>', '010-5000-3000'))"
      ],
      "metadata": {
        "colab": {
          "base_uri": "https://localhost:8080/"
        },
        "id": "jiONa33oU_Q6",
        "outputId": "8c395025-cea6-47e5-dff0-b68a84bd2aaa"
      },
      "execution_count": 84,
      "outputs": [
        {
          "output_type": "stream",
          "name": "stdout",
          "text": [
            "010!!5000!!3000\n"
          ]
        }
      ]
    },
    {
      "cell_type": "markdown",
      "source": [
        "# 마크다운을 마크업으로"
      ],
      "metadata": {
        "id": "9Mq10zuUaERK"
      }
    },
    {
      "cell_type": "code",
      "source": [
        "import re\n",
        "\n",
        "text = '''# This is a h1\n",
        "## This is a h2\n",
        "### This is a h3\n",
        "#### This is a h4\n",
        "##### This is a h5\n",
        "###### This is a h6\n",
        "\n",
        "* This is a bulleted list\n",
        "  * This is a nested bulleted list\n",
        "\n",
        "**This is bold text**\n",
        "\n",
        "_This is italic text_\n",
        "\n",
        "~~This text is strikethrough~~\n",
        "'''\n",
        "\n",
        "def markdown_to_html(markdown):\n",
        "    html = re.sub(r'# (.*)', r'<h1>\\1</h1>', markdown)\n",
        "    # html = re.sub(r'## (.*)', r'\\1', html)\n",
        "    # html = re.sub(r'### (.*)', r'\\1', html)\n",
        "    # html = re.sub(r'`(.*)`', r'\\1', html)\n",
        "    # html = re.sub(r'\\*\\*(.*)\\*\\*', r'\\1', html)\n",
        "    # html = re.sub(r'_(.*)_', r'\\1', html)\n",
        "    # html = re.sub(r'~~(.*)~~', r'\\1', html)\n",
        "    # html = re.sub(r'^(>+) (.*)', r'\\1\\2', html)\n",
        "    # html = re.sub(r'^\\* (.*)', r'\\1', html, flags=re.M+re.S)\n",
        "    return html\n",
        "\n",
        "print(markdown_to_html(text))"
      ],
      "metadata": {
        "colab": {
          "base_uri": "https://localhost:8080/"
        },
        "id": "_9iN_100YVJZ",
        "outputId": "25b2c1af-e30b-4187-e005-1d53e0c70ef1"
      },
      "execution_count": 86,
      "outputs": [
        {
          "output_type": "stream",
          "name": "stdout",
          "text": [
            "<h1>This is a h1</h1>\n",
            "#<h1>This is a h2</h1>\n",
            "##<h1>This is a h3</h1>\n",
            "###<h1>This is a h4</h1>\n",
            "####<h1>This is a h5</h1>\n",
            "#####<h1>This is a h6</h1>\n",
            "\n",
            "* This is a bulleted list\n",
            "  * This is a nested bulleted list\n",
            "\n",
            "**This is bold text**\n",
            "\n",
            "_This is italic text_\n",
            "\n",
            "~~This text is strikethrough~~\n",
            "\n"
          ]
        }
      ]
    },
    {
      "cell_type": "code",
      "source": [
        "import re\n",
        "\n",
        "text = '''# This is a h1\n",
        "## This is a h2\n",
        "### This is a h3\n",
        "\n",
        "**This is bold text**\n",
        "'''\n",
        "\n",
        "def markdown_to_html(markdown):\n",
        "    html = re.sub(r'### (.*)', r'<h3>\\1<h3>', markdown)\n",
        "    html = re.sub(r'## (.*)', r'<h2>\\1<h2>', html)\n",
        "    html = re.sub(r'# (.*)', r'<h1>\\1</h1>', html)\n",
        "    html = re.sub(r'\\*\\*(.*)\\*\\*', r'<strong>\\1</strong>', html)\n",
        "    return html\n",
        "\n",
        "print(markdown_to_html(text))"
      ],
      "metadata": {
        "colab": {
          "base_uri": "https://localhost:8080/"
        },
        "id": "3-KyvDxgZt2P",
        "outputId": "8bd2e1e7-c7b4-4270-a9d3-848f94813918"
      },
      "execution_count": 87,
      "outputs": [
        {
          "output_type": "stream",
          "name": "stdout",
          "text": [
            "<h1>This is a h1</h1>\n",
            "<h2>This is a h2<h2>\n",
            "<h3>This is a h3<h3>\n",
            "\n",
            "<strong>This is bold text</strong>\n",
            "\n"
          ]
        }
      ]
    },
    {
      "cell_type": "code",
      "source": [],
      "metadata": {
        "id": "Yeraxd2Ya_sS"
      },
      "execution_count": null,
      "outputs": []
    }
  ]
}