{
  "nbformat": 4,
  "nbformat_minor": 0,
  "metadata": {
    "colab": {
      "provenance": []
    },
    "kernelspec": {
      "name": "python3",
      "display_name": "Python 3"
    },
    "language_info": {
      "name": "python"
    }
  },
  "cells": [
    {
      "cell_type": "markdown",
      "source": [
        "# 오늘 진행한 책 크롤링 코드를 이용하여 다음 요구사항을 만족하는 코드를 작성해주세요."
      ],
      "metadata": {
        "id": "Z67teufS6Wzy"
      }
    },
    {
      "cell_type": "markdown",
      "source": [
        "1. 모든 텍스트는 앞, 뒤 공백이 제거된 텍스트여야 합니다.\n",
        "2. 가격은 int 형이어야 합니다.\n",
        "3. 저자는 앞에 '저자: '가 없어야 합니다.\n",
        "4. 가격을 달러로 바꿔주는 메서드를 작성해주세요.\n",
        "5. 할인 메서드를 작성해주세요. 할인율이 들어가면 변경되어야 합니다.\n",
        "    5.1 object.discount(10) => 10프로 할인된 가격을 반환합니다.\n",
        "    5.2 object.discount(0) => 0프로 할인된 가격을 반환합니다."
      ],
      "metadata": {
        "id": "g7exajYV51lg"
      }
    },
    {
      "cell_type": "code",
      "source": [
        "# 진행한 크롤링 코드\n",
        "# 마음에 안드는 포인트들\n",
        "# 1. 가격이 int형이 아니다!\n",
        "# 2. 가격, 저자가 한 번 더 들어있다!\n",
        "# 3. 공백도 들어가 있다!\n",
        "\n",
        "books = []\n",
        "class Book:\n",
        "    def __init__(self, name='', price=0, author='', info=''):\n",
        "        self.name = name\n",
        "        if price.replace('가격: ', '').replace('원', '').replace(',', '') == '무료':\n",
        "            self.price = 0\n",
        "        else:\n",
        "            self.price = int(price.replace('가격: ', '').replace('원', '').replace(',', ''))\n",
        "        self.author = author\n",
        "        self.info = info\n",
        "\n",
        "    def __str__(self):\n",
        "        return self.name\n",
        "\n",
        "    def __repr__(self):\n",
        "        return self.name\n",
        "\n",
        "for i, _ in enumerate(book_name):\n",
        "    books.append(Book(\n",
        "        book_name[i].text,\n",
        "        book_info[(i*3)].text,\n",
        "        book_info[(i*3)+1].text,\n",
        "        book_info[(i*3)+2].text\n",
        "    ))\n",
        "\n",
        "books\n",
        "books[0].name\n",
        "books[0].price"
      ],
      "metadata": {
        "id": "vpmLvDDS6OV4"
      },
      "execution_count": 1,
      "outputs": []
    },
    {
      "cell_type": "code",
      "source": [
        "# 정답 1\n",
        "\n",
        "class Book:\n",
        "    def __init__(self, name='', price='', author='', info=''):\n",
        "        self.name = name.strip()\n",
        "        self.price = self.parse_price(price.strip())\n",
        "        self.author = author.replace('저자: ', '').strip()\n",
        "        self.info = info.strip()\n",
        "\n",
        "    def parse_price(self, price_str):\n",
        "        if price_str.replace('가격: ', '').replace('원', '').replace(',', '') == '무료':\n",
        "            return 0\n",
        "        else:\n",
        "            return int(price_str.replace('가격: ', '').replace('원', '').replace(',', ''))\n",
        "\n",
        "    def __str__(self):\n",
        "        return self.name\n",
        "\n",
        "    def __repr__(self):\n",
        "        return self.name\n",
        "\n",
        "    def convert_to_dollar(self, exchange = 1200):\n",
        "        return self.price // exchange\n",
        "\n",
        "    def discount(self, discount_rate):\n",
        "        discount_price = self.price * (1 - discount_rate / 100)\n",
        "        self.price = int(discount_price)\n",
        "        return int(discount_price)\n",
        "\n",
        "\n",
        "books = []\n",
        "for i, _ in enumerate(book_name):\n",
        "    books.append(Book(\n",
        "        book_name[i].text,\n",
        "        book_info[(i*3)].text,\n",
        "        book_info[(i*3)+1].text,\n",
        "        book_info[(i*3)+2].text\n",
        "    ))\n",
        "\n",
        "\n",
        "print(books)\n",
        "print(books[0].name)\n",
        "print(books[0].price)\n",
        "print(f'{books[0].convert_to_dollar()} 달러')  # 달러로 변환된 가격\n",
        "books[0].discount(10)  # 10% 할인된 가격\n",
        "print(books[0].price)"
      ],
      "metadata": {
        "id": "tGvoGX6L6AUl"
      },
      "execution_count": null,
      "outputs": []
    },
    {
      "cell_type": "code",
      "source": [
        "# 정답 2\n",
        "\n",
        "books = []\n",
        "\n",
        "class Book:\n",
        "    def __init__(self, name='', price=0, author='', info=''):\n",
        "        self.name = name.strip()\n",
        "        self.price = int(price.replace('가격: ', '').replace(',','').replace('원','').replace('무료','0'))\n",
        "        self.author = author.strip().replace('저자: ', '').split(', ') # 저자 여럿인 경우가 있어 list로 관리하는게 좋을듯함\n",
        "        self.info = info.strip()\n",
        "\n",
        "    def __str__(self):\n",
        "        # 객체가 가진 인스턴스 변수를 한꺼번에 다 보고 싶어서 한 시도. 이거 좀 더 짧게 못쓰나...\n",
        "        # -> GPT 한테 물어보니 return str(self.__dict__) 를 알려줌!\n",
        "        return f\"{{ name: '{self.name}', price: {self.price}, author: {self.author}, info: '{self.info}' }}\"\n",
        "\n",
        "    def __repr__(self):\n",
        "        return f\"{{ name: '{self.name}', price: {self.price}, author: {self.author}, info: '{self.info}' }}\"\n",
        "\n",
        "    def toDollar(self):\n",
        "        환율 = 1300\n",
        "        return round(self.price / 환율, 2)\n",
        "\n",
        "    def discount(self, rate):\n",
        "        할인액 = self.price * (rate / 100)\n",
        "\n",
        "        return int(self.price - 할인액)\n",
        "\n",
        "for i, _ in enumerate(book_name):\n",
        "    books.append(Book(\n",
        "        book_name[i].text,\n",
        "        book_info[(i*3)].text,\n",
        "        book_info[(i*3)+1].text,\n",
        "        book_info[(i*3)+2].text\n",
        "    ))\n",
        "\n",
        "\n",
        "books[0].discount(0)"
      ],
      "metadata": {
        "id": "WcggMyEF6Gm5"
      },
      "execution_count": null,
      "outputs": []
    }
  ]
}