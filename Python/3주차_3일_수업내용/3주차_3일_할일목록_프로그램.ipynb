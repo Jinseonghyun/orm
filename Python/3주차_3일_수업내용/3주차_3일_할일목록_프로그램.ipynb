{
  "nbformat": 4,
  "nbformat_minor": 0,
  "metadata": {
    "colab": {
      "provenance": []
    },
    "kernelspec": {
      "name": "python3",
      "display_name": "Python 3"
    },
    "language_info": {
      "name": "python"
    }
  },
  "cells": [
    {
      "cell_type": "markdown",
      "source": [
        "# 할일 목록 만들기(To-Do)\n",
        "\n",
        "Step 1: 할 일 목록 초기화 및 표시 함수\n",
        "목표: 사용자의 할 일 목록을 관리합니다.\n",
        "내용:\n",
        "할 일 목록을 저장할 리스트를 초기화합니다.\n",
        "할 일 목록을 표시하는 함수를 정의합니다.\n",
        "\n",
        "Step 2: 할 일 추가 및 삭제 기능\n",
        "목표: 할 일을 추가하고 삭제하는 기능을 구현합니다.\n",
        "내용:\n",
        "할 일을 추가하는 함수를 정의합니다.\n",
        "할 일을 삭제하는 함수를 정의합니다.\n",
        "\n",
        "Step 3: 사용자 입력 처리\n",
        "목표: 사용자 입력에 따라 프로그램이 반응하도록 합니다.\n",
        "내용:\n",
        "사용자로부터 입력을 받아 추가, 삭제, 표시 기능을 수행합니다."
      ],
      "metadata": {
        "id": "VjG99-KQIpjK"
      }
    },
    {
      "cell_type": "code",
      "source": [
        "# 할 일 목록을 저장할 리스트\n",
        "todo_list = []\n",
        "\n",
        "# 할 일 목록을 표시하는 함수\n",
        "def display_todo_list():\n",
        "    print(\"현재 할 일 목록:\")\n",
        "    for task in todo_list:  # todo_list에 있는 모든 할 일을 순회\n",
        "        print(\"- \" + task)  # 각 할 일 앞에 '-'를 붙여서 출력\n",
        "\n",
        "# 할 일을 추가하는 함수\n",
        "def add_task(task):\n",
        "    todo_list.append(task)  # 리스트에 새 할 일 추가\n",
        "    print(f\"'{task}'가 할 일 목록에 추가되었습니다.\")\n",
        "\n",
        "# 할 일을 제거하는 함수\n",
        "def remove_task(task):\n",
        "    if task in todo_list:  # 할 일이 목록에 있는지 확인\n",
        "        todo_list.remove(task)  # 목록에서 할 일 제거\n",
        "        print(f\"'{task}'가 할 일 목록에서 제거되었습니다.\")\n",
        "    else:\n",
        "        print(f\"할 일 목록에 '{task}'가 없습니다.\")\n",
        "\n",
        "# 메인 루프\n",
        "while True:\n",
        "    print(\"\\n[1] 할 일 추가 [2] 할 일 삭제 [3] 목록 표시 [4] 종료\")\n",
        "    choice = input(\"선택: \")  # 사용자 입력 받기\n",
        "\n",
        "    if choice == '1':  # 할 일 추가\n",
        "        task = input(\"추가할 할 일: \")\n",
        "        add_task(task)\n",
        "    elif choice == '2':  # 할 일 삭제\n",
        "        task = input(\"삭제할 할 일: \")\n",
        "        remove_task(task)\n",
        "    elif choice == '3':  # 할 일 목록 표시\n",
        "        display_todo_list()\n",
        "    elif choice == '4':  # 프로그램 종료\n",
        "        print(\"프로그램을 종료합니다.\")\n",
        "        break  # while 루프 종료\n",
        "    else:\n",
        "        print(\"잘못된 선택입니다. 다시 입력하세요.\")"
      ],
      "metadata": {
        "id": "ZaaQYfrWQYTg"
      },
      "execution_count": null,
      "outputs": []
    }
  ]
}