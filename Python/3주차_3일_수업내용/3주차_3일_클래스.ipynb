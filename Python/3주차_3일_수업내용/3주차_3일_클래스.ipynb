{
  "nbformat": 4,
  "nbformat_minor": 0,
  "metadata": {
    "colab": {
      "provenance": []
    },
    "kernelspec": {
      "name": "python3",
      "display_name": "Python 3"
    },
    "language_info": {
      "name": "python"
    }
  },
  "cells": [
    {
      "cell_type": "markdown",
      "source": [
        "#1. 클래스"
      ],
      "metadata": {
        "id": "mZHAm34FYzHK"
      }
    },
    {
      "cell_type": "code",
      "execution_count": null,
      "metadata": {
        "id": "P9Bkd4bqYp8T"
      },
      "outputs": [],
      "source": [
        "# 고정된 값을 가지는 클래스 -> 함수랑 다른 점이 없는 클래스\n",
        "\n",
        "class Car: # 차에 설계 도면 또는 차 공장, 클래스 1. 클래스는 대문자로 이름을 설정해야한다.\n",
        "    max_speed = 300 # 멤버 또는 애트리뷰트\n",
        "    max_people = 5\n",
        "    car_gear = ['P', 'D', 'R', 'N']\n",
        "\n",
        "    def start(self): # 메서드\n",
        "        print('차가 출발합니다!')\n",
        "\n",
        "    def stop(self):\n",
        "        print('차가 멈췄습니다!')\n",
        "\n",
        "# 공장에서 생산된 자동차 modelx, y, s, 인스턴스\n",
        "modelx = Car() # 인스턴스 = 클래스()\n",
        "models = Car()"
      ]
    },
    {
      "cell_type": "code",
      "source": [
        "# 클래스의 장점 -> 클래스 안에 있는 함수의 기능을 가져올 수 있다.\n",
        "print(modelx.max_speed)\n",
        "print(modelx.car_gear[1]) # 도서관에서 책 찾는것처럼 -> 문학 -> 한국문학 -> 비문학"
      ],
      "metadata": {
        "colab": {
          "base_uri": "https://localhost:8080/"
        },
        "id": "f-RTFrxGZs3G",
        "outputId": "36945248-0c5c-4dff-ce68-97f915dc8b5e"
      },
      "execution_count": null,
      "outputs": [
        {
          "output_type": "stream",
          "name": "stdout",
          "text": [
            "300\n",
            "D\n"
          ]
        }
      ]
    },
    {
      "cell_type": "code",
      "source": [
        "#self는 무시된다. 함수를 가져올때는 () 꼭 입력한다.\n",
        "models.start()\n",
        "models.stop()"
      ],
      "metadata": {
        "colab": {
          "base_uri": "https://localhost:8080/"
        },
        "id": "mUs5sVIJaRtW",
        "outputId": "d60fa798-0787-43ca-a6a3-39caefa590f4"
      },
      "execution_count": null,
      "outputs": [
        {
          "output_type": "stream",
          "name": "stdout",
          "text": [
            "차가 출발합니다!\n",
            "차가 멈췄습니다!\n"
          ]
        }
      ]
    },
    {
      "cell_type": "code",
      "source": [
        "print(models.car_gear[1])\n",
        "models.start()\n",
        "models.stop()"
      ],
      "metadata": {
        "id": "VGEt2RnmZoMD",
        "outputId": "88210bee-975c-426d-e6fb-520149e600ef",
        "colab": {
          "base_uri": "https://localhost:8080/"
        }
      },
      "execution_count": null,
      "outputs": [
        {
          "output_type": "stream",
          "name": "stdout",
          "text": [
            "D\n",
            "차가 출발합니다!\n",
            "차가 멈췄습니다!\n"
          ]
        }
      ]
    },
    {
      "cell_type": "code",
      "source": [
        "modely = Car()\n",
        "models = Car()"
      ],
      "metadata": {
        "id": "fxrxwnpEZWzQ"
      },
      "execution_count": null,
      "outputs": []
    },
    {
      "cell_type": "code",
      "source": [
        "# Car.max_speed # modelx에 속도를 보고 싶으면 modelx.max_speed를 찍어야 합니다.\n",
        "# 초기 설계는 300으로 찍혀 있지만, 고객이 아래와 같이 자동차 튜닝을 했을 수도 있으니까요.\n",
        "\n",
        "models.max_speed = 500\n",
        "\n",
        "print(models.max_speed) # 직접 클래스 자료에 접근해서 -> 데이터를 변경할수 있다.\n",
        "print(modely.max_speed)"
      ],
      "metadata": {
        "colab": {
          "base_uri": "https://localhost:8080/"
        },
        "id": "VUz7mzIZZJgz",
        "outputId": "2b8c73a7-c11c-40a7-e692-b0ea8f091691"
      },
      "execution_count": null,
      "outputs": [
        {
          "output_type": "stream",
          "name": "stdout",
          "text": [
            "500\n",
            "300\n"
          ]
        }
      ]
    },
    {
      "cell_type": "code",
      "source": [
        "def Car(x):\n",
        "    y = x + 1"
      ],
      "metadata": {
        "id": "J7-6IzrXcqA_"
      },
      "execution_count": null,
      "outputs": []
    },
    {
      "cell_type": "code",
      "source": [
        "# x = int(3) 여기서 넣었던 3이라는 값이 어떻게 처리되는지 확인\n",
        "class Car:\n",
        "    max_speed = 300\n",
        "    max_people = 5\n",
        "    car_gear = ['P', 'D', 'R', 'N']\n",
        "    # name = 'Tesla Model X'\n",
        "\n",
        "    def __init__(self, name): # 클래스로 인스턴스를 만들 때 호출!\n",
        "        self.name = name\n",
        "\n",
        "    def start(self):\n",
        "        print('차가 출발합니다!')\n",
        "\n",
        "    def stop(self):\n",
        "        print('차가 멈췄습니다!')\n",
        "\n",
        "modelx = Car('Tesla Model X') # x = int(3) 여기서 넣었던 3이 __init__ 메직메서드에서 처리!\n",
        "modelx.name"
      ],
      "metadata": {
        "colab": {
          "base_uri": "https://localhost:8080/",
          "height": 36
        },
        "id": "jP4R1UjFaokd",
        "outputId": "26c7743e-8169-4510-f061-269bb3bc9758"
      },
      "execution_count": null,
      "outputs": [
        {
          "output_type": "execute_result",
          "data": {
            "text/plain": [
              "'Tesla Model X'"
            ],
            "application/vnd.google.colaboratory.intrinsic+json": {
              "type": "string"
            }
          },
          "metadata": {},
          "execution_count": 12
        }
      ]
    },
    {
      "cell_type": "code",
      "source": [
        "class Car:\n",
        "    def __init__(self, name, CEO): # 클래스에서 __init__은 붕어빵 틀 중에서 가장 기본 틀!\n",
        "        self.name = name           # self는 인수로 전달받지도 전달하지도 않음 -> Car 클래스 그 자체\n",
        "        self.CEO = CEO             # 위에 꼭 self를 붙여야 self를 사용해서 self.name처럼 사용할 수 있음\n",
        "\n",
        "modelx = Car('Tesla Model X', '일론 머스크') # __init__과 self로 구현된 값은 클래스 할당시 입력자료를 넣을 수 있다.\n",
        "print(modelx.name)                        # 입력을 받을때는 파라미터를 설정해야한다.(name, CEO처럼)\n",
        "print(modelx.CEO)                         # 그러면 modelx처럼 name과 CEO의 데이터를 불러올수 있다."
      ],
      "metadata": {
        "colab": {
          "base_uri": "https://localhost:8080/"
        },
        "id": "t0mpPfAdcNQa",
        "outputId": "cb8982f9-889b-4278-dcb9-a9e50050b7c1"
      },
      "execution_count": null,
      "outputs": [
        {
          "output_type": "stream",
          "name": "stdout",
          "text": [
            "Tesla Model X\n",
            "일론 머스크\n"
          ]
        }
      ]
    },
    {
      "cell_type": "code",
      "source": [
        "class Car:\n",
        "    # 클래스 변수의 위치\n",
        "    max_speed = 300\n",
        "    max_people = 5\n",
        "    car_gear = ['P', 'D', 'R', 'N']\n",
        "\n",
        "\n",
        "modelx = Car()\n",
        "print(Car.max_speed)\n",
        "print(modelx.max_speed)"
      ],
      "metadata": {
        "id": "2Cwbdgf9dj0h",
        "outputId": "192900a5-dd69-46d4-c2f9-dd2b82f1724b",
        "colab": {
          "base_uri": "https://localhost:8080/"
        }
      },
      "execution_count": null,
      "outputs": [
        {
          "output_type": "stream",
          "name": "stdout",
          "text": [
            "300\n",
            "300\n"
          ]
        }
      ]
    },
    {
      "cell_type": "code",
      "source": [
        "# 인스턴스 식품!!\n",
        "class Car:\n",
        "    # 클래스 변수의 위치\n",
        "    max_speed = 300\n",
        "    max_people = 5\n",
        "    car_gear = ['P', 'D', 'R', 'N']\n",
        "\n",
        "modelx = Car()\n",
        "modely = Car()"
      ],
      "metadata": {
        "id": "bMmOVdETxyeT"
      },
      "execution_count": null,
      "outputs": []
    },
    {
      "cell_type": "code",
      "source": [
        "modely.max_speed"
      ],
      "metadata": {
        "colab": {
          "base_uri": "https://localhost:8080/"
        },
        "id": "xBO3mUo-x2ji",
        "outputId": "9b948ca7-d548-446f-b680-e4ad414b6f5c"
      },
      "execution_count": null,
      "outputs": [
        {
          "output_type": "execute_result",
          "data": {
            "text/plain": [
              "300"
            ]
          },
          "metadata": {},
          "execution_count": 16
        }
      ]
    },
    {
      "cell_type": "code",
      "source": [
        "modely.max_speed = 500\n",
        "\n",
        "print(Car.max_speed)\n",
        "print(modelx.max_speed)\n",
        "print(modely.max_speed)"
      ],
      "metadata": {
        "colab": {
          "base_uri": "https://localhost:8080/"
        },
        "id": "GEOkHXzDxz7O",
        "outputId": "1a1eb712-1350-43a6-a85e-7bfc78f37e58"
      },
      "execution_count": null,
      "outputs": [
        {
          "output_type": "stream",
          "name": "stdout",
          "text": [
            "300\n",
            "300\n",
            "500\n"
          ]
        }
      ]
    },
    {
      "cell_type": "code",
      "source": [
        "class Car:\n",
        "    kinds = []\n",
        "    speed = 300\n",
        "\n",
        "    def add_kinds(self, name):\n",
        "        self.kinds.append(name)\n",
        "\n",
        "    def change_speed(self, speed):\n",
        "        self.speed = speed\n",
        "\n",
        "modelx = Car()\n",
        "modely = Car()\n",
        "\n",
        "modelx.add_kinds('x')\n",
        "modely.add_kinds('y')\n",
        "\n",
        "Car.speed = 100\n",
        "\n",
        "# modelx.change_speed(500)\n",
        "# modely.change_speed(250)\n",
        "\n",
        "print(f'modelx.kinds: {modelx.kinds}')\n",
        "print(f'modely.kinds: {modely.kinds}')\n",
        "print(f'modelx.speed: {modelx.speed}')\n",
        "print(f'modely.speed: {modely.speed}')"
      ],
      "metadata": {
        "id": "2Rgy4XzCyHQo",
        "outputId": "fd935723-4c36-4410-c6ff-a3dfd08be98b",
        "colab": {
          "base_uri": "https://localhost:8080/"
        }
      },
      "execution_count": null,
      "outputs": [
        {
          "output_type": "stream",
          "name": "stdout",
          "text": [
            "modelx.kinds: ['x', 'y']\n",
            "modely.kinds: ['x', 'y']\n",
            "modelx.speed: 100\n",
            "modely.speed: 100\n"
          ]
        }
      ]
    },
    {
      "cell_type": "code",
      "source": [
        "class Car:\n",
        "    kinds = []\n",
        "\n",
        "    def add_kinds(self, name):\n",
        "        self.kinds.append(name) #append -> 리스트에(name) nam(임시이름)값을 추가하는!\n",
        "\n",
        "modelx = Car()\n",
        "#여러번 반복!\n",
        "modelx.add_kinds('x')\n",
        "print(modelx.kinds)"
      ],
      "metadata": {
        "id": "zS14FK0jy4-Y",
        "outputId": "f2535311-8dc3-4bdf-f08c-00933d25f5a4",
        "colab": {
          "base_uri": "https://localhost:8080/"
        }
      },
      "execution_count": null,
      "outputs": [
        {
          "output_type": "stream",
          "name": "stdout",
          "text": [
            "['x']\n"
          ]
        }
      ]
    },
    {
      "cell_type": "code",
      "source": [
        "#Car()와 modelx는 분리되어있다.! 그게 아닐수도 있다.\n",
        "#왜냐하면 self라는 것때문에"
      ],
      "metadata": {
        "id": "ETsm5sBq1MRr"
      },
      "execution_count": null,
      "outputs": []
    },
    {
      "cell_type": "code",
      "source": [
        "print(modelx.kinds)"
      ],
      "metadata": {
        "colab": {
          "base_uri": "https://localhost:8080/"
        },
        "id": "K_2lZCeu1Hfd",
        "outputId": "44556437-8c98-427a-982a-2511d4d2643b"
      },
      "execution_count": null,
      "outputs": [
        {
          "output_type": "stream",
          "name": "stdout",
          "text": [
            "['x']\n"
          ]
        }
      ]
    },
    {
      "cell_type": "code",
      "source": [
        "#Self는 Car라는 클래스 그 자체"
      ],
      "metadata": {
        "id": "dapPVd3V1ZWk"
      },
      "execution_count": null,
      "outputs": []
    },
    {
      "cell_type": "code",
      "source": [
        "modelx.add_kinds('x')\n",
        "print(modelx.kinds)"
      ],
      "metadata": {
        "colab": {
          "base_uri": "https://localhost:8080/"
        },
        "id": "nXCuwVyLzDGD",
        "outputId": "5a0f1713-12ee-4fd7-fe13-380660101af9"
      },
      "execution_count": null,
      "outputs": [
        {
          "output_type": "stream",
          "name": "stdout",
          "text": [
            "['x', 'x']\n"
          ]
        }
      ]
    },
    {
      "cell_type": "code",
      "source": [
        "print(Car.kinds)"
      ],
      "metadata": {
        "colab": {
          "base_uri": "https://localhost:8080/"
        },
        "id": "MR0QGauC1KrC",
        "outputId": "ccba6b67-dea3-4e23-f4dd-c3082c109fca"
      },
      "execution_count": null,
      "outputs": [
        {
          "output_type": "stream",
          "name": "stdout",
          "text": [
            "['x', 'x']\n"
          ]
        }
      ]
    },
    {
      "cell_type": "code",
      "source": [
        "\n",
        "modelx.kinds"
      ],
      "metadata": {
        "colab": {
          "base_uri": "https://localhost:8080/"
        },
        "id": "LQl2DNaz0y7O",
        "outputId": "5e6f7229-d186-4a4f-bba1-f00b5c992939"
      },
      "execution_count": null,
      "outputs": [
        {
          "output_type": "execute_result",
          "data": {
            "text/plain": [
              "['x', 'x']"
            ]
          },
          "metadata": {},
          "execution_count": 25
        }
      ]
    },
    {
      "cell_type": "code",
      "source": [
        "Car.speed = 100"
      ],
      "metadata": {
        "id": "G244pKAdzMjB"
      },
      "execution_count": null,
      "outputs": []
    },
    {
      "cell_type": "code",
      "source": [
        "modelx.change_speed(500)"
      ],
      "metadata": {
        "id": "P8BV4T1IzOhE",
        "outputId": "cb21d112-7722-4910-c10c-3b436b113ca1",
        "colab": {
          "base_uri": "https://localhost:8080/",
          "height": 186
        }
      },
      "execution_count": null,
      "outputs": [
        {
          "output_type": "error",
          "ename": "AttributeError",
          "evalue": "'Car' object has no attribute 'change_speed'",
          "traceback": [
            "\u001b[0;31m---------------------------------------------------------------------------\u001b[0m",
            "\u001b[0;31mAttributeError\u001b[0m                            Traceback (most recent call last)",
            "\u001b[0;32m<ipython-input-27-d9af4bd6b9c6>\u001b[0m in \u001b[0;36m<cell line: 1>\u001b[0;34m()\u001b[0m\n\u001b[0;32m----> 1\u001b[0;31m \u001b[0mmodelx\u001b[0m\u001b[0;34m.\u001b[0m\u001b[0mchange_speed\u001b[0m\u001b[0;34m(\u001b[0m\u001b[0;36m500\u001b[0m\u001b[0;34m)\u001b[0m\u001b[0;34m\u001b[0m\u001b[0;34m\u001b[0m\u001b[0m\n\u001b[0m",
            "\u001b[0;31mAttributeError\u001b[0m: 'Car' object has no attribute 'change_speed'"
          ]
        }
      ]
    },
    {
      "cell_type": "code",
      "source": [
        "print(f'modelx.kinds: {modelx.kinds}')\n",
        "print(f'modelx.speed: {modelx.speed}')"
      ],
      "metadata": {
        "colab": {
          "base_uri": "https://localhost:8080/"
        },
        "id": "wruaoe7OyrlF",
        "outputId": "e02bf2d3-00a6-432d-eb9a-91aa4c793cd1"
      },
      "execution_count": null,
      "outputs": [
        {
          "output_type": "stream",
          "name": "stdout",
          "text": [
            "modelx.kinds: ['x']\n",
            "modelx.speed: 500\n"
          ]
        }
      ]
    },
    {
      "cell_type": "code",
      "source": [
        "modely = Car()"
      ],
      "metadata": {
        "id": "BZIw2eNizS9j"
      },
      "execution_count": null,
      "outputs": []
    },
    {
      "cell_type": "code",
      "source": [
        "modely.add_kinds('y')"
      ],
      "metadata": {
        "id": "qvJKuniszsQd"
      },
      "execution_count": null,
      "outputs": []
    },
    {
      "cell_type": "code",
      "source": [
        "print(f'modely.kinds: {modely.kinds}')"
      ],
      "metadata": {
        "colab": {
          "base_uri": "https://localhost:8080/"
        },
        "id": "NqKbPmQizw2Q",
        "outputId": "7178a31e-d106-4080-e728-c6819d8823b8"
      },
      "execution_count": null,
      "outputs": [
        {
          "output_type": "stream",
          "name": "stdout",
          "text": [
            "modely.kinds: ['x', 'y', 'y']\n"
          ]
        }
      ]
    },
    {
      "cell_type": "code",
      "source": [
        "class Car:\n",
        "    kinds = []\n",
        "    speed = 300\n",
        "\n",
        "    def add_kinds(self, name):\n",
        "        self.kinds.append(name) #Car - modelx - modely가 공유\n",
        "\n",
        "    def change_speed(self, speed):\n",
        "        self.speed = speed #왜 따로?????\n",
        "\n",
        "modelx = Car()\n",
        "modely = Car()\n",
        "\n",
        "# Car.speed = 100\n",
        "\n",
        "modelx.change_speed(500)\n",
        "modely.change_speed(250)\n",
        "\n",
        "print(f'modelx.speed: {modelx.speed}')\n",
        "print(f'modely.speed: {modely.speed}')"
      ],
      "metadata": {
        "colab": {
          "base_uri": "https://localhost:8080/"
        },
        "id": "vE1_5vT84C3q",
        "outputId": "7427034d-248e-4d81-f70a-082407a37ab9"
      },
      "execution_count": null,
      "outputs": [
        {
          "output_type": "stream",
          "name": "stdout",
          "text": [
            "modelx.speed: 500\n",
            "modely.speed: 250\n"
          ]
        }
      ]
    },
    {
      "cell_type": "code",
      "source": [
        "Car.speed"
      ],
      "metadata": {
        "colab": {
          "base_uri": "https://localhost:8080/"
        },
        "id": "oLV6rmIE4Uh4",
        "outputId": "10f00b14-fd8b-428f-d216-08f56bff0034"
      },
      "execution_count": null,
      "outputs": [
        {
          "output_type": "execute_result",
          "data": {
            "text/plain": [
              "300"
            ]
          },
          "metadata": {},
          "execution_count": 29
        }
      ]
    },
    {
      "cell_type": "code",
      "source": [
        "speed = 300 # 전역변수 speed 300\n",
        "\n",
        "def change_speed(value):\n",
        "    speed = value # 지역변수 speed\n",
        "\n",
        "change_speed(100)\n",
        "print(speed) # 출력: 300"
      ],
      "metadata": {
        "id": "1sd1iL-u5B-W",
        "outputId": "bf9ac9b5-8ffa-4e09-eedc-26f0a8552c44",
        "colab": {
          "base_uri": "https://localhost:8080/"
        }
      },
      "execution_count": null,
      "outputs": [
        {
          "output_type": "stream",
          "name": "stdout",
          "text": [
            "300\n"
          ]
        }
      ]
    },
    {
      "cell_type": "code",
      "source": [
        "speed = 300 # 전역변수 speed 300\n",
        "\n",
        "def change_speed(value):\n",
        "    speed = value # 지역변수 speed\n",
        "    return speed\n",
        "\n",
        "speed_def = change_speed(100)\n",
        "print(speed) # 출력: 300\n",
        "print(speed_def)"
      ],
      "metadata": {
        "colab": {
          "base_uri": "https://localhost:8080/"
        },
        "id": "XzpeaQCy4inA",
        "outputId": "774b90aa-e040-48a5-e55b-95a12dbaecec"
      },
      "execution_count": null,
      "outputs": [
        {
          "output_type": "stream",
          "name": "stdout",
          "text": [
            "300\n",
            "100\n"
          ]
        }
      ]
    },
    {
      "cell_type": "code",
      "source": [
        "kinds = [] # 전역변수 speed 300\n",
        "\n",
        "def add_kinds(value):\n",
        "    kinds.append(value) # 지역에 해당 변수가 없으므로 전역변수 kinds에 append\n",
        "\n",
        "add_kinds(100)\n",
        "kinds"
      ],
      "metadata": {
        "id": "QbPPFRif4ikI",
        "outputId": "9fff7a95-ac8f-409c-b013-566a99f93454",
        "colab": {
          "base_uri": "https://localhost:8080/"
        }
      },
      "execution_count": null,
      "outputs": [
        {
          "output_type": "execute_result",
          "data": {
            "text/plain": [
              "[100]"
            ]
          },
          "metadata": {},
          "execution_count": 34
        }
      ]
    },
    {
      "cell_type": "code",
      "source": [],
      "metadata": {
        "id": "FYdxeAYt4ifG"
      },
      "execution_count": null,
      "outputs": []
    },
    {
      "cell_type": "code",
      "source": [
        "class Car:\n",
        "    speed = 300\n",
        "\n",
        "    def change_speed(self, speed):\n",
        "        self.speed = speed\n",
        "\n",
        "modelx = Car()\n",
        "modely = Car()"
      ],
      "metadata": {
        "id": "J55kn7n_3wRl"
      },
      "execution_count": null,
      "outputs": []
    },
    {
      "cell_type": "code",
      "source": [
        "class Car:\n",
        "    speed = 300\n",
        "\n",
        "    def change_speed(self, speed):\n",
        "        self.speed = speed\n",
        "\n",
        "modelx = Car()\n",
        "modely = Car()\n",
        "\n",
        "Car.speed = 100\n",
        "\n",
        "modelx.change_speed(500)\n",
        "modely.change_speed(250)\n",
        "\n",
        "print(f'modelx.speed: {modelx.speed}')\n",
        "print(f'modely.speed: {modely.speed}')"
      ],
      "metadata": {
        "id": "pkVWpAMr0PTz",
        "outputId": "5ae7dd08-50c1-4e78-c8e9-552d1113b2d4",
        "colab": {
          "base_uri": "https://localhost:8080/"
        }
      },
      "execution_count": null,
      "outputs": [
        {
          "output_type": "stream",
          "name": "stdout",
          "text": [
            "modelx.speed: 500\n",
            "modely.speed: 250\n"
          ]
        }
      ]
    },
    {
      "cell_type": "markdown",
      "source": [
        "# 인스턴스"
      ],
      "metadata": {
        "id": "OKmaDMgLOyZ6"
      }
    },
    {
      "cell_type": "code",
      "source": [
        "class Car:\n",
        "    max_speed = 300\n",
        "\n",
        "    def __init__(self, name): # self는 자신만의 영역\n",
        "        self.name = name\n",
        "\n",
        "    def start(self, speed): # self는 자신만의 영역\n",
        "        self.speed = speed\n",
        "        return f'{self.name}차가 {self.speed}의 속력으로 움직이고 있습니다.'\n",
        "\n",
        "modelx = Car('Tesla Model X')\n",
        "print(modelx.name)\n",
        "print(modelx.start(100))"
      ],
      "metadata": {
        "id": "72dRRrT9NYpZ",
        "outputId": "f12b9689-a38d-42d9-ba7a-7ff63777ac95",
        "colab": {
          "base_uri": "https://localhost:8080/"
        }
      },
      "execution_count": null,
      "outputs": [
        {
          "output_type": "stream",
          "name": "stdout",
          "text": [
            "Tesla Model X\n",
            "Tesla Model X차가 100의 속력으로 움직이고 있습니다.\n"
          ]
        }
      ]
    },
    {
      "cell_type": "code",
      "source": [
        "class Car:\n",
        "    max_speed = 300\n",
        "\n",
        "    def __init__(self, name): # self는 자신만의 영역\n",
        "        self.name = name\n",
        "\n",
        "    def start(self, speed): # self는 자신만의 영역\n",
        "        self.speed = speed\n",
        "        return f'{self.name}차가 {self.speed}의 속력으로 움직이고 있습니다.'\n",
        "\n",
        "modelx = Car('Tesla Model X')\n",
        "modelx.name = 'ModelY'\n",
        "modelx.welcome = 'hello world'\n",
        "print(modelx.name, modelx.welcome) # 출력: ModelY hello world"
      ],
      "metadata": {
        "id": "wSibrfk0OpMR",
        "outputId": "d9c81c0c-8a5e-44df-d651-fba64c28b769",
        "colab": {
          "base_uri": "https://localhost:8080/"
        }
      },
      "execution_count": null,
      "outputs": [
        {
          "output_type": "stream",
          "name": "stdout",
          "text": [
            "ModelY hello world\n"
          ]
        }
      ]
    },
    {
      "cell_type": "markdown",
      "source": [
        "# 클래스정리"
      ],
      "metadata": {
        "id": "Jrra8hEzOxqw"
      }
    },
    {
      "cell_type": "code",
      "source": [
        "class Car:\n",
        "    default_speed = 100  # 클래스 변수 고정값\n",
        "\n",
        "    def __init__(self, color):\n",
        "        self.color = color  # 인스턴스 변수 -> 커스터마이즈!"
      ],
      "metadata": {
        "id": "ROxWE-7IPR2R"
      },
      "execution_count": null,
      "outputs": []
    },
    {
      "cell_type": "code",
      "source": [
        "class Car:\n",
        "    kinds = []  # 클래스 변수 -> append()값을 추가 -> 재할당(x)\n",
        "    speed = 300 # 클래스 변수 -> 인스턴스 변수!\n",
        "\n",
        "    def add_kinds(self, name):\n",
        "        self.kinds.append(name)  # 클래스 변수를 변경(기존값이 추가되는 형태)\n",
        "        #Car modelx modely -> 동일하게 [x,y]\n",
        "\n",
        "    def change_speed(self, speed):\n",
        "        self.speed = speed  # 인스턴스 변수를 생성 또는 변경(덮어쓰기 되는 형태)\n",
        "\n",
        "# 각 인스턴스는 자신만의 speed 값을 가질수 있게 되는 형태로 원본은 변하지 않음"
      ],
      "metadata": {
        "id": "_87SM8N0PS0p"
      },
      "execution_count": null,
      "outputs": []
    },
    {
      "cell_type": "markdown",
      "source": [
        "# kinds가 공유되지 않도록 구현"
      ],
      "metadata": {
        "id": "TbTn70wWPTvg"
      }
    },
    {
      "cell_type": "code",
      "source": [
        "class Car:\n",
        "    def __init__(self):\n",
        "        self.kinds = []  # 인스턴스 변수\n",
        "\n",
        "    def add_kinds(self, name):\n",
        "        self.kinds.append(name)  # 인스턴스 변수를 변경"
      ],
      "metadata": {
        "id": "oYshY2lOPkox"
      },
      "execution_count": null,
      "outputs": []
    },
    {
      "cell_type": "markdown",
      "source": [
        "# speed가 공유되도록 구현"
      ],
      "metadata": {
        "id": "mUR6_QZNPlh5"
      }
    },
    {
      "cell_type": "code",
      "source": [
        "class Car:\n",
        "    speed = 300 # 클래스 변수\n",
        "\n",
        "    @classmethod\n",
        "    def change_speed(cls, speed):\n",
        "        cls.speed = speed  # 클래스 변수를 변경"
      ],
      "metadata": {
        "id": "UW9M64exPneB"
      },
      "execution_count": null,
      "outputs": []
    },
    {
      "cell_type": "code",
      "source": [],
      "metadata": {
        "id": "DEayFWavPo3B"
      },
      "execution_count": null,
      "outputs": []
    }
  ]
}