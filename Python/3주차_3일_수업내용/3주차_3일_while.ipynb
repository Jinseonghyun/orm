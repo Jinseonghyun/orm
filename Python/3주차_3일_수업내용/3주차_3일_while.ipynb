{
  "nbformat": 4,
  "nbformat_minor": 0,
  "metadata": {
    "colab": {
      "provenance": []
    },
    "kernelspec": {
      "name": "python3",
      "display_name": "Python 3"
    },
    "language_info": {
      "name": "python"
    }
  },
  "cells": [
    {
      "cell_type": "markdown",
      "source": [
        "# 1. while문\n",
        "\n",
        "이번에는 for문과 함께 많이 사용되는 구문인 while 문을 살펴보도록 합시다. while문은 조건이 참인 동안에 명령을 반복해서 수행합니다. 반복할 명령은 들여쓰기로 구분되며 조건이 거짓이면 들여쓰기로 구분되어 있는 반복 구문을 탈출합니다."
      ],
      "metadata": {
        "id": "DrUPMeOPqG0a"
      }
    },
    {
      "cell_type": "code",
      "source": [
        "a = 1 # 연산자를 계산할수 있는 변수가 하나있고,\n",
        "\n",
        "#While문은 조건이 참이면 계속 수행 -> 무한루프(무한으로 프로그램이 돌아가게 만듬)\n",
        "\n",
        "while a < 10 : #1. for문과 차이점 - 조건이 있다. (for문은 범위가 있다.)\n",
        "\tprint(a)\n",
        "\ta += 1  # (무한루프에 빠질수 있기 때문에) -> 연산자를 계산해서 조건문을 강제로 false로 만드는 구문이 있다."
      ],
      "metadata": {
        "colab": {
          "base_uri": "https://localhost:8080/"
        },
        "id": "aYYCKAtJxx0d",
        "outputId": "0094e653-1bac-450e-a1e8-03094290a3b2"
      },
      "execution_count": null,
      "outputs": [
        {
          "output_type": "stream",
          "name": "stdout",
          "text": [
            "1\n",
            "2\n",
            "3\n",
            "4\n",
            "5\n",
            "6\n",
            "7\n",
            "8\n",
            "9\n"
          ]
        }
      ]
    },
    {
      "cell_type": "markdown",
      "source": [
        "Step1 : a -> 1 지정\n",
        "\n",
        "Step2 : while (a = 1) < 10 -> True -> while반복문 실행\n",
        "\n",
        "Step3 : print(a) -> a=1 -> 1이 출력\n",
        "\n",
        "Step4 : a += 1 -> a -> 2\n",
        "\n",
        "Step2-1 : a -> 2 step2,3,4가 계속 반복\n",
        "\n",
        "Step10-1 : a-> 10\n",
        "\n",
        "Step10-2 : a = 10 < 10 -> False -> while반복문 미실행\n",
        "-> 조건문 완료!\n",
        "\n",
        "# 어떨때 쓰일까?\n",
        "1. 로또번호 - 6개까지 추첨하면 끝!\n",
        "2. 이벤트 -> 100명이 당첨되면 끝!\n",
        "3. 제한된 마케팅 / 고객모집 / 조건!"
      ],
      "metadata": {
        "id": "A5S91HvUx2v7"
      }
    },
    {
      "cell_type": "markdown",
      "source": [
        "## 1.1 while로 무한반복 만들기\n",
        "\n",
        "만약 while 문의 조건이 항상 True이면 무한 반복을 만들 수 있습니다. 이 코드는 ‘무한 반복 중…’ 을 끝없이 출력합니다. 코드 실행을 중지시키려면 colab에 정지버튼을 누르거나 Ctrl(Command)+C를 눌러 수동으로 중지시킬 수 있습니다"
      ],
      "metadata": {
        "id": "hjJIwV5Vx8fd"
      }
    },
    {
      "cell_type": "code",
      "source": [
        "# colab에서도 작동되지만 가능하면 .py파일로 작성해서 실행해보세요.\n",
        "import os\n",
        "\n",
        "while True:\n",
        "    userinput = input('>')\n",
        "    if userinput == 'pwd':\n",
        "        # print('현재 위치 출력')\n",
        "        # print('\\\\'.join(__file__.split('\\\\')[:-1]))\n",
        "        print(os.getcwd())\n",
        "    elif userinput == 'dir' or userinput == 'ls':\n",
        "        # print('현재 폴더에 폴더와 파일명 출력')\n",
        "        print(os.listdir(os.getcwd()))\n",
        "    elif userinput == 'exit':\n",
        "        print('안녕히가세요.')\n",
        "        break"
      ],
      "metadata": {
        "colab": {
          "base_uri": "https://localhost:8080/"
        },
        "id": "Hs3BV57vyCQd",
        "outputId": "6dd0abf1-adc3-4299-d7d7-9de64a3c0c00"
      },
      "execution_count": null,
      "outputs": [
        {
          "output_type": "stream",
          "name": "stdout",
          "text": [
            ">pwd\n",
            "/content\n",
            ">ls\n",
            "['.config', 'sample_data']\n",
            ">exit\n",
            "안녕히가세요.\n"
          ]
        }
      ]
    },
    {
      "cell_type": "markdown",
      "source": [
        "# 2.Break / continue"
      ],
      "metadata": {
        "id": "hxy_9RCryCpe"
      }
    },
    {
      "cell_type": "markdown",
      "source": [
        "* break 는 반복문을 즉시 종료시킬 수 있다."
      ],
      "metadata": {
        "id": "772fQZHqzILX"
      }
    },
    {
      "cell_type": "code",
      "source": [
        "# 전형적인 for 반복문:\n",
        "for i in range(10):\n",
        "    if i == 5:   # 만약에 i가 5이면 정지시켜라\n",
        "        break    # break도 코드블럭 4칸 띄우자\n",
        "    print(i)\n"
      ],
      "metadata": {
        "colab": {
          "base_uri": "https://localhost:8080/"
        },
        "id": "k2tDopi8yYlc",
        "outputId": "80471c1c-5cc5-4e3e-e983-4f094ff962e0"
      },
      "execution_count": null,
      "outputs": [
        {
          "output_type": "stream",
          "name": "stdout",
          "text": [
            "0\n",
            "1\n",
            "2\n",
            "3\n",
            "4\n"
          ]
        }
      ]
    },
    {
      "cell_type": "markdown",
      "source": [
        "* continue = 반복문의 나머지 부분을 건너뛰고, 반복문을 다음 반복으로 즉시 이동"
      ],
      "metadata": {
        "id": "xMaUgbjLyold"
      }
    },
    {
      "cell_type": "code",
      "source": [
        "# 전형적인 for 반복문:\n",
        "for i in range(10):\n",
        "    if i == 5:   # 만약에 i가 5이면 다시 반복문 다음순서로 이동\n",
        "        continue\n",
        "    print(i)"
      ],
      "metadata": {
        "colab": {
          "base_uri": "https://localhost:8080/"
        },
        "id": "V15wKvs5ztje",
        "outputId": "af58abe8-fbe3-4dde-f0d1-a7e0662b95fa"
      },
      "execution_count": null,
      "outputs": [
        {
          "output_type": "stream",
          "name": "stdout",
          "text": [
            "0\n",
            "1\n",
            "2\n",
            "3\n",
            "4\n",
            "6\n",
            "7\n",
            "8\n",
            "9\n"
          ]
        }
      ]
    },
    {
      "cell_type": "markdown",
      "source": [
        "* continue 용법 소개"
      ],
      "metadata": {
        "id": "K9hFtmCn0sYf"
      }
    },
    {
      "cell_type": "code",
      "source": [
        "for i in range(10): # 0 ~ 9까지\n",
        "    if i % 2 == 0:  # 짝수인 경우에 하단 코드블럭을 실행\n",
        "        continue    # 짝수일 때 다시 반복문 다음 순서로 이동\n",
        "    print(i)        # for문안에 if문 실행 된 후에 차례대로 print()"
      ],
      "metadata": {
        "colab": {
          "base_uri": "https://localhost:8080/"
        },
        "id": "uOh48XFrzw7d",
        "outputId": "7a8ee7dd-fac2-4853-d3c7-6fdd95fc413c"
      },
      "execution_count": null,
      "outputs": [
        {
          "output_type": "stream",
          "name": "stdout",
          "text": [
            "1\n",
            "3\n",
            "5\n",
            "7\n",
            "9\n"
          ]
        }
      ]
    },
    {
      "cell_type": "code",
      "source": [
        "for i in range(10): # 0 ~ 9까지\n",
        "    if i % 2 == 0:  # 짝수인 경우에 하단 코드블럭을 실행\n",
        "        print(i)    # 짝수인 경우에 출력"
      ],
      "metadata": {
        "colab": {
          "base_uri": "https://localhost:8080/"
        },
        "id": "SMPU5C7A0nuO",
        "outputId": "a7c0f09c-0608-48c9-ad94-65618d3f66e2"
      },
      "execution_count": null,
      "outputs": [
        {
          "output_type": "stream",
          "name": "stdout",
          "text": [
            "0\n",
            "2\n",
            "4\n",
            "6\n",
            "8\n"
          ]
        }
      ]
    },
    {
      "cell_type": "markdown",
      "source": [
        "# 모든 반복문 한 번에 탈출하기\n",
        "\n",
        "변수를 하나 더 두어 여러 반복문을 탈출할 수 있습니다. 다만 이 방법은 반복문이 더 중첩될 경우 코드의 복잡도가 올라갈 수 있습니다."
      ],
      "metadata": {
        "id": "B3SEpxMxATSq"
      }
    },
    {
      "cell_type": "code",
      "source": [
        "switch = 0\n",
        "for i in range(5):\n",
        "    if switch == 1:\n",
        "        break\n",
        "    for j in range(5):\n",
        "        if j == 3:\n",
        "            switch = 1\n",
        "            break\n",
        "        print(f'{i}, {j}')"
      ],
      "metadata": {
        "colab": {
          "base_uri": "https://localhost:8080/"
        },
        "id": "Hil7Nbt4AUPP",
        "outputId": "f624ac77-e2bd-4536-a99b-52970c8b7333"
      },
      "execution_count": null,
      "outputs": [
        {
          "output_type": "stream",
          "name": "stdout",
          "text": [
            "0, 0\n",
            "0, 1\n",
            "0, 2\n"
          ]
        }
      ]
    },
    {
      "cell_type": "code",
      "source": [
        "# https://peps.python.org/pep-3136/\n",
        "\n",
        "try:\n",
        "    for i in range(2, 10):\n",
        "        for j in range(1, 10):\n",
        "            if j == 3:\n",
        "                raise StopIteration\n",
        "            print(f'{i} X {j} = {i*j}')\n",
        "except StopIteration:\n",
        "    print(\"Done\")"
      ],
      "metadata": {
        "colab": {
          "base_uri": "https://localhost:8080/"
        },
        "id": "VLLwr_bOAXhO",
        "outputId": "cddacbaa-df97-461a-d8b1-c105b3ad9179"
      },
      "execution_count": null,
      "outputs": [
        {
          "output_type": "stream",
          "name": "stdout",
          "text": [
            "2 X 1 = 2\n",
            "2 X 2 = 4\n",
            "Done\n"
          ]
        }
      ]
    },
    {
      "cell_type": "markdown",
      "source": [
        "아래는 무한반복을 이용한 업다운 게임입니다. 여기서는 random이라는 모듈을 사용했습니다. random은 난수를 생성해주는 모듈입니다."
      ],
      "metadata": {
        "id": "swvgRY2q0pAO"
      }
    },
    {
      "cell_type": "code",
      "source": [
        "import random\n",
        "\n",
        "answer = random.randint(1, 1000)\n",
        "while True:\n",
        "    userinput = int(input('숫자를 입력해주세요.'))\n",
        "    if userinput > answer:\n",
        "        print('Down')\n",
        "\n",
        "    elif userinput < answer:\n",
        "        print('Up')\n",
        "    else:\n",
        "        print('축하합니다! 맞추셨어요!')\n",
        "        break"
      ],
      "metadata": {
        "colab": {
          "base_uri": "https://localhost:8080/"
        },
        "id": "fMoHkimB18sV",
        "outputId": "cfe2cd76-6694-40b2-b8ca-1255c6e078f3"
      },
      "execution_count": null,
      "outputs": [
        {
          "output_type": "stream",
          "name": "stdout",
          "text": [
            "숫자를 입력해주세요.50\n",
            "Up\n",
            "숫자를 입력해주세요.500\n",
            "Up\n",
            "숫자를 입력해주세요.7000\n",
            "Down\n",
            "숫자를 입력해주세요.700\n",
            "Up\n",
            "숫자를 입력해주세요.900\n",
            "Down\n",
            "숫자를 입력해주세요.800\n",
            "Down\n",
            "숫자를 입력해주세요.750\n",
            "Up\n",
            "숫자를 입력해주세요.780\n",
            "Down\n",
            "숫자를 입력해주세요.770\n",
            "Down\n",
            "숫자를 입력해주세요.760\n",
            "Down\n",
            "숫자를 입력해주세요.756\n",
            "Down\n",
            "숫자를 입력해주세요.755\n",
            "축하합니다! 맞추셨어요!\n"
          ]
        }
      ]
    },
    {
      "cell_type": "markdown",
      "source": [
        "# 중첩 while문\n",
        "\n",
        "for문과 동일하게 중첩된 while문으로 구구단을 출력해보도록 하겠습니"
      ],
      "metadata": {
        "id": "ShBSyiQ61-IV"
      }
    },
    {
      "cell_type": "code",
      "source": [
        "i = 2\n",
        "while i < 10 :\n",
        "    j = 1      #  다시 곱하기 1부터 9까지 올라가기 위해 j를 1로 초기화\n",
        "    while j < 10:\n",
        "        print(f'{i} X {j} = {i * j}')\n",
        "        j += 1\n",
        "    i += 1"
      ],
      "metadata": {
        "colab": {
          "base_uri": "https://localhost:8080/"
        },
        "id": "EM304qni8mXP",
        "outputId": "5ef1a647-18a0-4f58-9f09-28e24fdc5a8b"
      },
      "execution_count": null,
      "outputs": [
        {
          "output_type": "stream",
          "name": "stdout",
          "text": [
            "2 X 1 = 2\n",
            "2 X 2 = 4\n",
            "2 X 3 = 6\n",
            "2 X 4 = 8\n",
            "2 X 5 = 10\n",
            "2 X 6 = 12\n",
            "2 X 7 = 14\n",
            "2 X 8 = 16\n",
            "2 X 9 = 18\n",
            "3 X 1 = 3\n",
            "3 X 2 = 6\n",
            "3 X 3 = 9\n",
            "3 X 4 = 12\n",
            "3 X 5 = 15\n",
            "3 X 6 = 18\n",
            "3 X 7 = 21\n",
            "3 X 8 = 24\n",
            "3 X 9 = 27\n",
            "4 X 1 = 4\n",
            "4 X 2 = 8\n",
            "4 X 3 = 12\n",
            "4 X 4 = 16\n",
            "4 X 5 = 20\n",
            "4 X 6 = 24\n",
            "4 X 7 = 28\n",
            "4 X 8 = 32\n",
            "4 X 9 = 36\n",
            "5 X 1 = 5\n",
            "5 X 2 = 10\n",
            "5 X 3 = 15\n",
            "5 X 4 = 20\n",
            "5 X 5 = 25\n",
            "5 X 6 = 30\n",
            "5 X 7 = 35\n",
            "5 X 8 = 40\n",
            "5 X 9 = 45\n",
            "6 X 1 = 6\n",
            "6 X 2 = 12\n",
            "6 X 3 = 18\n",
            "6 X 4 = 24\n",
            "6 X 5 = 30\n",
            "6 X 6 = 36\n",
            "6 X 7 = 42\n",
            "6 X 8 = 48\n",
            "6 X 9 = 54\n",
            "7 X 1 = 7\n",
            "7 X 2 = 14\n",
            "7 X 3 = 21\n",
            "7 X 4 = 28\n",
            "7 X 5 = 35\n",
            "7 X 6 = 42\n",
            "7 X 7 = 49\n",
            "7 X 8 = 56\n",
            "7 X 9 = 63\n",
            "8 X 1 = 8\n",
            "8 X 2 = 16\n",
            "8 X 3 = 24\n",
            "8 X 4 = 32\n",
            "8 X 5 = 40\n",
            "8 X 6 = 48\n",
            "8 X 7 = 56\n",
            "8 X 8 = 64\n",
            "8 X 9 = 72\n",
            "9 X 1 = 9\n",
            "9 X 2 = 18\n",
            "9 X 3 = 27\n",
            "9 X 4 = 36\n",
            "9 X 5 = 45\n",
            "9 X 6 = 54\n",
            "9 X 7 = 63\n",
            "9 X 8 = 72\n",
            "9 X 9 = 81\n"
          ]
        }
      ]
    },
    {
      "cell_type": "markdown",
      "source": [
        "# break, continue, pass 비교"
      ],
      "metadata": {
        "id": "m4qlNcup8n9c"
      }
    },
    {
      "cell_type": "code",
      "source": [
        "for i in range(2, 10):\n",
        "    for j in range(1, 10):\n",
        "        if j > 5:\n",
        "            break\n",
        "        print(f'{i} X {j} = {i*j}')"
      ],
      "metadata": {
        "colab": {
          "base_uri": "https://localhost:8080/"
        },
        "id": "K1KsV99b-qnH",
        "outputId": "ffb8f78e-38a6-42e4-f190-4b7a068882cf"
      },
      "execution_count": null,
      "outputs": [
        {
          "output_type": "stream",
          "name": "stdout",
          "text": [
            "2 X 1 = 2\n",
            "2 X 2 = 4\n",
            "2 X 3 = 6\n",
            "2 X 4 = 8\n",
            "2 X 5 = 10\n",
            "3 X 1 = 3\n",
            "3 X 2 = 6\n",
            "3 X 3 = 9\n",
            "3 X 4 = 12\n",
            "3 X 5 = 15\n",
            "4 X 1 = 4\n",
            "4 X 2 = 8\n",
            "4 X 3 = 12\n",
            "4 X 4 = 16\n",
            "4 X 5 = 20\n",
            "5 X 1 = 5\n",
            "5 X 2 = 10\n",
            "5 X 3 = 15\n",
            "5 X 4 = 20\n",
            "5 X 5 = 25\n",
            "6 X 1 = 6\n",
            "6 X 2 = 12\n",
            "6 X 3 = 18\n",
            "6 X 4 = 24\n",
            "6 X 5 = 30\n",
            "7 X 1 = 7\n",
            "7 X 2 = 14\n",
            "7 X 3 = 21\n",
            "7 X 4 = 28\n",
            "7 X 5 = 35\n",
            "8 X 1 = 8\n",
            "8 X 2 = 16\n",
            "8 X 3 = 24\n",
            "8 X 4 = 32\n",
            "8 X 5 = 40\n",
            "9 X 1 = 9\n",
            "9 X 2 = 18\n",
            "9 X 3 = 27\n",
            "9 X 4 = 36\n",
            "9 X 5 = 45\n"
          ]
        }
      ]
    },
    {
      "cell_type": "markdown",
      "source": [
        "# 반복문 else"
      ],
      "metadata": {
        "id": "sDtCZuBO_lJ_"
      }
    },
    {
      "cell_type": "code",
      "source": [
        "for i in range(100):\n",
        "    print(f'{i} 물고기를 잡았습니다.')\n",
        "    if i == 5:\n",
        "        print('만선입니다. 물고기를 다 잡았습니다.')\n",
        "        break\n",
        "else:\n",
        "    print('아직 여유가 좀 있지만, 물고기가 더 없는 것 같으니 이정도로 만족하고 돌아갑시다.')\n",
        "print('수고하셨습니다.')"
      ],
      "metadata": {
        "colab": {
          "base_uri": "https://localhost:8080/"
        },
        "id": "TDFYfCKYBoHn",
        "outputId": "e1ff391b-60f4-4855-d592-48e0fff5158f"
      },
      "execution_count": null,
      "outputs": [
        {
          "output_type": "stream",
          "name": "stdout",
          "text": [
            "0 물고기를 잡았습니다.\n",
            "1 물고기를 잡았습니다.\n",
            "2 물고기를 잡았습니다.\n",
            "3 물고기를 잡았습니다.\n",
            "4 물고기를 잡았습니다.\n",
            "5 물고기를 잡았습니다.\n",
            "만선입니다. 물고기를 다 잡았습니다.\n",
            "수고하셨습니다.\n"
          ]
        }
      ]
    },
    {
      "cell_type": "code",
      "source": [
        "for i in range(5):\n",
        "    print(f'{i} 물고기를 잡았습니다.')\n",
        "    if i == 5:\n",
        "        print('만선입니다. 물고기를 다 잡았습니다.')\n",
        "        break\n",
        "else:\n",
        "    print('아직 여유가 좀 있지만, 물고기가 더 없는 것 같으니 이정도로 만족하고 돌아갑시다.')\n",
        "print('수고하셨습니다.')"
      ],
      "metadata": {
        "colab": {
          "base_uri": "https://localhost:8080/"
        },
        "id": "0awjovWuCTe3",
        "outputId": "e404c952-d73d-440c-e2f0-cd671132d9dc"
      },
      "execution_count": null,
      "outputs": [
        {
          "output_type": "stream",
          "name": "stdout",
          "text": [
            "0 물고기를 잡았습니다.\n",
            "1 물고기를 잡았습니다.\n",
            "2 물고기를 잡았습니다.\n",
            "3 물고기를 잡았습니다.\n",
            "4 물고기를 잡았습니다.\n",
            "아직 여유가 좀 있지만, 물고기가 더 없는 것 같으니 이정도로 만족하고 돌아갑시다.\n",
            "수고하셨습니다.\n"
          ]
        }
      ]
    },
    {
      "cell_type": "markdown",
      "source": [
        "# while, else\n",
        "\n",
        "for와 마찬가지로 while문에서도 else는 정상 종료되었을 때 실행됩니다. 단, 처음부터 while의 조건문이 False일 경우에도 실행한다는 점을 기억해주세요."
      ],
      "metadata": {
        "id": "GSapXl7VCiaH"
      }
    },
    {
      "cell_type": "code",
      "source": [
        "n = 0\n",
        "while n < 5:\n",
        "    print(f'현재 숫자는 {n}입니다.')\n",
        "    n += 1\n",
        "else:\n",
        "    print('반복문을 종료합니다.')"
      ],
      "metadata": {
        "colab": {
          "base_uri": "https://localhost:8080/"
        },
        "id": "pRkHzAaXDU4_",
        "outputId": "e66de82c-3b9d-46b3-a0b4-c5fd312f95d4"
      },
      "execution_count": null,
      "outputs": [
        {
          "output_type": "stream",
          "name": "stdout",
          "text": [
            "현재 숫자는 0입니다.\n",
            "현재 숫자는 1입니다.\n",
            "현재 숫자는 2입니다.\n",
            "현재 숫자는 3입니다.\n",
            "현재 숫자는 4입니다.\n",
            "반복문을 종료합니다.\n"
          ]
        }
      ]
    },
    {
      "cell_type": "code",
      "source": [],
      "metadata": {
        "id": "PJRg2k9hDWqQ"
      },
      "execution_count": null,
      "outputs": []
    }
  ]
}