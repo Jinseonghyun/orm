{
  "nbformat": 4,
  "nbformat_minor": 0,
  "metadata": {
    "colab": {
      "provenance": []
    },
    "kernelspec": {
      "name": "python3",
      "display_name": "Python 3"
    },
    "language_info": {
      "name": "python"
    }
  },
  "cells": [
    {
      "cell_type": "markdown",
      "source": [
        "# 문제1. 데코레이터 문제\n",
        "- 1부터 100까지 더하는 함수를 만들고 이 함수에 데코레이터를 실행시켜 몇 초가 걸리는지 확인해주세요. 아래 힌트 코드 입니다."
      ],
      "metadata": {
        "id": "XAhQsIU3YBR8"
      }
    },
    {
      "cell_type": "code",
      "source": [
        "# 문제 1번\n",
        "import time\n",
        "\n",
        "def time_decorator(func):\n",
        "    def wrapper():\n",
        "        start_time = time.time()\n",
        "        result = func()\n",
        "        end_time = time.time()\n",
        "        print(f\"함수가 {end_time - start_time} 초가 걸렸습니다.\")\n",
        "        return result\n",
        "    return wrapper"
      ],
      "metadata": {
        "id": "Txbrp-OqYIuY"
      },
      "execution_count": null,
      "outputs": []
    },
    {
      "cell_type": "code",
      "source": [
        "# 문제 1번 정답\n",
        "import time\n",
        "\n",
        "def time_decorator(func):\n",
        "    def wrapper():\n",
        "        start_time = time.time()\n",
        "        result = func()\n",
        "        end_time = time.time()\n",
        "        print(f\"함수가 {end_time - start_time} 초가 걸렸습니다.\")\n",
        "        return result\n",
        "    return wrapper\n",
        "\n",
        "@time_decorator\n",
        "def total():\n",
        "    return sum([i for i in range(1, 101)])\n",
        "\n",
        "total()"
      ],
      "metadata": {
        "colab": {
          "base_uri": "https://localhost:8080/"
        },
        "id": "FgdUN8prYTn5",
        "outputId": "eeaf992f-2c5a-4b95-c560-ea7bf4a3708e"
      },
      "execution_count": null,
      "outputs": [
        {
          "output_type": "stream",
          "name": "stdout",
          "text": [
            "함수가 8.821487426757812e-06 초가 걸렸습니다.\n"
          ]
        },
        {
          "output_type": "execute_result",
          "data": {
            "text/plain": [
              "5050"
            ]
          },
          "metadata": {},
          "execution_count": 12
        }
      ]
    },
    {
      "cell_type": "markdown",
      "source": [
        "# 문제 2. 제너레이터 문제\n",
        "- 0부터 시작하여, 매 호출 시마다 2씩 증가하는 값을 반환하는 제너레이터 함수를 작성하세요. 100이 되면 멈춰야 합니다."
      ],
      "metadata": {
        "id": "RkLE49Q3YL4q"
      }
    },
    {
      "cell_type": "code",
      "source": [
        "# 문제 2번\n",
        "for i in gen():\n",
        "    print(i)"
      ],
      "metadata": {
        "id": "Wiyh6uv8YMBq"
      },
      "execution_count": null,
      "outputs": []
    },
    {
      "cell_type": "code",
      "source": [
        "# 문제 2번 정답\n",
        "def gen():\n",
        "    for x in range(0, 101, 2):\n",
        "        yield x\n",
        "\n",
        "for i in gen():\n",
        "    print(i)"
      ],
      "metadata": {
        "id": "lvFTXMUhYWGx"
      },
      "execution_count": null,
      "outputs": []
    },
    {
      "cell_type": "markdown",
      "source": [
        "# 문제 3. 예외처리 문제\n",
        "- 사용자로부터 두 개의 숫자를 입력받아 나눗셈을 수행하는 함수를 작성하세요. 이 때 0으로 나눌 때에는 예외처리를 해주세요."
      ],
      "metadata": {
        "id": "y-B1Jc5kYMJ5"
      }
    },
    {
      "cell_type": "code",
      "source": [
        "# 문제 3번\n",
        "def divide(x, y):\n",
        "    return x / y"
      ],
      "metadata": {
        "id": "JpVlLJCeYMR4"
      },
      "execution_count": null,
      "outputs": []
    },
    {
      "cell_type": "code",
      "source": [
        "# 문제 3번 정답\n",
        "def divide(x, y):\n",
        "    try:\n",
        "        return x / y\n",
        "    except ZeroDivisionError:\n",
        "        print(\"0으로 나눌 수 없습니다!\")\n",
        "\n",
        "# 사용자로부터 입력 받기\n",
        "num1 = int(input(\"첫 번째 숫자: \"))\n",
        "num2 = int(input(\"두 번째 숫자: \"))\n",
        "\n",
        "# divide 함수 호출\n",
        "result = divide(num1, num2)\n",
        "print(f\"결과: {result}\")"
      ],
      "metadata": {
        "colab": {
          "base_uri": "https://localhost:8080/"
        },
        "id": "LIgkzsTAZ01W",
        "outputId": "cb4a9d0b-1b3c-45ed-8a41-f7acffd073d0"
      },
      "execution_count": null,
      "outputs": [
        {
          "output_type": "stream",
          "name": "stdout",
          "text": [
            "첫 번째 숫자: 10\n",
            "두 번째 숫자: 2\n",
            "결과: 5.0\n"
          ]
        }
      ]
    }
  ]
}