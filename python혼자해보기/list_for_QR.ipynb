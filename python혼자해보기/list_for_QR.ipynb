{
  "nbformat": 4,
  "nbformat_minor": 0,
  "metadata": {
    "colab": {
      "provenance": []
    },
    "kernelspec": {
      "name": "python3",
      "display_name": "Python 3"
    },
    "language_info": {
      "name": "python"
    }
  },
  "cells": [
    {
      "cell_type": "code",
      "source": [
        "# Operator\tName\tDescription\tString 적용 결과\n",
        "# a + b\tAddition\tSum of a and b\n",
        "# a - b\tSubtraction\tDifference of a and b\n",
        "# a * b\tMultiplication\tProduct of a and b\n",
        "# a / b\tTrue division\tQuotient of a and b\n",
        "# a // b\tFloor division\tQuotient of a and b, removing fractional parts\n",
        "# a % b\tModulus\tInteger remainder after division of a by b\n",
        "# a ** b\tExponentiation\ta raised to the power of b\n",
        "# -a\tNegation\tThe negative of a"
      ],
      "metadata": {
        "id": "myKzutKm_Gvm"
      },
      "execution_count": null,
      "outputs": []
    },
    {
      "cell_type": "code",
      "source": [
        "# Number , Sequence"
      ],
      "metadata": {
        "id": "EPWOWI1N1iv6"
      },
      "execution_count": null,
      "outputs": []
    },
    {
      "cell_type": "code",
      "execution_count": null,
      "metadata": {
        "id": "OwPQ836awTg2",
        "colab": {
          "base_uri": "https://localhost:8080/"
        },
        "outputId": "e4cad37c-945b-449a-fd74-53895ddca732"
      },
      "outputs": [
        {
          "output_type": "stream",
          "name": "stdout",
          "text": [
            "Hello World\n"
          ]
        }
      ],
      "source": [
        "print(\"Hello World\")"
      ]
    },
    {
      "cell_type": "code",
      "source": [
        "print(\"끝까지 가면 내가 다 이겨\")"
      ],
      "metadata": {
        "colab": {
          "base_uri": "https://localhost:8080/"
        },
        "id": "uUhk1eIlxWoY",
        "outputId": "93dc691d-97aa-4857-c335-31480842915e"
      },
      "execution_count": null,
      "outputs": [
        {
          "output_type": "stream",
          "name": "stdout",
          "text": [
            "끝까지 가면 내가 다 이겨\n"
          ]
        }
      ]
    },
    {
      "cell_type": "code",
      "source": [
        "name = input(\"이름이 뭐에요?\")\n",
        "print(name)"
      ],
      "metadata": {
        "colab": {
          "base_uri": "https://localhost:8080/"
        },
        "id": "Rts8Y77axoVV",
        "outputId": "6955430c-084f-467c-e263-d1e0e031103a"
      },
      "execution_count": null,
      "outputs": [
        {
          "output_type": "stream",
          "name": "stdout",
          "text": [
            "이름이 뭐에요?성현\n",
            "성현\n"
          ]
        }
      ]
    },
    {
      "cell_type": "code",
      "source": [
        "print(name, \"끝까지 가면 이긴다.\")"
      ],
      "metadata": {
        "colab": {
          "base_uri": "https://localhost:8080/"
        },
        "id": "JwQtSx-MyQVa",
        "outputId": "27658978-2ddf-4881-d42e-16c0a39aff7b"
      },
      "execution_count": null,
      "outputs": [
        {
          "output_type": "stream",
          "name": "stdout",
          "text": [
            "성현 끝까지 가면 이긴다.\n"
          ]
        }
      ]
    },
    {
      "cell_type": "code",
      "source": [
        "year = input(\"몇년생이세요?\")\n",
        "print(year, \"년생입니다.\")"
      ],
      "metadata": {
        "colab": {
          "base_uri": "https://localhost:8080/"
        },
        "id": "od6sXP48zCbP",
        "outputId": "a0572505-0479-4a8e-adbd-3e416fd7f68b"
      },
      "execution_count": null,
      "outputs": [
        {
          "output_type": "stream",
          "name": "stdout",
          "text": [
            "몇년생이세요?1999\n",
            "1999 년생입니다.\n"
          ]
        }
      ]
    },
    {
      "cell_type": "code",
      "source": [
        "print(type(year))"
      ],
      "metadata": {
        "colab": {
          "base_uri": "https://localhost:8080/"
        },
        "id": "uyR2rPg-0SAu",
        "outputId": "647736b5-cd21-40b4-eec3-e543ae477da5"
      },
      "execution_count": null,
      "outputs": [
        {
          "output_type": "stream",
          "name": "stdout",
          "text": [
            "<class 'str'>\n"
          ]
        }
      ]
    },
    {
      "cell_type": "code",
      "source": [
        "print(type(1999))"
      ],
      "metadata": {
        "colab": {
          "base_uri": "https://localhost:8080/"
        },
        "id": "_ulJMQhd0XVb",
        "outputId": "077834a3-2c8f-4b69-89ee-7ae411631a5a"
      },
      "execution_count": null,
      "outputs": [
        {
          "output_type": "stream",
          "name": "stdout",
          "text": [
            "<class 'int'>\n"
          ]
        }
      ]
    },
    {
      "cell_type": "code",
      "source": [
        "year = int(year)\n",
        "print(year)\n",
        "print(type(year))"
      ],
      "metadata": {
        "colab": {
          "base_uri": "https://localhost:8080/"
        },
        "id": "KEBSYANZ0gbN",
        "outputId": "045628e0-9042-4b0e-d608-1f9de0f95245"
      },
      "execution_count": null,
      "outputs": [
        {
          "output_type": "stream",
          "name": "stdout",
          "text": [
            "1999\n",
            "<class 'int'>\n"
          ]
        }
      ]
    },
    {
      "cell_type": "code",
      "source": [
        "print(2023 - year)"
      ],
      "metadata": {
        "colab": {
          "base_uri": "https://localhost:8080/"
        },
        "id": "8wBiZqW-ziL9",
        "outputId": "e197509b-1202-4829-a3fe-ae985772b5d5"
      },
      "execution_count": null,
      "outputs": [
        {
          "output_type": "stream",
          "name": "stdout",
          "text": [
            "24\n"
          ]
        }
      ]
    },
    {
      "cell_type": "code",
      "source": [
        "print(2024 -  year)"
      ],
      "metadata": {
        "colab": {
          "base_uri": "https://localhost:8080/"
        },
        "id": "TfI5XU5S0-25",
        "outputId": "e2b9b5e1-2f61-4f52-c62a-d2ce43c985cb"
      },
      "execution_count": null,
      "outputs": [
        {
          "output_type": "stream",
          "name": "stdout",
          "text": [
            "25\n"
          ]
        }
      ]
    },
    {
      "cell_type": "code",
      "source": [
        "# 변수 안의 수 변경"
      ],
      "metadata": {
        "id": "4RRz8jr21QY4"
      },
      "execution_count": null,
      "outputs": []
    },
    {
      "cell_type": "code",
      "source": [
        "name = \"우영우\"\n",
        "print(name)"
      ],
      "metadata": {
        "colab": {
          "base_uri": "https://localhost:8080/"
        },
        "id": "3HsVSGnX5KCg",
        "outputId": "4b426ae6-6d9a-477a-c106-991b1dd96265"
      },
      "execution_count": null,
      "outputs": [
        {
          "output_type": "stream",
          "name": "stdout",
          "text": [
            "우영우\n"
          ]
        }
      ]
    },
    {
      "cell_type": "code",
      "source": [
        "print(name[0] + \" to the \" + name[1] + \" to the \" + name[2])"
      ],
      "metadata": {
        "colab": {
          "base_uri": "https://localhost:8080/"
        },
        "id": "yY6AXxZ15iaK",
        "outputId": "a4cc4444-fe0c-4847-b251-52b4c5b3be3e"
      },
      "execution_count": null,
      "outputs": [
        {
          "output_type": "stream",
          "name": "stdout",
          "text": [
            "우 to the 영 to the 우\n"
          ]
        }
      ]
    },
    {
      "cell_type": "code",
      "source": [
        "print(name*3)"
      ],
      "metadata": {
        "colab": {
          "base_uri": "https://localhost:8080/"
        },
        "id": "N91hYCnU56Rc",
        "outputId": "5b187496-820f-497c-dd1e-08bbc741b6f0"
      },
      "execution_count": null,
      "outputs": [
        {
          "output_type": "stream",
          "name": "stdout",
          "text": [
            "우영우우영우우영우\n"
          ]
        }
      ]
    },
    {
      "cell_type": "code",
      "source": [
        "print(type(name))"
      ],
      "metadata": {
        "colab": {
          "base_uri": "https://localhost:8080/"
        },
        "id": "_qw65U9p61fQ",
        "outputId": "69a62eb2-4d2c-41fc-97ce-2b99d600672e"
      },
      "execution_count": null,
      "outputs": [
        {
          "output_type": "stream",
          "name": "stdout",
          "text": [
            "<class 'str'>\n"
          ]
        }
      ]
    },
    {
      "cell_type": "code",
      "source": [
        "# 나누기 부호의 차이"
      ],
      "metadata": {
        "id": "bXdaz9r96428"
      },
      "execution_count": null,
      "outputs": []
    },
    {
      "cell_type": "code",
      "source": [
        "a = 50\n",
        "b = 10"
      ],
      "metadata": {
        "id": "4YSYRK3X7Oq4"
      },
      "execution_count": null,
      "outputs": []
    },
    {
      "cell_type": "code",
      "source": [
        "print(a/b)   # 나누기\n",
        "print(a//b)  # 소숫점 제외\n",
        "\n",
        "print(a%b)   # 나누고 나머지"
      ],
      "metadata": {
        "colab": {
          "base_uri": "https://localhost:8080/"
        },
        "id": "fvaUTkgI7Q5a",
        "outputId": "be02b084-e946-4b24-be29-2df4830448ee"
      },
      "execution_count": null,
      "outputs": [
        {
          "output_type": "stream",
          "name": "stdout",
          "text": [
            "5.0\n",
            "5\n",
            "0\n"
          ]
        }
      ]
    },
    {
      "cell_type": "code",
      "source": [
        "# 원의 면적구하기"
      ],
      "metadata": {
        "id": "qiqWHAm37ZCe"
      },
      "execution_count": null,
      "outputs": []
    },
    {
      "cell_type": "code",
      "source": [
        "pi = 3.14159 # approximate\n",
        "diameter = 3 # 지름\n",
        "\n",
        "# Create a variable called 'radius' equal to half the diameter\n",
        "radius = diameter/2\n",
        "\n",
        "# Create a variable called 'area', using the formula for the area of a circle:\n",
        "#   =>  pi times the radius squared\n",
        "# 코드를 아래에 입력하세요(Enter your code below)\n",
        "\n",
        "area = ((radius**2)*pi)\n",
        "print(area)"
      ],
      "metadata": {
        "colab": {
          "base_uri": "https://localhost:8080/"
        },
        "id": "olEEH99y8QXR",
        "outputId": "6157b367-fecd-4c83-c0b3-6bfb8c292879"
      },
      "execution_count": null,
      "outputs": [
        {
          "output_type": "stream",
          "name": "stdout",
          "text": [
            "7.0685775\n"
          ]
        }
      ]
    },
    {
      "cell_type": "code",
      "source": [
        "# 변수 안의 수 바꾸기"
      ],
      "metadata": {
        "id": "OR663MdY9poE"
      },
      "execution_count": null,
      "outputs": []
    },
    {
      "cell_type": "code",
      "source": [
        "# Swap variables a and b (so that a refers to the object previously referred to by b and vice versa)\n",
        "# a -> b, b -> a\n",
        "\n",
        "a = [1, 2, 3]\n",
        "b = [3, 2, 1]\n",
        "\n",
        "# 코드를 아래에 입력하세요(Enter your code below)\n",
        "\n",
        "temp = a\n",
        "a = b\n",
        "b = temp\n",
        "\n",
        "print(f\"이제 a는 b 였던 {a}값으로 바뀌었어\")\n",
        "print(f\"그렇다면 b 는 {b}값으로 바껴\")"
      ],
      "metadata": {
        "colab": {
          "base_uri": "https://localhost:8080/"
        },
        "id": "KUSO7u0t8RHy",
        "outputId": "16165613-03b6-4e96-aa1b-464676312ce6"
      },
      "execution_count": null,
      "outputs": [
        {
          "output_type": "stream",
          "name": "stdout",
          "text": [
            "이제 a는 b 였던 [3, 2, 1]값으로 바뀌었어\n",
            "그렇다면 b 는 [1, 2, 3]값으로 바껴\n"
          ]
        }
      ]
    },
    {
      "cell_type": "code",
      "source": [
        "# 리스트"
      ],
      "metadata": {
        "id": "M8Pb4PWB9z20"
      },
      "execution_count": null,
      "outputs": []
    },
    {
      "cell_type": "code",
      "source": [
        "# - 리스트도 순서가 존재"
      ],
      "metadata": {
        "id": "ZkJdzZO8_U40"
      },
      "execution_count": null,
      "outputs": []
    },
    {
      "cell_type": "code",
      "source": [
        "my_list = [\"우영우\", \"동그라미\", \"고래\"]\n",
        "# my_dictionary = {}\n",
        "# my_set = {}\n",
        "# my_tuple = ()"
      ],
      "metadata": {
        "id": "EDaF2H4A_YId"
      },
      "execution_count": null,
      "outputs": []
    },
    {
      "cell_type": "code",
      "source": [
        "my_list[0], my_list[1], my_list[2]"
      ],
      "metadata": {
        "colab": {
          "base_uri": "https://localhost:8080/"
        },
        "id": "qz_BQVm__pPY",
        "outputId": "75532560-65e7-446f-e288-69507b71de57"
      },
      "execution_count": null,
      "outputs": [
        {
          "output_type": "execute_result",
          "data": {
            "text/plain": [
              "('우영우', '동그라미', '고래')"
            ]
          },
          "metadata": {},
          "execution_count": 57
        }
      ]
    },
    {
      "cell_type": "code",
      "source": [
        "# for 은 몇번의 도는지 범위가 확실할 때\n",
        "# while 은 끝나는지점만 알 때 ex) 10 번을 돈다, 100번을 돈다\n",
        "\n",
        "for name in my_list:\n",
        "  print(name)"
      ],
      "metadata": {
        "colab": {
          "base_uri": "https://localhost:8080/"
        },
        "id": "RbfXarUh_880",
        "outputId": "d622f5ea-7dd0-4c47-9f3a-48af7f81fb4b"
      },
      "execution_count": null,
      "outputs": [
        {
          "output_type": "stream",
          "name": "stdout",
          "text": [
            "우영우\n",
            "동그라미\n",
            "고래\n"
          ]
        }
      ]
    },
    {
      "cell_type": "code",
      "source": [
        "for i in range(3):\n",
        "  print(my_list[i])"
      ],
      "metadata": {
        "colab": {
          "base_uri": "https://localhost:8080/"
        },
        "id": "VQDF0ft5Amt0",
        "outputId": "13f623b5-df73-4636-e15e-d95125424c09"
      },
      "execution_count": null,
      "outputs": [
        {
          "output_type": "stream",
          "name": "stdout",
          "text": [
            "우영우\n",
            "동그라미\n",
            "고래\n"
          ]
        }
      ]
    },
    {
      "cell_type": "code",
      "source": [
        "# list 안에 추가하기"
      ],
      "metadata": {
        "id": "sh08QfPHCqg6"
      },
      "execution_count": null,
      "outputs": []
    },
    {
      "cell_type": "code",
      "source": [
        "new_name = input(\" 넣고 싶은 이름은? \")\n",
        "my_list.append(new_name)\n",
        "print(my_list)"
      ],
      "metadata": {
        "colab": {
          "base_uri": "https://localhost:8080/"
        },
        "id": "Zo5UXVlrB0VC",
        "outputId": "5ab78b5a-2139-4b06-e281-de76bd7aa4a3"
      },
      "execution_count": null,
      "outputs": [
        {
          "output_type": "stream",
          "name": "stdout",
          "text": [
            " 넣고 싶은 이름은? 토마토\n",
            "['우영우', '동그라미', '고래', '토마토']\n"
          ]
        }
      ]
    },
    {
      "cell_type": "code",
      "source": [
        "# list 와 for 문 활용하기"
      ],
      "metadata": {
        "id": "YVRQdEFBDaqW"
      },
      "execution_count": null,
      "outputs": []
    },
    {
      "cell_type": "code",
      "source": [
        "my_list = []\n",
        "\n",
        "for i in range(10):\n",
        "  my_list.append(i)\n",
        "\n",
        "print(my_list)"
      ],
      "metadata": {
        "colab": {
          "base_uri": "https://localhost:8080/"
        },
        "id": "MLJuWCfHCX_m",
        "outputId": "c17f47e1-3bf5-448a-f407-16aa4b49ea7d"
      },
      "execution_count": null,
      "outputs": [
        {
          "output_type": "stream",
          "name": "stdout",
          "text": [
            "[0, 1, 2, 3, 4, 5, 6, 7, 8, 9]\n"
          ]
        }
      ]
    },
    {
      "cell_type": "code",
      "source": [
        "my_list = []\n",
        "\n",
        "for i in range(10, 20, 2):\n",
        "  my_list.append(i)\n",
        "\n",
        "print(my_list)"
      ],
      "metadata": {
        "colab": {
          "base_uri": "https://localhost:8080/"
        },
        "id": "jmUs0ZdZDE-B",
        "outputId": "954a44db-80fa-4a90-c530-fcf74e49befe"
      },
      "execution_count": null,
      "outputs": [
        {
          "output_type": "stream",
          "name": "stdout",
          "text": [
            "[10, 12, 14, 16, 18]\n"
          ]
        }
      ]
    },
    {
      "cell_type": "code",
      "source": [
        "odd_numbers = []  # 홀\n",
        "even_numbers = []  # 짝\n",
        "\n",
        "for i in range(100):\n",
        "  if(i % 2 == 0):\n",
        "    even_numbers.append(i) # 짝수만 담자\n",
        "\n",
        "  else:                   # else 는 if 조건의 나머지라는 뜻\n",
        "    odd_numbers.append(i) # 홀수만 담자\n",
        "\n",
        "print(f\"홀수 리스트 :{odd_numbers}\")\n",
        "print(f\"짝수 리스트 :{even_numbers}\")"
      ],
      "metadata": {
        "colab": {
          "base_uri": "https://localhost:8080/"
        },
        "id": "2q9Ui3IfDm6O",
        "outputId": "1d17ecf5-64d8-43ae-ff3e-b039d3cc90f2"
      },
      "execution_count": null,
      "outputs": [
        {
          "output_type": "stream",
          "name": "stdout",
          "text": [
            "홀수 리스트 :[1, 3, 5, 7, 9, 11, 13, 15, 17, 19, 21, 23, 25, 27, 29, 31, 33, 35, 37, 39, 41, 43, 45, 47, 49, 51, 53, 55, 57, 59, 61, 63, 65, 67, 69, 71, 73, 75, 77, 79, 81, 83, 85, 87, 89, 91, 93, 95, 97, 99]\n",
            "짝수 리스트 :[0, 2, 4, 6, 8, 10, 12, 14, 16, 18, 20, 22, 24, 26, 28, 30, 32, 34, 36, 38, 40, 42, 44, 46, 48, 50, 52, 54, 56, 58, 60, 62, 64, 66, 68, 70, 72, 74, 76, 78, 80, 82, 84, 86, 88, 90, 92, 94, 96, 98]\n"
          ]
        }
      ]
    },
    {
      "cell_type": "code",
      "source": [
        "# 합과 평균구하기"
      ],
      "metadata": {
        "id": "QS8XzZlGIKmI"
      },
      "execution_count": null,
      "outputs": []
    },
    {
      "cell_type": "code",
      "source": [
        "len(odd_numbers), len(even_numbers)"
      ],
      "metadata": {
        "colab": {
          "base_uri": "https://localhost:8080/"
        },
        "id": "UfCdRMOJLHap",
        "outputId": "ea4bcdb6-e475-4f0d-bd26-38ae225753d7"
      },
      "execution_count": null,
      "outputs": [
        {
          "output_type": "execute_result",
          "data": {
            "text/plain": [
              "(50, 50)"
            ]
          },
          "metadata": {},
          "execution_count": 103
        }
      ]
    },
    {
      "cell_type": "code",
      "source": [
        "o_sum = 0    # 더해주기 위해 초기값 설정\n",
        "for j in range(len(odd_numbers)):\n",
        "  o_sum = o_sum + odd_numbers[j]\n",
        "\n",
        "print(f\"홀수리스트의 합은 {o_sum}\")"
      ],
      "metadata": {
        "colab": {
          "base_uri": "https://localhost:8080/"
        },
        "id": "41uuOat2LL_N",
        "outputId": "bcf2f8da-e1a7-49ac-d4c1-04ebcfff5b7f"
      },
      "execution_count": null,
      "outputs": [
        {
          "output_type": "stream",
          "name": "stdout",
          "text": [
            "홀수리스트의 합은 2500\n"
          ]
        }
      ]
    },
    {
      "cell_type": "code",
      "source": [
        "e_sum = 0    # 더해주기 위해 초기값 설정\n",
        "for j in range(len(even_numbers)):\n",
        "  e_sum = e_sum + even_numbers[j]\n",
        "\n",
        "print(f\"짝수리스트의 합은 {e_sum}\")"
      ],
      "metadata": {
        "colab": {
          "base_uri": "https://localhost:8080/"
        },
        "id": "wYvDas0pL0Vd",
        "outputId": "804b0daf-045b-42d1-95f7-4a09d91588a9"
      },
      "execution_count": null,
      "outputs": [
        {
          "output_type": "stream",
          "name": "stdout",
          "text": [
            "짝수리스트의 합은 2450\n"
          ]
        }
      ]
    },
    {
      "cell_type": "code",
      "source": [
        "odd_length = len(odd_numbers)  # 평균 구하기\n",
        "odd_mean = o_sum/odd_length\n",
        "print(f\"홀수리스트의 평균은 {odd_mean}\")"
      ],
      "metadata": {
        "colab": {
          "base_uri": "https://localhost:8080/"
        },
        "id": "FAsTqhHRMQp5",
        "outputId": "15754b02-3256-4b72-b0b2-f04e28c14d2c"
      },
      "execution_count": null,
      "outputs": [
        {
          "output_type": "stream",
          "name": "stdout",
          "text": [
            "홀수리스트의 평균은 50.0\n"
          ]
        }
      ]
    },
    {
      "cell_type": "code",
      "source": [
        "even_length = len(even_numbers)  # 평균 구하기\n",
        "even_mean = e_sum/even_length\n",
        "print(f\"짝수리스트의 평균은 {even_mean}\")"
      ],
      "metadata": {
        "colab": {
          "base_uri": "https://localhost:8080/"
        },
        "id": "m4VLFJyeMs74",
        "outputId": "8073d812-743e-47a0-fbb9-d7e596889981"
      },
      "execution_count": null,
      "outputs": [
        {
          "output_type": "stream",
          "name": "stdout",
          "text": [
            "짝수리스트의 평균은 49.0\n"
          ]
        }
      ]
    },
    {
      "cell_type": "code",
      "source": [
        "# **0.5 는 루트"
      ],
      "metadata": {
        "id": "xbjK6KS8O601"
      },
      "execution_count": null,
      "outputs": []
    },
    {
      "cell_type": "code",
      "source": [
        "# 트리만들기\n",
        "\n",
        "## 공백도 스트링"
      ],
      "metadata": {
        "id": "QIF6lxYvPHH8"
      },
      "execution_count": null,
      "outputs": []
    },
    {
      "cell_type": "code",
      "source": [
        "tree_height = 10\n",
        "\n",
        "for i in range(tree_height):\n",
        "  spaces = \" \" * (tree_height - i)\n",
        "  starts = \"*\" * (i * 2 + 1)\n",
        "  print(spaces + starts)\n"
      ],
      "metadata": {
        "colab": {
          "base_uri": "https://localhost:8080/"
        },
        "id": "L0RznEANP7Wl",
        "outputId": "e2ed1f37-8a84-4e36-e0cb-189b4864a23c"
      },
      "execution_count": null,
      "outputs": [
        {
          "output_type": "stream",
          "name": "stdout",
          "text": [
            "          *\n",
            "         ***\n",
            "        *****\n",
            "       *******\n",
            "      *********\n",
            "     ***********\n",
            "    *************\n",
            "   ***************\n",
            "  *****************\n",
            " *******************\n"
          ]
        }
      ]
    },
    {
      "cell_type": "code",
      "source": [
        "# 분산 만들기"
      ],
      "metadata": {
        "id": "zO_59oCoRtxb"
      },
      "execution_count": null,
      "outputs": []
    },
    {
      "cell_type": "code",
      "source": [
        "numbers = [i for i in range(100)]\n",
        "sum_numbers = 0\n",
        "for number in numbers:\n",
        "  sum_numbers += number\n",
        "\n",
        "mean = sum_numbers/len(numbers)\n",
        "\n",
        "print(f\"SUM : {sum_numbers}\")\n",
        "print(f\"MEAN : {mean}\")"
      ],
      "metadata": {
        "colab": {
          "base_uri": "https://localhost:8080/"
        },
        "id": "wqe_Yls0Ye6x",
        "outputId": "8cff9f91-3e96-42b1-c61d-4d299ea3a030"
      },
      "execution_count": null,
      "outputs": [
        {
          "output_type": "stream",
          "name": "stdout",
          "text": [
            "SUM : 4950\n",
            "MEAN : 49.5\n"
          ]
        }
      ]
    },
    {
      "cell_type": "code",
      "source": [
        "diff_sum = 0\n",
        "\n",
        "for number in numbers:\n",
        "  diff = (number - mean) ** 2\n",
        "  diff_sum += diff   # 계속 더해 나감\n",
        "print(f\"Diff SUM : {diff_sum}\")"
      ],
      "metadata": {
        "colab": {
          "base_uri": "https://localhost:8080/"
        },
        "id": "eT-X_nazY70j",
        "outputId": "66ed58e8-f646-4cf2-bf87-829ac2bc6d01"
      },
      "execution_count": null,
      "outputs": [
        {
          "output_type": "stream",
          "name": "stdout",
          "text": [
            "Diff SUM : 83325.0\n"
          ]
        }
      ]
    },
    {
      "cell_type": "code",
      "source": [
        "std = (diff_sum / len(numbers)) ** 0.5\n",
        "print(f\"분산은 {std} 입니다.\")"
      ],
      "metadata": {
        "colab": {
          "base_uri": "https://localhost:8080/"
        },
        "id": "Qf60b5v4akvn",
        "outputId": "ba4fc14a-06f5-4f42-acb9-14c9787acdc5"
      },
      "execution_count": null,
      "outputs": [
        {
          "output_type": "stream",
          "name": "stdout",
          "text": [
            "분산은 28.86607004772212 입니다.\n"
          ]
        }
      ]
    },
    {
      "cell_type": "code",
      "source": [
        "# (우영우 단어)앞뒤 단어가 같은 지 확인하는 시스템 만들기"
      ],
      "metadata": {
        "id": "2uX6PCRXaw3z"
      },
      "execution_count": null,
      "outputs": []
    },
    {
      "cell_type": "code",
      "source": [
        "drive = []\n",
        "\n",
        "while True:\n",
        "  word = input(\"세글자의 단어를 넣어주세요 그만하시려면 'q'를 눌러주세요\")\n",
        "  if word == 'q':\n",
        "    break\n",
        "\n",
        "  elif (len(word) != 3):\n",
        "    print(\"세글자 단어만 작성해주세요.\")\n",
        "\n",
        "  else:\n",
        "    if (word[0] != word[2]):\n",
        "      print(\"단어의 첫 글자와 끝 글자가 달라요.\")\n",
        "    if (word[0] == word[2]):\n",
        "      drive.append(word)\n",
        "    print(drive)"
      ],
      "metadata": {
        "colab": {
          "base_uri": "https://localhost:8080/"
        },
        "id": "BO9gYZkQbmBi",
        "outputId": "dba24a13-261d-4b22-814f-0e239a818e56"
      },
      "execution_count": null,
      "outputs": [
        {
          "output_type": "stream",
          "name": "stdout",
          "text": [
            "세글자의 단어를 넣어주세요 그만하시려면 'q'를 눌러주세요토마토\n",
            "세글자의 단어를 넣어주세요 그만하시려면 'q'를 눌러주세요스위스\n",
            "세글자의 단어를 넣어주세요 그만하시려면 'q'를 눌러주세요q\n",
            "['토마토', '스위스']\n"
          ]
        }
      ]
    },
    {
      "cell_type": "code",
      "source": [
        "# 우영우 단어 시스템 함수로 바꾸어보자"
      ],
      "metadata": {
        "id": "RzWFm_1MgASs"
      },
      "execution_count": null,
      "outputs": []
    },
    {
      "cell_type": "code",
      "source": [
        "# 입력 단어가 세글자의 단어인지 체크하는 함수\n",
        "\n",
        "def check_len (word):\n",
        "  if len(word) == 3:\n",
        "    return True   # 3일 때 아웃풋\n",
        "  return False    # 3 아닐 때 아웃풋"
      ],
      "metadata": {
        "id": "is_rMyXXyO80"
      },
      "execution_count": null,
      "outputs": []
    },
    {
      "cell_type": "code",
      "source": [
        "check_len(\"스위스\")"
      ],
      "metadata": {
        "colab": {
          "base_uri": "https://localhost:8080/"
        },
        "id": "mCLb6SrSyWQv",
        "outputId": "63bf06b1-a75e-4ae5-82f3-ff6a69ffcd88"
      },
      "execution_count": null,
      "outputs": [
        {
          "output_type": "execute_result",
          "data": {
            "text/plain": [
              "True"
            ]
          },
          "metadata": {},
          "execution_count": 184
        }
      ]
    },
    {
      "cell_type": "code",
      "source": [
        "# 단어 첫글자 마지막 글자 체크하는 함수\n",
        "def check_first_last(word):\n",
        "  if word[0] == word[-1]:\n",
        "    return True\n",
        "  return False"
      ],
      "metadata": {
        "id": "PmygJygKzcjC"
      },
      "execution_count": null,
      "outputs": []
    },
    {
      "cell_type": "code",
      "source": [
        "words = []\n",
        "\n",
        "while True:\n",
        "  word = input(\"단어를 넣어주세요\")\n",
        "  if word == 'q':\n",
        "    break\n",
        "  elif check_len(word) == True:\n",
        "    if check_first_last(word):\n",
        "      words.append(word)\n",
        "    else:\n",
        "      print(\"앞 뒤 글자가 달라요.\")\n",
        "  else:\n",
        "      print(\"세 글자가 아니에요\")"
      ],
      "metadata": {
        "colab": {
          "base_uri": "https://localhost:8080/"
        },
        "id": "Z4oTjoSuye6R",
        "outputId": "5f1e0b30-13d2-4d81-84cc-c065cbb53b9f"
      },
      "execution_count": null,
      "outputs": [
        {
          "name": "stdout",
          "output_type": "stream",
          "text": [
            "단어를 넣어주세요토마토\n",
            "단어를 넣어주세요스위스\n",
            "단어를 넣어주세요오니기리\n",
            "세 글자가 아니에요\n",
            "단어를 넣어주세요오티마\n",
            "앞 뒤 글자가 달라요.\n",
            "단어를 넣어주세요q\n"
          ]
        }
      ]
    },
    {
      "cell_type": "code",
      "source": [
        "def add(a, b):\n",
        "  return (a + b)"
      ],
      "metadata": {
        "id": "Quq1tFnR0-XH"
      },
      "execution_count": null,
      "outputs": []
    },
    {
      "cell_type": "code",
      "source": [
        "add(3, 5)"
      ],
      "metadata": {
        "colab": {
          "base_uri": "https://localhost:8080/"
        },
        "id": "M3Dkrfcc1LXx",
        "outputId": "31c1b5c0-7756-4983-9458-ce2a3e41719f"
      },
      "execution_count": null,
      "outputs": [
        {
          "output_type": "execute_result",
          "data": {
            "text/plain": [
              "8"
            ]
          },
          "metadata": {},
          "execution_count": 192
        }
      ]
    },
    {
      "cell_type": "code",
      "source": [
        "def product(a, b):\n",
        "  return (a * b)"
      ],
      "metadata": {
        "id": "PsowEVmK1NYa"
      },
      "execution_count": null,
      "outputs": []
    },
    {
      "cell_type": "code",
      "source": [
        "product(3, 5)"
      ],
      "metadata": {
        "colab": {
          "base_uri": "https://localhost:8080/"
        },
        "id": "NANqRIdj1WLh",
        "outputId": "4f266c33-e802-446f-907c-b32de245024d"
      },
      "execution_count": null,
      "outputs": [
        {
          "output_type": "execute_result",
          "data": {
            "text/plain": [
              "15"
            ]
          },
          "metadata": {},
          "execution_count": 191
        }
      ]
    },
    {
      "cell_type": "code",
      "source": [
        "my_list = [i for i in range(50, 150)]\n",
        "eveen_numbers = [j for j in range(50, 150) if j % 2 == 0]\n",
        "print(even_numbers)"
      ],
      "metadata": {
        "colab": {
          "base_uri": "https://localhost:8080/"
        },
        "id": "7mknu7i91Yh-",
        "outputId": "fde115f0-6fa4-487c-9893-6af3c43d15f7"
      },
      "execution_count": null,
      "outputs": [
        {
          "output_type": "stream",
          "name": "stdout",
          "text": [
            "[0, 2, 4, 6, 8, 10, 12, 14, 16, 18, 20, 22, 24, 26, 28, 30, 32, 34, 36, 38, 40, 42, 44, 46, 48, 50, 52, 54, 56, 58, 60, 62, 64, 66, 68, 70, 72, 74, 76, 78, 80, 82, 84, 86, 88, 90, 92, 94, 96, 98]\n"
          ]
        }
      ]
    },
    {
      "cell_type": "code",
      "source": [
        "# 리스트에서 짝수를 골라내는  함수"
      ],
      "metadata": {
        "id": "cCDeJvbH2fub"
      },
      "execution_count": null,
      "outputs": []
    },
    {
      "cell_type": "code",
      "source": [
        "def make_even_list(a, b):\n",
        "  even_numbers = [j for j in range(a, b) if j % 2 == 0]\n",
        "  return even_numbers"
      ],
      "metadata": {
        "id": "-9p-1Sm222nQ"
      },
      "execution_count": null,
      "outputs": []
    },
    {
      "cell_type": "code",
      "source": [
        "make_even_list(100, 200)"
      ],
      "metadata": {
        "colab": {
          "base_uri": "https://localhost:8080/"
        },
        "id": "V1yarAxz3yLL",
        "outputId": "2901067e-399c-4c86-a03d-3422feb0633b"
      },
      "execution_count": null,
      "outputs": [
        {
          "output_type": "execute_result",
          "data": {
            "text/plain": [
              "[100,\n",
              " 102,\n",
              " 104,\n",
              " 106,\n",
              " 108,\n",
              " 110,\n",
              " 112,\n",
              " 114,\n",
              " 116,\n",
              " 118,\n",
              " 120,\n",
              " 122,\n",
              " 124,\n",
              " 126,\n",
              " 128,\n",
              " 130,\n",
              " 132,\n",
              " 134,\n",
              " 136,\n",
              " 138,\n",
              " 140,\n",
              " 142,\n",
              " 144,\n",
              " 146,\n",
              " 148,\n",
              " 150,\n",
              " 152,\n",
              " 154,\n",
              " 156,\n",
              " 158,\n",
              " 160,\n",
              " 162,\n",
              " 164,\n",
              " 166,\n",
              " 168,\n",
              " 170,\n",
              " 172,\n",
              " 174,\n",
              " 176,\n",
              " 178,\n",
              " 180,\n",
              " 182,\n",
              " 184,\n",
              " 186,\n",
              " 188,\n",
              " 190,\n",
              " 192,\n",
              " 194,\n",
              " 196,\n",
              " 198]"
            ]
          },
          "metadata": {},
          "execution_count": 196
        }
      ]
    },
    {
      "cell_type": "code",
      "source": [
        "# random"
      ],
      "metadata": {
        "id": "R_RbYtoB4kaR"
      },
      "execution_count": null,
      "outputs": []
    },
    {
      "cell_type": "code",
      "source": [
        "import random"
      ],
      "metadata": {
        "id": "J2Cr6Ahi36BB"
      },
      "execution_count": null,
      "outputs": []
    },
    {
      "cell_type": "code",
      "source": [
        "print(random.randint(1, 6)) #1 ~ 6 사이에서 무작위로 가져오기"
      ],
      "metadata": {
        "colab": {
          "base_uri": "https://localhost:8080/"
        },
        "id": "deg3nQoq4i5L",
        "outputId": "f72f5ebb-ce6a-417b-c4a1-4f9dd41f2bb0"
      },
      "execution_count": null,
      "outputs": [
        {
          "output_type": "stream",
          "name": "stdout",
          "text": [
            "5\n"
          ]
        }
      ]
    },
    {
      "cell_type": "code",
      "source": [
        "com_num = random.randint(1, 100)\n",
        "\n",
        "print(com_num)"
      ],
      "metadata": {
        "colab": {
          "base_uri": "https://localhost:8080/"
        },
        "id": "dECTgZHX4oSv",
        "outputId": "4e53e0bc-d5d8-4496-886e-fbc4f99a1ee1"
      },
      "execution_count": null,
      "outputs": [
        {
          "output_type": "stream",
          "name": "stdout",
          "text": [
            "98\n"
          ]
        }
      ]
    },
    {
      "cell_type": "code",
      "source": [
        "import random\n",
        "\n",
        "com_num = random.randint(1, 100)\n",
        "counter = 0\n",
        "\n",
        "while True:\n",
        "  user_num = int(input(\"1부터 100까지 사이의 숫자를 고르세요.\"))\n",
        "  counter += 1\n",
        "  if com_num == user_num:\n",
        "    break\n",
        "  elif (com_num > user_num):\n",
        "    print(\"정답은 더 큽니다.\")\n",
        "  elif (com_num < user_num):\n",
        "    print(\"정답은 더 작습니다.\")\n",
        "  else:\n",
        "    print(\"정답입니다.\")\n",
        "print(f\"{counter}번 만에 맞추셨습니다.\")"
      ],
      "metadata": {
        "colab": {
          "base_uri": "https://localhost:8080/",
          "height": 273
        },
        "id": "ws19raNg5yoP",
        "outputId": "c1ed1582-0d22-49c1-f5ae-a25dd8a40312"
      },
      "execution_count": null,
      "outputs": [
        {
          "name": "stdout",
          "output_type": "stream",
          "text": [
            "1부터 100까지 사이의 숫자를 고르세요.q\n"
          ]
        },
        {
          "output_type": "error",
          "ename": "ValueError",
          "evalue": "ignored",
          "traceback": [
            "\u001b[0;31m---------------------------------------------------------------------------\u001b[0m",
            "\u001b[0;31mValueError\u001b[0m                                Traceback (most recent call last)",
            "\u001b[0;32m<ipython-input-224-6e9441b2524e>\u001b[0m in \u001b[0;36m<cell line: 4>\u001b[0;34m()\u001b[0m\n\u001b[1;32m      3\u001b[0m \u001b[0;34m\u001b[0m\u001b[0m\n\u001b[1;32m      4\u001b[0m \u001b[0;32mwhile\u001b[0m \u001b[0;32mTrue\u001b[0m\u001b[0;34m:\u001b[0m\u001b[0;34m\u001b[0m\u001b[0;34m\u001b[0m\u001b[0m\n\u001b[0;32m----> 5\u001b[0;31m   \u001b[0muser_num\u001b[0m \u001b[0;34m=\u001b[0m \u001b[0mint\u001b[0m\u001b[0;34m(\u001b[0m\u001b[0minput\u001b[0m\u001b[0;34m(\u001b[0m\u001b[0;34m\"1부터 100까지 사이의 숫자를 고르세요.\"\u001b[0m\u001b[0;34m)\u001b[0m\u001b[0;34m)\u001b[0m\u001b[0;34m\u001b[0m\u001b[0;34m\u001b[0m\u001b[0m\n\u001b[0m\u001b[1;32m      6\u001b[0m   \u001b[0mcounter\u001b[0m \u001b[0;34m+=\u001b[0m \u001b[0;36m1\u001b[0m\u001b[0;34m\u001b[0m\u001b[0;34m\u001b[0m\u001b[0m\n\u001b[1;32m      7\u001b[0m   \u001b[0;32mif\u001b[0m \u001b[0mcom_num\u001b[0m \u001b[0;34m==\u001b[0m \u001b[0muser_num\u001b[0m\u001b[0;34m:\u001b[0m\u001b[0;34m\u001b[0m\u001b[0;34m\u001b[0m\u001b[0m\n",
            "\u001b[0;31mValueError\u001b[0m: invalid literal for int() with base 10: 'q'"
          ]
        }
      ]
    },
    {
      "cell_type": "code",
      "source": [
        "import random\n",
        "\n",
        "def play_game(min_num, max_num):\n",
        "    com_num = random.randint(min_num, max_num)\n",
        "    counter = 0\n",
        "\n",
        "    while True:\n",
        "      # print(str(min_num) + \"에서\" + str(max_num))\n",
        "      user_num = int(input(\"1부터 100까지 사이의 숫자를 고르세요.\"))\n",
        "      counter += 1\n",
        "      if com_num == user_num:\n",
        "        break\n",
        "      elif (com_num > user_num):\n",
        "        print(\"정답은 더 큽니다.\")\n",
        "      elif (com_num < user_num):\n",
        "        print(\"정답은 더 작습니다.\")\n",
        "      else:\n",
        "        print(\"정답입니다.\")\n",
        "    print(f\"{counter}번 만에 맞추셨습니다.\")"
      ],
      "metadata": {
        "id": "8Wuv6L1dC-Go"
      },
      "execution_count": null,
      "outputs": []
    },
    {
      "cell_type": "code",
      "source": [
        "play_game(50,100)"
      ],
      "metadata": {
        "colab": {
          "base_uri": "https://localhost:8080/"
        },
        "id": "BZkuJeErD_Tl",
        "outputId": "c38168a7-aa7e-44ab-8838-7874627a4b07"
      },
      "execution_count": null,
      "outputs": [
        {
          "output_type": "stream",
          "name": "stdout",
          "text": [
            "1부터 100까지 사이의 숫자를 고르세요.70\n",
            "정답은 더 작습니다.\n",
            "1부터 100까지 사이의 숫자를 고르세요.60\n",
            "정답은 더 작습니다.\n",
            "1부터 100까지 사이의 숫자를 고르세요.55\n",
            "정답은 더 작습니다.\n",
            "1부터 100까지 사이의 숫자를 고르세요.53\n",
            "정답은 더 작습니다.\n",
            "1부터 100까지 사이의 숫자를 고르세요.51\n",
            "정답은 더 작습니다.\n",
            "1부터 100까지 사이의 숫자를 고르세요.50\n",
            "6번 만에 맞추셨습니다.\n"
          ]
        }
      ]
    },
    {
      "cell_type": "code",
      "source": [
        "#  prime_number 만들기"
      ],
      "metadata": {
        "id": "8MPAyHBYEQmD"
      },
      "execution_count": null,
      "outputs": []
    },
    {
      "cell_type": "code",
      "source": [
        "def check_prime_number(num):\n",
        "  if num <= 1:\n",
        "    return False\n",
        "  for i in range(2, (int(num ** 0.5) + 1 )):\n",
        "    if (num % i == 0):\n",
        "      return False\n",
        "      break\n",
        "  return True\n",
        "\n",
        "check_prime_number(15)"
      ],
      "metadata": {
        "colab": {
          "base_uri": "https://localhost:8080/"
        },
        "id": "bOs9fL8jFhb1",
        "outputId": "162f3e92-39d8-4cb3-d40c-f6946e683e91"
      },
      "execution_count": null,
      "outputs": [
        {
          "output_type": "execute_result",
          "data": {
            "text/plain": [
              "False"
            ]
          },
          "metadata": {},
          "execution_count": 246
        }
      ]
    },
    {
      "cell_type": "code",
      "source": [
        "# 2~ 100 까지의 숫자중 20개를 랜덤으로 뽑자\n",
        "random_numbers = [random.randint(2, 100) for _ in range(20)]   # _ 원래 i 이지만 의미가 없기에 저렇게 쓴다.\n",
        "print(random_numbers)"
      ],
      "metadata": {
        "colab": {
          "base_uri": "https://localhost:8080/"
        },
        "id": "JfztMqnqHhy3",
        "outputId": "2824ce5a-7f12-41c0-c27f-42e2ae9ef5e7"
      },
      "execution_count": null,
      "outputs": [
        {
          "output_type": "stream",
          "name": "stdout",
          "text": [
            "[43, 37, 39, 84, 31, 19, 93, 46, 92, 79, 11, 48, 4, 97, 70, 60, 50, 50, 74, 55]\n"
          ]
        }
      ]
    },
    {
      "cell_type": "code",
      "source": [
        "prime_numbers = []\n",
        "for number in random_numbers:\n",
        "  if check_prime_number(number):        # check_prime_number == True 라는 뜻\n",
        "    prime_numbers.append(number)\n",
        "\n",
        "print(prime_numbers)"
      ],
      "metadata": {
        "colab": {
          "base_uri": "https://localhost:8080/"
        },
        "id": "xwbjFt1wMbZO",
        "outputId": "e40aff11-84ea-4e58-e866-c7d9e9cd5285"
      },
      "execution_count": null,
      "outputs": [
        {
          "output_type": "stream",
          "name": "stdout",
          "text": [
            "[43, 37, 31, 19, 79, 11, 97]\n"
          ]
        }
      ]
    },
    {
      "cell_type": "code",
      "source": [
        "# 위의 문장을 한 문장으로 변형\n",
        "\n",
        "prime_numbers = [number for number in random_numbers if check_prime_number(number)]\n",
        "print(prime_numbers)"
      ],
      "metadata": {
        "colab": {
          "base_uri": "https://localhost:8080/"
        },
        "id": "nzkKxMfhOL-J",
        "outputId": "09520b82-7a0b-44ae-988f-3d7c541bb3c0"
      },
      "execution_count": null,
      "outputs": [
        {
          "output_type": "stream",
          "name": "stdout",
          "text": [
            "[43, 37, 31, 19, 79, 11, 97]\n"
          ]
        }
      ]
    },
    {
      "cell_type": "code",
      "source": [
        "# set 에 대해서 알아보기\n",
        "\n",
        "my_list = [1, 2, 3]\n",
        "my_set = set(my_list)    # list를 set으로 변환\n",
        "print(my_set)"
      ],
      "metadata": {
        "colab": {
          "base_uri": "https://localhost:8080/"
        },
        "id": "JQAL-IKkPOAT",
        "outputId": "991eae54-a34d-4adb-e45e-2476b987f36f"
      },
      "execution_count": null,
      "outputs": [
        {
          "output_type": "stream",
          "name": "stdout",
          "text": [
            "{1, 2, 3}\n"
          ]
        }
      ]
    },
    {
      "cell_type": "code",
      "source": [
        "random_numbers = [random.randint(1, 10) for _ in range(100)]\n",
        "print(random_numbers)\n",
        "print(len(random_numbers))"
      ],
      "metadata": {
        "colab": {
          "base_uri": "https://localhost:8080/"
        },
        "id": "Y5EyfJ5dQ_JW",
        "outputId": "8809681a-f2e7-47d9-ff79-4bd98a0d8b35"
      },
      "execution_count": null,
      "outputs": [
        {
          "output_type": "stream",
          "name": "stdout",
          "text": [
            "[4, 10, 9, 5, 10, 9, 8, 4, 6, 5, 8, 7, 6, 9, 6, 7, 7, 5, 8, 3, 5, 6, 4, 3, 1, 6, 3, 9, 7, 7, 9, 3, 8, 1, 4, 8, 2, 5, 8, 1, 3, 3, 8, 3, 3, 6, 4, 1, 4, 4, 3, 4, 8, 3, 9, 4, 7, 3, 5, 8, 3, 9, 3, 5, 9, 9, 4, 4, 6, 3, 3, 6, 4, 7, 4, 3, 2, 2, 8, 9, 9, 9, 1, 2, 8, 9, 10, 7, 6, 3, 1, 6, 4, 1, 2, 4, 4, 6, 2, 7]\n",
            "100\n"
          ]
        }
      ]
    },
    {
      "cell_type": "code",
      "source": [
        "# set 은 중복을 허용하지 않는다.\n",
        "random_set = set(random_numbers)\n",
        "print(random_set)"
      ],
      "metadata": {
        "colab": {
          "base_uri": "https://localhost:8080/"
        },
        "id": "JXmFJkFYRbwZ",
        "outputId": "021a2d7d-0fd1-4cb2-833b-175a44344c05"
      },
      "execution_count": null,
      "outputs": [
        {
          "output_type": "stream",
          "name": "stdout",
          "text": [
            "{1, 2, 3, 4, 5, 6, 7, 8, 9, 10}\n"
          ]
        }
      ]
    },
    {
      "cell_type": "code",
      "source": [
        "# tuple"
      ],
      "metadata": {
        "id": "aUkNq2CNRkom"
      },
      "execution_count": null,
      "outputs": []
    },
    {
      "cell_type": "code",
      "source": [
        "random_tuple = tuple(random_numbers)\n",
        "print(random_tuple)"
      ],
      "metadata": {
        "colab": {
          "base_uri": "https://localhost:8080/"
        },
        "id": "lAT10OV7SaIT",
        "outputId": "6e508cfb-ebd0-40bc-846a-9c366c4315ea"
      },
      "execution_count": null,
      "outputs": [
        {
          "output_type": "stream",
          "name": "stdout",
          "text": [
            "(4, 10, 9, 5, 10, 9, 8, 4, 6, 5, 8, 7, 6, 9, 6, 7, 7, 5, 8, 3, 5, 6, 4, 3, 1, 6, 3, 9, 7, 7, 9, 3, 8, 1, 4, 8, 2, 5, 8, 1, 3, 3, 8, 3, 3, 6, 4, 1, 4, 4, 3, 4, 8, 3, 9, 4, 7, 3, 5, 8, 3, 9, 3, 5, 9, 9, 4, 4, 6, 3, 3, 6, 4, 7, 4, 3, 2, 2, 8, 9, 9, 9, 1, 2, 8, 9, 10, 7, 6, 3, 1, 6, 4, 1, 2, 4, 4, 6, 2, 7)\n"
          ]
        }
      ]
    },
    {
      "cell_type": "code",
      "source": [
        "# Dictionary  {”key1” : “value1”, “key2” : “value2”}"
      ],
      "metadata": {
        "id": "2h1jdc9ESn9V"
      },
      "execution_count": null,
      "outputs": []
    },
    {
      "cell_type": "code",
      "source": [
        "# 주사위 100번 굴려서 각 수가 몇번 나왔는지 보기"
      ],
      "metadata": {
        "id": "JM8yzlfPS4E1"
      },
      "execution_count": null,
      "outputs": []
    },
    {
      "cell_type": "code",
      "source": [
        "Dice = [random.randint(1,6) for _ in range(100)]\n",
        "print(Dice)"
      ],
      "metadata": {
        "colab": {
          "base_uri": "https://localhost:8080/"
        },
        "id": "IxEjDyklTplr",
        "outputId": "1dca7340-7ed5-43a5-b015-fd7d92d03dab"
      },
      "execution_count": null,
      "outputs": [
        {
          "output_type": "stream",
          "name": "stdout",
          "text": [
            "[1, 5, 4, 2, 3, 4, 3, 1, 2, 5, 2, 3, 1, 5, 3, 4, 1, 2, 3, 3, 1, 2, 4, 3, 1, 3, 2, 1, 3, 4, 3, 1, 6, 1, 6, 6, 5, 1, 6, 4, 2, 1, 3, 3, 2, 2, 4, 1, 3, 4, 6, 5, 1, 2, 4, 5, 6, 2, 1, 6, 4, 1, 3, 2, 2, 5, 5, 1, 1, 6, 6, 1, 5, 6, 2, 4, 6, 3, 3, 5, 2, 5, 6, 2, 4, 6, 4, 5, 3, 3, 4, 3, 6, 4, 2, 1, 4, 3, 4, 1]\n"
          ]
        }
      ]
    },
    {
      "cell_type": "code",
      "source": [
        "# 시각화"
      ],
      "metadata": {
        "id": "hgN3JFKAUxxt"
      },
      "execution_count": null,
      "outputs": []
    },
    {
      "cell_type": "code",
      "source": [
        "import matplotlib.pyplot as plt\n",
        "\n",
        "plt.hist(Dice, bins = 15, color = 'green', align = \"left\")\n",
        "plt.title(\"Dice Freqency\")\n"
      ],
      "metadata": {
        "colab": {
          "base_uri": "https://localhost:8080/",
          "height": 470
        },
        "id": "7qQhpNDlUACf",
        "outputId": "4165b81b-622a-4dc6-a469-11c8865a85bd"
      },
      "execution_count": null,
      "outputs": [
        {
          "output_type": "execute_result",
          "data": {
            "text/plain": [
              "Text(0.5, 1.0, 'Dice Freqency')"
            ]
          },
          "metadata": {},
          "execution_count": 272
        },
        {
          "output_type": "display_data",
          "data": {
            "text/plain": [
              "<Figure size 640x480 with 1 Axes>"
            ],
            "image/png": "[encoded data removed]"
          },
          "metadata": {}
        }
      ]
    },
    {
      "cell_type": "code",
      "source": [
        "print(Dice)"
      ],
      "metadata": {
        "colab": {
          "base_uri": "https://localhost:8080/"
        },
        "id": "phdMzHnwU65X",
        "outputId": "e351f3e3-dbc9-4fa4-d35e-e1e730584566"
      },
      "execution_count": null,
      "outputs": [
        {
          "output_type": "stream",
          "name": "stdout",
          "text": [
            "[1, 5, 4, 2, 3, 4, 3, 1, 2, 5, 2, 3, 1, 5, 3, 4, 1, 2, 3, 3, 1, 2, 4, 3, 1, 3, 2, 1, 3, 4, 3, 1, 6, 1, 6, 6, 5, 1, 6, 4, 2, 1, 3, 3, 2, 2, 4, 1, 3, 4, 6, 5, 1, 2, 4, 5, 6, 2, 1, 6, 4, 1, 3, 2, 2, 5, 5, 1, 1, 6, 6, 1, 5, 6, 2, 4, 6, 3, 3, 5, 2, 5, 6, 2, 4, 6, 4, 5, 3, 3, 4, 3, 6, 4, 2, 1, 4, 3, 4, 1]\n"
          ]
        }
      ]
    },
    {
      "cell_type": "code",
      "source": [
        "dict = {1: 10}\n",
        "print(1 in dict)  # 1 이라는 숫자가 있는지 없는지 확인 없다는건 처음 나온거기에 1\n",
        "dict[3] = 1    # 3 이 나왔다\n",
        "dict"
      ],
      "metadata": {
        "colab": {
          "base_uri": "https://localhost:8080/"
        },
        "id": "qjnEyVyObBrW",
        "outputId": "cfb4abba-2394-4aba-8323-f6d1cb6bf3fa"
      },
      "execution_count": null,
      "outputs": [
        {
          "output_type": "stream",
          "name": "stdout",
          "text": [
            "True\n"
          ]
        },
        {
          "output_type": "execute_result",
          "data": {
            "text/plain": [
              "{1: 10, 3: 1}"
            ]
          },
          "metadata": {},
          "execution_count": 276
        }
      ]
    },
    {
      "cell_type": "code",
      "source": [
        "dict = {}\n",
        "\n",
        "for number in Dice:\n",
        "  if number in dict:\n",
        "    dict[number] += 1    #  미리 있었으면 하나를 val 값에 더해줌 증가한다.\n",
        "  else:\n",
        "    dict[number] = 1\n",
        "\n",
        "print(dict)\n",
        "\n",
        "for key, value in dict.items():    # key, value 를 dict 에서 items 라고 부름\n",
        "  print(f\"{key}번은 {value}번 나옴\")"
      ],
      "metadata": {
        "colab": {
          "base_uri": "https://localhost:8080/"
        },
        "id": "oCQjHQzib_F4",
        "outputId": "7cdff96d-9e4d-4287-85a8-fe6b198a022d"
      },
      "execution_count": null,
      "outputs": [
        {
          "output_type": "stream",
          "name": "stdout",
          "text": [
            "{1: 100, 5: 60, 4: 85, 2: 85, 3: 100, 6: 70}\n",
            "1번은 100번 나옴\n",
            "5번은 60번 나옴\n",
            "4번은 85번 나옴\n",
            "2번은 85번 나옴\n",
            "3번은 100번 나옴\n",
            "6번은 70번 나옴\n"
          ]
        }
      ]
    },
    {
      "cell_type": "code",
      "source": [
        "# QR"
      ],
      "metadata": {
        "id": "rP43HaaXc00G"
      },
      "execution_count": null,
      "outputs": []
    },
    {
      "cell_type": "code",
      "source": [
        "!pip install qrcode"
      ],
      "metadata": {
        "colab": {
          "base_uri": "https://localhost:8080/"
        },
        "id": "Yc1tLtMUfMuY",
        "outputId": "7ae75098-4862-45d2-d5bd-bde3bef971c5"
      },
      "execution_count": null,
      "outputs": [
        {
          "output_type": "stream",
          "name": "stdout",
          "text": [
            "Collecting qrcode\n",
            "  Downloading qrcode-7.4.2-py3-none-any.whl (46 kB)\n",
            "\u001b[?25l     \u001b[90m━━━━━━━━━━━━━━━━━━━━━━━━━━━━━━━━━━━━━━━━\u001b[0m \u001b[32m0.0/46.2 kB\u001b[0m \u001b[31m?\u001b[0m eta \u001b[36m-:--:--\u001b[0m\r\u001b[2K     \u001b[90m━━━━━━━━━━━━━━━━━━━━━━━━━━━━━━━━━━━━━━━━\u001b[0m \u001b[32m46.2/46.2 kB\u001b[0m \u001b[31m1.2 MB/s\u001b[0m eta \u001b[36m0:00:00\u001b[0m\n",
            "\u001b[?25hRequirement already satisfied: typing-extensions in /usr/local/lib/python3.10/dist-packages (from qrcode) (4.5.0)\n",
            "Collecting pypng (from qrcode)\n",
            "  Downloading pypng-0.20220715.0-py3-none-any.whl (58 kB)\n",
            "\u001b[2K     \u001b[90m━━━━━━━━━━━━━━━━━━━━━━━━━━━━━━━━━━━━━━━━\u001b[0m \u001b[32m58.1/58.1 kB\u001b[0m \u001b[31m3.7 MB/s\u001b[0m eta \u001b[36m0:00:00\u001b[0m\n",
            "\u001b[?25hInstalling collected packages: pypng, qrcode\n",
            "Successfully installed pypng-0.20220715.0 qrcode-7.4.2\n"
          ]
        }
      ]
    },
    {
      "cell_type": "code",
      "source": [
        "import qrcode                     # qr생성할 라이브러리\n",
        "from IPython.display import display  # colab, 에서 이미지 표시하기 위한 라이브러리"
      ],
      "metadata": {
        "id": "cRQkgLxkfIlV"
      },
      "execution_count": null,
      "outputs": []
    },
    {
      "cell_type": "code",
      "source": [
        "qr = qrcode.QRCode()     # qr 코드 설정 지정하기"
      ],
      "metadata": {
        "id": "K1S5tbiqfLGo"
      },
      "execution_count": null,
      "outputs": []
    },
    {
      "cell_type": "code",
      "source": [
        "qr.add_data(\"행복한 크리스마스 보내세요\")      # 메세지 저장하기"
      ],
      "metadata": {
        "id": "2Uo1EF9efmOi"
      },
      "execution_count": null,
      "outputs": []
    },
    {
      "cell_type": "code",
      "source": [
        "qr.make()      # 포함한 메세지를 이용하여 qr 만들기"
      ],
      "metadata": {
        "id": "ZuHuG8fcgDMh"
      },
      "execution_count": null,
      "outputs": []
    },
    {
      "cell_type": "code",
      "source": [
        "qr_image = qr.make_image()        # qr를 이미지로 만들기"
      ],
      "metadata": {
        "id": "uIyd0IiCgNI6"
      },
      "execution_count": null,
      "outputs": []
    },
    {
      "cell_type": "code",
      "source": [
        "display(qr_image)     # 이미지 보기"
      ],
      "metadata": {
        "colab": {
          "base_uri": "https://localhost:8080/",
          "height": 387
        },
        "id": "bt7peqTrgNL9",
        "outputId": "20cf91cb-c0a4-440d-c715-d389136e4f42"
      },
      "execution_count": null,
      "outputs": [
        {
          "output_type": "display_data",
          "data": {
            "text/plain": [
              "<qrcode.image.pil.PilImage at 0x7ad3619abf70>"
            ],
            "image/png": "[encoded data removed]"
          },
          "metadata": {}
        }
      ]
    },
    {
      "cell_type": "code",
      "source": [
        "fill_color_rgb = (227, 102, 29)\n",
        "back_color_rgb = (95, 189, 255)"
      ],
      "metadata": {
        "id": "DFd5pnAzgQ7Z"
      },
      "execution_count": null,
      "outputs": []
    },
    {
      "cell_type": "code",
      "source": [
        "qr_image = qr.make_image(fil_color = fill_color_rgb, back_color = back_color_rgb)\n",
        "display(qr_image)"
      ],
      "metadata": {
        "colab": {
          "base_uri": "https://localhost:8080/",
          "height": 387
        },
        "id": "JbEP7jVIhE4H",
        "outputId": "1a7e82f5-e68a-43ce-a83d-58282805b5eb"
      },
      "execution_count": null,
      "outputs": [
        {
          "output_type": "display_data",
          "data": {
            "text/plain": [
              "<qrcode.image.pil.PilImage at 0x7ad3619a9c90>"
            ],
            "image/png": "[encoded data removed]"
          },
          "metadata": {}
        }
      ]
    },
    {
      "cell_type": "code",
      "source": [],
      "metadata": {
        "id": "odWvTE82hhvb"
      },
      "execution_count": null,
      "outputs": []
    }
  ]
}