{
  "nbformat": 4,
  "nbformat_minor": 0,
  "metadata": {
    "colab": {
      "provenance": []
    },
    "kernelspec": {
      "name": "python3",
      "display_name": "Python 3"
    },
    "language_info": {
      "name": "python"
    }
  },
  "cells": [
    {
      "cell_type": "markdown",
      "source": [
        "# 1. 입력함수 input\n",
        "\n",
        "Python의 `input` 함수는 사용자로부터 키보드 입력을 받을 수 있게 합니다."
      ],
      "metadata": {
        "id": "Jv1q0ketMX3P"
      }
    },
    {
      "cell_type": "markdown",
      "source": [
        "## 1.1 기본예시"
      ],
      "metadata": {
        "id": "8ZN9TGjwMgP-"
      }
    },
    {
      "cell_type": "code",
      "execution_count": null,
      "metadata": {
        "id": "df3evmn5Lyts"
      },
      "outputs": [],
      "source": [
        "input('입력해주세요')"
      ]
    },
    {
      "cell_type": "code",
      "source": [
        "input('입력해주세요')   # 숫자 10 이지만 문자열이 된다."
      ],
      "metadata": {
        "id": "zt0CHBeQL4MY"
      },
      "execution_count": null,
      "outputs": []
    },
    {
      "cell_type": "code",
      "source": [
        "int(input('입력해주세요'))  # 숫자를 숫자로 받기 위해 int 준비한다."
      ],
      "metadata": {
        "id": "OoyiSlnQL-_9"
      },
      "execution_count": null,
      "outputs": []
    },
    {
      "cell_type": "markdown",
      "source": [
        "## 1.2 나아가기\n",
        "\n",
        "input() 함수에서 입력한 값을 변수에 저장하여 활용할 수 있습니다."
      ],
      "metadata": {
        "id": "Mr2FhSL1MEMn"
      }
    },
    {
      "cell_type": "code",
      "source": [
        "name = input(\"이름을 입력하세요: \")\n",
        "print(\"Hello, \" + name + \"!\")"
      ],
      "metadata": {
        "id": "YHfvXDc_Mmzj"
      },
      "execution_count": null,
      "outputs": []
    },
    {
      "cell_type": "code",
      "source": [
        "# input을 활용한 덧셈 - 숫자열인 경우\n",
        "# 숫자의 입력하고 계산하는 경우 int 를 빼먹지 말자\n",
        "\n",
        "a = int(input(\"첫번째 숫자를 입력하세요\"))\n",
        "b = int(input(\"두번째 숫자를 입력하세요\"))\n",
        "\n",
        "print(\"a + b = \", a + b, \" 입니다.\")"
      ],
      "metadata": {
        "id": "jJARBdtVNS-m"
      },
      "execution_count": null,
      "outputs": []
    },
    {
      "cell_type": "markdown",
      "source": [
        "# 2. 출력함수 print\n",
        "\n",
        "파이썬에서 화면에 텍스트나 변수의 값을 화면에 출력하려면 `print` 함수를 사용하면 됩니다. 다만 우리가 사용하는 `colab`은 마지막 라인에 한하여 `print`를 쓰지 않아도 출력합니다.\n",
        "\n",
        "\n",
        "출력 함수나 자동 출력의 경우 디버깅이나 코드 중간 결과 확인 등에서 유용하게 사용됩니다."
      ],
      "metadata": {
        "id": "69-SXK5iMwV1"
      }
    },
    {
      "cell_type": "markdown",
      "source": [
        "## 2.1 한 줄 출력"
      ],
      "metadata": {
        "id": "e94SHfsjOf-h"
      }
    },
    {
      "cell_type": "code",
      "source": [
        "print('출력합니다.')"
      ],
      "metadata": {
        "id": "od_U7t3SOZUA"
      },
      "execution_count": null,
      "outputs": []
    },
    {
      "cell_type": "markdown",
      "source": [
        "## 2.2 여러 줄 출력\n",
        "\n",
        "`print` 함수를 연속해서 여러번 사용하면, 각각의 출력이 새로운 줄에 표시됩니다."
      ],
      "metadata": {
        "id": "H3oKlfx7OaFG"
      }
    },
    {
      "cell_type": "code",
      "source": [
        "print('출력합니다.')\n",
        "print('출력합니다.')"
      ],
      "metadata": {
        "id": "-D7CfMHCOlNw"
      },
      "execution_count": null,
      "outputs": []
    },
    {
      "cell_type": "markdown",
      "source": [
        "# 나아가기"
      ],
      "metadata": {
        "id": "Yf9f0D-UPcwB"
      }
    },
    {
      "cell_type": "markdown",
      "source": [
        "print 함수는 콤마로 구분된 여러개의 값을 동시에 출력할 수 있습니다. 각 문자 사이에 \"Hello\", \"World\", \"!\" 사이에 콤마 다음 띄어쓰기가 들어갑니다. 기본적으로 콤마를 찍으면 여러개의 값을 띄어쓰기로 연결시킬 수 있습니다."
      ],
      "metadata": {
        "id": "7vWQxKkAO7yg"
      }
    },
    {
      "cell_type": "code",
      "source": [
        "print(\"Hello\", \"World\", \"!\")"
      ],
      "metadata": {
        "id": "Y4SlpX22O9Lx"
      },
      "execution_count": null,
      "outputs": []
    },
    {
      "cell_type": "markdown",
      "source": [
        "print함수는 여러 옵션을 활용할 수 있습니다. 그 중 하나인 sep를 사용하면 값들 사이의 구분자를 원하는 문자로 지정할 수 있습니다. 만약, 띄어쓰기가 아닌 것으로 연결을 시키고 싶을 경우 sep 을 이용합니다."
      ],
      "metadata": {
        "id": "-oNQW11EPIwM"
      }
    },
    {
      "cell_type": "code",
      "source": [
        "print(\"010\", \"0000\", \"0000\", sep=\"-\")\n",
        "print(\"010\", \"0000\", \"0000\", sep=\"!\")"
      ],
      "metadata": {
        "id": "T5RuBoLaPJtc"
      },
      "execution_count": null,
      "outputs": []
    },
    {
      "cell_type": "markdown",
      "source": [
        "sep 말고도 자주 사용하는 것은 end가 있습니다. end를 사용하면 마지막에 어떤 문자를 추가할지 결정할 수 있습니다. 기본적으로 마지막에는 개행(\\n, 줄 바꿈)이 들어가 있습니다."
      ],
      "metadata": {
        "id": "-Hf4hcgTPRX6"
      }
    },
    {
      "cell_type": "code",
      "source": [
        "print(\"010\", \"0000\", \"0000\", sep=\"-\", end='???')\n",
        "print(\"010\", \"0000\", \"0000\", sep=\"!\")"
      ],
      "metadata": {
        "id": "iopB3k8uPSCI"
      },
      "execution_count": null,
      "outputs": []
    },
    {
      "cell_type": "markdown",
      "source": [
        "# 3. 자주 사용하는 f-string 용법"
      ],
      "metadata": {
        "id": "xIG2av67QaZ4"
      }
    },
    {
      "cell_type": "markdown",
      "source": [
        "주로 print 안에서 출력할 문자열을 구성하는데 많이 사용됩니다. 중괄호 안에 표현하고 싶은 변수를 넣으면 문자열로 만들어져 출력됩니다."
      ],
      "metadata": {
        "id": "q8bSfNm4Qbwz"
      }
    },
    {
      "cell_type": "code",
      "source": [
        "# 변수  앞뒤로 {} 중괄호 해주자\n",
        "\n",
        "name = 'licat'\n",
        "age = 10\n",
        "print(f'제 이름은 {name}, 제 나이는 {age} 입니다.')"
      ],
      "metadata": {
        "id": "eIMllHj3QjhM"
      },
      "execution_count": null,
      "outputs": []
    },
    {
      "cell_type": "code",
      "source": [
        "name = input(\"이름을 입력해주세요\")\n",
        "age = int(input(\"나이를 입력해주세요\"))\n",
        "print(f'제 이름은 {name}, 제 나이는 {age} 입니다.')"
      ],
      "metadata": {
        "id": "dEa9X2FeSNqB"
      },
      "execution_count": null,
      "outputs": []
    },
    {
      "cell_type": "markdown",
      "source": [
        "# 4. colab에서 print와 마지막 라인 출력은 다르다\n",
        "\n",
        "여기서 다루는 것처럼 print로 출력하는 것과 마지막 라인 출력은 실제로는 다른 값을 출력할 수도 있습니다. 이 부분은 class에서 다루도록 하겠습니다."
      ],
      "metadata": {
        "id": "I1FCTqjkQtvg"
      }
    },
    {
      "cell_type": "markdown",
      "source": [
        "다만 print 함수의 출력값과 마지막 라인 출력값이 완전히 동일하지는 않다는 점을 기억하고 가도록 하겠습니다."
      ],
      "metadata": {
        "id": "whGC8lLWQwSI"
      }
    },
    {
      "cell_type": "code",
      "source": [
        "class Character:\n",
        "    def __str__(self):\n",
        "        return 'a'\n",
        "\n",
        "    def __repr__(self):\n",
        "        return 'b'\n",
        "\n",
        "hero = Character()\n",
        "print(hero)\n",
        "hero"
      ],
      "metadata": {
        "id": "Wq8oMqTqQ0ol"
      },
      "execution_count": null,
      "outputs": []
    },
    {
      "cell_type": "markdown",
      "source": [
        "# 5. None은 마지막 라인에서 출력하지 않는다.\n",
        "\n",
        "None이라는 값을 변수가 가지게 되면 a는 print를 사용하지 않으면 출력되지 않습니다."
      ],
      "metadata": {
        "id": "Bbsq9IRPQ1Sp"
      }
    },
    {
      "cell_type": "code",
      "source": [
        "a = None\n",
        "a"
      ],
      "metadata": {
        "id": "IFJBS_hXQ1dI"
      },
      "execution_count": null,
      "outputs": []
    },
    {
      "cell_type": "code",
      "source": [
        "def f():\n",
        "    return None\n",
        "\n",
        "f()"
      ],
      "metadata": {
        "id": "GlZ90VhARQTa"
      },
      "execution_count": null,
      "outputs": []
    }
  ]
}