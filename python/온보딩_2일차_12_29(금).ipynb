{
  "nbformat": 4,
  "nbformat_minor": 0,
  "metadata": {
    "colab": {
      "provenance": [],
      "toc_visible": true
    },
    "kernelspec": {
      "name": "python3",
      "display_name": "Python 3"
    },
    "language_info": {
      "name": "python"
    }
  },
  "cells": [
    {
      "cell_type": "code",
      "execution_count": 3,
      "metadata": {
        "colab": {
          "base_uri": "https://localhost:8080/"
        },
        "id": "8ID9jj-I6_ZB",
        "outputId": "855b5683-add0-497d-975a-1d95960f07f7"
      },
      "outputs": [
        {
          "output_type": "stream",
          "name": "stdout",
          "text": [
            "Hello World\n"
          ]
        }
      ],
      "source": [
        "print(\"Hello World\")"
      ]
    },
    {
      "cell_type": "markdown",
      "source": [
        "# 1. 구글 코랩 기초 사용법\n",
        "맥북은 cmd 윈도우는 ctrl\n",
        "\n",
        "- 1.(필수) Ctrl(Command) + Enter : 해당 셀 실행\n",
        "- 2.(필수) Alt(Option) + Enter : 해당 셀 실행 + 코드 불록 하단 추가\n",
        "- 3.Ctrl(Command) + M A : 코드 셀 위에 삽입\n",
        "- 4.Ctrl(Command) + M B : 코드 셀 아래 삽입\n",
        "- 5.Ctrl(Command) + M D : 코드 셀 지우기\n",
        "- 6.Ctrl(Command) + M Y : 코드 셀로 변경\n",
        "- 7.Ctrl(Command) + M M : 마크다운 셀로 변경\n",
        "- 8.Ctrl(Command) + M Z : 실행취소\n",
        "\n",
        "\n",
        "\n",
        "더블클릭 또는 Enter 키를 눌러 수정"
      ],
      "metadata": {
        "id": "LLH43JDD9gAn"
      }
    },
    {
      "cell_type": "markdown",
      "source": [
        "# 2. 수정 관련된 단축키\n",
        "- Ctrl(Command) + Alt(Option) + 화살표위아래 : 동시 수정\n",
        "- 자주 쓰는 예시 필요\n",
        "- (자주) Ctrl(Command) + D : 같은 단어 찾아 동시 수정\n",
        "- Ctrl(Command) + Shift + L : 동일 단어를 - 전체로 찾아 동시 수정\n",
        "- Alt(Option) + Shift + 화살표위아래 : 해당내용을 위나 아래 복사해서 붙여넣기\n",
        "- Alt(Option) + 화살표위아래 : 해당 내용을 위나 아래로 보내기\n",
        "- (자주) Ctrl(Command) + Alt(Option) + 화살표위아래 : 위아래 동시 수정\n",
        "- (자주) Home, End : 문장의 양 끝\n",
        "- (필수) Ctrl + / : 주석\n",
        "- (필수) Shift(cmd) + Del : 한 줄 지우기\n",
        "- (필수) Tab, Ctrl + ] : 들여쓰기\n",
        "- (필수) Shift + Tab, Ctrl + [ : 내어쓰기"
      ],
      "metadata": {
        "id": "syBG3NXUCwFs"
      }
    },
    {
      "cell_type": "markdown",
      "source": [
        "# 4. 마크다운\n",
        "\n",
        "## 4.1 헤더\n",
        "* #\n",
        "* ##\n",
        "* ##\n",
        "* ###\n"
      ],
      "metadata": {
        "id": "rkPtaLzLJxkQ"
      }
    },
    {
      "cell_type": "markdown",
      "source": [
        "## 4.2 강조\n",
        "이 내용은 **강조** 해야하는 *문장* 입니다.\n",
        "- 강조\n",
        "- *강조*\n",
        "-  **강조**"
      ],
      "metadata": {
        "id": "qwpp_wycKbWh"
      }
    },
    {
      "cell_type": "markdown",
      "source": [
        "## 4.3 목록(List)\n",
        "1. 순서 1번\n",
        "2. 순서 2번\n",
        "3. 순서 3번\n",
        "\n",
        "* 순서 없는것 1\n",
        "* 순서 없는것 2\n",
        "* 순서 없는것 3\n"
      ],
      "metadata": {
        "id": "cb7kx6TTK4om"
      }
    },
    {
      "cell_type": "markdown",
      "source": [
        "## 4.4 링크\n",
        "\n",
        "* 사용법 : [텍스트](URL) 형식을 사용하여 하이퍼링크 삽입\n",
        "* [Pyalgo](URL)"
      ],
      "metadata": {
        "id": "mTDwLQsNLwh1"
      }
    },
    {
      "cell_type": "markdown",
      "source": [
        "## 4.5 이미지\n",
        "* 사용법 : ![댁체 테스트](이미지 URL)형식을 사용하여 이미지를 삽입합니다. 대체 텍스트는 이미지가 표시되지 않을 때 나타나는 텍스트입니다.\n",
        "\n",
        "![Tstory](data:image/png;base64,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)"
      ],
      "metadata": {
        "id": "aSprrnYxMM-C"
      }
    },
    {
      "cell_type": "markdown",
      "source": [
        "## 4.6 코드\n",
        "* 인라인 코드 : 를 사용하여 텍스트 내에 코드를 삽입합니다.\n",
        "* 코드 불록 : 여러 줄의 코드를 나타낼 때는 ``(백틱)를 사용하여 코드 블록을 생성합니다.\n",
        "\n",
        "`print(\"Hello World\")`"
      ],
      "metadata": {
        "id": "4TLxmqcuM8Xm"
      }
    },
    {
      "cell_type": "markdown",
      "source": [
        "## 4.7 기타\n",
        "---\n",
        "* 취소선     ~~취소선~~\n",
        "* 인용문     > 인용문 1입니다.  >> 인용문 1-1입니디.\n",
        "*구분선   ---\n",
        "---"
      ],
      "metadata": {
        "id": "8u7XERAMOkDa"
      }
    }
  ]
}