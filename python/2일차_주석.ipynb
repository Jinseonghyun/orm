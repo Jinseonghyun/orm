{
  "nbformat": 4,
  "nbformat_minor": 0,
  "metadata": {
    "colab": {
      "provenance": []
    },
    "kernelspec": {
      "name": "python3",
      "display_name": "Python 3"
    },
    "language_info": {
      "name": "python"
    }
  },
  "cells": [
    {
      "cell_type": "markdown",
      "source": [
        "# 1. 주석\n",
        "\n",
        "* 한 줄 주석은 # 기호로 시작합니다. 이 기호 뒤에 따라오는 텍스트는 모두 주석으로 처리됩니다. 아래처럼 입력하고 Alt + Enter를 입력하도록 하겠습니다. 그러면 Hello, World 1! 과 Hello, World 2!가 출력된 것을 확인하실 수 있습니다."
      ],
      "metadata": {
        "id": "Yr8FxDn0EIAp"
      }
    },
    {
      "cell_type": "code",
      "execution_count": null,
      "metadata": {
        "colab": {
          "base_uri": "https://localhost:8080/"
        },
        "id": "F98Gt2ZPD1h-",
        "outputId": "8cfe3661-1caf-426f-b778-46734b658a68"
      },
      "outputs": [
        {
          "output_type": "stream",
          "name": "stdout",
          "text": [
            "Hello, World 1!\n"
          ]
        }
      ],
      "source": [
        "# 이것은 주석입니다.   (특이사항, 전체적인 것들, 업데이트 내용)\n",
        "print('Hello, World 1!') # 이것도 주석입니다.  (해당 코드의 설명)\n",
        "# print('Hello, World 2!')   # 코드의 에러 / 향후 수정! / 임시 주석!"
      ]
    },
    {
      "cell_type": "markdown",
      "source": [
        "# 1.2  여러 줄 주석\n",
        "\n",
        "* 이번에는 여러 줄 주석을 사용하겠습니다. '''는 여러 줄 주석에 사용합니다. 여기서 주의해야 할 점이 '''는 앞뒤로 감싸주어야 한다는 것입니다. 역시나 Alt + Enter를 사용해서 실행해주세요."
      ],
      "metadata": {
        "id": "mL72FImcECZI"
      }
    },
    {
      "cell_type": "code",
      "source": [
        "'''    (여러줄 주석을 코드의 옆에 사용하는 것은 권하지 않는다.)\n",
        "print('Hello, World 1!')\n",
        "print('Hello, World 1!')\n",
        "print('Hello, World 1!')\n",
        "\n",
        "'''\n",
        "\n",
        "print('Real Hello World 1!')"
      ],
      "metadata": {
        "colab": {
          "base_uri": "https://localhost:8080/"
        },
        "id": "9ySnJqPGEXJX",
        "outputId": "44a2a104-7c90-4838-d704-d661bd483c5e"
      },
      "execution_count": null,
      "outputs": [
        {
          "output_type": "stream",
          "name": "stdout",
          "text": [
            "Real Hello World 1!\n"
          ]
        }
      ]
    }
  ]
}