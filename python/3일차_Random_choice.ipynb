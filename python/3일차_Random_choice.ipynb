{
  "nbformat": 4,
  "nbformat_minor": 0,
  "metadata": {
    "colab": {
      "provenance": []
    },
    "kernelspec": {
      "name": "python3",
      "display_name": "Python 3"
    },
    "language_info": {
      "name": "python"
    }
  },
  "cells": [
    {
      "cell_type": "markdown",
      "source": [
        "#1.Randrange() 함수\n",
        "* randrange(start, stop[, step])\n",
        "\n",
        "- **`start`**: 범위의 시작값입니다. 이 값은 범위에 포함됩니다. 만약 **`start`**가 생략되면, 기본값은 0이 됩니다.\n",
        "- **`stop`**: 범위의 끝값입니다. 이 값은 범위에 포함되지 않으며, 함수는 **`stop - 1`**까지의 수 중에서 무작위로 선택합니다.\n",
        "- **`step`**: 선택적 매개변수로, 숫자 간의 간격을 지정합니다. 예를 들어, **`step`**이 2이면 함수는 두 숫자 간격으로 무작위 수를 선택합니다.\n",
        "\n",
        "-------------------------------------------\n",
        "* randrange 숫자를 랜덤으로 받아온다.\n",
        "* choice 보통 문자를 받아오고 숫자도 가능은 하다."
      ],
      "metadata": {
        "id": "M0tleIQPzItx"
      }
    },
    {
      "cell_type": "code",
      "source": [
        "#1.1 기본 사용법\n",
        "\n",
        "import random\n",
        "'''\n",
        "0~9까지의 임의의 숫자를 선택하는 코드를 작성\n",
        "(꼭 기억)파이썬의 숫자의 시작은 무조건 0 부터\n",
        "10으로 입력하면 -1 즉, 9까지\n",
        "'''\n",
        "\n",
        "num = random.randrange(10)\n",
        "print(num)"
      ],
      "metadata": {
        "colab": {
          "base_uri": "https://localhost:8080/"
        },
        "id": "qH9dfHH807dF",
        "outputId": "73947bab-91e5-4eae-eb0c-b28ee5075115"
      },
      "execution_count": 8,
      "outputs": [
        {
          "output_type": "stream",
          "name": "stdout",
          "text": [
            "3\n"
          ]
        }
      ]
    },
    {
      "cell_type": "code",
      "source": [
        "# 1.2 시작값과 끝값을 지정\n",
        "num_2 = random.randrange(1, 20)\n",
        "print(num_2)"
      ],
      "metadata": {
        "colab": {
          "base_uri": "https://localhost:8080/"
        },
        "id": "RMm8nTGS0-3R",
        "outputId": "4fed2cbb-3dd4-4277-f7b7-5cbc9665dab6"
      },
      "execution_count": 15,
      "outputs": [
        {
          "output_type": "stream",
          "name": "stdout",
          "text": [
            "6\n"
          ]
        }
      ]
    },
    {
      "cell_type": "code",
      "source": [
        "# 예시로 로또\n",
        "\n",
        "num_1 = random.randrange(1, 46)\n",
        "num_2 = random.randrange(1, 46)\n",
        "num_3 = random.randrange(1, 46)\n",
        "num_4 = random.randrange(1, 46)\n",
        "num_5 = random.randrange(1, 46)\n",
        "num_6 = random.randrange(1, 46)\n",
        "\n",
        "print(\"오늘의 로또 번호는\", num_1, num_2, num_3, num_4, num_5, num_5, num_6)"
      ],
      "metadata": {
        "colab": {
          "base_uri": "https://localhost:8080/"
        },
        "id": "CEGXPKiX145m",
        "outputId": "820fb005-6f9b-49d1-ff86-c94a6d967387"
      },
      "execution_count": 17,
      "outputs": [
        {
          "output_type": "stream",
          "name": "stdout",
          "text": [
            "오늘의 로또 번호는 39 33 37 10 15 15 19\n"
          ]
        }
      ]
    },
    {
      "cell_type": "code",
      "source": [
        "# 1.3 간격 설정\n",
        "# 10부터 100까지 숫자 중에서 10의 간격으로 무작위 선택\n",
        "\n",
        "num10_100 = random.randrange(10, 101, 10)\n",
        "print(num10_100)"
      ],
      "metadata": {
        "colab": {
          "base_uri": "https://localhost:8080/"
        },
        "id": "mugU-R_K2rCJ",
        "outputId": "890acb01-386a-43ab-f3d6-65a7e414bf66"
      },
      "execution_count": 18,
      "outputs": [
        {
          "output_type": "stream",
          "name": "stdout",
          "text": [
            "70\n"
          ]
        }
      ]
    },
    {
      "cell_type": "markdown",
      "source": [
        "#2. Choice() 함수\n",
        "\n",
        "**`random.choice()`** 함수는 파이썬의 **`random`** 라이브러리에서 제공하는 매우 유용한 함수 중 하나입니다. 이 함수는 주어진 시퀀스(예: 리스트, 튜플, 문자열 등)에서 무작위로 요소 하나를 선택하여 반환합니다. 시퀀스 내의 모든 요소는 선택될 가능성이 동일합니다. **`random.choice()`** 함수를 사용하는 여러 가지 측면에 대해 더 자세히 설명하겠습니다."
      ],
      "metadata": {
        "id": "_m8mm1lK2_Lt"
      }
    },
    {
      "cell_type": "code",
      "source": [
        "#2.1  Choice 기본 사용법\n",
        "# chosen_element = random.choice(sequence)\n",
        "\n",
        "# 리스트에서 무작위 과일 선택\n",
        "# 다양한 정보를 한번에 받아오는 것 = 리스트\n",
        "elements = ['사과', '바나나', '체리']\n",
        "choice_elements = random.choice(elements)\n",
        "print(f\"선택된 요소 : {choice_elements} 입니다.\")"
      ],
      "metadata": {
        "colab": {
          "base_uri": "https://localhost:8080/"
        },
        "id": "7i2R0Y1S7d4p",
        "outputId": "ffc592fa-7e18-44df-bfea-2ebe9e0f34c1"
      },
      "execution_count": 25,
      "outputs": [
        {
          "output_type": "stream",
          "name": "stdout",
          "text": [
            "선택된 요소 : 사과 입니다.\n"
          ]
        }
      ]
    },
    {
      "cell_type": "code",
      "source": [
        "#2.2 문자열에서 무작위 문자 선택\n",
        "greeting = \"안녕하세요\"\n",
        "choice_char = random.choice(greeting)\n",
        "print(f\"선택된 문자: {choice_char} 입니다.\")"
      ],
      "metadata": {
        "colab": {
          "base_uri": "https://localhost:8080/"
        },
        "id": "KbGcJfhn8YTn",
        "outputId": "6ba1259e-698e-4d5d-870a-f3f13a11a05a"
      },
      "execution_count": 29,
      "outputs": [
        {
          "output_type": "stream",
          "name": "stdout",
          "text": [
            "선택된 문자: 녕 입니다.\n"
          ]
        }
      ]
    },
    {
      "cell_type": "markdown",
      "source": [
        "#3. 문자와 숫자의 경계\n",
        "\n",
        "\n",
        "- 기본 - input output -> 문자열을 받아서 문자열 출력!\n",
        "- random - 무작위의 숫자 또는 문자를 받아와서 를 받아와서 출력!\n"
      ],
      "metadata": {
        "id": "kNlyZPn39yKB"
      }
    },
    {
      "cell_type": "code",
      "source": [
        "test1 = input(\"임의의 숫자를 입력하세요\\n\")"
      ],
      "metadata": {
        "colab": {
          "base_uri": "https://localhost:8080/"
        },
        "id": "cnbNKwYQ92uw",
        "outputId": "edc07177-3872-463f-d20f-10756be496a6"
      },
      "execution_count": 34,
      "outputs": [
        {
          "name": "stdout",
          "output_type": "stream",
          "text": [
            "임의의 숫자를 입력하세요\n",
            "10\n"
          ]
        }
      ]
    },
    {
      "cell_type": "code",
      "source": [
        "type(test1)"
      ],
      "metadata": {
        "colab": {
          "base_uri": "https://localhost:8080/"
        },
        "id": "21EVDISf-PkE",
        "outputId": "0723027e-9e5d-406f-bb6e-ac65d7e10ef0"
      },
      "execution_count": 35,
      "outputs": [
        {
          "output_type": "execute_result",
          "data": {
            "text/plain": [
              "str"
            ]
          },
          "metadata": {},
          "execution_count": 35
        }
      ]
    },
    {
      "cell_type": "code",
      "source": [
        "# 문자열이기에 주의 해야한다.\n",
        "print(test1 + test1)"
      ],
      "metadata": {
        "colab": {
          "base_uri": "https://localhost:8080/"
        },
        "id": "a1jxbtR1-Tuj",
        "outputId": "06498925-6058-4f13-f963-613628154b05"
      },
      "execution_count": 36,
      "outputs": [
        {
          "output_type": "stream",
          "name": "stdout",
          "text": [
            "1010\n"
          ]
        }
      ]
    },
    {
      "cell_type": "code",
      "source": [
        "# 만약 위 문자열 덧셈을 숫자로 바꾸고 싶다면\n",
        "test1 = int(input(\"임의의 숫자를 입력하세요\\n\"))"
      ],
      "metadata": {
        "colab": {
          "base_uri": "https://localhost:8080/"
        },
        "id": "bF0fO_g4-zSh",
        "outputId": "833fdcf5-3713-411d-9921-5038cf7ff5dc"
      },
      "execution_count": 40,
      "outputs": [
        {
          "name": "stdout",
          "output_type": "stream",
          "text": [
            "임의의 숫자를 입력하세요\n",
            "10\n"
          ]
        }
      ]
    },
    {
      "cell_type": "code",
      "source": [
        "type(test1)"
      ],
      "metadata": {
        "colab": {
          "base_uri": "https://localhost:8080/"
        },
        "id": "WwPtsJA3-1_q",
        "outputId": "a53ddcab-3ef4-435d-a628-2956339ff442"
      },
      "execution_count": 41,
      "outputs": [
        {
          "output_type": "execute_result",
          "data": {
            "text/plain": [
              "int"
            ]
          },
          "metadata": {},
          "execution_count": 41
        }
      ]
    },
    {
      "cell_type": "code",
      "source": [
        "print(test1 + test1)"
      ],
      "metadata": {
        "colab": {
          "base_uri": "https://localhost:8080/"
        },
        "id": "R6rgjoWN-4jO",
        "outputId": "7a2281b7-f029-47cf-bc2b-e47b1b926f5b"
      },
      "execution_count": 42,
      "outputs": [
        {
          "output_type": "stream",
          "name": "stdout",
          "text": [
            "20\n"
          ]
        }
      ]
    },
    {
      "cell_type": "code",
      "source": [
        "# 문자열 덧셈"
      ],
      "metadata": {
        "id": "Dhtq0VkP-68j"
      },
      "execution_count": 43,
      "outputs": []
    },
    {
      "cell_type": "code",
      "source": [
        "test2 = random.randrange(1, 46)"
      ],
      "metadata": {
        "id": "jXIMpOe9-V5_"
      },
      "execution_count": 37,
      "outputs": []
    },
    {
      "cell_type": "code",
      "source": [
        "type(test2)"
      ],
      "metadata": {
        "colab": {
          "base_uri": "https://localhost:8080/"
        },
        "id": "u7OxO4Vh-ev3",
        "outputId": "a6818a09-5840-42a2-b24d-d1694e4c253c"
      },
      "execution_count": 38,
      "outputs": [
        {
          "output_type": "execute_result",
          "data": {
            "text/plain": [
              "int"
            ]
          },
          "metadata": {},
          "execution_count": 38
        }
      ]
    },
    {
      "cell_type": "code",
      "source": [
        "print(test2 + test2)"
      ],
      "metadata": {
        "colab": {
          "base_uri": "https://localhost:8080/"
        },
        "id": "ME__Wl9P_WMS",
        "outputId": "810ea044-d423-4d12-eb9d-95985de5ff1f"
      },
      "execution_count": 44,
      "outputs": [
        {
          "output_type": "stream",
          "name": "stdout",
          "text": [
            "2\n"
          ]
        }
      ]
    },
    {
      "cell_type": "markdown",
      "source": [
        "# 3일차까지 총정리 및 주석작성해보기"
      ],
      "metadata": {
        "id": "lrJuAmTe_WnG"
      }
    },
    {
      "cell_type": "code",
      "source": [
        "'''\n",
        "코드 실행 날짜 : 20204년 1월 2일\n",
        "버전 : V0.1\n",
        "작성자 : 진성현\n",
        "코드 내용 : random라이브러리를 활용해서 실습 예제 작성\n",
        "'''\n",
        "\n",
        "# 이 코드는 Random 라이브러리를 사용한 예시입니다.\n",
        "import random  # random 라이브러리를 가져옵니다.\n",
        "\n",
        "# 두 개의 무작위 숫자를 생성하는 코드\n",
        "random_number1 = random.randint(1, 10)  #1부터 9까지의 임의의 숫자 한개를 가져옵니다.\n",
        "random_number2 = random.randint(1, 10)  #1부터 9까지의 임의의 숫자 한개를 가져옵니다.\n",
        "\n",
        "# 두 개의 무작위 숫자를 합산하는 코드 / 생성된 두 숫자의 합 계산\n",
        "sum_of_numbers = random_number1 + random_number2\n",
        "\n",
        "# 결과 출력\n",
        "print(f\"첫 번째 생성된 숫자: {random_number1}\")  # 첫번째 생선된 값\n",
        "print(f\"두 번째 생성된 숫자: {random_number2}\")  # 두번째 생성된 값\n",
        "print(f\"두 숫자의 합: {sum_of_numbers}\")         # 두 숫자의 합 출력"
      ],
      "metadata": {
        "colab": {
          "base_uri": "https://localhost:8080/"
        },
        "id": "Px_FaXdN_cl2",
        "outputId": "46b84e1a-ca90-46ca-ff35-112e78827bcf"
      },
      "execution_count": 46,
      "outputs": [
        {
          "output_type": "stream",
          "name": "stdout",
          "text": [
            "첫 번째 생성된 숫자: 4\n",
            "두 번째 생성된 숫자: 10\n",
            "두 숫자의 합: 14\n"
          ]
        }
      ]
    },
    {
      "cell_type": "code",
      "source": [],
      "metadata": {
        "id": "BOuKQnZ6ABYp"
      },
      "execution_count": null,
      "outputs": []
    }
  ]
}