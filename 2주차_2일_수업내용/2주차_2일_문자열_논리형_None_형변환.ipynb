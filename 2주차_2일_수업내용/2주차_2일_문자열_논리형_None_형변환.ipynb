{
  "nbformat": 4,
  "nbformat_minor": 0,
  "metadata": {
    "colab": {
      "provenance": []
    },
    "kernelspec": {
      "name": "python3",
      "display_name": "Python 3"
    },
    "language_info": {
      "name": "python"
    }
  },
  "cells": [
    {
      "cell_type": "markdown",
      "source": [
        "#1. 문자열"
      ],
      "metadata": {
        "id": "Ke7R6anPx5yo"
      }
    },
    {
      "cell_type": "code",
      "source": [
        "# 1.1 문자열 기초\n",
        "\n",
        "x = 'hello'\n",
        "y = \"python\"\n",
        "print(x,y)"
      ],
      "metadata": {
        "colab": {
          "base_uri": "https://localhost:8080/"
        },
        "id": "5NYz3K5VyBT2",
        "outputId": "6e024cfa-963f-4f38-f7b8-203b60f8200c"
      },
      "execution_count": null,
      "outputs": [
        {
          "output_type": "stream",
          "name": "stdout",
          "text": [
            "hello python\n"
          ]
        }
      ]
    },
    {
      "cell_type": "code",
      "source": [
        "print(type(x),type(y))"
      ],
      "metadata": {
        "colab": {
          "base_uri": "https://localhost:8080/"
        },
        "id": "xcHn3z0jyKTn",
        "outputId": "552d681c-5c0a-4c3b-f7aa-5a50cc6f7b68"
      },
      "execution_count": null,
      "outputs": [
        {
          "output_type": "stream",
          "name": "stdout",
          "text": [
            "<class 'str'> <class 'str'>\n"
          ]
        }
      ]
    },
    {
      "cell_type": "code",
      "source": [
        "# '''''' 긴문장을 주석처리 할 때 활용해야 한줄에 안써지고 깔끔하게 써진다.\n",
        "i = '''\n",
        "안녕하세요. 저는 졸업을 앞두고 있는 진성현입니다.\n",
        "파이썬을 열심히 배워서 잘하고 싶습니다.\n",
        "'''\n",
        "\n",
        "j = '''\n",
        "안녕하세요. 저는 졸업을 앞두고 있는 진성현입니다.\n",
        "파이썬을 열심히 배워서 잘하고 싶습니다.\n",
        "'''"
      ],
      "metadata": {
        "id": "OQh9KvcwyNi_"
      },
      "execution_count": null,
      "outputs": []
    },
    {
      "cell_type": "code",
      "source": [
        "i"
      ],
      "metadata": {
        "colab": {
          "base_uri": "https://localhost:8080/",
          "height": 36
        },
        "id": "QLQ6cSqOyfIb",
        "outputId": "bd562d4e-f5cb-499b-e6d8-4e8cb29ebdb6"
      },
      "execution_count": null,
      "outputs": [
        {
          "output_type": "execute_result",
          "data": {
            "text/plain": [
              "'\\n안녕하세요. 저는 졸업을 앞두고 있는 진성현입니다.\\n파이썬을 열심히 배워서 잘하고 싶습니다.\\n'"
            ],
            "application/vnd.google.colaboratory.intrinsic+json": {
              "type": "string"
            }
          },
          "metadata": {},
          "execution_count": 7
        }
      ]
    },
    {
      "cell_type": "code",
      "source": [
        "print(i)"
      ],
      "metadata": {
        "colab": {
          "base_uri": "https://localhost:8080/"
        },
        "id": "rL3JlOFFygC9",
        "outputId": "188cf452-5047-4435-8fbc-497a8e5758bc"
      },
      "execution_count": null,
      "outputs": [
        {
          "output_type": "stream",
          "name": "stdout",
          "text": [
            "\n",
            "안녕하세요. 저는 졸업을 앞두고 있는 진성현입니다.\n",
            "파이썬을 열심히 배워서 잘하고 싶습니다.\n",
            "\n"
          ]
        }
      ]
    },
    {
      "cell_type": "code",
      "source": [
        "# 1.2 문자열 덧셈, 곱셈\n",
        "\n",
        "# 문자열의 덧셈\n",
        "\n",
        "x = 'hello'\n",
        "y = 'world'\n",
        "print(x + y) # 출력 : helloworld\n",
        "\n",
        "x = '10'\n",
        "y = '20'\n",
        "print(x + y)\n",
        "\n",
        "# 문자열의 곱셈\n",
        "\n",
        "print(x * 100)"
      ],
      "metadata": {
        "colab": {
          "base_uri": "https://localhost:8080/"
        },
        "id": "WeIhH1ZnyiCy",
        "outputId": "ef382317-0c51-4672-f61c-d248e838b4b1"
      },
      "execution_count": null,
      "outputs": [
        {
          "output_type": "stream",
          "name": "stdout",
          "text": [
            "helloworld\n",
            "1020\n",
            "10101010101010101010101010101010101010101010101010101010101010101010101010101010101010101010101010101010101010101010101010101010101010101010101010101010101010101010101010101010101010101010101010101010\n"
          ]
        }
      ]
    },
    {
      "cell_type": "code",
      "source": [
        "# 1.3 문자열의 인덱싱\n",
        "     #012 3 456\n",
        "s = '위니브 월드!'\n",
        "print(s[0])   # 출력 : '위'\n",
        "print(s[-1])  # 출력 :  '!'"
      ],
      "metadata": {
        "colab": {
          "base_uri": "https://localhost:8080/"
        },
        "id": "72b3JVvE2L36",
        "outputId": "d688dd87-744d-46d9-9884-d41e12a91e66"
      },
      "execution_count": null,
      "outputs": [
        {
          "output_type": "stream",
          "name": "stdout",
          "text": [
            "위\n",
            "!\n"
          ]
        }
      ]
    },
    {
      "cell_type": "code",
      "source": [
        "# 1.4 문자열 슬라이싱\n",
        "\n",
        "s = '위니브 월드 외각'\n",
        "\n",
        "print(s[0:6])\n",
        "print(s[2:])\n",
        "\n",
        "print(s[0:9:2]) # 끝까지 가져오는데 2개씩 띄어서 가져오겠다."
      ],
      "metadata": {
        "colab": {
          "base_uri": "https://localhost:8080/"
        },
        "id": "6hmzw7i12_DN",
        "outputId": "b0ebada7-64e8-4fc1-c83e-b889f3d8df71"
      },
      "execution_count": null,
      "outputs": [
        {
          "output_type": "stream",
          "name": "stdout",
          "text": [
            "위니브 월드\n",
            "브 월드 외각\n",
            "위브월 각\n"
          ]
        }
      ]
    },
    {
      "cell_type": "code",
      "source": [
        "s = 'weniv CEO licat'\n",
        "print(s[6:]) # 출력 : CEO licat           원하는 지점부터 전부 출력\n",
        "print(s[:]) # 출력 : weniv CEO licat      전부 출력\n",
        "print(s[::-1]) # 출력 : tacil OEC vinew   전부 출력인데 반대로\n",
        "print(s[::2]) # 출력 : wnvCOlct           전부 출력인데 2개씩 띄어서"
      ],
      "metadata": {
        "colab": {
          "base_uri": "https://localhost:8080/"
        },
        "id": "aWdHBFAf4YJG",
        "outputId": "da2df91f-da24-4b9a-91df-8448d5dff5f8"
      },
      "execution_count": null,
      "outputs": [
        {
          "output_type": "stream",
          "name": "stdout",
          "text": [
            "CEO licat\n",
            "weniv CEO licat\n",
            "tacil OEC vinew\n",
            "wnvCOlct\n"
          ]
        }
      ]
    },
    {
      "cell_type": "code",
      "source": [
        "# 1.4.1 슬라이스 실습\n",
        "s = 'weniv_licat.png'\n",
        "# 출력 weniv_licat 만 나오게\n",
        "\n",
        "print(s[:11])\n",
        "print(s[:-4])"
      ],
      "metadata": {
        "colab": {
          "base_uri": "https://localhost:8080/"
        },
        "id": "IVW7e8G749HA",
        "outputId": "04f21822-04e7-4831-add7-ffe84787b5bf"
      },
      "execution_count": null,
      "outputs": [
        {
          "output_type": "stream",
          "name": "stdout",
          "text": [
            "weniv_licat\n",
            "weniv_licat\n"
          ]
        }
      ]
    },
    {
      "cell_type": "code",
      "source": [
        "# 1.4.2 슬라이스 실습\n",
        "s = 'weniv_licat.png'\n",
        "#1. 출력 weniv_licat.png 만 나오게\n",
        "#2. 출력 png만 나오게\n",
        "\n",
        "print(s[:11])\n",
        "\n",
        "print(s[12:])\n",
        "print(s[-3:])"
      ],
      "metadata": {
        "colab": {
          "base_uri": "https://localhost:8080/"
        },
        "id": "2Gs6dxC96cS2",
        "outputId": "f5b2ee16-cb85-476b-9e6b-d1339f2c3f94"
      },
      "execution_count": null,
      "outputs": [
        {
          "output_type": "stream",
          "name": "stdout",
          "text": [
            "weniv_licat\n",
            "png\n",
            "png\n"
          ]
        }
      ]
    },
    {
      "cell_type": "code",
      "source": [
        "# 1.5 슬라이스 복사 - 다만 ID가 달라짐\n",
        "s =[1, 2, 3]\n",
        "ss =s[:]\n",
        "\n",
        "print(s, ss)\n",
        "print(id(s), id(ss))"
      ],
      "metadata": {
        "colab": {
          "base_uri": "https://localhost:8080/"
        },
        "id": "eFhBktTS7snE",
        "outputId": "632faa2e-b894-491f-dc29-3bf47e370656"
      },
      "execution_count": null,
      "outputs": [
        {
          "output_type": "stream",
          "name": "stdout",
          "text": [
            "[1, 2, 3] [1, 2, 3]\n",
            "137673146026496 137673144804160\n"
          ]
        }
      ]
    },
    {
      "cell_type": "code",
      "source": [
        "s.lower() # 전체를 소문자로 바꿔주는 method\n",
        "# 1.6 메서드 1: 대문자(upper) 소문자()\n",
        "\n",
        "s = 'wenive CEO licat'\n",
        "s.lower() # 전체를 소문자로 바꿔주는 method"
      ],
      "metadata": {
        "colab": {
          "base_uri": "https://localhost:8080/",
          "height": 36
        },
        "id": "SsNrJpvw8GWm",
        "outputId": "026c1570-779f-401a-c141-6f5306c10238"
      },
      "execution_count": null,
      "outputs": [
        {
          "output_type": "execute_result",
          "data": {
            "text/plain": [
              "'wenive ceo licat'"
            ],
            "application/vnd.google.colaboratory.intrinsic+json": {
              "type": "string"
            }
          },
          "metadata": {},
          "execution_count": 38
        }
      ]
    },
    {
      "cell_type": "code",
      "source": [
        "s.upper() # 전체를 대문자로 바꿔주는 method"
      ],
      "metadata": {
        "colab": {
          "base_uri": "https://localhost:8080/",
          "height": 36
        },
        "id": "pUTf30vj8mOY",
        "outputId": "1d7dc920-2024-41f9-9dc3-1fb4f0cb59a2"
      },
      "execution_count": null,
      "outputs": [
        {
          "output_type": "execute_result",
          "data": {
            "text/plain": [
              "'WENIVE CEO LICAT'"
            ],
            "application/vnd.google.colaboratory.intrinsic+json": {
              "type": "string"
            }
          },
          "metadata": {},
          "execution_count": 37
        }
      ]
    },
    {
      "cell_type": "code",
      "source": [
        "# 1.7 메서드 2: find index\n",
        "\n",
        "s = 'weniv CEO licat'\n",
        "s.find('CEO') #문자열을 찾아주는 method    6번쨰 부터 시작하는글 알려준다."
      ],
      "metadata": {
        "colab": {
          "base_uri": "https://localhost:8080/"
        },
        "id": "45YoKIU58riU",
        "outputId": "86e31a88-f6ca-49dd-c812-e34ca77ff9eb"
      },
      "execution_count": null,
      "outputs": [
        {
          "output_type": "execute_result",
          "data": {
            "text/plain": [
              "6"
            ]
          },
          "metadata": {},
          "execution_count": 39
        }
      ]
    },
    {
      "cell_type": "code",
      "source": [
        "s.index('CEO') # 문자열을 찾아주는 method"
      ],
      "metadata": {
        "colab": {
          "base_uri": "https://localhost:8080/"
        },
        "id": "ZHVqKQUm893o",
        "outputId": "cf377111-6430-4aa0-edc1-511bbb14edd6"
      },
      "execution_count": null,
      "outputs": [
        {
          "output_type": "execute_result",
          "data": {
            "text/plain": [
              "6"
            ]
          },
          "metadata": {},
          "execution_count": 40
        }
      ]
    },
    {
      "cell_type": "code",
      "source": [
        "s.find('CTO')  # find 없으면 -1 로 알려줌"
      ],
      "metadata": {
        "colab": {
          "base_uri": "https://localhost:8080/"
        },
        "id": "biTuNb1i9a2c",
        "outputId": "f1813383-bf6a-4d9b-d142-edaaf9eb3cc7"
      },
      "execution_count": null,
      "outputs": [
        {
          "output_type": "execute_result",
          "data": {
            "text/plain": [
              "-1"
            ]
          },
          "metadata": {},
          "execution_count": 42
        }
      ]
    },
    {
      "cell_type": "code",
      "source": [
        "s.index('CTO')  #index 단어가 없기에 오류로 알려줌"
      ],
      "metadata": {
        "colab": {
          "base_uri": "https://localhost:8080/",
          "height": 186
        },
        "id": "84MAsCzF8-px",
        "outputId": "343323bd-4b2c-4492-9658-edd4898471ea"
      },
      "execution_count": null,
      "outputs": [
        {
          "output_type": "error",
          "ename": "ValueError",
          "evalue": "ignored",
          "traceback": [
            "\u001b[0;31m---------------------------------------------------------------------------\u001b[0m",
            "\u001b[0;31mValueError\u001b[0m                                Traceback (most recent call last)",
            "\u001b[0;32m<ipython-input-41-757e572f43a6>\u001b[0m in \u001b[0;36m<cell line: 1>\u001b[0;34m()\u001b[0m\n\u001b[0;32m----> 1\u001b[0;31m \u001b[0ms\u001b[0m\u001b[0;34m.\u001b[0m\u001b[0mindex\u001b[0m\u001b[0;34m(\u001b[0m\u001b[0;34m'CTO'\u001b[0m\u001b[0;34m)\u001b[0m\u001b[0;34m\u001b[0m\u001b[0;34m\u001b[0m\u001b[0m\n\u001b[0m",
            "\u001b[0;31mValueError\u001b[0m: substring not found"
          ]
        }
      ]
    },
    {
      "cell_type": "code",
      "source": [
        "# 1.8 메서드 3 : count()\n",
        "\n",
        "s = 'weniv CEO licat'\n",
        "s.count('i') #문자열이나 숫자를 셀 때 사용\n",
        "\n",
        "# 공백\n",
        "# 대문자/소문자 구분\n",
        "# 일치만하면 다 찾아줌"
      ],
      "metadata": {
        "colab": {
          "base_uri": "https://localhost:8080/"
        },
        "id": "trXk2wfh9TEW",
        "outputId": "1b9a32e4-e4f5-429c-ef44-c3ad892746ef"
      },
      "execution_count": null,
      "outputs": [
        {
          "output_type": "execute_result",
          "data": {
            "text/plain": [
              "2"
            ]
          },
          "metadata": {},
          "execution_count": 44
        }
      ]
    },
    {
      "cell_type": "code",
      "source": [
        "# 1.9 메서드 4: strip / excel - trim()\n",
        "# strip 함수를 너무 신뢰하지 말자! - 가끔 공백이 남는 경우가 있다.\n",
        "s = '    weniv CEO licat     '\n",
        "s.strip() #양쪽 공백을 제거하는 method"
      ],
      "metadata": {
        "colab": {
          "base_uri": "https://localhost:8080/",
          "height": 36
        },
        "id": "1wLBDQEw9pCT",
        "outputId": "cea11598-2353-4a6e-a73d-5006c0f66fbd"
      },
      "execution_count": null,
      "outputs": [
        {
          "output_type": "execute_result",
          "data": {
            "text/plain": [
              "'weniv CEO licat'"
            ],
            "application/vnd.google.colaboratory.intrinsic+json": {
              "type": "string"
            }
          },
          "metadata": {},
          "execution_count": 45
        }
      ]
    },
    {
      "cell_type": "code",
      "source": [
        "'    ,!!  hello world   '.strip(' ,!')\n",
        "#양쪽의 공백과 ',!'을 제거해주는 method"
      ],
      "metadata": {
        "colab": {
          "base_uri": "https://localhost:8080/",
          "height": 36
        },
        "id": "Cb7snoeP-Dpy",
        "outputId": "06348e6e-092e-4b38-bee5-bbea74d7ada3"
      },
      "execution_count": null,
      "outputs": [
        {
          "output_type": "execute_result",
          "data": {
            "text/plain": [
              "'hello world'"
            ],
            "application/vnd.google.colaboratory.intrinsic+json": {
              "type": "string"
            }
          },
          "metadata": {},
          "execution_count": 46
        }
      ]
    },
    {
      "cell_type": "code",
      "source": [
        "# 1.10 메서드 5 : replace()\n",
        "\n",
        "s = 'weniv CEO licat'\n",
        "s.replace('CEO', 'CTO') #원하는 문자열을 다른 문자열로 대체할 때 사용하는 method\n",
        "\n",
        "# replace(바꿀려는단어,바꾸고자하는단어)\n",
        "# 대소문자 구분 정확히 작성하자"
      ],
      "metadata": {
        "colab": {
          "base_uri": "https://localhost:8080/",
          "height": 36
        },
        "id": "i4N_xWdD-aUM",
        "outputId": "bb04affc-580c-4f69-99ff-d29a870c7ea8"
      },
      "execution_count": null,
      "outputs": [
        {
          "output_type": "execute_result",
          "data": {
            "text/plain": [
              "'weniv CTO licat'"
            ],
            "application/vnd.google.colaboratory.intrinsic+json": {
              "type": "string"
            }
          },
          "metadata": {},
          "execution_count": 47
        }
      ]
    },
    {
      "cell_type": "code",
      "source": [
        "s = 'weniv CEO licat'\n",
        "s.replace('i', 'I')"
      ],
      "metadata": {
        "colab": {
          "base_uri": "https://localhost:8080/",
          "height": 36
        },
        "id": "ii_y62GY_Cjw",
        "outputId": "c9b8269f-24b6-4a65-fe22-f6cbfb17d1c2"
      },
      "execution_count": null,
      "outputs": [
        {
          "output_type": "execute_result",
          "data": {
            "text/plain": [
              "'wenIv CEO lIcat'"
            ],
            "application/vnd.google.colaboratory.intrinsic+json": {
              "type": "string"
            }
          },
          "metadata": {},
          "execution_count": 48
        }
      ]
    },
    {
      "cell_type": "code",
      "source": [
        "# 수정된 문자열은 원본에는 반영되지 않음\n",
        "\n",
        "s = 'weniv CEO licat'\n",
        "ss = s.replace('i', 'I')\n",
        "ss, s # 출력: ('weniv CEO licat', 'wenIv CEO lIcat')"
      ],
      "metadata": {
        "colab": {
          "base_uri": "https://localhost:8080/"
        },
        "id": "aOnPlNbr_meA",
        "outputId": "484e5868-0412-496e-bacc-a18f180d06e9"
      },
      "execution_count": null,
      "outputs": [
        {
          "output_type": "execute_result",
          "data": {
            "text/plain": [
              "('wenIv CEO lIcat', 'weniv CEO licat')"
            ]
          },
          "metadata": {},
          "execution_count": 49
        }
      ]
    },
    {
      "cell_type": "code",
      "source": [
        "# 1.11 메서드 6 : split()\n",
        "# split은 리스트 형태로 결과가 나오게 된다.\n",
        "\n",
        "s = 'weniv CEO licat'\n",
        "s.split() #공백을 기준으로 문자열 나누기(리스트로 반환)"
      ],
      "metadata": {
        "colab": {
          "base_uri": "https://localhost:8080/"
        },
        "id": "xGIJEwP1_t7M",
        "outputId": "82e4e0aa-4f40-43e3-b267-6cb6f453714d"
      },
      "execution_count": null,
      "outputs": [
        {
          "output_type": "execute_result",
          "data": {
            "text/plain": [
              "['weniv', 'CEO', 'licat']"
            ]
          },
          "metadata": {},
          "execution_count": 50
        }
      ]
    },
    {
      "cell_type": "code",
      "source": [
        "s = 'weniv-CEO-licat'\n",
        "s.split('-') #-을 기준으로 문자열 나누기"
      ],
      "metadata": {
        "colab": {
          "base_uri": "https://localhost:8080/"
        },
        "id": "VfKaX-VB_4y3",
        "outputId": "2954d95e-1bc8-4b76-d7c5-1f4ca5c671d3"
      },
      "execution_count": null,
      "outputs": [
        {
          "output_type": "execute_result",
          "data": {
            "text/plain": [
              "['weniv', 'CEO', 'licat']"
            ]
          },
          "metadata": {},
          "execution_count": 51
        }
      ]
    },
    {
      "cell_type": "code",
      "source": [
        "# 1.12 메서드 7 : join()\n",
        "\n",
        "s = ['weniv', 'CEO', 'licat']\n",
        "'-'.join(s) #리스트를 하나의 문자열로 합치기"
      ],
      "metadata": {
        "colab": {
          "base_uri": "https://localhost:8080/",
          "height": 36
        },
        "id": "lxvJVpNKAMzB",
        "outputId": "1265edb8-423e-478b-cca6-9dd4097efe4c"
      },
      "execution_count": null,
      "outputs": [
        {
          "output_type": "execute_result",
          "data": {
            "text/plain": [
              "'weniv-CEO-licat'"
            ],
            "application/vnd.google.colaboratory.intrinsic+json": {
              "type": "string"
            }
          },
          "metadata": {},
          "execution_count": 57
        }
      ]
    },
    {
      "cell_type": "code",
      "source": [
        "s = '010 1000 1000'\n",
        "'-'.join(s.split()) #공백을 기준으로 문자열을 나눈 후 '-'로 합치기"
      ],
      "metadata": {
        "colab": {
          "base_uri": "https://localhost:8080/",
          "height": 36
        },
        "id": "o-lPqHsLEu-W",
        "outputId": "15d58dd0-74dc-42f0-9bb4-39f41b9813bc"
      },
      "execution_count": null,
      "outputs": [
        {
          "output_type": "execute_result",
          "data": {
            "text/plain": [
              "'010-1000-1000'"
            ],
            "application/vnd.google.colaboratory.intrinsic+json": {
              "type": "string"
            }
          },
          "metadata": {},
          "execution_count": 58
        }
      ]
    },
    {
      "cell_type": "code",
      "source": [
        "s = '010 1000 1000'\n",
        "'-'.join(s) # split 안해주면 다 분리로 본다."
      ],
      "metadata": {
        "colab": {
          "base_uri": "https://localhost:8080/",
          "height": 36
        },
        "id": "kVY-7tpcE4RC",
        "outputId": "d9190d94-ae0f-41e8-f164-05b3bee65aaf"
      },
      "execution_count": null,
      "outputs": [
        {
          "output_type": "execute_result",
          "data": {
            "text/plain": [
              "'0-1-0- -1-0-0-0- -1-0-0-0'"
            ],
            "application/vnd.google.colaboratory.intrinsic+json": {
              "type": "string"
            }
          },
          "metadata": {},
          "execution_count": 63
        }
      ]
    },
    {
      "cell_type": "code",
      "source": [
        "# 1.13 메서드 8 : format()\n",
        "\n",
        "name = 'licat'\n",
        "age = 29\n",
        "\n",
        "print('제 이름은 {}이고, 나이는 {}살입니다.'.format(name, age))"
      ],
      "metadata": {
        "colab": {
          "base_uri": "https://localhost:8080/"
        },
        "id": "Kz8idEDEE83D",
        "outputId": "26b0f40e-29b2-4bf7-e438-a5fc27e5774c"
      },
      "execution_count": null,
      "outputs": [
        {
          "output_type": "stream",
          "name": "stdout",
          "text": [
            "제 이름은 licat이고, 나이는 29살입니다.\n"
          ]
        }
      ]
    },
    {
      "cell_type": "code",
      "source": [
        "name = 'weniv'\n",
        "age = 29\n",
        "\n",
        "print('제 이름은 {1}이고, 나이는 {0}살입니다.'.format(age, name))\n",
        "print('제 이름은 {0}이고, 나이는 {0}살입니다.'.format(age, name))"
      ],
      "metadata": {
        "colab": {
          "base_uri": "https://localhost:8080/"
        },
        "id": "DK9N4ytWFxM_",
        "outputId": "83203024-cff2-4579-df13-fcdcffb74d14"
      },
      "execution_count": null,
      "outputs": [
        {
          "output_type": "stream",
          "name": "stdout",
          "text": [
            "제 이름은 weniv이고, 나이는 29살입니다.\n",
            "제 이름은 29이고, 나이는 29살입니다.\n"
          ]
        }
      ]
    },
    {
      "cell_type": "code",
      "source": [
        "# 요즘은 이렇게 훨씬 많이 쓴다.\n",
        "\n",
        "print(f'제 이름은 {name}이고, 나이는 {age}입니다.')"
      ],
      "metadata": {
        "colab": {
          "base_uri": "https://localhost:8080/"
        },
        "id": "gQcZN6PUHv3C",
        "outputId": "b53ffd62-02cf-4027-9ddf-948f6053d8fc"
      },
      "execution_count": null,
      "outputs": [
        {
          "output_type": "stream",
          "name": "stdout",
          "text": [
            "제 이름은 weniv이고, 나이는 29입니다.\n"
          ]
        }
      ]
    },
    {
      "cell_type": "code",
      "source": [
        "# 1.14 메서드 9 : isdigit() / isalpha()\n",
        "# 문자열에 숫자만 있으면 True\n",
        "\n",
        "s = '123'\n",
        "s.isdigit()"
      ],
      "metadata": {
        "colab": {
          "base_uri": "https://localhost:8080/"
        },
        "id": "2UxqBJeVF4gO",
        "outputId": "f8eef13d-72c4-4e2d-f648-811dc3b9df4c"
      },
      "execution_count": null,
      "outputs": [
        {
          "output_type": "execute_result",
          "data": {
            "text/plain": [
              "True"
            ]
          },
          "metadata": {},
          "execution_count": 70
        }
      ]
    },
    {
      "cell_type": "code",
      "source": [
        "# isalpha 문자만 있으면 True\n",
        "\n",
        "print('abcd1234'.isalpha()) # 출력: False\n",
        "print('안녕하세요'.isalpha()) # 출력: True\n",
        "print('こんにちは'.isalpha()) # 출력: True\n",
        "print('你好'.isalpha()) # 출력: True"
      ],
      "metadata": {
        "colab": {
          "base_uri": "https://localhost:8080/"
        },
        "id": "O6BHK73aGWnz",
        "outputId": "008b12ca-7a02-4a97-a660-d13e8f84f39f"
      },
      "execution_count": null,
      "outputs": [
        {
          "output_type": "stream",
          "name": "stdout",
          "text": [
            "False\n",
            "True\n",
            "True\n",
            "True\n"
          ]
        }
      ]
    },
    {
      "cell_type": "code",
      "source": [
        "# 1.15 메서드 10 : rjust() / ljust() / center()\n",
        "\n",
        "s = 'licat'\n",
        "s.rjust(10, '-') #문자열을 지정한 길이로 맞추고, 왼쪽을 '-'로 채우는 method"
      ],
      "metadata": {
        "colab": {
          "base_uri": "https://localhost:8080/",
          "height": 36
        },
        "id": "qSAyBRkYIT2U",
        "outputId": "a74e8877-1458-4306-d74f-6f001369ef0a"
      },
      "execution_count": null,
      "outputs": [
        {
          "output_type": "execute_result",
          "data": {
            "text/plain": [
              "'-----licat'"
            ],
            "application/vnd.google.colaboratory.intrinsic+json": {
              "type": "string"
            }
          },
          "metadata": {},
          "execution_count": 72
        }
      ]
    },
    {
      "cell_type": "code",
      "source": [
        "s = 'licat'\n",
        "s.ljust(10, '-') #문자열을 지정한 길이로 맞추고, 오른쪽을 '-'로 채우는 method"
      ],
      "metadata": {
        "colab": {
          "base_uri": "https://localhost:8080/",
          "height": 36
        },
        "id": "gsGduAvmI_2v",
        "outputId": "b3a74ee8-0f84-4dea-aa17-7aee740b134a"
      },
      "execution_count": null,
      "outputs": [
        {
          "output_type": "execute_result",
          "data": {
            "text/plain": [
              "'licat-----'"
            ],
            "application/vnd.google.colaboratory.intrinsic+json": {
              "type": "string"
            }
          },
          "metadata": {},
          "execution_count": 73
        }
      ]
    },
    {
      "cell_type": "code",
      "source": [
        "# 간단한 주민번호 만들어보기\n",
        "\n",
        "s = '990831-1'\n",
        "s.ljust(14, '*')"
      ],
      "metadata": {
        "colab": {
          "base_uri": "https://localhost:8080/",
          "height": 36
        },
        "id": "KHkeEpPXJ9Lh",
        "outputId": "98b65ed3-e630-452d-b7c1-b0fb9def0dee"
      },
      "execution_count": null,
      "outputs": [
        {
          "output_type": "execute_result",
          "data": {
            "text/plain": [
              "'990831-1******'"
            ],
            "application/vnd.google.colaboratory.intrinsic+json": {
              "type": "string"
            }
          },
          "metadata": {},
          "execution_count": 76
        }
      ]
    },
    {
      "cell_type": "code",
      "source": [
        "s = 'licat'\n",
        "s.center(11, '-') #문자열을 지정한 길이로 맞추고, 양쪽을 '-'로 채우는 method"
      ],
      "metadata": {
        "colab": {
          "base_uri": "https://localhost:8080/",
          "height": 36
        },
        "id": "nAmh3ynaJGFC",
        "outputId": "4e2430f7-1180-4d8d-dab2-fe153a430293"
      },
      "execution_count": null,
      "outputs": [
        {
          "output_type": "execute_result",
          "data": {
            "text/plain": [
              "'---licat---'"
            ],
            "application/vnd.google.colaboratory.intrinsic+json": {
              "type": "string"
            }
          },
          "metadata": {},
          "execution_count": 74
        }
      ]
    },
    {
      "cell_type": "code",
      "source": [
        "s = 'licat'\n",
        "s.center(3, '-') # 지정길이가 문자열보다 작으면 문자열 그대로 출력"
      ],
      "metadata": {
        "colab": {
          "base_uri": "https://localhost:8080/",
          "height": 36
        },
        "id": "Y_MHmxd7JOOg",
        "outputId": "b9e0868e-3caa-4e94-d9f2-d0185c21bff9"
      },
      "execution_count": null,
      "outputs": [
        {
          "output_type": "execute_result",
          "data": {
            "text/plain": [
              "'licat'"
            ],
            "application/vnd.google.colaboratory.intrinsic+json": {
              "type": "string"
            }
          },
          "metadata": {},
          "execution_count": 75
        }
      ]
    },
    {
      "cell_type": "code",
      "source": [
        "# 1.16 메서드 11 : zfill()\n",
        "# 파일명의 길이를 동일하게 유지하기 좋다.\n",
        "\n",
        "x = \"42\"\n",
        "result = x.zfill(5)   # 변수의 자릿수를 설정하고 앞쪽에서 부터 0을채움\n",
        "print(result)  # 00042"
      ],
      "metadata": {
        "colab": {
          "base_uri": "https://localhost:8080/"
        },
        "id": "6cUCQjzhJxtM",
        "outputId": "1e04b7c0-f906-4337-de68-9d0e598b77dc"
      },
      "execution_count": null,
      "outputs": [
        {
          "output_type": "stream",
          "name": "stdout",
          "text": [
            "00042\n"
          ]
        }
      ]
    },
    {
      "cell_type": "code",
      "source": [
        "y = \"-42\"\n",
        "result = y.zfill(5)\n",
        "print(result)  # -0042"
      ],
      "metadata": {
        "colab": {
          "base_uri": "https://localhost:8080/"
        },
        "id": "zHiuC8E1KO2A",
        "outputId": "c3900d64-d816-49cc-ea4f-f83c45548b85"
      },
      "execution_count": null,
      "outputs": [
        {
          "output_type": "stream",
          "name": "stdout",
          "text": [
            "-0042\n"
          ]
        }
      ]
    },
    {
      "cell_type": "code",
      "source": [
        "z = \"abc\"\n",
        "result = z.zfill(5)\n",
        "print(result)  # 00abc"
      ],
      "metadata": {
        "colab": {
          "base_uri": "https://localhost:8080/"
        },
        "id": "C-Hr40WqKYhU",
        "outputId": "91ae811a-882f-4fb3-ce76-a9a0341acd21"
      },
      "execution_count": null,
      "outputs": [
        {
          "output_type": "stream",
          "name": "stdout",
          "text": [
            "00abc\n"
          ]
        }
      ]
    },
    {
      "cell_type": "code",
      "source": [
        "# 동일 길이로 파일 저장하기\n",
        "\n",
        "filename = '1'.zfill(3) + \".jpg\"\n",
        "print(filename)"
      ],
      "metadata": {
        "id": "V1YqGVRTKwje",
        "colab": {
          "base_uri": "https://localhost:8080/"
        },
        "outputId": "b28b0045-dcc9-40cb-d542-c7e2765f3592"
      },
      "execution_count": null,
      "outputs": [
        {
          "output_type": "stream",
          "name": "stdout",
          "text": [
            "001.jpg\n"
          ]
        }
      ]
    },
    {
      "cell_type": "code",
      "source": [
        "년 = '23'\n",
        "월 = '9'\n",
        "일 = '8'\n",
        "오늘날짜 = 년 + 월 + 일\n",
        "print(오늘날짜)\n",
        "오늘날짜 = 년 + 월.zfill(2) + 일.zfill(2)\n",
        "print(오늘날짜)"
      ],
      "metadata": {
        "colab": {
          "base_uri": "https://localhost:8080/"
        },
        "id": "VVo-ihe4Lg8E",
        "outputId": "fa663057-09f6-41c8-fc36-e9c625a51b7c"
      },
      "execution_count": null,
      "outputs": [
        {
          "output_type": "stream",
          "name": "stdout",
          "text": [
            "2398\n",
            "230908\n"
          ]
        }
      ]
    },
    {
      "cell_type": "code",
      "source": [
        "# 1.17 메서드 12 : maketrans() / translate()\n",
        "\n",
        "# 변환 테이블 생성\n",
        "table = str.maketrans(\"abc\", \"123\") #  'a'는 '1'로, 'b'는 '2'로, 'c'는 '3'로 변환하겠다는 뜻입니다.\n",
        "\n",
        "text = \"abcde\"\n",
        "result = text.translate(table)\n",
        "print(result)  # 123de"
      ],
      "metadata": {
        "colab": {
          "base_uri": "https://localhost:8080/"
        },
        "id": "CZvrYwkoLtgE",
        "outputId": "eb7176d4-0d76-4a82-b598-fd4dbb794cf9"
      },
      "execution_count": null,
      "outputs": [
        {
          "output_type": "stream",
          "name": "stdout",
          "text": [
            "123de\n"
          ]
        }
      ]
    },
    {
      "cell_type": "code",
      "source": [
        "# 'd'와 'e' 문자 제거하기\n",
        "\n",
        "table = str.maketrans('', '', 'de')\n",
        "text = \"abcde\"\n",
        "result = text.translate(table)\n",
        "print(result)  # abc"
      ],
      "metadata": {
        "colab": {
          "base_uri": "https://localhost:8080/"
        },
        "id": "mSf6Q_pBMbsQ",
        "outputId": "448e476f-f52e-4eb2-e08d-e85842453ea6"
      },
      "execution_count": null,
      "outputs": [
        {
          "output_type": "stream",
          "name": "stdout",
          "text": [
            "abc\n"
          ]
        }
      ]
    },
    {
      "cell_type": "code",
      "source": [
        "table = str.maketrans('\\n\\t', '  ') # 똑같은 길이를 가지고 있어야 함\n",
        "'weniv \\n\\n\\n CEO \\t\\t\\t licat'.translate(table)"
      ],
      "metadata": {
        "colab": {
          "base_uri": "https://localhost:8080/",
          "height": 36
        },
        "id": "CgBHPHsBMxWj",
        "outputId": "c74bd123-0446-47f2-f068-e7463854cd1e"
      },
      "execution_count": null,
      "outputs": [
        {
          "output_type": "execute_result",
          "data": {
            "text/plain": [
              "'weniv     CEO     licat'"
            ],
            "application/vnd.google.colaboratory.intrinsic+json": {
              "type": "string"
            }
          },
          "metadata": {},
          "execution_count": 89
        }
      ]
    },
    {
      "cell_type": "code",
      "source": [
        "# 2 문자열 포매팅\n",
        "\n",
        "name = 'licat'\n",
        "age = 10\n",
        "\n",
        "print('제 이름은 %s, 제 나이는 %d입니다. ' % (name, age))\n",
        "# 출력: 제 이름은 licat, 제 나이는 10입니다."
      ],
      "metadata": {
        "colab": {
          "base_uri": "https://localhost:8080/"
        },
        "id": "VXCoZcBLNgBq",
        "outputId": "f1d64df0-e2d7-46d9-b300-303f8ca67082"
      },
      "execution_count": null,
      "outputs": [
        {
          "output_type": "stream",
          "name": "stdout",
          "text": [
            "제 이름은 licat, 제 나이는 10입니다. \n"
          ]
        }
      ]
    },
    {
      "cell_type": "markdown",
      "source": [
        "- **`%s`**: 문자열\n",
        "- **`%d`**: 정수\n",
        "- **`%f`**: 부동 소수점 숫자"
      ],
      "metadata": {
        "id": "R2i2mnkJN5Ss"
      }
    },
    {
      "cell_type": "code",
      "source": [
        "# 2.1 메서드  13 : format\n",
        "\n",
        "s = 'My name is {}'.format('licat')\n",
        "print(s) # My name is licat"
      ],
      "metadata": {
        "colab": {
          "base_uri": "https://localhost:8080/"
        },
        "id": "WdC6Y8h-OC9p",
        "outputId": "db2ac8ea-d754-4eeb-c980-830728fe89a8"
      },
      "execution_count": null,
      "outputs": [
        {
          "output_type": "stream",
          "name": "stdout",
          "text": [
            "My name is licat\n"
          ]
        }
      ]
    },
    {
      "cell_type": "code",
      "source": [
        "# 2.2 메서드 14 : f-string\n",
        "\n",
        "name = 'licat'\n",
        "s = f'My name is {name}'\n",
        "print(s) # My name is licat"
      ],
      "metadata": {
        "colab": {
          "base_uri": "https://localhost:8080/"
        },
        "id": "-2dAV9EnOLgJ",
        "outputId": "1612cfb1-a21c-4475-b15e-da2012d1ea93"
      },
      "execution_count": null,
      "outputs": [
        {
          "output_type": "stream",
          "name": "stdout",
          "text": [
            "My name is licat\n"
          ]
        }
      ]
    },
    {
      "cell_type": "code",
      "source": [
        "# 꼬이는 부분이 생길 수 있다. 동시에 많이 수정은 자제하자\n",
        "\n",
        "name = 'licat'\n",
        "age = 29\n",
        "s = f'{name[2:]}, {age+10}!'\n",
        "print(s) # licat, 39!"
      ],
      "metadata": {
        "colab": {
          "base_uri": "https://localhost:8080/"
        },
        "id": "Eu4vx8qZOY7r",
        "outputId": "d8efa0a9-62d8-4a21-aac6-6970f4e56b43"
      },
      "execution_count": null,
      "outputs": [
        {
          "output_type": "stream",
          "name": "stdout",
          "text": [
            "cat, 39!\n"
          ]
        }
      ]
    },
    {
      "cell_type": "markdown",
      "source": [
        "# 3. **주요 이스케이프 문자들**\n",
        "\n",
        "- `\\n`: 새로운 줄(줄바꿈)을 나타냅니다.\n",
        "- `\\t`: 탭 문자를 나타냅니다.\n",
        "- `\\r`: 커서를 현재 줄의 처음으로 이동합니다.\n",
        "- `\\\"`: 큰따옴표를 나타냅니다.\n",
        "- `\\'`: 작은따옴표를 나타냅니다.\n",
        "- `\\\\`: 백슬래시를 나타냅니다."
      ],
      "metadata": {
        "id": "lxyZi3D9OdNn"
      }
    },
    {
      "cell_type": "code",
      "source": [
        "print(\"Hello\\nWorld!\") # Hello와 World! 사이에 줄바꿈이 일어납니다.\n",
        "print(\"Hello\\tWorld!\") # Hello와 World! 사이에 탭 간격이 생깁니다.\n",
        "print(\"She said, \\\"Hello World!\\\"\") # 큰따옴표 내부에 문자열을 출력합니다.\n",
        "print('She said, \\'Hello World!\\'') # 작은따옴표 내부에 문자열을 출력합니다.\n",
        "print(\"Backslash: \\\\\") # 백슬래시를 출력합니다."
      ],
      "metadata": {
        "colab": {
          "base_uri": "https://localhost:8080/"
        },
        "id": "VcghHZswRodn",
        "outputId": "1e447286-2bca-4b52-c63d-80571bd5a55b"
      },
      "execution_count": null,
      "outputs": [
        {
          "output_type": "stream",
          "name": "stdout",
          "text": [
            "Hello\n",
            "World!\n",
            "Hello\tWorld!\n",
            "She said, \"Hello World!\"\n",
            "She said, 'Hello World!'\n",
            "Backslash: \\\n"
          ]
        }
      ]
    },
    {
      "cell_type": "markdown",
      "source": [
        "# 4. 논리형(bool)"
      ],
      "metadata": {
        "id": "vvjrBNOmXPdf"
      }
    },
    {
      "cell_type": "code",
      "source": [
        "x = True\n",
        "y = False\n",
        "z = 10 > 3\n",
        "print(x, y, z)"
      ],
      "metadata": {
        "colab": {
          "base_uri": "https://localhost:8080/"
        },
        "id": "syNBnq-4XRsb",
        "outputId": "0c8e0d21-c8c4-4801-fecb-86fec6850d70"
      },
      "execution_count": null,
      "outputs": [
        {
          "output_type": "stream",
          "name": "stdout",
          "text": [
            "True False True\n"
          ]
        }
      ]
    },
    {
      "cell_type": "code",
      "source": [
        "# 아래와 같이 True와 False는 각각 1과 0으로 취급됩니다.\n",
        "# 다른 숫자를 넣으면 False가 출력됩니다. ==는 값이 같은지를 체크하는 비교 연산\n",
        "print(True == 1) # 출력: True\n",
        "print(False == 0) # 출력: True"
      ],
      "metadata": {
        "colab": {
          "base_uri": "https://localhost:8080/"
        },
        "id": "EhCkdki2XTYn",
        "outputId": "04ee192d-b394-4c71-e34c-f1b31975eba9"
      },
      "execution_count": null,
      "outputs": [
        {
          "output_type": "stream",
          "name": "stdout",
          "text": [
            "True\n",
            "True\n"
          ]
        }
      ]
    },
    {
      "cell_type": "code",
      "source": [
        "# bool 타입은 연산이 가능하다.\n",
        "\n",
        "print(True + True) # 출력: 2\n",
        "print(False - True) # 출력: -1\n",
        "print(True / True) # 출력: 1.0\n",
        "print(True * False) # 출력: 0\n"
      ],
      "metadata": {
        "colab": {
          "base_uri": "https://localhost:8080/"
        },
        "id": "dHEnTr3kXXEy",
        "outputId": "0356c759-369e-491a-a33e-71c679b0694c"
      },
      "execution_count": null,
      "outputs": [
        {
          "output_type": "stream",
          "name": "stdout",
          "text": [
            "2\n",
            "-1\n",
            "1.0\n",
            "0\n"
          ]
        }
      ]
    },
    {
      "cell_type": "code",
      "source": [
        "print(True / False) # error   0으로 1 못 나눈다."
      ],
      "metadata": {
        "id": "_crJRfjtXny6"
      },
      "execution_count": null,
      "outputs": []
    },
    {
      "cell_type": "markdown",
      "source": [
        "# 5. None 자료형"
      ],
      "metadata": {
        "id": "iWP3kwXYYxLD"
      }
    },
    {
      "cell_type": "code",
      "source": [
        "# print 챕터에서 언급된 것 처럼\n",
        "# None은 print가 아닌 마지막 줄 출력인 경우 출력이 되지 않습니다.\n",
        "양말상자 = None"
      ],
      "metadata": {
        "id": "QtT4c87ZY1-l"
      },
      "execution_count": null,
      "outputs": []
    },
    {
      "cell_type": "code",
      "source": [
        "dir(None)  # 매직메서드, 메서드확인"
      ],
      "metadata": {
        "colab": {
          "base_uri": "https://localhost:8080/"
        },
        "id": "_LmoP2AZY-TR",
        "outputId": "97ab4819-ee8d-4bed-8ae2-5b813dafb434"
      },
      "execution_count": null,
      "outputs": [
        {
          "output_type": "execute_result",
          "data": {
            "text/plain": [
              "['__bool__',\n",
              " '__class__',\n",
              " '__delattr__',\n",
              " '__dir__',\n",
              " '__doc__',\n",
              " '__eq__',\n",
              " '__format__',\n",
              " '__ge__',\n",
              " '__getattribute__',\n",
              " '__gt__',\n",
              " '__hash__',\n",
              " '__init__',\n",
              " '__init_subclass__',\n",
              " '__le__',\n",
              " '__lt__',\n",
              " '__ne__',\n",
              " '__new__',\n",
              " '__reduce__',\n",
              " '__reduce_ex__',\n",
              " '__repr__',\n",
              " '__setattr__',\n",
              " '__sizeof__',\n",
              " '__str__',\n",
              " '__subclasshook__']"
            ]
          },
          "metadata": {},
          "execution_count": 102
        }
      ]
    },
    {
      "cell_type": "code",
      "source": [
        "# None의 값은 항상 유일\n",
        "\n",
        "x = None\n",
        "y = None\n",
        "print(id(x), id(y))"
      ],
      "metadata": {
        "colab": {
          "base_uri": "https://localhost:8080/"
        },
        "id": "ubvbUK-RZCTe",
        "outputId": "94a1985f-8191-4059-de03-955af64deedf"
      },
      "execution_count": null,
      "outputs": [
        {
          "output_type": "stream",
          "name": "stdout",
          "text": [
            "100157443888096 100157443888096\n"
          ]
        }
      ]
    },
    {
      "cell_type": "code",
      "source": [
        "x = None\n",
        "\n",
        "print(x == None)    # True, 하지만 이 방식은 권장되지 않습니다.\n",
        "print(x is None)    # True, 이 방식을 사용하여 None을 확인하는 것이 좋습니다."
      ],
      "metadata": {
        "colab": {
          "base_uri": "https://localhost:8080/"
        },
        "id": "7ddJaP0WZPcp",
        "outputId": "1d36709a-9ca5-4994-b9a4-36079ab7d5af"
      },
      "execution_count": null,
      "outputs": [
        {
          "output_type": "stream",
          "name": "stdout",
          "text": [
            "True\n",
            "True\n"
          ]
        }
      ]
    },
    {
      "cell_type": "code",
      "source": [
        "# 에러가 날 수밖에 없다. split 에 의해 분리된 것이 전체가 문자열이 아닌 나누어진 3개이기 떄문\n",
        "\n",
        "'010-1000-2000'.split('-').replace('0', 'x')"
      ],
      "metadata": {
        "colab": {
          "base_uri": "https://localhost:8080/",
          "height": 186
        },
        "id": "pMBP3Qm_a2GV",
        "outputId": "8dbfa1fc-806a-40f6-d0e8-b3231d45360a"
      },
      "execution_count": null,
      "outputs": [
        {
          "output_type": "error",
          "ename": "AttributeError",
          "evalue": "ignored",
          "traceback": [
            "\u001b[0;31m---------------------------------------------------------------------------\u001b[0m",
            "\u001b[0;31mAttributeError\u001b[0m                            Traceback (most recent call last)",
            "\u001b[0;32m<ipython-input-105-81c44aeda323>\u001b[0m in \u001b[0;36m<cell line: 1>\u001b[0;34m()\u001b[0m\n\u001b[0;32m----> 1\u001b[0;31m \u001b[0;34m'010-1000-2000'\u001b[0m\u001b[0;34m.\u001b[0m\u001b[0msplit\u001b[0m\u001b[0;34m(\u001b[0m\u001b[0;34m'-'\u001b[0m\u001b[0;34m)\u001b[0m\u001b[0;34m.\u001b[0m\u001b[0mreplace\u001b[0m\u001b[0;34m(\u001b[0m\u001b[0;34m'0'\u001b[0m\u001b[0;34m,\u001b[0m \u001b[0;34m'x'\u001b[0m\u001b[0;34m)\u001b[0m\u001b[0;34m\u001b[0m\u001b[0;34m\u001b[0m\u001b[0m\n\u001b[0m",
            "\u001b[0;31mAttributeError\u001b[0m: 'list' object has no attribute 'replace'"
          ]
        }
      ]
    },
    {
      "cell_type": "code",
      "source": [
        "'010-1000-2000'.split('-')"
      ],
      "metadata": {
        "colab": {
          "base_uri": "https://localhost:8080/"
        },
        "id": "yAxTlEpwa-2c",
        "outputId": "0a87c477-155e-4767-bcd5-b99380a84c8b"
      },
      "execution_count": null,
      "outputs": [
        {
          "output_type": "execute_result",
          "data": {
            "text/plain": [
              "['010', '1000', '2000']"
            ]
          },
          "metadata": {},
          "execution_count": 106
        }
      ]
    },
    {
      "cell_type": "markdown",
      "source": [
        "# 6. 형 변환"
      ],
      "metadata": {
        "id": "-rckm7TDuzxx"
      }
    },
    {
      "cell_type": "code",
      "source": [
        "# 1. 형변환 기본 예제\n",
        "\n",
        "# 잘못된 수행\n",
        "월급 = input(\"월급을 입력하세요:\")\n",
        "연봉 = 월급 * 12\n",
        "print(연봉)"
      ],
      "metadata": {
        "colab": {
          "base_uri": "https://localhost:8080/"
        },
        "id": "PSvO1To9u1aQ",
        "outputId": "e3272594-187e-4bca-d1df-dac117830d37"
      },
      "execution_count": null,
      "outputs": [
        {
          "output_type": "stream",
          "name": "stdout",
          "text": [
            "월급을 입력하세요:100000000\n",
            "100000000100000000100000000100000000100000000100000000100000000100000000100000000100000000100000000100000000\n"
          ]
        }
      ]
    },
    {
      "cell_type": "code",
      "source": [
        "# 제대로 수행\n",
        "월급 = input(\"월급을 입력하세요:\")  # int 로 감싸거나 밑에 월급에서 int 로 타입 바꾸어준다.\n",
        "연봉 = int(월급) * 12\n",
        "print(연봉)"
      ],
      "metadata": {
        "colab": {
          "base_uri": "https://localhost:8080/"
        },
        "id": "KSZLH0_Fu324",
        "outputId": "c091964c-2455-40bb-eddc-29c53ca099a4"
      },
      "execution_count": null,
      "outputs": [
        {
          "output_type": "stream",
          "name": "stdout",
          "text": [
            "월급을 입력하세요:10000000\n",
            "120000000\n"
          ]
        }
      ]
    },
    {
      "cell_type": "markdown",
      "source": [
        "# 6.1 형변환 정리\n",
        "\n",
        "주요한 형변환 메서드는 아래와 같습니다.\n",
        "\n",
        "| Built-in Function | 기능 |\n",
        "| --- | --- |\n",
        "| int() | 정수로 변환 |\n",
        "| str() | 문자열로 변환 |\n",
        "| float() | 실수로 변환 |\n",
        "| list() | 리스트로 변환 |\n",
        "| tuple() | 튜플로 변환 |\n",
        "| dict() | 딕셔너리로 변환 |\n",
        "| set() | 셋으로 변환 |"
      ],
      "metadata": {
        "id": "fo_RaEX8vH-s"
      }
    },
    {
      "cell_type": "code",
      "source": [
        "# 6.2 str → int로 변환\n",
        "num = '123'\n",
        "print(type(num))\n",
        "\n",
        "num = int(num)\n",
        "print(type(num))\n"
      ],
      "metadata": {
        "colab": {
          "base_uri": "https://localhost:8080/"
        },
        "id": "DIZgcpHHv469",
        "outputId": "b958b980-fb0a-4a2a-ac5c-331ba0f04445"
      },
      "execution_count": null,
      "outputs": [
        {
          "output_type": "stream",
          "name": "stdout",
          "text": [
            "<class 'str'>\n",
            "<class 'int'>\n"
          ]
        }
      ]
    },
    {
      "cell_type": "code",
      "source": [
        "# 문자열을 숫자로 바꾸는건 불가능\n",
        "s = 'hello'\n",
        "print(type(s))\n",
        "\n",
        "s = int(s) # error\n",
        "print(type(s))"
      ],
      "metadata": {
        "colab": {
          "base_uri": "https://localhost:8080/",
          "height": 261
        },
        "id": "QJ3E5HfKv_u-",
        "outputId": "3fd3277c-28e6-4ae6-ef72-c852d5df995a"
      },
      "execution_count": null,
      "outputs": [
        {
          "output_type": "stream",
          "name": "stdout",
          "text": [
            "<class 'str'>\n"
          ]
        },
        {
          "output_type": "error",
          "ename": "ValueError",
          "evalue": "ignored",
          "traceback": [
            "\u001b[0;31m---------------------------------------------------------------------------\u001b[0m",
            "\u001b[0;31mValueError\u001b[0m                                Traceback (most recent call last)",
            "\u001b[0;32m<ipython-input-111-b6bc7cca2523>\u001b[0m in \u001b[0;36m<cell line: 4>\u001b[0;34m()\u001b[0m\n\u001b[1;32m      2\u001b[0m \u001b[0mprint\u001b[0m\u001b[0;34m(\u001b[0m\u001b[0mtype\u001b[0m\u001b[0;34m(\u001b[0m\u001b[0ms\u001b[0m\u001b[0;34m)\u001b[0m\u001b[0;34m)\u001b[0m\u001b[0;34m\u001b[0m\u001b[0;34m\u001b[0m\u001b[0m\n\u001b[1;32m      3\u001b[0m \u001b[0;34m\u001b[0m\u001b[0m\n\u001b[0;32m----> 4\u001b[0;31m \u001b[0ms\u001b[0m \u001b[0;34m=\u001b[0m \u001b[0mint\u001b[0m\u001b[0;34m(\u001b[0m\u001b[0ms\u001b[0m\u001b[0;34m)\u001b[0m \u001b[0;31m# error\u001b[0m\u001b[0;34m\u001b[0m\u001b[0;34m\u001b[0m\u001b[0m\n\u001b[0m\u001b[1;32m      5\u001b[0m \u001b[0mprint\u001b[0m\u001b[0;34m(\u001b[0m\u001b[0mtype\u001b[0m\u001b[0;34m(\u001b[0m\u001b[0ms\u001b[0m\u001b[0;34m)\u001b[0m\u001b[0;34m)\u001b[0m\u001b[0;34m\u001b[0m\u001b[0;34m\u001b[0m\u001b[0m\n",
            "\u001b[0;31mValueError\u001b[0m: invalid literal for int() with base 10: 'hello'"
          ]
        }
      ]
    },
    {
      "cell_type": "code",
      "source": [
        "# 6.3 float → int로 변환\n",
        "f = 3.14159\n",
        "number = int(f)\n",
        "print(number)  # 출력: 3  소수점 아래의 값이 버려집니다."
      ],
      "metadata": {
        "colab": {
          "base_uri": "https://localhost:8080/"
        },
        "id": "wjion4nJwCDf",
        "outputId": "2ea5213e-7ca6-40eb-eb07-f49f74fc904c"
      },
      "execution_count": null,
      "outputs": [
        {
          "output_type": "stream",
          "name": "stdout",
          "text": [
            "3\n"
          ]
        }
      ]
    },
    {
      "cell_type": "code",
      "source": [
        "# 6.4 bool → int로 형변환\n",
        "true_int = int(True)\n",
        "false_int = int(False)\n",
        "\n",
        "print(true_int)  # 출력: 1\n",
        "print(false_int)  # 출력: 0"
      ],
      "metadata": {
        "colab": {
          "base_uri": "https://localhost:8080/"
        },
        "id": "A1wUHvojwLhN",
        "outputId": "d0b810f5-1392-4c86-9747-80996712b328"
      },
      "execution_count": null,
      "outputs": [
        {
          "output_type": "stream",
          "name": "stdout",
          "text": [
            "1\n",
            "0\n"
          ]
        }
      ]
    },
    {
      "cell_type": "code",
      "source": [
        "# 6.5 None은 int형으로 형변환 하면 0이라고\n",
        "# 오해하는 분들이 많으신데 None은 int형으로 변환이 가능하지 않습니다.\n",
        "print(int(None))"
      ],
      "metadata": {
        "id": "Cl-pa3clwo3h"
      },
      "execution_count": null,
      "outputs": []
    },
    {
      "cell_type": "markdown",
      "source": [
        "# 7. string으로 형변환"
      ],
      "metadata": {
        "id": "wjsYQ0eAwcJw"
      }
    },
    {
      "cell_type": "code",
      "source": [
        " # int와 float → str으로 변환\n",
        "\n",
        "n = 123\n",
        "print(type(n))\n",
        "print(n)\n",
        "\n",
        "m = 123.4\n",
        "print(type(n))\n",
        "print(m)\n",
        "\n",
        "n = str(n)\n",
        "print(type(n))\n",
        "print(n)\n",
        "\n",
        "m = str(m)\n",
        "print(type(m))\n",
        "print(m)\n",
        "\n",
        "#  float형은 str으로 변환했다가\n",
        "# int형으로 변환했을 경우 error가 발생되게 됩니다. 닷(.)을 자동으로 인식해주지 않습니다."
      ],
      "metadata": {
        "colab": {
          "base_uri": "https://localhost:8080/"
        },
        "id": "BR8IbWa3w5vP",
        "outputId": "fd14f3f9-7bed-4184-9118-b84787639abd"
      },
      "execution_count": null,
      "outputs": [
        {
          "output_type": "stream",
          "name": "stdout",
          "text": [
            "<class 'int'>\n",
            "123\n",
            "<class 'int'>\n",
            "123.4\n",
            "<class 'str'>\n",
            "123\n",
            "<class 'str'>\n",
            "123.4\n"
          ]
        }
      ]
    },
    {
      "cell_type": "markdown",
      "source": [
        "# 8. bool형으로 형변환"
      ],
      "metadata": {
        "id": "lsn8LMVkw-X7"
      }
    },
    {
      "cell_type": "code",
      "source": [
        "# 파이썬에서는 빈 문자열, 빈 리스트, 0, None 등이 False로 평가\n",
        "\n",
        "print(\"bool('test'):\", bool('test'))\n",
        "print(\"bool(' '):\", bool(' '))\n",
        "print(\"bool(''):\", bool(''))\n",
        "print(\"bool(100):\", bool(100))\n",
        "print(\"bool(1):\", bool(1))\n",
        "print(\"bool(0):\", bool(0))\n",
        "print(\"bool(-1):\", bool(-1))\n",
        "print(\"bool(None):\", bool(None))\n",
        "print(\"bool([]):\", bool([]))\n",
        "print(\"bool(tuple()):\", bool(tuple()))\n",
        "print(\"bool({}):\", bool({}))\n",
        "print(\"bool(set()):\", bool(set()))\n",
        "\n",
        "# 빈 자료형에 경우에는 False로 평가된다는 점을 기억해주세요.\n",
        "# 앞으로도 많이 사용합니다. 2번째 예시인 ' '는 안에 공백이 존재하기 때문에 빈 자료형이 아닙니다."
      ],
      "metadata": {
        "colab": {
          "base_uri": "https://localhost:8080/"
        },
        "id": "_wkz8pq0xhFk",
        "outputId": "7f76a05a-cbfa-4a97-d971-bb7d7392657b"
      },
      "execution_count": null,
      "outputs": [
        {
          "output_type": "stream",
          "name": "stdout",
          "text": [
            "bool('test'): True\n",
            "bool(' '): True\n",
            "bool(''): False\n",
            "bool(100): True\n",
            "bool(1): True\n",
            "bool(0): False\n",
            "bool(-1): True\n",
            "bool(None): False\n",
            "bool([]): False\n",
            "bool(tuple()): False\n",
            "bool({}): False\n",
            "bool(set()): False\n"
          ]
        }
      ]
    },
    {
      "cell_type": "code",
      "source": [
        "# 8.1 일반 float 형변환\n",
        "s = 10\n",
        "print(float(s))\n",
        "\n",
        "s = '10'\n",
        "print(float(s))\n",
        "\n",
        "s = '3.14'\n",
        "print(float(s))"
      ],
      "metadata": {
        "colab": {
          "base_uri": "https://localhost:8080/"
        },
        "id": "TxB65UeXx1U1",
        "outputId": "ece83556-c65c-413f-a5a2-8dd7ca620ab5"
      },
      "execution_count": null,
      "outputs": [
        {
          "output_type": "stream",
          "name": "stdout",
          "text": [
            "10.0\n",
            "10.0\n",
            "3.14\n"
          ]
        }
      ]
    },
    {
      "cell_type": "code",
      "source": [
        "# 8.2 특수 float 형변환\n",
        "infinity = float('inf')\n",
        "neg_infinity = float('-inf')\n",
        "not_a_number = float('nan')\n",
        "\n",
        "print(infinity)\n",
        "print(neg_infinity)\n",
        "print(not_a_number)"
      ],
      "metadata": {
        "colab": {
          "base_uri": "https://localhost:8080/"
        },
        "id": "vmkGs0SzyhPI",
        "outputId": "b0dc8f23-5e80-4a77-ea39-bcfa36d15aaf"
      },
      "execution_count": null,
      "outputs": [
        {
          "output_type": "stream",
          "name": "stdout",
          "text": [
            "inf\n",
            "-inf\n",
            "nan\n"
          ]
        }
      ]
    },
    {
      "cell_type": "code",
      "source": [
        "# 8.3  묵시적 형변환\n",
        "# 다음과 같이 정수와 실수의 나눗셈 같은 경우 항상 float를 반환합니다.\n",
        "10 / 1 # 출력: 10.0"
      ],
      "metadata": {
        "colab": {
          "base_uri": "https://localhost:8080/"
        },
        "id": "BmMgx-4dysyE",
        "outputId": "8ec0734e-2eb4-4dcd-d07d-f70d958544e1"
      },
      "execution_count": null,
      "outputs": [
        {
          "output_type": "execute_result",
          "data": {
            "text/plain": [
              "10.0"
            ]
          },
          "metadata": {},
          "execution_count": 122
        }
      ]
    },
    {
      "cell_type": "code",
      "source": [
        "# 8.4  list형으로 형변환\n",
        "# str → list로 변환\n",
        "s = '10'\n",
        "print(list(s))\n",
        "\n",
        "name = 'licat'\n",
        "print(list(name))"
      ],
      "metadata": {
        "colab": {
          "base_uri": "https://localhost:8080/"
        },
        "id": "yGCIFkWPzKmI",
        "outputId": "ab0596ed-c1c5-40b7-e41d-bc763efad0e0"
      },
      "execution_count": null,
      "outputs": [
        {
          "output_type": "stream",
          "name": "stdout",
          "text": [
            "['1', '0']\n",
            "['l', 'i', 'c', 'a', 't']\n"
          ]
        }
      ]
    },
    {
      "cell_type": "code",
      "source": [
        "# int → list로 변환\n",
        "# 정수형은 list로 변환이 가능하지 않습니다.\n",
        "n = 10\n",
        "print(list(n)) # 출력: error"
      ],
      "metadata": {
        "colab": {
          "base_uri": "https://localhost:8080/",
          "height": 223
        },
        "id": "ITvS-TtAzUPX",
        "outputId": "5b8571d4-2d85-4986-831f-978be2244540"
      },
      "execution_count": null,
      "outputs": [
        {
          "output_type": "error",
          "ename": "TypeError",
          "evalue": "ignored",
          "traceback": [
            "\u001b[0;31m---------------------------------------------------------------------------\u001b[0m",
            "\u001b[0;31mTypeError\u001b[0m                                 Traceback (most recent call last)",
            "\u001b[0;32m<ipython-input-124-357045c4303b>\u001b[0m in \u001b[0;36m<cell line: 3>\u001b[0;34m()\u001b[0m\n\u001b[1;32m      1\u001b[0m \u001b[0;31m# int → list로 변환\u001b[0m\u001b[0;34m\u001b[0m\u001b[0;34m\u001b[0m\u001b[0m\n\u001b[1;32m      2\u001b[0m \u001b[0mn\u001b[0m \u001b[0;34m=\u001b[0m \u001b[0;36m10\u001b[0m\u001b[0;34m\u001b[0m\u001b[0;34m\u001b[0m\u001b[0m\n\u001b[0;32m----> 3\u001b[0;31m \u001b[0mprint\u001b[0m\u001b[0;34m(\u001b[0m\u001b[0mlist\u001b[0m\u001b[0;34m(\u001b[0m\u001b[0mn\u001b[0m\u001b[0;34m)\u001b[0m\u001b[0;34m)\u001b[0m \u001b[0;31m# 출력: error\u001b[0m\u001b[0;34m\u001b[0m\u001b[0;34m\u001b[0m\u001b[0m\n\u001b[0m",
            "\u001b[0;31mTypeError\u001b[0m: 'int' object is not iterable"
          ]
        }
      ]
    },
    {
      "cell_type": "code",
      "source": [
        "# 8.5  tuple형으로 형변환\n",
        "# 다만 값의 변경이 불가 합니다.\n",
        "name = 'licat'\n",
        "tuple(name)"
      ],
      "metadata": {
        "colab": {
          "base_uri": "https://localhost:8080/"
        },
        "id": "aG7BmDuCzYdO",
        "outputId": "bb6bfe24-867c-4ba1-cff9-1b4d4c7612ac"
      },
      "execution_count": null,
      "outputs": [
        {
          "output_type": "execute_result",
          "data": {
            "text/plain": [
              "('l', 'i', 'c', 'a', 't')"
            ]
          },
          "metadata": {},
          "execution_count": 125
        }
      ]
    },
    {
      "cell_type": "code",
      "source": [
        "# 8.6 dict형으로 형변환\n",
        "# 딕셔너리 자료형은 key와 value로 이뤄진 쌍입니다.\n",
        "# 따라서 쌍이 없는 일반 문자열은 변환이 되지 않습니다.\n",
        "name = 'licat' # Error\n",
        "dict(name)"
      ],
      "metadata": {
        "colab": {
          "base_uri": "https://localhost:8080/",
          "height": 223
        },
        "id": "wjsx-2T9zslt",
        "outputId": "7c75e045-3a5e-47f6-9526-cad01ae65501"
      },
      "execution_count": null,
      "outputs": [
        {
          "output_type": "error",
          "ename": "ValueError",
          "evalue": "ignored",
          "traceback": [
            "\u001b[0;31m---------------------------------------------------------------------------\u001b[0m",
            "\u001b[0;31mValueError\u001b[0m                                Traceback (most recent call last)",
            "\u001b[0;32m<ipython-input-126-5e863299119e>\u001b[0m in \u001b[0;36m<cell line: 5>\u001b[0;34m()\u001b[0m\n\u001b[1;32m      3\u001b[0m \u001b[0;31m# 따라서 쌍이 없는 일반 문자열은 변환이 되지 않습니다.\u001b[0m\u001b[0;34m\u001b[0m\u001b[0;34m\u001b[0m\u001b[0m\n\u001b[1;32m      4\u001b[0m \u001b[0mname\u001b[0m \u001b[0;34m=\u001b[0m \u001b[0;34m'licat'\u001b[0m \u001b[0;31m# Error\u001b[0m\u001b[0;34m\u001b[0m\u001b[0;34m\u001b[0m\u001b[0m\n\u001b[0;32m----> 5\u001b[0;31m \u001b[0mdict\u001b[0m\u001b[0;34m(\u001b[0m\u001b[0mname\u001b[0m\u001b[0;34m)\u001b[0m\u001b[0;34m\u001b[0m\u001b[0;34m\u001b[0m\u001b[0m\n\u001b[0m",
            "\u001b[0;31mValueError\u001b[0m: dictionary update sequence element #0 has length 1; 2 is required"
          ]
        }
      ]
    },
    {
      "cell_type": "code",
      "source": [
        "# 위는 잘못된 예시\n",
        "# 리스트 안에 튜플로 그 쌍을 맞추었습니다.\n",
        "data = [('name','licat'),('age',10)]\n",
        "d = dict(data)\n",
        "d"
      ],
      "metadata": {
        "colab": {
          "base_uri": "https://localhost:8080/"
        },
        "id": "gIUa42Wrz4Br",
        "outputId": "b7a5e9d5-b79d-43a4-dbc4-e1e114b6827f"
      },
      "execution_count": null,
      "outputs": [
        {
          "output_type": "execute_result",
          "data": {
            "text/plain": [
              "{'name': 'licat', 'age': 10}"
            ]
          },
          "metadata": {},
          "execution_count": 127
        }
      ]
    },
    {
      "cell_type": "code",
      "source": [
        "# 8.7 set형으로 형변환\n",
        "# set은 중복을 허락하지 않는 자료형\n",
        "s = 'weniv CEO licat'\n",
        "print(set(s)) #중복을 허락하지 않고 순서가 없습니다.\n",
        "print(len(set(s))) #중복을 제거한 상태로의 길이를 알려줍니다.\n",
        "print(len(s))"
      ],
      "metadata": {
        "colab": {
          "base_uri": "https://localhost:8080/"
        },
        "id": "z_2gS5My0Md7",
        "outputId": "1167205c-67c9-4f1f-9066-1d1fb7897afe"
      },
      "execution_count": null,
      "outputs": [
        {
          "output_type": "stream",
          "name": "stdout",
          "text": [
            "{' ', 'e', 'E', 'i', 'v', 'l', 'O', 'w', 'C', 't', 'a', 'c', 'n'}\n",
            "13\n",
            "15\n"
          ]
        }
      ]
    },
    {
      "cell_type": "markdown",
      "source": [
        "# 9. 나아가기"
      ],
      "metadata": {
        "id": "vbkmOl3m0aAn"
      }
    },
    {
      "cell_type": "code",
      "source": [
        "# 9.1 문자열에 닷(.)이 포함되어 있으면 정수로 변환되지 않습니다.\n",
        "x = 1.0\n",
        "x = str(x)\n",
        "print(int(x))"
      ],
      "metadata": {
        "colab": {
          "base_uri": "https://localhost:8080/",
          "height": 223
        },
        "id": "1idZihLr0oe7",
        "outputId": "c5a26bd2-0c17-4c8c-b483-ce1d5738edde"
      },
      "execution_count": null,
      "outputs": [
        {
          "output_type": "error",
          "ename": "ValueError",
          "evalue": "ignored",
          "traceback": [
            "\u001b[0;31m---------------------------------------------------------------------------\u001b[0m",
            "\u001b[0;31mValueError\u001b[0m                                Traceback (most recent call last)",
            "\u001b[0;32m<ipython-input-129-cfff87ef37e3>\u001b[0m in \u001b[0;36m<cell line: 4>\u001b[0;34m()\u001b[0m\n\u001b[1;32m      2\u001b[0m \u001b[0mx\u001b[0m \u001b[0;34m=\u001b[0m \u001b[0;36m1.0\u001b[0m\u001b[0;34m\u001b[0m\u001b[0;34m\u001b[0m\u001b[0m\n\u001b[1;32m      3\u001b[0m \u001b[0mx\u001b[0m \u001b[0;34m=\u001b[0m \u001b[0mstr\u001b[0m\u001b[0;34m(\u001b[0m\u001b[0mx\u001b[0m\u001b[0;34m)\u001b[0m\u001b[0;34m\u001b[0m\u001b[0;34m\u001b[0m\u001b[0m\n\u001b[0;32m----> 4\u001b[0;31m \u001b[0mprint\u001b[0m\u001b[0;34m(\u001b[0m\u001b[0mint\u001b[0m\u001b[0;34m(\u001b[0m\u001b[0mx\u001b[0m\u001b[0;34m)\u001b[0m\u001b[0;34m)\u001b[0m\u001b[0;34m\u001b[0m\u001b[0;34m\u001b[0m\u001b[0m\n\u001b[0m",
            "\u001b[0;31mValueError\u001b[0m: invalid literal for int() with base 10: '1.0'"
          ]
        }
      ]
    },
    {
      "cell_type": "code",
      "source": [
        "# 위의 잘못된 코드를 고치기 위해 조건을 만들어 형변환을 하자\n",
        "x = 1.0\n",
        "x = str(x)\n",
        "if x.find('.') == -1:\n",
        "    print(int(x))\n",
        "else:\n",
        "    print(float(x))"
      ],
      "metadata": {
        "colab": {
          "base_uri": "https://localhost:8080/"
        },
        "id": "2iIEc4I_0vgm",
        "outputId": "c33be302-fbc2-494e-84d2-7111adb833f1"
      },
      "execution_count": null,
      "outputs": [
        {
          "output_type": "stream",
          "name": "stdout",
          "text": [
            "1.0\n"
          ]
        }
      ]
    },
    {
      "cell_type": "code",
      "source": [
        "# float형으로 먼저 변환하고 int형으로 변환\n",
        "x = 1.0\n",
        "x = str(x)\n",
        "int(float(x))"
      ],
      "metadata": {
        "colab": {
          "base_uri": "https://localhost:8080/"
        },
        "id": "Aqoi5WuI068T",
        "outputId": "fe729713-6745-4537-f139-1cd106893257"
      },
      "execution_count": null,
      "outputs": [
        {
          "output_type": "execute_result",
          "data": {
            "text/plain": [
              "1"
            ]
          },
          "metadata": {},
          "execution_count": 131
        }
      ]
    },
    {
      "cell_type": "code",
      "source": [
        "# map\n",
        "# int 를 각 리스트에 적용하라\n",
        "\n",
        "list(map(int, ['10', '20', '30'])) # 출력: [10, 20, 30]\n"
      ],
      "metadata": {
        "colab": {
          "base_uri": "https://localhost:8080/"
        },
        "id": "sGqMgrZ-1Ad2",
        "outputId": "f809fce1-7d58-4761-b5a1-047d61f6b6d6"
      },
      "execution_count": null,
      "outputs": [
        {
          "output_type": "execute_result",
          "data": {
            "text/plain": [
              "[10, 20, 30]"
            ]
          },
          "metadata": {},
          "execution_count": 134
        }
      ]
    },
    {
      "cell_type": "code",
      "source": [
        "list(map(int, '12345')) # 출력: [1, 2, 3, 4, 5]ㄴ"
      ],
      "metadata": {
        "colab": {
          "base_uri": "https://localhost:8080/"
        },
        "id": "rw4ncXn31Erm",
        "outputId": "edaa8525-768b-4578-800c-a8acb8d95f74"
      },
      "execution_count": null,
      "outputs": [
        {
          "output_type": "execute_result",
          "data": {
            "text/plain": [
              "[1, 2, 3, 4, 5]"
            ]
          },
          "metadata": {},
          "execution_count": 135
        }
      ]
    }
  ]
}